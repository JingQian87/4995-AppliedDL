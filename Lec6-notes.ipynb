{
  "nbformat": 4,
  "nbformat_minor": 0,
  "metadata": {
    "colab": {
      "name": "Untitled4.ipynb",
      "version": "0.3.2",
      "provenance": [],
      "collapsed_sections": [],
      "include_colab_link": true
    },
    "kernelspec": {
      "name": "python3",
      "display_name": "Python 3"
    }
  },
  "cells": [
    {
      "cell_type": "markdown",
      "metadata": {
        "id": "view-in-github",
        "colab_type": "text"
      },
      "source": [
        "<a href=\"https://colab.research.google.com/github/JingQian87/AppliedDL/blob/master/Lec6-notes.ipynb\" target=\"_parent\"><img src=\"https://colab.research.google.com/assets/colab-badge.svg\" alt=\"Open In Colab\"/></a>"
      ]
    },
    {
      "metadata": {
        "id": "eIjtTCHJlQqD",
        "colab_type": "code",
        "colab": {}
      },
      "cell_type": "code",
      "source": [
        ""
      ],
      "execution_count": 0,
      "outputs": []
    },
    {
      "metadata": {
        "id": "fgU-jO80lRVx",
        "colab_type": "text"
      },
      "cell_type": "markdown",
      "source": [
        "Lec 6\n",
        "\n",
        "Concepts: \n",
        "dropout\n",
        "embeddings and the embedding projector\n",
        "\n",
        "TensorFlow:\n",
        "TensorBoard\n",
        "F1"
      ]
    },
    {
      "metadata": {
        "id": "nuTqwJBClajO",
        "colab_type": "text"
      },
      "cell_type": "markdown",
      "source": [
        "# TF1 and TF2 差别\n",
        "TF1, use python, meta-programming. \n",
        "Eg: add two numbers, \n",
        "\n",
        "\n",
        "Tensorboard for TF2\n",
        "\n",
        "reference.\n",
        "\n",
        "tf.placeholder(..)graph中空出一个位置(没有赋值)\n",
        "* 与tf.Variable(..)不同。\n",
        "\n",
        "### Eager\n",
        "\n",
        "numpy的array与tensorflow的tensor的主要差别是tensor可以automatically packed in GPU.\n",
        "\n",
        "Eager慢，因为来自python；graph快，因为来自C\n",
        "\n",
        "加tf.contrib.eager.defun可以快很多\n",
        "\n",
        "## TF2.0\n",
        "tf.function，使program用graph速度，变快了，但是难于debug.\n",
        "new version of defun，可以做autograph.\n",
        "没有特别的形式，直接用python的格式写就行\n",
        "\n",
        "\n",
        "\n",
        "\n"
      ]
    },
    {
      "metadata": {
        "id": "ie4vmSrsvUgF",
        "colab_type": "text"
      },
      "cell_type": "markdown",
      "source": [
        "# Tensorboard\n",
        "\n",
        "* import jax.numpy as np 用到numpy，但是使在GPU上跑，用这个能快很多\n",
        "\n",
        "\n",
        "\n",
        "## Dropout\n",
        "建议用这个来regularize. 而不是l1, l2。\n",
        "randomly deactivate 20-50% neurons.\n",
        "prevent overfitting.\n",
        "\n",
        "prevent depending too much in some "
      ]
    }
  ]
}