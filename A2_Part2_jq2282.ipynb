{
  "nbformat": 4,
  "nbformat_minor": 0,
  "metadata": {
    "colab": {
      "name": "A2-Part2-jq2282.ipynb",
      "version": "0.3.2",
      "provenance": [],
      "collapsed_sections": [],
      "include_colab_link": true
    },
    "kernelspec": {
      "name": "python3",
      "display_name": "Python 3"
    },
    "accelerator": "GPU"
  },
  "cells": [
    {
      "cell_type": "markdown",
      "metadata": {
        "id": "view-in-github",
        "colab_type": "text"
      },
      "source": [
        "<a href=\"https://colab.research.google.com/github/JingQian87/AppliedDL/blob/master/A2_Part2_jq2282.ipynb\" target=\"_parent\"><img src=\"https://colab.research.google.com/assets/colab-badge.svg\" alt=\"Open In Colab\"/></a>"
      ]
    },
    {
      "metadata": {
        "id": "_4_-JZuotMD7",
        "colab_type": "text"
      },
      "cell_type": "markdown",
      "source": [
        "### 2. Write a model to classify your dataset using transfer learning. Run an experiment and report your results. What do you find?"
      ]
    },
    {
      "metadata": {
        "id": "g93tp2x-tFtE",
        "colab_type": "code",
        "colab": {}
      },
      "cell_type": "code",
      "source": [
        "# import libraries\n",
        "import matplotlib.pyplot as plt\n",
        "import numpy as np\n",
        "import os\n",
        "\n",
        "import tensorflow as tf\n",
        "import zipfile\n",
        "\n",
        "from tensorflow.keras.utils import to_categorical\n",
        "from tensorflow.keras.applications import VGG16\n",
        "from tensorflow.keras.layers import Conv2D, Dense, Dropout, Flatten, MaxPooling2D\n",
        "from tensorflow.keras.models import Sequential\n",
        "from tensorflow.keras.preprocessing.image import ImageDataGenerator"
      ],
      "execution_count": 0,
      "outputs": []
    },
    {
      "metadata": {
        "id": "DaVqScMOtiWT",
        "colab_type": "text"
      },
      "cell_type": "markdown",
      "source": [
        "#### Step1. Load and explore data\n"
      ]
    },
    {
      "metadata": {
        "id": "ulioLh6P2LTE",
        "colab_type": "code",
        "outputId": "1ad434e6-922a-479d-c720-53793d7d24a6",
        "colab": {
          "base_uri": "https://localhost:8080/",
          "height": 54
        }
      },
      "cell_type": "code",
      "source": [
        "from google.colab import drive\n",
        "drive.mount('/content/drive')"
      ],
      "execution_count": 8,
      "outputs": [
        {
          "output_type": "stream",
          "text": [
            "Drive already mounted at /content/drive; to attempt to forcibly remount, call drive.mount(\"/content/drive\", force_remount=True).\n"
          ],
          "name": "stdout"
        }
      ]
    },
    {
      "metadata": {
        "id": "SgC8GBSN2vSR",
        "colab_type": "code",
        "outputId": "37facbe9-2139-4d9f-8447-efc205d92256",
        "colab": {
          "base_uri": "https://localhost:8080/",
          "height": 68
        }
      },
      "cell_type": "code",
      "source": [
        "local_zip = '/content/CUlandmarks.zip'\n",
        "zip_ref = zipfile.ZipFile(local_zip, 'r')\n",
        "zip_ref.extractall('/tmp')\n",
        "zip_ref.close()\n",
        "!ls '/tmp/'\n",
        "!ls '/tmp/CUlandmarks/train/'"
      ],
      "execution_count": 15,
      "outputs": [
        {
          "output_type": "stream",
          "text": [
            "CUlandmarks    drivefs_ipc.0_shell  pymp-_5ksodwi  val\n",
            "drivefs_ipc.0  LICENSE.txt\t    train\n",
            "Hamilton  LeMarteleur  Lion  Uris\n"
          ],
          "name": "stdout"
        }
      ]
    },
    {
      "metadata": {
        "id": "BwclI12v2vuX",
        "colab_type": "code",
        "outputId": "83b6c795-1007-45a0-9923-61f01b277900",
        "colab": {
          "base_uri": "https://localhost:8080/",
          "height": 289
        }
      },
      "cell_type": "code",
      "source": [
        "base_dir = '/tmp/CUlandmarks'\n",
        "import os\n",
        "try:\n",
        "  os.remove(os.path.join(base_dir,'.DS_Store'))\n",
        "except OSError:\n",
        "  pass\n",
        "train_dir = os.path.join(base_dir,'train')\n",
        "try:\n",
        "  os.remove(os.path.join(train_dir,'.DS_Store'))\n",
        "except OSError:\n",
        "  pass\n",
        "validation_dir = os.path.join(base_dir, 'val')\n",
        "test_dir = os.path.join(base_dir,'test')\n",
        "try:\n",
        "  os.remove(os.path.join(validation_dir,'.DS_Store'))\n",
        "except OSError:\n",
        "  pass\n",
        "try:\n",
        "  os.remove(os.path.join(test_dir,'.DS_Store'))\n",
        "except OSError:\n",
        "  pass\n",
        "\n",
        "total_train = 0\n",
        "for i in os.listdir(train_dir):\n",
        "  try:\n",
        "    os.remove(os.path.join(os.path.join(train_dir, i),'.DS_Store'))\n",
        "  except OSError:\n",
        "    pass\n",
        "  tmp = len(os.listdir(os.path.join(train_dir, i)))\n",
        "  print('Training ', i, ' images:', tmp)\n",
        "  total_train += tmp\n",
        " \n",
        "total_val = 0\n",
        "for i in os.listdir(validation_dir):\n",
        "  try:\n",
        "    os.remove(os.path.join(os.path.join(validation_dir, i),'.DS_Store'))\n",
        "  except OSError:\n",
        "    pass\n",
        "  tmp = len(os.listdir(os.path.join(validation_dir, i)))\n",
        "  print('Validation ', i, ' images:', tmp)\n",
        "  total_val += tmp\n",
        " \n",
        "total_test = 0\n",
        "for i in os.listdir(test_dir):\n",
        "  try:\n",
        "    os.remove(os.path.join(os.path.join(test_dir, i),'.DS_Store'))\n",
        "  except OSError:\n",
        "    pass\n",
        "  tmp = len(os.listdir(os.path.join(test_dir, i)))\n",
        "  print('Test ', i, ' images:', tmp)\n",
        "  total_test += tmp\n",
        "  \n",
        "print(\"--\")\n",
        "\n",
        "print(\"Total training images:\", total_train)\n",
        "print(\"Total validation images:\", total_val)\n",
        "print(\"Total testing images:\", total_test)"
      ],
      "execution_count": 26,
      "outputs": [
        {
          "output_type": "stream",
          "text": [
            "Training  LeMarteleur  images: 100\n",
            "Training  Hamilton  images: 100\n",
            "Training  Lion  images: 100\n",
            "Training  Uris  images: 100\n",
            "Validation  LeMarteleur  images: 50\n",
            "Validation  Hamilton  images: 50\n",
            "Validation  Lion  images: 50\n",
            "Validation  Uris  images: 50\n",
            "Test  LeMarteleur  images: 25\n",
            "Test  Hamilton  images: 25\n",
            "Test  Lion  images: 25\n",
            "Test  Uris  images: 25\n",
            "--\n",
            "Total training images: 400\n",
            "Total validation images: 200\n",
            "Total testing images: 100\n"
          ],
          "name": "stdout"
        }
      ]
    },
    {
      "metadata": {
        "id": "OyE4LcyK5UzQ",
        "colab_type": "text"
      },
      "cell_type": "markdown",
      "source": [
        "Use VGG model\n",
        "\n",
        "<font color='red'>shuffle?!<font>"
      ]
    },
    {
      "metadata": {
        "id": "hHPmEFNN2vxn",
        "colab_type": "code",
        "outputId": "e20c973f-0640-4190-eb05-f570eb9c5edc",
        "colab": {
          "base_uri": "https://localhost:8080/",
          "height": 122
        }
      },
      "cell_type": "code",
      "source": [
        "conv_base = VGG16(weights='imagenet',include_top=False, input_shape=(150, 150, 3))\n",
        "#conv_base.summary()\n",
        "\n",
        "TARGET_SHAPE = 150\n",
        "BATCH_SIZE = 32\n",
        "\n",
        "datagen = ImageDataGenerator(rescale=1./255)\n",
        "\n",
        "def extract_features(directory, sample_count):\n",
        "    features = np.zeros(shape=(sample_count, 4, 4, 512))#from block5 of VGG16\n",
        "    labels = np.zeros(shape=(sample_count, 4))\n",
        "    generator = datagen.flow_from_directory(\n",
        "        directory,\n",
        "        target_size=(TARGET_SHAPE, TARGET_SHAPE),\n",
        "        batch_size=BATCH_SIZE,\n",
        "        class_mode='categorical')\n",
        "    i = 0\n",
        "    for inputs_batch, labels_batch in generator:\n",
        "      \n",
        "        features_batch = conv_base.predict(inputs_batch)\n",
        "        \n",
        "        features[i * BATCH_SIZE : (i + 1) * BATCH_SIZE] = features_batch\n",
        "        labels[i * BATCH_SIZE : (i + 1) * BATCH_SIZE] = labels_batch\n",
        "        i += 1\n",
        "        if i * BATCH_SIZE >= sample_count:\n",
        "            break\n",
        "    return features, labels\n",
        "\n",
        "train_features, train_labels = extract_features(train_dir, 400)\n",
        "validation_features, validation_labels = extract_features(validation_dir, 200)"
      ],
      "execution_count": 27,
      "outputs": [
        {
          "output_type": "stream",
          "text": [
            "WARNING:tensorflow:From /usr/local/lib/python3.6/dist-packages/tensorflow/python/ops/resource_variable_ops.py:435: colocate_with (from tensorflow.python.framework.ops) is deprecated and will be removed in a future version.\n",
            "Instructions for updating:\n",
            "Colocations handled automatically by placer.\n",
            "Found 400 images belonging to 4 classes.\n",
            "Found 200 images belonging to 4 classes.\n"
          ],
          "name": "stdout"
        }
      ]
    },
    {
      "metadata": {
        "id": "m-ZA4RKU2v0b",
        "colab_type": "code",
        "colab": {
          "base_uri": "https://localhost:8080/",
          "height": 1856
        },
        "outputId": "959df566-9a86-4d2f-d3f9-506f1ff5fb14"
      },
      "cell_type": "code",
      "source": [
        "FLATTENED_SHAPE = 4 * 4 * 512\n",
        "\n",
        "train_features = np.reshape(train_features, (total_train, FLATTENED_SHAPE))\n",
        "validation_features = np.reshape(validation_features, (total_val, FLATTENED_SHAPE))\n",
        "EPOCHS = 50\n",
        "model = Sequential()\n",
        "model.add(Dense(256, activation='relu', input_dim=FLATTENED_SHAPE))\n",
        "model.add(Dropout(0.5))\n",
        "model.add(Dense(4, activation='softmax'))\n",
        "\n",
        "model.compile(optimizer='adam',\n",
        "              loss='categorical_crossentropy',\n",
        "              metrics=['accuracy'])\n",
        "\n",
        "history = model.fit(train_features, train_labels,\n",
        "                    epochs=EPOCHS,\n",
        "                    batch_size=BATCH_SIZE,\n",
        "                    validation_data=(validation_features, validation_labels))"
      ],
      "execution_count": 28,
      "outputs": [
        {
          "output_type": "stream",
          "text": [
            "WARNING:tensorflow:From /usr/local/lib/python3.6/dist-packages/tensorflow/python/keras/layers/core.py:143: calling dropout (from tensorflow.python.ops.nn_ops) with keep_prob is deprecated and will be removed in a future version.\n",
            "Instructions for updating:\n",
            "Please use `rate` instead of `keep_prob`. Rate should be set to `rate = 1 - keep_prob`.\n",
            "Train on 400 samples, validate on 200 samples\n",
            "WARNING:tensorflow:From /usr/local/lib/python3.6/dist-packages/tensorflow/python/ops/math_ops.py:3066: to_int32 (from tensorflow.python.ops.math_ops) is deprecated and will be removed in a future version.\n",
            "Instructions for updating:\n",
            "Use tf.cast instead.\n",
            "Epoch 1/50\n",
            "400/400 [==============================] - 0s 1ms/sample - loss: 0.8209 - acc: 0.7750 - val_loss: 0.0359 - val_acc: 1.0000\n",
            "Epoch 2/50\n",
            "400/400 [==============================] - 0s 299us/sample - loss: 0.0207 - acc: 1.0000 - val_loss: 0.0041 - val_acc: 1.0000\n",
            "Epoch 3/50\n",
            "400/400 [==============================] - 0s 298us/sample - loss: 0.0090 - acc: 1.0000 - val_loss: 0.0020 - val_acc: 1.0000\n",
            "Epoch 4/50\n",
            "400/400 [==============================] - 0s 332us/sample - loss: 0.0033 - acc: 1.0000 - val_loss: 0.0012 - val_acc: 1.0000\n",
            "Epoch 5/50\n",
            "400/400 [==============================] - 0s 299us/sample - loss: 0.0023 - acc: 1.0000 - val_loss: 0.0012 - val_acc: 1.0000\n",
            "Epoch 6/50\n",
            "400/400 [==============================] - 0s 290us/sample - loss: 8.1493e-04 - acc: 1.0000 - val_loss: 0.0011 - val_acc: 1.0000\n",
            "Epoch 7/50\n",
            "400/400 [==============================] - 0s 291us/sample - loss: 0.0019 - acc: 1.0000 - val_loss: 9.9073e-04 - val_acc: 1.0000\n",
            "Epoch 8/50\n",
            "400/400 [==============================] - 0s 296us/sample - loss: 0.0010 - acc: 1.0000 - val_loss: 7.3449e-04 - val_acc: 1.0000\n",
            "Epoch 9/50\n",
            "400/400 [==============================] - 0s 282us/sample - loss: 0.0013 - acc: 1.0000 - val_loss: 7.5829e-04 - val_acc: 1.0000\n",
            "Epoch 10/50\n",
            "400/400 [==============================] - 0s 289us/sample - loss: 5.5513e-04 - acc: 1.0000 - val_loss: 7.3986e-04 - val_acc: 1.0000\n",
            "Epoch 11/50\n",
            "400/400 [==============================] - 0s 294us/sample - loss: 0.0010 - acc: 1.0000 - val_loss: 7.9211e-04 - val_acc: 1.0000\n",
            "Epoch 12/50\n",
            "400/400 [==============================] - 0s 317us/sample - loss: 6.1650e-04 - acc: 1.0000 - val_loss: 6.8163e-04 - val_acc: 1.0000\n",
            "Epoch 13/50\n",
            "400/400 [==============================] - 0s 299us/sample - loss: 8.8668e-04 - acc: 1.0000 - val_loss: 0.0010 - val_acc: 1.0000\n",
            "Epoch 14/50\n",
            "400/400 [==============================] - 0s 300us/sample - loss: 4.0956e-04 - acc: 1.0000 - val_loss: 0.0011 - val_acc: 1.0000\n",
            "Epoch 15/50\n",
            "400/400 [==============================] - 0s 281us/sample - loss: 3.4744e-04 - acc: 1.0000 - val_loss: 9.7314e-04 - val_acc: 1.0000\n",
            "Epoch 16/50\n",
            "400/400 [==============================] - 0s 291us/sample - loss: 2.6434e-04 - acc: 1.0000 - val_loss: 8.0257e-04 - val_acc: 1.0000\n",
            "Epoch 17/50\n",
            "400/400 [==============================] - 0s 284us/sample - loss: 3.9629e-04 - acc: 1.0000 - val_loss: 6.7002e-04 - val_acc: 1.0000\n",
            "Epoch 18/50\n",
            "400/400 [==============================] - 0s 293us/sample - loss: 3.9726e-04 - acc: 1.0000 - val_loss: 4.6607e-04 - val_acc: 1.0000\n",
            "Epoch 19/50\n",
            "400/400 [==============================] - 0s 290us/sample - loss: 8.7637e-04 - acc: 1.0000 - val_loss: 8.0684e-04 - val_acc: 1.0000\n",
            "Epoch 20/50\n",
            "400/400 [==============================] - 0s 320us/sample - loss: 3.9695e-04 - acc: 1.0000 - val_loss: 0.0026 - val_acc: 1.0000\n",
            "Epoch 21/50\n",
            "400/400 [==============================] - 0s 297us/sample - loss: 2.7397e-04 - acc: 1.0000 - val_loss: 0.0027 - val_acc: 1.0000\n",
            "Epoch 22/50\n",
            "400/400 [==============================] - 0s 294us/sample - loss: 3.0102e-04 - acc: 1.0000 - val_loss: 0.0019 - val_acc: 1.0000\n",
            "Epoch 23/50\n",
            "400/400 [==============================] - 0s 290us/sample - loss: 3.5678e-04 - acc: 1.0000 - val_loss: 0.0012 - val_acc: 1.0000\n",
            "Epoch 24/50\n",
            "400/400 [==============================] - 0s 292us/sample - loss: 3.7498e-04 - acc: 1.0000 - val_loss: 6.2437e-04 - val_acc: 1.0000\n",
            "Epoch 25/50\n",
            "400/400 [==============================] - 0s 298us/sample - loss: 2.1023e-04 - acc: 1.0000 - val_loss: 4.8694e-04 - val_acc: 1.0000\n",
            "Epoch 26/50\n",
            "400/400 [==============================] - 0s 285us/sample - loss: 2.0317e-04 - acc: 1.0000 - val_loss: 4.3330e-04 - val_acc: 1.0000\n",
            "Epoch 27/50\n",
            "400/400 [==============================] - 0s 291us/sample - loss: 9.6904e-05 - acc: 1.0000 - val_loss: 4.1133e-04 - val_acc: 1.0000\n",
            "Epoch 28/50\n",
            "400/400 [==============================] - 0s 286us/sample - loss: 6.1506e-04 - acc: 1.0000 - val_loss: 5.1444e-04 - val_acc: 1.0000\n",
            "Epoch 29/50\n",
            "400/400 [==============================] - 0s 298us/sample - loss: 3.7148e-04 - acc: 1.0000 - val_loss: 5.4355e-04 - val_acc: 1.0000\n",
            "Epoch 30/50\n",
            "400/400 [==============================] - 0s 291us/sample - loss: 1.3594e-04 - acc: 1.0000 - val_loss: 5.4560e-04 - val_acc: 1.0000\n",
            "Epoch 31/50\n",
            "400/400 [==============================] - 0s 296us/sample - loss: 1.5336e-04 - acc: 1.0000 - val_loss: 5.0044e-04 - val_acc: 1.0000\n",
            "Epoch 32/50\n",
            "400/400 [==============================] - 0s 287us/sample - loss: 1.3146e-04 - acc: 1.0000 - val_loss: 4.9786e-04 - val_acc: 1.0000\n",
            "Epoch 33/50\n",
            "400/400 [==============================] - 0s 287us/sample - loss: 1.3639e-04 - acc: 1.0000 - val_loss: 4.5040e-04 - val_acc: 1.0000\n",
            "Epoch 34/50\n",
            "400/400 [==============================] - 0s 280us/sample - loss: 7.4705e-05 - acc: 1.0000 - val_loss: 4.3567e-04 - val_acc: 1.0000\n",
            "Epoch 35/50\n",
            "400/400 [==============================] - 0s 291us/sample - loss: 1.0793e-04 - acc: 1.0000 - val_loss: 4.3881e-04 - val_acc: 1.0000\n",
            "Epoch 36/50\n",
            "400/400 [==============================] - 0s 295us/sample - loss: 1.7440e-04 - acc: 1.0000 - val_loss: 4.1796e-04 - val_acc: 1.0000\n",
            "Epoch 37/50\n",
            "400/400 [==============================] - 0s 311us/sample - loss: 1.1999e-04 - acc: 1.0000 - val_loss: 4.6494e-04 - val_acc: 1.0000\n",
            "Epoch 38/50\n",
            "400/400 [==============================] - 0s 297us/sample - loss: 7.0811e-05 - acc: 1.0000 - val_loss: 4.6923e-04 - val_acc: 1.0000\n",
            "Epoch 39/50\n",
            "400/400 [==============================] - 0s 298us/sample - loss: 7.6044e-05 - acc: 1.0000 - val_loss: 4.6296e-04 - val_acc: 1.0000\n",
            "Epoch 40/50\n",
            "400/400 [==============================] - 0s 297us/sample - loss: 8.1693e-05 - acc: 1.0000 - val_loss: 4.4699e-04 - val_acc: 1.0000\n",
            "Epoch 41/50\n",
            "400/400 [==============================] - 0s 299us/sample - loss: 5.6658e-05 - acc: 1.0000 - val_loss: 4.2011e-04 - val_acc: 1.0000\n",
            "Epoch 42/50\n",
            "400/400 [==============================] - 0s 289us/sample - loss: 7.1019e-05 - acc: 1.0000 - val_loss: 3.9094e-04 - val_acc: 1.0000\n",
            "Epoch 43/50\n",
            "400/400 [==============================] - 0s 295us/sample - loss: 1.4429e-04 - acc: 1.0000 - val_loss: 3.9913e-04 - val_acc: 1.0000\n",
            "Epoch 44/50\n",
            "400/400 [==============================] - 0s 291us/sample - loss: 3.0991e-04 - acc: 1.0000 - val_loss: 2.9601e-04 - val_acc: 1.0000\n",
            "Epoch 45/50\n",
            "400/400 [==============================] - 0s 320us/sample - loss: 1.4519e-04 - acc: 1.0000 - val_loss: 2.4148e-04 - val_acc: 1.0000\n",
            "Epoch 46/50\n",
            "400/400 [==============================] - 0s 308us/sample - loss: 7.1996e-05 - acc: 1.0000 - val_loss: 2.7075e-04 - val_acc: 1.0000\n",
            "Epoch 47/50\n",
            "400/400 [==============================] - 0s 284us/sample - loss: 1.1764e-04 - acc: 1.0000 - val_loss: 2.9875e-04 - val_acc: 1.0000\n",
            "Epoch 48/50\n",
            "400/400 [==============================] - 0s 287us/sample - loss: 8.6280e-05 - acc: 1.0000 - val_loss: 2.8391e-04 - val_acc: 1.0000\n",
            "Epoch 49/50\n",
            "400/400 [==============================] - 0s 293us/sample - loss: 1.0096e-04 - acc: 1.0000 - val_loss: 2.6327e-04 - val_acc: 1.0000\n",
            "Epoch 50/50\n",
            "400/400 [==============================] - 0s 284us/sample - loss: 9.7125e-05 - acc: 1.0000 - val_loss: 2.5361e-04 - val_acc: 1.0000\n"
          ],
          "name": "stdout"
        }
      ]
    },
    {
      "metadata": {
        "id": "2wsXzsa48nLO",
        "colab_type": "code",
        "colab": {
          "base_uri": "https://localhost:8080/",
          "height": 498
        },
        "outputId": "9164e119-7c5c-4e85-a253-28f924620955"
      },
      "cell_type": "code",
      "source": [
        "acc = history.history['acc']\n",
        "val_acc = history.history['val_acc']\n",
        "\n",
        "loss = history.history['loss']\n",
        "val_loss = history.history['val_loss']\n",
        "\n",
        "epochs_range = range(1, EPOCHS+1)\n",
        "\n",
        "plt.figure(figsize=(8, 8))\n",
        "plt.subplot(1, 2, 1)\n",
        "plt.plot(epochs_range, acc, label='Training Accuracy')\n",
        "plt.plot(epochs_range, val_acc, label='Validation Accuracy')\n",
        "plt.legend(loc='lower right')\n",
        "plt.title('Training and Validation Accuracy')\n",
        "\n",
        "plt.subplot(1, 2, 2)\n",
        "plt.plot(epochs_range, loss, label='Training Loss')\n",
        "plt.plot(epochs_range, val_loss, label='Validation Loss')\n",
        "plt.legend(loc='upper right')\n",
        "plt.title('Training and Validation Loss')\n",
        "plt.show()"
      ],
      "execution_count": 29,
      "outputs": [
        {
          "output_type": "display_data",
          "data": {
            "image/png": "[encoded data removed]",
            "text/plain": [
              "<Figure size 576x576 with 2 Axes>"
            ]
          },
          "metadata": {
            "tags": []
          }
        }
      ]
    },
    {
      "metadata": {
        "id": "WaGvf-4GtW5f",
        "colab_type": "text"
      },
      "cell_type": "markdown",
      "source": [
        "### 3. how small of a model (in terms of the number of parameters) can you write to classify these images reasonably well? Explore the available pretrained ​models​, and see if any are suitable. Run an experiment and report your results."
      ]
    }
  ]
}