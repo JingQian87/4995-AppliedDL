{
  "nbformat": 4,
  "nbformat_minor": 0,
  "metadata": {
    "colab": {
      "name": "4.3-transfer-learning.ipynb",
      "version": "0.3.2",
      "provenance": [],
      "collapsed_sections": []
    },
    "kernelspec": {
      "name": "python3",
      "display_name": "Python 3"
    },
    "accelerator": "GPU"
  },
  "cells": [
    {
      "metadata": {
        "id": "HW65kkdfZxHS",
        "colab_type": "text"
      },
      "cell_type": "markdown",
      "source": [
        "**Tip:** Enable the GPU if you're running this notebook in [Colab](https://colab.research.google.com) \n",
        "\n",
        "* *Edit -> Notebook settings -> Hardware accellerator -> GPU*."
      ]
    },
    {
      "metadata": {
        "id": "A1Yu1ZVtZ7Jb",
        "colab_type": "text"
      },
      "cell_type": "markdown",
      "source": [
        "## Transfer learning\n",
        "\n",
        "This notebook quickly demonstrates transfer learning. Much of the code is similar to the previous two notebooks (skim through those sections)."
      ]
    },
    {
      "metadata": {
        "id": "1YhXR7JLZppb",
        "colab_type": "code",
        "colab": {}
      },
      "cell_type": "code",
      "source": [
        "import matplotlib.pyplot as plt\n",
        "import numpy as np\n",
        "import os\n",
        "\n",
        "# The code in this notebook should work identically in TF v1 and v2\n",
        "import tensorflow as tf\n",
        "import zipfile\n",
        "\n",
        "from tensorflow.keras.applications import VGG16\n",
        "from tensorflow.keras.layers import Conv2D, Dense, Dropout, Flatten, MaxPooling2D\n",
        "from tensorflow.keras.models import Sequential\n",
        "from tensorflow.keras.preprocessing.image import ImageDataGenerator"
      ],
      "execution_count": 0,
      "outputs": []
    },
    {
      "metadata": {
        "id": "gEuROF5iaHHK",
        "colab_type": "text"
      },
      "cell_type": "markdown",
      "source": [
        "## Download the dataset"
      ]
    },
    {
      "metadata": {
        "id": "ShZmwpPgZ2d-",
        "colab_type": "code",
        "colab": {
          "base_uri": "https://localhost:8080/",
          "height": 204
        },
        "outputId": "cc482bbc-92d9-48f5-fc76-9fad486dd576"
      },
      "cell_type": "code",
      "source": [
        "!wget https://storage.googleapis.com/mledu-datasets/cats_and_dogs_filtered.zip \\\n",
        "    -O /tmp/cats_and_dogs_filtered.zip"
      ],
      "execution_count": 2,
      "outputs": [
        {
          "output_type": "stream",
          "text": [
            "--2019-02-10 18:56:27--  https://storage.googleapis.com/mledu-datasets/cats_and_dogs_filtered.zip\n",
            "Resolving storage.googleapis.com (storage.googleapis.com)... 64.233.183.128, 2607:f8b0:4001:c19::80\n",
            "Connecting to storage.googleapis.com (storage.googleapis.com)|64.233.183.128|:443... connected.\n",
            "HTTP request sent, awaiting response... 200 OK\n",
            "Length: 68606236 (65M) [application/zip]\n",
            "Saving to: ‘/tmp/cats_and_dogs_filtered.zip’\n",
            "\n",
            "/tmp/cats_and_dogs_ 100%[===================>]  65.43M   168MB/s    in 0.4s    \n",
            "\n",
            "2019-02-10 18:56:27 (168 MB/s) - ‘/tmp/cats_and_dogs_filtered.zip’ saved [68606236/68606236]\n",
            "\n"
          ],
          "name": "stdout"
        }
      ]
    },
    {
      "metadata": {
        "id": "LxaijXvHaKc9",
        "colab_type": "code",
        "colab": {}
      },
      "cell_type": "code",
      "source": [
        "local_zip = '/tmp/cats_and_dogs_filtered.zip'\n",
        "zip_ref = zipfile.ZipFile(local_zip, 'r')\n",
        "zip_ref.extractall('/tmp')\n",
        "zip_ref.close()"
      ],
      "execution_count": 0,
      "outputs": []
    },
    {
      "metadata": {
        "id": "2hBuLq4XaMOd",
        "colab_type": "code",
        "colab": {}
      },
      "cell_type": "code",
      "source": [
        "base_dir = '/tmp/cats_and_dogs_filtered'\n",
        "train_dir = os.path.join(base_dir, 'train')\n",
        "validation_dir = os.path.join(base_dir, 'validation')\n",
        "\n",
        "train_cats_dir = os.path.join(train_dir, 'cats')\n",
        "train_dogs_dir = os.path.join(train_dir, 'dogs')\n",
        "validation_cats_dir = os.path.join(validation_dir, 'cats')\n",
        "validation_dogs_dir = os.path.join(validation_dir, 'dogs')"
      ],
      "execution_count": 0,
      "outputs": []
    },
    {
      "metadata": {
        "id": "FUVXBN2maOAR",
        "colab_type": "code",
        "colab": {}
      },
      "cell_type": "code",
      "source": [
        "num_cats_tr = len(os.listdir(train_cats_dir))\n",
        "num_dogs_tr = len(os.listdir(train_dogs_dir))\n",
        "\n",
        "num_cats_val = len(os.listdir(validation_cats_dir))\n",
        "num_dogs_val = len(os.listdir(validation_dogs_dir))\n",
        "\n",
        "total_train = num_cats_tr + num_dogs_tr\n",
        "total_val = num_cats_val + num_dogs_val"
      ],
      "execution_count": 0,
      "outputs": []
    },
    {
      "metadata": {
        "id": "m3gTcbTqaSqk",
        "colab_type": "code",
        "colab": {
          "base_uri": "https://localhost:8080/",
          "height": 136
        },
        "outputId": "eaeeba98-461d-4fcf-ae6e-6ec3bf9415b6"
      },
      "cell_type": "code",
      "source": [
        "print('Training cat images:', num_cats_tr)\n",
        "print('Training dog images:', num_dogs_tr)\n",
        "\n",
        "print('Validation cat images:', num_cats_val)\n",
        "print('Validation dog images:', num_dogs_val)\n",
        "\n",
        "print(\"--\")\n",
        "\n",
        "print(\"Total training images:\", total_train)\n",
        "print(\"Total validation images:\", total_val)"
      ],
      "execution_count": 6,
      "outputs": [
        {
          "output_type": "stream",
          "text": [
            "Training cat images: 1000\n",
            "Training dog images: 1000\n",
            "Validation cat images: 500\n",
            "Validation dog images: 500\n",
            "--\n",
            "Total training images: 2000\n",
            "Total validation images: 1000\n"
          ],
          "name": "stdout"
        }
      ]
    },
    {
      "metadata": {
        "id": "JpM02sMja6qG",
        "colab_type": "text"
      },
      "cell_type": "markdown",
      "source": [
        "## Using a previously trained model\n",
        "\n",
        "A common and effective approach when working with small image datasets is to leverage a pre-trained model (usually, a deep CNN trained on a large dataset like ImageNet). If the dataset the model was trained on was large, the features learned by the model may be generic enough to be useful on our classification task. Here, we will reuse VGG16 (a simple, widely used CNN). Although it's far from the current state of the art, its architecture is similar to what you've already seen. You can find other models to experiment with [here](https://www.tensorflow.org/api_docs/python/tf/keras/applications).\n",
        "\n",
        "Let's instantiate a VGG16 model preloaded with weights trained on ImageNet."
      ]
    },
    {
      "metadata": {
        "id": "desPeuLRa2o8",
        "colab_type": "code",
        "colab": {
          "base_uri": "https://localhost:8080/",
          "height": 88
        },
        "outputId": "8a3cfb2e-a99d-471c-a9aa-bb738adf3ad1"
      },
      "cell_type": "code",
      "source": [
        "# Notice we do not include the `top`, or the Dense layers used to classify the 1,000 classes from ImageNet.\n",
        "conv_base = VGG16(weights='imagenet',include_top=False, input_shape=(150, 150, 3))"
      ],
      "execution_count": 7,
      "outputs": [
        {
          "output_type": "stream",
          "text": [
            "WARNING:tensorflow:From /usr/local/lib/python3.6/dist-packages/tensorflow/python/ops/resource_variable_ops.py:435: colocate_with (from tensorflow.python.framework.ops) is deprecated and will be removed in a future version.\n",
            "Instructions for updating:\n",
            "Colocations handled automatically by placer.\n"
          ],
          "name": "stdout"
        }
      ]
    },
    {
      "metadata": {
        "id": "krwUgWuwdPWP",
        "colab_type": "text"
      },
      "cell_type": "markdown",
      "source": [
        "Here's  the architecture of VGG16. It's similar to the CNNs you've already seen."
      ]
    },
    {
      "metadata": {
        "id": "x4Lv_gYNcpsi",
        "colab_type": "code",
        "colab": {
          "base_uri": "https://localhost:8080/",
          "height": 782
        },
        "outputId": "92ca9163-1244-4e26-8064-0bac6f2ca7ec"
      },
      "cell_type": "code",
      "source": [
        "conv_base.summary()"
      ],
      "execution_count": 8,
      "outputs": [
        {
          "output_type": "stream",
          "text": [
            "_________________________________________________________________\n",
            "Layer (type)                 Output Shape              Param #   \n",
            "=================================================================\n",
            "input_1 (InputLayer)         (None, 150, 150, 3)       0         \n",
            "_________________________________________________________________\n",
            "block1_conv1 (Conv2D)        (None, 150, 150, 64)      1792      \n",
            "_________________________________________________________________\n",
            "block1_conv2 (Conv2D)        (None, 150, 150, 64)      36928     \n",
            "_________________________________________________________________\n",
            "block1_pool (MaxPooling2D)   (None, 75, 75, 64)        0         \n",
            "_________________________________________________________________\n",
            "block2_conv1 (Conv2D)        (None, 75, 75, 128)       73856     \n",
            "_________________________________________________________________\n",
            "block2_conv2 (Conv2D)        (None, 75, 75, 128)       147584    \n",
            "_________________________________________________________________\n",
            "block2_pool (MaxPooling2D)   (None, 37, 37, 128)       0         \n",
            "_________________________________________________________________\n",
            "block3_conv1 (Conv2D)        (None, 37, 37, 256)       295168    \n",
            "_________________________________________________________________\n",
            "block3_conv2 (Conv2D)        (None, 37, 37, 256)       590080    \n",
            "_________________________________________________________________\n",
            "block3_conv3 (Conv2D)        (None, 37, 37, 256)       590080    \n",
            "_________________________________________________________________\n",
            "block3_pool (MaxPooling2D)   (None, 18, 18, 256)       0         \n",
            "_________________________________________________________________\n",
            "block4_conv1 (Conv2D)        (None, 18, 18, 512)       1180160   \n",
            "_________________________________________________________________\n",
            "block4_conv2 (Conv2D)        (None, 18, 18, 512)       2359808   \n",
            "_________________________________________________________________\n",
            "block4_conv3 (Conv2D)        (None, 18, 18, 512)       2359808   \n",
            "_________________________________________________________________\n",
            "block4_pool (MaxPooling2D)   (None, 9, 9, 512)         0         \n",
            "_________________________________________________________________\n",
            "block5_conv1 (Conv2D)        (None, 9, 9, 512)         2359808   \n",
            "_________________________________________________________________\n",
            "block5_conv2 (Conv2D)        (None, 9, 9, 512)         2359808   \n",
            "_________________________________________________________________\n",
            "block5_conv3 (Conv2D)        (None, 9, 9, 512)         2359808   \n",
            "_________________________________________________________________\n",
            "block5_pool (MaxPooling2D)   (None, 4, 4, 512)         0         \n",
            "=================================================================\n",
            "Total params: 14,714,688\n",
            "Trainable params: 14,714,688\n",
            "Non-trainable params: 0\n",
            "_________________________________________________________________\n"
          ],
          "name": "stdout"
        }
      ]
    },
    {
      "metadata": {
        "id": "iVIbnJIndahY",
        "colab_type": "text"
      },
      "cell_type": "markdown",
      "source": [
        "### Two approaches\n",
        "\n",
        "At this point, there are two ways we could proceed:\n",
        "\n",
        "1. Efficiently, with a caching trick. We will forward each image from our training set through VGG once, extract the activations, and cache them to memory. Later, we will use these activations as input to a Dense layer we will train to classify our data. This is efficient, since it requires forwarding the images through the convolutional base only once (this is the most expensive part of our pipeline). The downside is this prevents us from using data augmentation (which causes every image to be unqiue, preventing caching).\n",
        "\n",
        "2. Alternatively, we could extend the VGG model by adding one or more Dense layers on top of the pretrained base. We could then run the entire model on our input data. This allows us to use data augmentation (and simplifies our code!), but this technique is quite slow by comparison (since every image we generate is unique, it will have to run through the conv_base).\n",
        "\n",
        "We will demonstrate both techniques, starting with the first."
      ]
    },
    {
      "metadata": {
        "id": "0kdpuofTe9Ep",
        "colab_type": "code",
        "colab": {}
      },
      "cell_type": "code",
      "source": [
        "TARGET_SHAPE = 150 \n",
        "BATCH_SIZE = 32"
      ],
      "execution_count": 0,
      "outputs": []
    },
    {
      "metadata": {
        "id": "3o76jfkAcu20",
        "colab_type": "code",
        "colab": {
          "base_uri": "https://localhost:8080/",
          "height": 51
        },
        "outputId": "b33944ac-e14c-4229-e6c1-3cd269fc2e7a"
      },
      "cell_type": "code",
      "source": [
        "# Cache activations for our training and validation data\n",
        "datagen = ImageDataGenerator(rescale=1./255)\n",
        "\n",
        "def extract_features(directory, sample_count):\n",
        "    features = np.zeros(shape=(sample_count, 4, 4, 512))\n",
        "    labels = np.zeros(shape=(sample_count))\n",
        "    generator = datagen.flow_from_directory(\n",
        "        directory,\n",
        "        target_size=(TARGET_SHAPE, TARGET_SHAPE),\n",
        "        batch_size=BATCH_SIZE,\n",
        "        class_mode='binary')\n",
        "    i = 0\n",
        "    for inputs_batch, labels_batch in generator:\n",
        "      \n",
        "        features_batch = conv_base.predict(inputs_batch)\n",
        "        # print(features_batch.shape)\n",
        "        # (32, 4, 4, 512)\n",
        "        # Think: batch_size, rows, cols, channels\n",
        "        \n",
        "        features[i * BATCH_SIZE : (i + 1) * BATCH_SIZE] = features_batch\n",
        "        labels[i * BATCH_SIZE : (i + 1) * BATCH_SIZE] = labels_batch\n",
        "        i += 1\n",
        "        if i * BATCH_SIZE >= sample_count:\n",
        "            # Note that since generators yield data indefinitely in a loop,\n",
        "            # we must `break` after every image has been seen once.\n",
        "            break\n",
        "    return features, labels\n",
        "\n",
        "train_features, train_labels = extract_features(train_dir, 2000)\n",
        "validation_features, validation_labels = extract_features(validation_dir, 1000)"
      ],
      "execution_count": 10,
      "outputs": [
        {
          "output_type": "stream",
          "text": [
            "Found 2000 images belonging to 2 classes.\n",
            "Found 1000 images belonging to 2 classes.\n"
          ],
          "name": "stdout"
        }
      ]
    },
    {
      "metadata": {
        "id": "3iGg7cG8fSPA",
        "colab_type": "text"
      },
      "cell_type": "markdown",
      "source": [
        "The features we've extracted from VGG are of shape (batch_size, 4, 4, 512) -- think, rows, cols, channels. We will feed these to a Dense layer, so we must flatten (or unroll) them first."
      ]
    },
    {
      "metadata": {
        "id": "sIZ1MtgtfOsO",
        "colab_type": "code",
        "colab": {}
      },
      "cell_type": "code",
      "source": [
        "FLATTENED_SHAPE = 4 * 4 * 512\n",
        "\n",
        "train_features = np.reshape(train_features, (total_train, FLATTENED_SHAPE))\n",
        "validation_features = np.reshape(validation_features, (total_val, FLATTENED_SHAPE))"
      ],
      "execution_count": 0,
      "outputs": []
    },
    {
      "metadata": {
        "id": "AhVRxamAgVCG",
        "colab_type": "text"
      },
      "cell_type": "markdown",
      "source": [
        "Now, we can define a simple model, and train it using the features we just extracted from VGG16. This model should train quickly (we're only learning weights for the Dense layers)."
      ]
    },
    {
      "metadata": {
        "id": "GEfuBzZwghvc",
        "colab_type": "code",
        "colab": {}
      },
      "cell_type": "code",
      "source": [
        "EPOCHS = 50"
      ],
      "execution_count": 0,
      "outputs": []
    },
    {
      "metadata": {
        "id": "DF5v56QugTeG",
        "colab_type": "code",
        "colab": {
          "base_uri": "https://localhost:8080/",
          "height": 1856
        },
        "outputId": "204825e3-4ecd-4d53-9ba9-32cd02b870a6"
      },
      "cell_type": "code",
      "source": [
        "model = Sequential()\n",
        "model.add(Dense(256, activation='relu', input_dim=FLATTENED_SHAPE))\n",
        "model.add(Dropout(0.5))\n",
        "model.add(Dense(1, activation='sigmoid'))\n",
        "\n",
        "model.compile(optimizer='adam',\n",
        "              loss='binary_crossentropy',\n",
        "              metrics=['acc'])\n",
        "\n",
        "history = model.fit(train_features, train_labels,\n",
        "                    epochs=EPOCHS,\n",
        "                    batch_size=BATCH_SIZE,\n",
        "                    validation_data=(validation_features, validation_labels))"
      ],
      "execution_count": 13,
      "outputs": [
        {
          "output_type": "stream",
          "text": [
            "WARNING:tensorflow:From /usr/local/lib/python3.6/dist-packages/tensorflow/python/keras/layers/core.py:143: calling dropout (from tensorflow.python.ops.nn_ops) with keep_prob is deprecated and will be removed in a future version.\n",
            "Instructions for updating:\n",
            "Please use `rate` instead of `keep_prob`. Rate should be set to `rate = 1 - keep_prob`.\n",
            "Train on 2000 samples, validate on 1000 samples\n",
            "WARNING:tensorflow:From /usr/local/lib/python3.6/dist-packages/tensorflow/python/ops/math_ops.py:3066: to_int32 (from tensorflow.python.ops.math_ops) is deprecated and will be removed in a future version.\n",
            "Instructions for updating:\n",
            "Use tf.cast instead.\n",
            "Epoch 1/50\n",
            "2000/2000 [==============================] - 1s 442us/sample - loss: 0.4990 - acc: 0.7725 - val_loss: 0.2934 - val_acc: 0.8690\n",
            "Epoch 2/50\n",
            "2000/2000 [==============================] - 1s 259us/sample - loss: 0.2553 - acc: 0.8920 - val_loss: 0.2754 - val_acc: 0.8760\n",
            "Epoch 3/50\n",
            "2000/2000 [==============================] - 1s 261us/sample - loss: 0.2089 - acc: 0.9100 - val_loss: 0.2649 - val_acc: 0.8890\n",
            "Epoch 4/50\n",
            "2000/2000 [==============================] - 1s 270us/sample - loss: 0.1512 - acc: 0.9390 - val_loss: 0.2871 - val_acc: 0.8750\n",
            "Epoch 5/50\n",
            "2000/2000 [==============================] - 1s 276us/sample - loss: 0.1311 - acc: 0.9495 - val_loss: 0.3509 - val_acc: 0.8640\n",
            "Epoch 6/50\n",
            "2000/2000 [==============================] - 1s 270us/sample - loss: 0.1165 - acc: 0.9550 - val_loss: 0.3012 - val_acc: 0.8770\n",
            "Epoch 7/50\n",
            "2000/2000 [==============================] - 1s 274us/sample - loss: 0.0988 - acc: 0.9600 - val_loss: 0.2907 - val_acc: 0.8840\n",
            "Epoch 8/50\n",
            "2000/2000 [==============================] - 1s 272us/sample - loss: 0.0655 - acc: 0.9755 - val_loss: 0.3163 - val_acc: 0.8890\n",
            "Epoch 9/50\n",
            "2000/2000 [==============================] - 1s 274us/sample - loss: 0.0564 - acc: 0.9815 - val_loss: 0.3547 - val_acc: 0.8790\n",
            "Epoch 10/50\n",
            "2000/2000 [==============================] - 1s 276us/sample - loss: 0.0431 - acc: 0.9875 - val_loss: 0.3984 - val_acc: 0.8760\n",
            "Epoch 11/50\n",
            "2000/2000 [==============================] - 1s 275us/sample - loss: 0.0545 - acc: 0.9805 - val_loss: 0.3455 - val_acc: 0.8830\n",
            "Epoch 12/50\n",
            "2000/2000 [==============================] - 1s 271us/sample - loss: 0.0369 - acc: 0.9890 - val_loss: 0.3737 - val_acc: 0.8810\n",
            "Epoch 13/50\n",
            "2000/2000 [==============================] - 1s 275us/sample - loss: 0.0280 - acc: 0.9935 - val_loss: 0.3873 - val_acc: 0.8770\n",
            "Epoch 14/50\n",
            "2000/2000 [==============================] - 1s 268us/sample - loss: 0.0209 - acc: 0.9960 - val_loss: 0.3748 - val_acc: 0.8870\n",
            "Epoch 15/50\n",
            "2000/2000 [==============================] - 1s 278us/sample - loss: 0.0177 - acc: 0.9970 - val_loss: 0.3863 - val_acc: 0.8950\n",
            "Epoch 16/50\n",
            "2000/2000 [==============================] - 1s 273us/sample - loss: 0.0169 - acc: 0.9965 - val_loss: 0.3890 - val_acc: 0.8890\n",
            "Epoch 17/50\n",
            "2000/2000 [==============================] - 1s 270us/sample - loss: 0.0176 - acc: 0.9945 - val_loss: 0.4117 - val_acc: 0.8890\n",
            "Epoch 18/50\n",
            "2000/2000 [==============================] - 1s 275us/sample - loss: 0.0103 - acc: 0.9975 - val_loss: 0.4296 - val_acc: 0.8790\n",
            "Epoch 19/50\n",
            "2000/2000 [==============================] - 1s 272us/sample - loss: 0.0138 - acc: 0.9965 - val_loss: 0.4451 - val_acc: 0.8920\n",
            "Epoch 20/50\n",
            "2000/2000 [==============================] - 1s 277us/sample - loss: 0.0079 - acc: 0.9985 - val_loss: 0.4619 - val_acc: 0.8890\n",
            "Epoch 21/50\n",
            "2000/2000 [==============================] - 1s 272us/sample - loss: 0.0085 - acc: 0.9995 - val_loss: 0.4624 - val_acc: 0.8950\n",
            "Epoch 22/50\n",
            "2000/2000 [==============================] - 1s 278us/sample - loss: 0.0097 - acc: 0.9980 - val_loss: 0.4546 - val_acc: 0.8800\n",
            "Epoch 23/50\n",
            "2000/2000 [==============================] - 1s 272us/sample - loss: 0.0101 - acc: 0.9975 - val_loss: 0.4717 - val_acc: 0.8820\n",
            "Epoch 24/50\n",
            "2000/2000 [==============================] - 1s 273us/sample - loss: 0.0064 - acc: 0.9995 - val_loss: 0.4751 - val_acc: 0.8960\n",
            "Epoch 25/50\n",
            "2000/2000 [==============================] - 1s 271us/sample - loss: 0.0057 - acc: 0.9985 - val_loss: 0.5125 - val_acc: 0.8810\n",
            "Epoch 26/50\n",
            "2000/2000 [==============================] - 1s 281us/sample - loss: 0.0046 - acc: 1.0000 - val_loss: 0.4796 - val_acc: 0.8920\n",
            "Epoch 27/50\n",
            "2000/2000 [==============================] - 1s 275us/sample - loss: 0.0020 - acc: 1.0000 - val_loss: 0.5124 - val_acc: 0.8880\n",
            "Epoch 28/50\n",
            "2000/2000 [==============================] - 1s 271us/sample - loss: 0.0067 - acc: 0.9995 - val_loss: 0.4685 - val_acc: 0.8860\n",
            "Epoch 29/50\n",
            "2000/2000 [==============================] - 1s 275us/sample - loss: 0.0061 - acc: 0.9990 - val_loss: 0.4930 - val_acc: 0.8820\n",
            "Epoch 30/50\n",
            "2000/2000 [==============================] - 1s 273us/sample - loss: 0.0077 - acc: 0.9990 - val_loss: 0.4987 - val_acc: 0.8970\n",
            "Epoch 31/50\n",
            "2000/2000 [==============================] - 1s 278us/sample - loss: 0.0105 - acc: 0.9960 - val_loss: 0.5107 - val_acc: 0.8790\n",
            "Epoch 32/50\n",
            "2000/2000 [==============================] - 1s 270us/sample - loss: 0.0178 - acc: 0.9950 - val_loss: 0.4785 - val_acc: 0.8880\n",
            "Epoch 33/50\n",
            "2000/2000 [==============================] - 1s 275us/sample - loss: 0.0218 - acc: 0.9930 - val_loss: 0.4817 - val_acc: 0.8840\n",
            "Epoch 34/50\n",
            "2000/2000 [==============================] - 1s 268us/sample - loss: 0.0165 - acc: 0.9940 - val_loss: 0.5292 - val_acc: 0.8790\n",
            "Epoch 35/50\n",
            "2000/2000 [==============================] - 1s 275us/sample - loss: 0.0512 - acc: 0.9780 - val_loss: 0.5153 - val_acc: 0.8830\n",
            "Epoch 36/50\n",
            "2000/2000 [==============================] - 1s 269us/sample - loss: 0.0528 - acc: 0.9790 - val_loss: 0.4041 - val_acc: 0.8850\n",
            "Epoch 37/50\n",
            "2000/2000 [==============================] - 1s 272us/sample - loss: 0.0350 - acc: 0.9875 - val_loss: 0.4329 - val_acc: 0.8770\n",
            "Epoch 38/50\n",
            "2000/2000 [==============================] - 1s 276us/sample - loss: 0.0376 - acc: 0.9865 - val_loss: 0.4689 - val_acc: 0.8790\n",
            "Epoch 39/50\n",
            "2000/2000 [==============================] - 1s 275us/sample - loss: 0.0255 - acc: 0.9900 - val_loss: 0.5064 - val_acc: 0.8840\n",
            "Epoch 40/50\n",
            "2000/2000 [==============================] - 1s 272us/sample - loss: 0.0242 - acc: 0.9925 - val_loss: 0.4859 - val_acc: 0.8920\n",
            "Epoch 41/50\n",
            "2000/2000 [==============================] - 1s 272us/sample - loss: 0.0485 - acc: 0.9825 - val_loss: 0.5095 - val_acc: 0.8830\n",
            "Epoch 42/50\n",
            "2000/2000 [==============================] - 1s 276us/sample - loss: 0.0346 - acc: 0.9900 - val_loss: 0.4583 - val_acc: 0.8840\n",
            "Epoch 43/50\n",
            "2000/2000 [==============================] - 1s 269us/sample - loss: 0.0148 - acc: 0.9950 - val_loss: 0.5653 - val_acc: 0.8830\n",
            "Epoch 44/50\n",
            "2000/2000 [==============================] - 1s 275us/sample - loss: 0.0149 - acc: 0.9955 - val_loss: 0.5209 - val_acc: 0.8850\n",
            "Epoch 45/50\n",
            "2000/2000 [==============================] - 1s 272us/sample - loss: 0.0069 - acc: 0.9990 - val_loss: 0.5701 - val_acc: 0.8760\n",
            "Epoch 46/50\n",
            "2000/2000 [==============================] - 1s 277us/sample - loss: 0.0103 - acc: 0.9980 - val_loss: 0.5611 - val_acc: 0.8740\n",
            "Epoch 47/50\n",
            "2000/2000 [==============================] - 1s 266us/sample - loss: 0.0112 - acc: 0.9960 - val_loss: 0.5741 - val_acc: 0.8830\n",
            "Epoch 48/50\n",
            "2000/2000 [==============================] - 1s 274us/sample - loss: 0.0266 - acc: 0.9895 - val_loss: 0.5982 - val_acc: 0.8770\n",
            "Epoch 49/50\n",
            "2000/2000 [==============================] - 1s 270us/sample - loss: 0.0298 - acc: 0.9885 - val_loss: 0.5274 - val_acc: 0.8820\n",
            "Epoch 50/50\n",
            "2000/2000 [==============================] - 1s 274us/sample - loss: 0.0134 - acc: 0.9950 - val_loss: 0.5075 - val_acc: 0.8830\n"
          ],
          "name": "stdout"
        }
      ]
    },
    {
      "metadata": {
        "id": "QtzwDMdzgyC-",
        "colab_type": "text"
      },
      "cell_type": "markdown",
      "source": [
        "## Results for approach one"
      ]
    },
    {
      "metadata": {
        "id": "LSzan7zvgsWK",
        "colab_type": "code",
        "colab": {
          "base_uri": "https://localhost:8080/",
          "height": 498
        },
        "outputId": "bad61ed8-a6b4-4eaf-e1f4-c194bf252ec6"
      },
      "cell_type": "code",
      "source": [
        "acc = history.history['acc']\n",
        "val_acc = history.history['val_acc']\n",
        "\n",
        "loss = history.history['loss']\n",
        "val_loss = history.history['val_loss']\n",
        "\n",
        "epochs_range = range(1, EPOCHS+1)\n",
        "\n",
        "plt.figure(figsize=(8, 8))\n",
        "plt.subplot(1, 2, 1)\n",
        "plt.plot(epochs_range, acc, label='Training Accuracy')\n",
        "plt.plot(epochs_range, val_acc, label='Validation Accuracy')\n",
        "plt.legend(loc='lower right')\n",
        "plt.title('Training and Validation Accuracy')\n",
        "\n",
        "plt.subplot(1, 2, 2)\n",
        "plt.plot(epochs_range, loss, label='Training Loss')\n",
        "plt.plot(epochs_range, val_loss, label='Validation Loss')\n",
        "plt.legend(loc='upper right')\n",
        "plt.title('Training and Validation Loss')\n",
        "plt.show()"
      ],
      "execution_count": 14,
      "outputs": [
        {
          "output_type": "display_data",
          "data": {
            "image/png": "[encoded data removed]",
            "text/plain": [
              "<Figure size 576x576 with 2 Axes>"
            ]
          },
          "metadata": {
            "tags": []
          }
        }
      ]
    },
    {
      "metadata": {
        "id": "5Rl21wR0hOM-",
        "colab_type": "text"
      },
      "cell_type": "markdown",
      "source": [
        "Pretty cool, right? Already, our validation accuracy is above our previous notebook. Notice we're still overfitting almost immediately.  Now, let's employ the second approach, using data augmentation. First, let's build a new model by extending VGG. Because models behave just like layers, you can add a model (like our conv_base) to a Sequential model just like you would add a layer. So you can do the following:"
      ]
    },
    {
      "metadata": {
        "id": "CRnXOtVyg1N5",
        "colab_type": "code",
        "colab": {}
      },
      "cell_type": "code",
      "source": [
        "model = Sequential()\n",
        "model.add(conv_base)\n",
        "model.add(Flatten())\n",
        "model.add(Dense(512, activation='relu'))\n",
        "model.add(Dense(1, activation='sigmoid'))"
      ],
      "execution_count": 0,
      "outputs": []
    },
    {
      "metadata": {
        "id": "MUhYMB8ShpUi",
        "colab_type": "text"
      },
      "cell_type": "markdown",
      "source": [
        "Here's how our model looks now."
      ]
    },
    {
      "metadata": {
        "id": "j27v4b0Ahnxe",
        "colab_type": "code",
        "colab": {
          "base_uri": "https://localhost:8080/",
          "height": 272
        },
        "outputId": "e4083eb9-ffa1-4d25-f9f4-ca3a49ad3632"
      },
      "cell_type": "code",
      "source": [
        "model.summary()"
      ],
      "execution_count": 16,
      "outputs": [
        {
          "output_type": "stream",
          "text": [
            "_________________________________________________________________\n",
            "Layer (type)                 Output Shape              Param #   \n",
            "=================================================================\n",
            "vgg16 (Model)                (None, 4, 4, 512)         14714688  \n",
            "_________________________________________________________________\n",
            "flatten (Flatten)            (None, 8192)              0         \n",
            "_________________________________________________________________\n",
            "dense_2 (Dense)              (None, 512)               4194816   \n",
            "_________________________________________________________________\n",
            "dense_3 (Dense)              (None, 1)                 513       \n",
            "=================================================================\n",
            "Total params: 18,910,017\n",
            "Trainable params: 18,910,017\n",
            "Non-trainable params: 0\n",
            "_________________________________________________________________\n"
          ],
          "name": "stdout"
        }
      ]
    },
    {
      "metadata": {
        "id": "FpS6ASG-hr-5",
        "colab_type": "text"
      },
      "cell_type": "markdown",
      "source": [
        "Before we train our model, we need to \"freeze\" the convolutional base (this prevents it from being updated during training).  Since the Dense layers we've added have their weights initialized randomly, they will make large errors initially, and the gradient in turn would be propagated backward through VGG (causing erroneously large updates to already useful weights)"
      ]
    },
    {
      "metadata": {
        "id": "t-fm-s1GhoDT",
        "colab_type": "code",
        "colab": {}
      },
      "cell_type": "code",
      "source": [
        "conv_base.trainable = False"
      ],
      "execution_count": 0,
      "outputs": []
    },
    {
      "metadata": {
        "id": "v7RKlw81iUze",
        "colab_type": "code",
        "colab": {
          "base_uri": "https://localhost:8080/",
          "height": 51
        },
        "outputId": "f96e526a-90de-43c6-d389-717b3c6c6366"
      },
      "cell_type": "code",
      "source": [
        "image_gen_train = ImageDataGenerator(\n",
        "      rescale=1./255,\n",
        "      rotation_range=40,\n",
        "      width_shift_range=0.2,\n",
        "      height_shift_range=0.2,\n",
        "      shear_range=0.2,\n",
        "      zoom_range=0.2,\n",
        "      horizontal_flip=True,\n",
        "      fill_mode='nearest')\n",
        "\n",
        "train_data_gen = image_gen_train.flow_from_directory(\n",
        "    batch_size=BATCH_SIZE, \n",
        "    directory=train_dir, \n",
        "    shuffle=True, \n",
        "    target_size=(TARGET_SHAPE,TARGET_SHAPE),\n",
        "    class_mode='binary')\n",
        "\n",
        "# Validation data should not be augmented!\n",
        "image_gen_val = ImageDataGenerator(rescale=1./255)\n",
        "val_data_gen = image_gen_val.flow_from_directory(\n",
        "    batch_size=BATCH_SIZE, \n",
        "    directory=validation_dir, \n",
        "    target_size=(TARGET_SHAPE, TARGET_SHAPE),\n",
        "    class_mode='binary')"
      ],
      "execution_count": 18,
      "outputs": [
        {
          "output_type": "stream",
          "text": [
            "Found 2000 images belonging to 2 classes.\n",
            "Found 1000 images belonging to 2 classes.\n"
          ],
          "name": "stdout"
        }
      ]
    },
    {
      "metadata": {
        "id": "GhbLUsLMi2LR",
        "colab_type": "text"
      },
      "cell_type": "markdown",
      "source": [
        "Let's compile and train our model. This will be quite slow. Now would be a good time to get a cup of coffee."
      ]
    },
    {
      "metadata": {
        "id": "Q5fQBIp2ivZf",
        "colab_type": "code",
        "colab": {
          "base_uri": "https://localhost:8080/",
          "height": 2567
        },
        "outputId": "708bdd24-b943-4857-f245-54d3135317b5"
      },
      "cell_type": "code",
      "source": [
        "model.compile(loss='binary_crossentropy',\n",
        "              optimizer='adam',\n",
        "              metrics=['acc'])\n",
        "\n",
        "# Now is a good time for a cup of coffee\n",
        "history = model.fit_generator(\n",
        "      train_data_gen,\n",
        "      steps_per_epoch=int(np.ceil(total_train / float(BATCH_SIZE))),\n",
        "      epochs=EPOCHS,\n",
        "      validation_data=val_data_gen,\n",
        "      validation_steps=int(np.ceil(total_val / float(BATCH_SIZE))),\n",
        "      verbose=2)"
      ],
      "execution_count": 19,
      "outputs": [
        {
          "output_type": "stream",
          "text": [
            "Epoch 1/50\n",
            "32/32 [==============================] - 6s 190ms/step - loss: 0.3579 - acc: 0.8450\n",
            " - 25s - loss: 0.5953 - acc: 0.7550 - val_loss: 0.3579 - val_acc: 0.8450\n",
            "Epoch 2/50\n",
            "32/32 [==============================] - 6s 185ms/step - loss: 0.3068 - acc: 0.8620\n",
            " - 22s - loss: 0.3793 - acc: 0.8205 - val_loss: 0.3068 - val_acc: 0.8620\n",
            "Epoch 3/50\n",
            "32/32 [==============================] - 6s 186ms/step - loss: 0.2733 - acc: 0.8810\n",
            " - 22s - loss: 0.3551 - acc: 0.8335 - val_loss: 0.2733 - val_acc: 0.8810\n",
            "Epoch 4/50\n",
            "32/32 [==============================] - 6s 187ms/step - loss: 0.2992 - acc: 0.8690\n",
            " - 22s - loss: 0.3391 - acc: 0.8535 - val_loss: 0.2992 - val_acc: 0.8690\n",
            "Epoch 5/50\n",
            "32/32 [==============================] - 6s 185ms/step - loss: 0.2614 - acc: 0.8870\n",
            " - 22s - loss: 0.3656 - acc: 0.8400 - val_loss: 0.2614 - val_acc: 0.8870\n",
            "Epoch 6/50\n",
            "32/32 [==============================] - 6s 196ms/step - loss: 0.2932 - acc: 0.8700\n",
            " - 23s - loss: 0.3479 - acc: 0.8405 - val_loss: 0.2932 - val_acc: 0.8700\n",
            "Epoch 7/50\n",
            "32/32 [==============================] - 6s 187ms/step - loss: 0.3284 - acc: 0.8640\n",
            " - 22s - loss: 0.3101 - acc: 0.8580 - val_loss: 0.3284 - val_acc: 0.8640\n",
            "Epoch 8/50\n",
            "32/32 [==============================] - 6s 186ms/step - loss: 0.3148 - acc: 0.8770\n",
            " - 22s - loss: 0.3029 - acc: 0.8695 - val_loss: 0.3148 - val_acc: 0.8770\n",
            "Epoch 9/50\n",
            "32/32 [==============================] - 6s 187ms/step - loss: 0.2525 - acc: 0.8900\n",
            " - 22s - loss: 0.3010 - acc: 0.8705 - val_loss: 0.2525 - val_acc: 0.8900\n",
            "Epoch 10/50\n",
            "32/32 [==============================] - 6s 188ms/step - loss: 0.3053 - acc: 0.8760\n",
            " - 23s - loss: 0.2899 - acc: 0.8695 - val_loss: 0.3053 - val_acc: 0.8760\n",
            "Epoch 11/50\n",
            "32/32 [==============================] - 6s 192ms/step - loss: 0.2958 - acc: 0.8810\n",
            " - 23s - loss: 0.3324 - acc: 0.8460 - val_loss: 0.2958 - val_acc: 0.8810\n",
            "Epoch 12/50\n",
            "32/32 [==============================] - 6s 188ms/step - loss: 0.2998 - acc: 0.8760\n",
            " - 23s - loss: 0.3346 - acc: 0.8570 - val_loss: 0.2998 - val_acc: 0.8760\n",
            "Epoch 13/50\n",
            "32/32 [==============================] - 6s 189ms/step - loss: 0.2420 - acc: 0.8950\n",
            " - 22s - loss: 0.2844 - acc: 0.8680 - val_loss: 0.2420 - val_acc: 0.8950\n",
            "Epoch 14/50\n",
            "32/32 [==============================] - 6s 188ms/step - loss: 0.2464 - acc: 0.8850\n",
            " - 22s - loss: 0.2759 - acc: 0.8835 - val_loss: 0.2464 - val_acc: 0.8850\n",
            "Epoch 15/50\n",
            "32/32 [==============================] - 6s 188ms/step - loss: 0.2726 - acc: 0.8980\n",
            " - 22s - loss: 0.2786 - acc: 0.8715 - val_loss: 0.2726 - val_acc: 0.8980\n",
            "Epoch 16/50\n",
            "32/32 [==============================] - 6s 186ms/step - loss: 0.2618 - acc: 0.8930\n",
            " - 22s - loss: 0.2759 - acc: 0.8750 - val_loss: 0.2618 - val_acc: 0.8930\n",
            "Epoch 17/50\n",
            "32/32 [==============================] - 6s 184ms/step - loss: 0.2417 - acc: 0.9120\n",
            " - 22s - loss: 0.2660 - acc: 0.8825 - val_loss: 0.2417 - val_acc: 0.9120\n",
            "Epoch 18/50\n",
            "32/32 [==============================] - 6s 195ms/step - loss: 0.2620 - acc: 0.8880\n",
            " - 22s - loss: 0.2514 - acc: 0.8880 - val_loss: 0.2620 - val_acc: 0.8880\n",
            "Epoch 19/50\n",
            "32/32 [==============================] - 6s 188ms/step - loss: 0.2866 - acc: 0.8870\n",
            " - 22s - loss: 0.2513 - acc: 0.8910 - val_loss: 0.2866 - val_acc: 0.8870\n",
            "Epoch 20/50\n",
            "32/32 [==============================] - 6s 199ms/step - loss: 0.2487 - acc: 0.8910\n",
            " - 23s - loss: 0.2798 - acc: 0.8730 - val_loss: 0.2487 - val_acc: 0.8910\n",
            "Epoch 21/50\n",
            "32/32 [==============================] - 6s 186ms/step - loss: 0.2457 - acc: 0.9010\n",
            " - 22s - loss: 0.2740 - acc: 0.8760 - val_loss: 0.2457 - val_acc: 0.9010\n",
            "Epoch 22/50\n",
            "32/32 [==============================] - 6s 184ms/step - loss: 0.2471 - acc: 0.8960\n",
            " - 22s - loss: 0.2607 - acc: 0.8855 - val_loss: 0.2471 - val_acc: 0.8960\n",
            "Epoch 23/50\n",
            "32/32 [==============================] - 6s 183ms/step - loss: 0.2456 - acc: 0.8890\n",
            " - 22s - loss: 0.2622 - acc: 0.8795 - val_loss: 0.2456 - val_acc: 0.8890\n",
            "Epoch 24/50\n",
            "32/32 [==============================] - 6s 184ms/step - loss: 0.2509 - acc: 0.8950\n",
            " - 22s - loss: 0.2573 - acc: 0.8855 - val_loss: 0.2509 - val_acc: 0.8950\n",
            "Epoch 25/50\n",
            "32/32 [==============================] - 6s 184ms/step - loss: 0.2343 - acc: 0.8950\n",
            " - 22s - loss: 0.2579 - acc: 0.8910 - val_loss: 0.2343 - val_acc: 0.8950\n",
            "Epoch 26/50\n",
            "32/32 [==============================] - 6s 187ms/step - loss: 0.2538 - acc: 0.8970\n",
            " - 22s - loss: 0.2530 - acc: 0.8940 - val_loss: 0.2538 - val_acc: 0.8970\n",
            "Epoch 27/50\n",
            "32/32 [==============================] - 6s 183ms/step - loss: 0.2568 - acc: 0.8990\n",
            " - 22s - loss: 0.2441 - acc: 0.8880 - val_loss: 0.2568 - val_acc: 0.8990\n",
            "Epoch 28/50\n",
            "32/32 [==============================] - 6s 185ms/step - loss: 0.2940 - acc: 0.8870\n",
            " - 22s - loss: 0.2381 - acc: 0.8960 - val_loss: 0.2940 - val_acc: 0.8870\n",
            "Epoch 29/50\n",
            "32/32 [==============================] - 6s 186ms/step - loss: 0.2615 - acc: 0.8980\n",
            " - 22s - loss: 0.2395 - acc: 0.8985 - val_loss: 0.2615 - val_acc: 0.8980\n",
            "Epoch 30/50\n",
            "32/32 [==============================] - 6s 183ms/step - loss: 0.2493 - acc: 0.8990\n",
            " - 22s - loss: 0.2360 - acc: 0.9010 - val_loss: 0.2493 - val_acc: 0.8990\n",
            "Epoch 31/50\n",
            "32/32 [==============================] - 6s 184ms/step - loss: 0.2706 - acc: 0.8880\n",
            " - 22s - loss: 0.2664 - acc: 0.8815 - val_loss: 0.2706 - val_acc: 0.8880\n",
            "Epoch 32/50\n",
            "32/32 [==============================] - 6s 189ms/step - loss: 0.2531 - acc: 0.9020\n",
            " - 22s - loss: 0.2528 - acc: 0.8930 - val_loss: 0.2531 - val_acc: 0.9020\n",
            "Epoch 33/50\n",
            "32/32 [==============================] - 6s 186ms/step - loss: 0.2684 - acc: 0.8920\n",
            " - 22s - loss: 0.2148 - acc: 0.9100 - val_loss: 0.2684 - val_acc: 0.8920\n",
            "Epoch 34/50\n",
            "32/32 [==============================] - 6s 194ms/step - loss: 0.2331 - acc: 0.9100\n",
            " - 23s - loss: 0.2271 - acc: 0.9015 - val_loss: 0.2331 - val_acc: 0.9100\n",
            "Epoch 35/50\n",
            "32/32 [==============================] - 6s 183ms/step - loss: 0.2404 - acc: 0.9020\n",
            " - 22s - loss: 0.2323 - acc: 0.9020 - val_loss: 0.2404 - val_acc: 0.9020\n",
            "Epoch 36/50\n",
            "32/32 [==============================] - 6s 183ms/step - loss: 0.2473 - acc: 0.8990\n",
            " - 22s - loss: 0.2247 - acc: 0.9045 - val_loss: 0.2473 - val_acc: 0.8990\n",
            "Epoch 37/50\n",
            "32/32 [==============================] - 6s 184ms/step - loss: 0.2456 - acc: 0.9150\n",
            " - 22s - loss: 0.2219 - acc: 0.9045 - val_loss: 0.2456 - val_acc: 0.9150\n",
            "Epoch 38/50\n",
            "32/32 [==============================] - 6s 182ms/step - loss: 0.2464 - acc: 0.9000\n",
            " - 22s - loss: 0.2362 - acc: 0.9010 - val_loss: 0.2464 - val_acc: 0.9000\n",
            "Epoch 39/50\n",
            "32/32 [==============================] - 6s 183ms/step - loss: 0.2628 - acc: 0.9020\n",
            " - 22s - loss: 0.2127 - acc: 0.9115 - val_loss: 0.2628 - val_acc: 0.9020\n",
            "Epoch 40/50\n",
            "32/32 [==============================] - 6s 184ms/step - loss: 0.3165 - acc: 0.8730\n",
            " - 22s - loss: 0.2218 - acc: 0.9045 - val_loss: 0.3165 - val_acc: 0.8730\n",
            "Epoch 41/50\n",
            "32/32 [==============================] - 6s 183ms/step - loss: 0.2531 - acc: 0.8980\n",
            " - 22s - loss: 0.2080 - acc: 0.9080 - val_loss: 0.2531 - val_acc: 0.8980\n",
            "Epoch 42/50\n",
            "32/32 [==============================] - 6s 182ms/step - loss: 0.2431 - acc: 0.9080\n",
            " - 22s - loss: 0.2159 - acc: 0.9105 - val_loss: 0.2431 - val_acc: 0.9080\n",
            "Epoch 43/50\n",
            "32/32 [==============================] - 6s 185ms/step - loss: 0.2568 - acc: 0.9030\n",
            " - 22s - loss: 0.2018 - acc: 0.9165 - val_loss: 0.2568 - val_acc: 0.9030\n",
            "Epoch 44/50\n",
            "32/32 [==============================] - 6s 182ms/step - loss: 0.2530 - acc: 0.9050\n",
            " - 22s - loss: 0.1864 - acc: 0.9210 - val_loss: 0.2530 - val_acc: 0.9050\n",
            "Epoch 45/50\n",
            "32/32 [==============================] - 6s 183ms/step - loss: 0.2344 - acc: 0.8960\n",
            " - 22s - loss: 0.2142 - acc: 0.9095 - val_loss: 0.2344 - val_acc: 0.8960\n",
            "Epoch 46/50\n",
            "32/32 [==============================] - 6s 186ms/step - loss: 0.2838 - acc: 0.8930\n",
            " - 22s - loss: 0.2202 - acc: 0.9060 - val_loss: 0.2838 - val_acc: 0.8930\n",
            "Epoch 47/50\n",
            "32/32 [==============================] - 6s 184ms/step - loss: 0.2709 - acc: 0.9000\n",
            " - 22s - loss: 0.2003 - acc: 0.9160 - val_loss: 0.2709 - val_acc: 0.9000\n",
            "Epoch 48/50\n",
            "32/32 [==============================] - 6s 199ms/step - loss: 0.2643 - acc: 0.8960\n",
            " - 22s - loss: 0.1984 - acc: 0.9160 - val_loss: 0.2643 - val_acc: 0.8960\n",
            "Epoch 49/50\n",
            "32/32 [==============================] - 6s 186ms/step - loss: 0.2481 - acc: 0.9110\n",
            " - 22s - loss: 0.1961 - acc: 0.9130 - val_loss: 0.2481 - val_acc: 0.9110\n",
            "Epoch 50/50\n",
            "32/32 [==============================] - 6s 184ms/step - loss: 0.2621 - acc: 0.9000\n",
            " - 22s - loss: 0.2149 - acc: 0.9150 - val_loss: 0.2621 - val_acc: 0.9000\n"
          ],
          "name": "stdout"
        }
      ]
    },
    {
      "metadata": {
        "id": "eKdRimVljKM5",
        "colab_type": "text"
      },
      "cell_type": "markdown",
      "source": [
        "## Results for approach two"
      ]
    },
    {
      "metadata": {
        "id": "kLLdnhuTjAl3",
        "colab_type": "code",
        "colab": {
          "base_uri": "https://localhost:8080/",
          "height": 498
        },
        "outputId": "db6e33b5-f1e6-4b2b-ae34-fd7663cab0fc"
      },
      "cell_type": "code",
      "source": [
        "acc = history.history['acc']\n",
        "val_acc = history.history['val_acc']\n",
        "\n",
        "loss = history.history['loss']\n",
        "val_loss = history.history['val_loss']\n",
        "\n",
        "epochs_range = range(1, EPOCHS+1)\n",
        "\n",
        "plt.figure(figsize=(8, 8))\n",
        "plt.subplot(1, 2, 1)\n",
        "plt.plot(epochs_range, acc, label='Training Accuracy')\n",
        "plt.plot(epochs_range, val_acc, label='Validation Accuracy')\n",
        "plt.legend(loc='lower right')\n",
        "plt.title('Training and Validation Accuracy')\n",
        "\n",
        "plt.subplot(1, 2, 2)\n",
        "plt.plot(epochs_range, loss, label='Training Loss')\n",
        "plt.plot(epochs_range, val_loss, label='Validation Loss')\n",
        "plt.legend(loc='upper right')\n",
        "plt.title('Training and Validation Loss')\n",
        "plt.show()"
      ],
      "execution_count": 20,
      "outputs": [
        {
          "output_type": "display_data",
          "data": {
            "image/png": "[encoded data removed]",
            "text/plain": [
              "<Figure size 576x576 with 2 Axes>"
            ]
          },
          "metadata": {
            "tags": []
          }
        }
      ]
    },
    {
      "metadata": {
        "id": "rLkHRuFyjPLl",
        "colab_type": "text"
      },
      "cell_type": "markdown",
      "source": [
        "Progress (but a small absolute improvement). To go further, we could employ fine tuning. To learn more about it, check out Deep Learning with Python, by François Chollet."
      ]
    }
  ]
}