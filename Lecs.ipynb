{
  "nbformat": 4,
  "nbformat_minor": 0,
  "metadata": {
    "colab": {
      "name": "Lecs.ipynb",
      "version": "0.3.2",
      "provenance": [],
      "collapsed_sections": [],
      "include_colab_link": true
    },
    "kernelspec": {
      "name": "python3",
      "display_name": "Python 3"
    }
  },
  "cells": [
    {
      "cell_type": "markdown",
      "metadata": {
        "id": "view-in-github",
        "colab_type": "text"
      },
      "source": [
        "<a href=\"https://colab.research.google.com/github/JingQian87/AppliedDL/blob/master/Lecs.ipynb\" target=\"_parent\"><img src=\"https://colab.research.google.com/assets/colab-badge.svg\" alt=\"Open In Colab\"/></a>"
      ]
    },
    {
      "metadata": {
        "id": "U2spP-LnvunG",
        "colab_type": "text"
      },
      "cell_type": "markdown",
      "source": [
        "# Reading要求：\n",
        "\n",
        "## L1: \n",
        "* DLwP: C1&2\n",
        "* DL: C1\n",
        "* Python DS Handbook\n",
        "\n",
        "## L2: \n",
        "* DLwP: C3\n",
        "* DL: 4.1,4.2,4.3,5.1,5.2\n",
        "\n",
        "## L3: \n",
        "* DLwP: C4&5\n",
        "* DL: 9\n",
        "\n",
        "## L4: \n",
        "* DL: 4.1, 4.3\n",
        "\n",
        "## L5: project相关\n",
        "\n",
        "## L6: \n",
        "* Deep Learning: 7.12 (Dropout), 8.3 (Basic Algorithms); 8.4 (Parameter Initialization Strategies); 8.5 (Algorithms with Adaptive Learning Rates)\n",
        "\n",
        "## L7:  C7"
      ]
    },
    {
      "metadata": {
        "id": "i9ZgBaKdTjMG",
        "colab_type": "text"
      },
      "cell_type": "markdown",
      "source": [
        "## L1: \n",
        "* DLwP: C1&2\n",
        "\n",
        "# DLwP C1\n",
        "## 1.1\n",
        "**Machine learning**: find useful representations of input data. 各种变形，比如linear projections, translations, nonlinear operations, etc.\n",
        "\n",
        "** Deep Learning**, 又名layered representations learning, hierarchical representations learning.\n",
        "* a multistage way to learn data representations\n",
        "* depth = \\# layers in the model\n",
        "* 每一层的weights决定了transformation 如何参数化。我们需要找到合适的weights使得input map correctly to targets.\n",
        "* 衡量方式：loss function/ objective function, compute distance between prediction & true value. 得到*loss score*.\n",
        "* Optimizer: 通过backpropogation 去调整weights, 从而降低loss score.\n",
        "\n",
        "\n",
        "\n",
        "\n"
      ]
    },
    {
      "metadata": {
        "id": "D5TkAWPSXbBC",
        "colab_type": "text"
      },
      "cell_type": "markdown",
      "source": [
        "## 1.2. Brief history of ML\n",
        "1. Probabilistic Modeling. \n",
        "Eg. Naive Bayes, Logistic regression.\n",
        "\n",
        "2. Kernel Methods.\n",
        "Eg: SVM\n",
        "\n",
        "3. Decision Tree. Random Forest. Gradient Boosting Machines-> 最好的适合nonperceptual data的算法\n",
        "\n",
        "DL优点：不用烦feature engineering.\n",
        "\n",
        "\n",
        "\n",
        "\n"
      ]
    },
    {
      "metadata": {
        "id": "UDCsvdUszEA4",
        "colab_type": "text"
      },
      "cell_type": "markdown",
      "source": [
        "\n",
        "# DLwP C2"
      ]
    },
    {
      "metadata": {
        "id": "XD35EpPKRuk7",
        "colab_type": "text"
      },
      "cell_type": "markdown",
      "source": [
        "## 2.1. MNIST example\n"
      ]
    },
    {
      "metadata": {
        "id": "NC-6pxdAUgGF",
        "colab_type": "text"
      },
      "cell_type": "markdown",
      "source": [
        "### Step 1. Load data"
      ]
    },
    {
      "metadata": {
        "id": "TFIKVE-oSb1e",
        "colab_type": "code",
        "colab": {
          "base_uri": "https://localhost:8080/",
          "height": 68
        },
        "outputId": "96ac555f-fa32-4949-f3e1-4770c9c191e2"
      },
      "cell_type": "code",
      "source": [
        "from keras.datasets import mnist\n",
        "(train_images, train_labels), (test_images, test_labels) = mnist.load_data()"
      ],
      "execution_count": 1,
      "outputs": [
        {
          "output_type": "stream",
          "text": [
            "Using TensorFlow backend.\n"
          ],
          "name": "stderr"
        },
        {
          "output_type": "stream",
          "text": [
            "Downloading data from https://s3.amazonaws.com/img-datasets/mnist.npz\n",
            "11493376/11490434 [==============================] - 1s 0us/step\n"
          ],
          "name": "stdout"
        }
      ]
    },
    {
      "metadata": {
        "id": "SzBTetHKvfWP",
        "colab_type": "code",
        "colab": {
          "base_uri": "https://localhost:8080/",
          "height": 34
        },
        "outputId": "8cb2d190-3c47-4148-81dd-4ea71fab6a95"
      },
      "cell_type": "code",
      "source": [
        "print(train_images.shape, train_labels.shape, test_images.shape, test_labels.shape)\n"
      ],
      "execution_count": 2,
      "outputs": [
        {
          "output_type": "stream",
          "text": [
            "(60000, 28, 28) (60000,) (10000, 28, 28) (10000,)\n"
          ],
          "name": "stdout"
        }
      ]
    },
    {
      "metadata": {
        "id": "a1L8Kl8TSxGp",
        "colab_type": "text"
      },
      "cell_type": "markdown",
      "source": [
        "train set 有60000 samples, test set 有10000 samples. \n",
        "每个图像为 28x28 的 NumPy 数组，像素值介于 0 到 255 之间。标签是整数数组，介于 0 到 9 之间。\n"
      ]
    },
    {
      "metadata": {
        "id": "JJ-tRjLwUjDf",
        "colab_type": "text"
      },
      "cell_type": "markdown",
      "source": [
        "### Step 2. Network"
      ]
    },
    {
      "metadata": {
        "id": "Iz1qob6Q06ZX",
        "colab_type": "code",
        "colab": {
          "base_uri": "https://localhost:8080/",
          "height": 88
        },
        "outputId": "b687f8b0-5b0b-4faf-c120-7d340b42e1b1"
      },
      "cell_type": "code",
      "source": [
        "from keras import models\n",
        "from keras import layers\n",
        "\n",
        "network = models.Sequential()\n",
        "network.add(layers.Dense(512, activation='relu', input_shape=(28*28,)))\n",
        "network.add(layers.Dense(10, activation='softmax'))"
      ],
      "execution_count": 4,
      "outputs": [
        {
          "output_type": "stream",
          "text": [
            "WARNING:tensorflow:From /usr/local/lib/python3.6/dist-packages/tensorflow/python/framework/op_def_library.py:263: colocate_with (from tensorflow.python.framework.ops) is deprecated and will be removed in a future version.\n",
            "Instructions for updating:\n",
            "Colocations handled automatically by placer.\n"
          ],
          "name": "stdout"
        }
      ]
    },
    {
      "metadata": {
        "id": "zVXUXcaZVCcB",
        "colab_type": "text"
      },
      "cell_type": "markdown",
      "source": [
        "**Layer**: Data processing module, 也可视为filter for data. <br>\n",
        "Layer可以提取输入的data中的representation。\n",
        "通常deep learning都是由一堆简单的layer堆叠而成，成为data distillation.\n",
        "\n",
        "在上面的命令中，network由两层Dense layer组成, 是densely connected (又称为fully connected) neural layers。\n",
        "第二层是10-way softmax layer, 会输出10个probability scores (sum=1)。每个score表示图像是属于对应的digit的概率。\n"
      ]
    },
    {
      "metadata": {
        "id": "B1a7cShMa5Qn",
        "colab_type": "text"
      },
      "cell_type": "markdown",
      "source": [
        "### Step 3. Compilation \n",
        "* **Loss Function**: 衡量network在training data上的performance。并可以据此steer itself in the right direction\n",
        "* **Optimizer**: 据此network update itself\n",
        "* **Metrics to monitor during training and testing**: 这里我们只关心accuracy (fraction = #correctly classified/#all).\n",
        "\n"
      ]
    },
    {
      "metadata": {
        "id": "IexZ-Cwwbndm",
        "colab_type": "code",
        "colab": {}
      },
      "cell_type": "code",
      "source": [
        "network.compile(optimizer='rmsprop',\n",
        "               loss='categorical_crossentropy',\n",
        "               metrics=['accuracy'])"
      ],
      "execution_count": 0,
      "outputs": []
    },
    {
      "metadata": {
        "id": "qFVphDwmb8Wl",
        "colab_type": "text"
      },
      "cell_type": "markdown",
      "source": [
        "### Step 4. Preparing the image data\n",
        "我们知道，输入的training images，shape是(60000, 28, 28)。每个像素值在[0, 255]之间，类型是uint8。但我们想把它们变成[0, 1]之间的float 32。所以："
      ]
    },
    {
      "metadata": {
        "id": "M7u53kl5dDmk",
        "colab_type": "code",
        "colab": {}
      },
      "cell_type": "code",
      "source": [
        "train_images = train_images.reshape((60000, 28*28))\n",
        "train_images = train_images.astype('float32')/255\n",
        "test_images = test_images.reshape((10000, 28*28))\n",
        "test_images = test_images.astype('float32')/255"
      ],
      "execution_count": 0,
      "outputs": []
    },
    {
      "metadata": {
        "id": "UTUfyC4PdhUC",
        "colab_type": "text"
      },
      "cell_type": "markdown",
      "source": [
        "<font color='red'>其实在老师给的例子里也没有这么麻烦，直接train_images=train_images/255.0，也没有把labels变成categorical。但这里不行，可能是因为那里直接从tf.keras调用？看看后面再说</font>"
      ]
    },
    {
      "metadata": {
        "id": "ymtK3d4veU_6",
        "colab_type": "code",
        "colab": {}
      },
      "cell_type": "code",
      "source": [
        "from keras.utils import to_categorical\n",
        "train_labels = to_categorical(train_labels)\n",
        "test_labels = to_categorical(test_labels)"
      ],
      "execution_count": 0,
      "outputs": []
    },
    {
      "metadata": {
        "id": "xWL88EIheflO",
        "colab_type": "text"
      },
      "cell_type": "markdown",
      "source": [
        "### Step 5. Fit data to model"
      ]
    },
    {
      "metadata": {
        "id": "jSAEUaobdv7F",
        "colab_type": "code",
        "colab": {
          "base_uri": "https://localhost:8080/",
          "height": 275
        },
        "outputId": "f0890101-f7b1-44d8-99e3-562486ec1b2f"
      },
      "cell_type": "code",
      "source": [
        "network.fit(train_images, train_labels, epochs=5, batch_size=128)"
      ],
      "execution_count": 10,
      "outputs": [
        {
          "output_type": "stream",
          "text": [
            "WARNING:tensorflow:From /usr/local/lib/python3.6/dist-packages/tensorflow/python/ops/math_ops.py:3066: to_int32 (from tensorflow.python.ops.math_ops) is deprecated and will be removed in a future version.\n",
            "Instructions for updating:\n",
            "Use tf.cast instead.\n",
            "Epoch 1/5\n",
            "60000/60000 [==============================] - 6s 98us/step - loss: 0.2530 - acc: 0.9269\n",
            "Epoch 2/5\n",
            "60000/60000 [==============================] - 5s 86us/step - loss: 0.1024 - acc: 0.9694\n",
            "Epoch 3/5\n",
            "60000/60000 [==============================] - 5s 86us/step - loss: 0.0676 - acc: 0.9797\n",
            "Epoch 4/5\n",
            "60000/60000 [==============================] - 5s 86us/step - loss: 0.0492 - acc: 0.9855\n",
            "Epoch 5/5\n",
            "60000/60000 [==============================] - 5s 88us/step - loss: 0.0377 - acc: 0.9882\n"
          ],
          "name": "stdout"
        },
        {
          "output_type": "execute_result",
          "data": {
            "text/plain": [
              "<keras.callbacks.History at 0x7f28c1541e48>"
            ]
          },
          "metadata": {
            "tags": []
          },
          "execution_count": 10
        }
      ]
    },
    {
      "metadata": {
        "id": "7dUORSxQeix-",
        "colab_type": "text"
      },
      "cell_type": "markdown",
      "source": [
        "上面给出了training中的两个数值： **loss** & **accuracy**."
      ]
    },
    {
      "metadata": {
        "id": "kCjESRVee1Kk",
        "colab_type": "text"
      },
      "cell_type": "markdown",
      "source": [
        "### Step 6. Test fitted model"
      ]
    },
    {
      "metadata": {
        "id": "qzZrPNFle5Cy",
        "colab_type": "code",
        "colab": {
          "base_uri": "https://localhost:8080/",
          "height": 51
        },
        "outputId": "8f8dd6b3-e24b-49b5-c162-53896648e73d"
      },
      "cell_type": "code",
      "source": [
        "test_loss, test_acc = network.evaluate(test_images, test_labels)\n",
        "print(test_loss, test_acc)"
      ],
      "execution_count": 12,
      "outputs": [
        {
          "output_type": "stream",
          "text": [
            "10000/10000 [==============================] - 1s 53us/step\n",
            "0.06998087865991984 0.9781\n"
          ],
          "name": "stdout"
        }
      ]
    },
    {
      "metadata": {
        "id": "7vEUD5odfDO-",
        "colab_type": "text"
      },
      "cell_type": "markdown",
      "source": [
        "## 2.2. Data representations for neural networks"
      ]
    },
    {
      "metadata": {
        "id": "8kgXmcDJfSKS",
        "colab_type": "text"
      },
      "cell_type": "markdown",
      "source": [
        "1. 讲了tensor的定义，ndim等等。\n",
        "\n",
        "2. batch。把数据分成一部分一部分的去train. 按第一个轴（对应sample 编号）划分，所以first axis (axis 0) is called the batch axis or batch dimension\n",
        "\n",
        "3. 常见的data tensors:\n",
        "> * Vector data: 2D tensors (samples, features)\n",
        "> * Timeseries data (sequence data): 3D tensors (samples, timesteps, features)\n",
        "> * Images: 4D tensors (samples, height, width, channels)或者(samples, channels, height, width)\n",
        "> * Video: 5D tensors (samples, frames, height, width, channels) 或者(samples, frames, channels, height, width)\n",
        "\n",
        "\n",
        "\n",
        "\n",
        "\n",
        "\n",
        "\n"
      ]
    },
    {
      "metadata": {
        "id": "jVh_Q-TGnkt0",
        "colab_type": "text"
      },
      "cell_type": "markdown",
      "source": [
        "## 2.3. Tensor operations"
      ]
    },
    {
      "metadata": {
        "id": "YB92muWNnqyD",
        "colab_type": "text"
      },
      "cell_type": "markdown",
      "source": [
        "1. element-wise operation\n",
        "\n",
        "2. Broadcasting. 不同shape的tensors间的操作，输出的ndim是输入中ndim更大的那个。<br>\n",
        " Broadcasting consists of two steps: <br>\n",
        "1) Axes (called broadcast axes) are added to the smaller tensor to match the ndim of the larger tensor.<br>\n",
        "2) The smaller tensor is repeated alongside these new axes to match the full shape of the larger tensor.\n",
        "\n",
        "3. Tensor dot, 也称为tensor product. 就是点乘，比如矢量间点乘为标量；矩阵点乘矢量为矢量。\n",
        "\n",
        "4. Tensor reshaping\n"
      ]
    },
    {
      "metadata": {
        "id": "PkEOt5ag7wwK",
        "colab_type": "text"
      },
      "cell_type": "markdown",
      "source": [
        "## 2.4. Gradient-based Optimization"
      ]
    }
  ]
}