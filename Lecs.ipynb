{
  "nbformat": 4,
  "nbformat_minor": 0,
  "metadata": {
    "colab": {
      "name": "Lecs.ipynb",
      "version": "0.3.2",
      "provenance": [],
      "collapsed_sections": [],
      "include_colab_link": true
    },
    "kernelspec": {
      "name": "python3",
      "display_name": "Python 3"
    }
  },
  "cells": [
    {
      "cell_type": "markdown",
      "metadata": {
        "id": "view-in-github",
        "colab_type": "text"
      },
      "source": [
        "<a href=\"https://colab.research.google.com/github/JingQian87/AppliedDL/blob/master/Lecs.ipynb\" target=\"_parent\"><img src=\"https://colab.research.google.com/assets/colab-badge.svg\" alt=\"Open In Colab\"/></a>"
      ]
    },
    {
      "metadata": {
        "id": "U2spP-LnvunG",
        "colab_type": "text"
      },
      "cell_type": "markdown",
      "source": [
        "# Reading要求：\n",
        "\n",
        "## L1: \n",
        "* DLwP: C1&2\n",
        "* DL: C1\n",
        "* Python DS Handbook\n",
        "\n",
        "## L2: \n",
        "* DLwP: C3\n",
        "* DL: 4.1,4.2,4.3,5.1,5.2\n",
        "\n",
        "## L3: \n",
        "* DLwP: C4&5\n",
        "* DL: 9\n",
        "\n",
        "## L4: \n",
        "* DL: 4.1, 4.3\n",
        "\n",
        "## L5: project相关\n",
        "\n",
        "## L6: \n",
        "* Deep Learning: 7.12 (Dropout), 8.3 (Basic Algorithms); 8.4 (Parameter Initialization Strategies); 8.5 (Algorithms with Adaptive Learning Rates)\n",
        "\n",
        "## L7:  C7"
      ]
    },
    {
      "metadata": {
        "id": "i9ZgBaKdTjMG",
        "colab_type": "text"
      },
      "cell_type": "markdown",
      "source": [
        "## L1: \n",
        "* DLwP: C1&2\n",
        "\n",
        "# DLwP C1\n",
        "## 1.1\n",
        "**Machine learning**: find useful representations of input data. 各种变形，比如linear projections, translations, nonlinear operations, etc.\n",
        "\n",
        "** Deep Learning**, 又名layered representations learning, hierarchical representations learning.\n",
        "* a multistage way to learn data representations\n",
        "* depth = \\# layers in the model\n",
        "* 每一层的weights决定了transformation 如何参数化。我们需要找到合适的weights使得input map correctly to targets.\n",
        "* 衡量方式：loss function/ objective function, compute distance between prediction & true value. 得到*loss score*.\n",
        "* Optimizer: 通过backpropogation 去调整weights, 从而降低loss score.\n",
        "\n",
        "\n",
        "\n",
        "\n"
      ]
    },
    {
      "metadata": {
        "id": "D5TkAWPSXbBC",
        "colab_type": "text"
      },
      "cell_type": "markdown",
      "source": [
        "## 1.2. Brief history of ML\n",
        "1. Probabilistic Modeling. \n",
        "Eg. Naive Bayes, Logistic regression.\n",
        "\n",
        "2. Kernel Methods.\n",
        "Eg: SVM\n",
        "\n",
        "3. Decision Tree. Random Forest. Gradient Boosting Machines-> 最好的适合nonperceptual data的算法\n",
        "\n",
        "DL优点：不用烦feature engineering.\n",
        "\n",
        "\n",
        "\n",
        "\n"
      ]
    },
    {
      "metadata": {
        "id": "UDCsvdUszEA4",
        "colab_type": "text"
      },
      "cell_type": "markdown",
      "source": [
        "\n",
        "# DLwP C2"
      ]
    },
    {
      "metadata": {
        "id": "SzBTetHKvfWP",
        "colab_type": "code",
        "colab": {}
      },
      "cell_type": "code",
      "source": [
        "\n"
      ],
      "execution_count": 0,
      "outputs": []
    },
    {
      "metadata": {
        "id": "Iz1qob6Q06ZX",
        "colab_type": "code",
        "colab": {}
      },
      "cell_type": "code",
      "source": [
        ""
      ],
      "execution_count": 0,
      "outputs": []
    }
  ]
}