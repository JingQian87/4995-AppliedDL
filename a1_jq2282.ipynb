{
  "nbformat": 4,
  "nbformat_minor": 0,
  "metadata": {
    "colab": {
      "name": "a1-jq2282.ipynb",
      "version": "0.3.2",
      "provenance": [],
      "collapsed_sections": []
    },
    "kernelspec": {
      "name": "python3",
      "display_name": "Python 3"
    }
  },
  "cells": [
    {
      "metadata": {
        "id": "NsQtC-G2_15M",
        "colab_type": "code",
        "colab": {}
      },
      "cell_type": "code",
      "source": [
        "import tensorflow as tf\n",
        "import numpy as np\n",
        "from tensorflow.keras.datasets import mnist\n",
        "from tensorflow.keras.layers import Dense, Flatten\n",
        "from tensorflow.keras.models import Sequential\n",
        "from tensorflow.keras import Model\n",
        "from google.colab import files\n",
        "from keras.utils import plot_model\n",
        "import matplotlib.pyplot as plt\n",
        "mnist = tf.keras.datasets.mnist"
      ],
      "execution_count": 0,
      "outputs": []
    },
    {
      "metadata": {
        "id": "cK80sWOe27j3",
        "colab_type": "text"
      },
      "cell_type": "markdown",
      "source": [
        "# Part 1 Keras Sequential API\n",
        "## 1. Linear model\n",
        "Implement and train a linear model to classify this dataset. Evaluate it by producing a plot that compares the training and validation accuracy. Include this plot with your submission."
      ]
    },
    {
      "metadata": {
        "id": "EBQGNhZZDd3Y",
        "colab_type": "code",
        "colab": {
          "base_uri": "https://localhost:8080/",
          "height": 309
        },
        "outputId": "0eefebee-29b7-4ab0-c1cf-9e41fb29b36d"
      },
      "cell_type": "code",
      "source": [
        "# Linear model to classify the dataset\n",
        "(x_train, y_train), (x_test, y_test) = mnist.load_data()\n",
        "x_train, x_test = x_train/255.0, x_test/255.0\n",
        "\n",
        "model = Sequential([\n",
        "    Flatten(input_shape=(28, 28)),\n",
        "    Dense(10, activation=tf.nn.softmax)\n",
        "])\n",
        "\n",
        "model.compile(optimizer='adam',\n",
        "             loss='sparse_categorical_crossentropy',\n",
        "             metrics=['accuracy'])\n",
        "model.summary()"
      ],
      "execution_count": 6,
      "outputs": [
        {
          "output_type": "stream",
          "text": [
            "Downloading data from https://storage.googleapis.com/tensorflow/tf-keras-datasets/mnist.npz\n",
            "11493376/11490434 [==============================] - 0s 0us/step\n",
            "WARNING:tensorflow:From /usr/local/lib/python3.6/dist-packages/tensorflow/python/ops/resource_variable_ops.py:435: colocate_with (from tensorflow.python.framework.ops) is deprecated and will be removed in a future version.\n",
            "Instructions for updating:\n",
            "Colocations handled automatically by placer.\n",
            "_________________________________________________________________\n",
            "Layer (type)                 Output Shape              Param #   \n",
            "=================================================================\n",
            "flatten (Flatten)            (None, 784)               0         \n",
            "_________________________________________________________________\n",
            "dense (Dense)                (None, 10)                7850      \n",
            "=================================================================\n",
            "Total params: 7,850\n",
            "Trainable params: 7,850\n",
            "Non-trainable params: 0\n",
            "_________________________________________________________________\n"
          ],
          "name": "stdout"
        }
      ]
    },
    {
      "metadata": {
        "id": "FlDgJKTmyeBj",
        "colab_type": "code",
        "colab": {
          "base_uri": "https://localhost:8080/",
          "height": 224
        },
        "outputId": "07ce21ee-e9ea-4fc6-db32-10a42db05d46"
      },
      "cell_type": "code",
      "source": [
        "history = model.fit(x_train, y_train, validation_data=(x_test, y_test), epochs=5)"
      ],
      "execution_count": 7,
      "outputs": [
        {
          "output_type": "stream",
          "text": [
            "Train on 60000 samples, validate on 10000 samples\n",
            "Epoch 1/5\n",
            "60000/60000 [==============================] - 4s 62us/sample - loss: 0.4673 - acc: 0.8777 - val_loss: 0.3115 - val_acc: 0.9156\n",
            "Epoch 2/5\n",
            "60000/60000 [==============================] - 3s 52us/sample - loss: 0.3042 - acc: 0.9154 - val_loss: 0.2845 - val_acc: 0.9198\n",
            "Epoch 3/5\n",
            "60000/60000 [==============================] - 3s 52us/sample - loss: 0.2833 - acc: 0.9213 - val_loss: 0.2744 - val_acc: 0.9233\n",
            "Epoch 4/5\n",
            "60000/60000 [==============================] - 3s 51us/sample - loss: 0.2730 - acc: 0.9237 - val_loss: 0.2756 - val_acc: 0.9225\n",
            "Epoch 5/5\n",
            "60000/60000 [==============================] - 3s 51us/sample - loss: 0.2665 - acc: 0.9255 - val_loss: 0.2711 - val_acc: 0.9246\n"
          ],
          "name": "stdout"
        }
      ]
    },
    {
      "metadata": {
        "id": "bNC4lcrfyeE6",
        "colab_type": "code",
        "colab": {
          "base_uri": "https://localhost:8080/",
          "height": 393
        },
        "outputId": "e476679c-9e08-44b5-fe7f-e16064861069"
      },
      "cell_type": "code",
      "source": [
        "# The history object contains results on the training and test\n",
        "# sets for each epoch\n",
        "acc = history.history['acc']\n",
        "val_acc = history.history['val_acc']\n",
        "loss = history.history['loss']\n",
        "val_loss = history.history['val_loss']\n",
        "\n",
        "# Get the number of epochs\n",
        "epochs = range(len(acc))\n",
        "\n",
        "plt.title('Training and validation accuracy')\n",
        "plt.plot(epochs, acc, color='blue', label='Train')\n",
        "plt.plot(epochs, val_acc, color='orange', label='Val')\n",
        "plt.xlabel('Epoch')\n",
        "plt.ylabel('Accuracy')\n",
        "plt.legend()"
      ],
      "execution_count": 10,
      "outputs": [
        {
          "output_type": "execute_result",
          "data": {
            "text/plain": [
              "<matplotlib.legend.Legend at 0x7f2085f0a7f0>"
            ]
          },
          "metadata": {
            "tags": []
          },
          "execution_count": 10
        },
        {
          "output_type": "display_data",
          "data": {
            "image/png": "[encoded data removed]",
            "text/plain": [
              "<Figure size 576x396 with 1 Axes>"
            ]
          },
          "metadata": {
            "tags": []
          }
        }
      ]
    },
    {
      "metadata": {
        "id": "DIkFl7e83FiY",
        "colab_type": "text"
      },
      "cell_type": "markdown",
      "source": [
        "## 2. Deep model\n",
        "Implement and train a deep neural network to classify this dataset. No need to produce plots for this part, just try to get the validation accuracy as high as you can.\n"
      ]
    },
    {
      "metadata": {
        "id": "6qCYSkgoyeH6",
        "colab_type": "code",
        "colab": {
          "base_uri": "https://localhost:8080/",
          "height": 224
        },
        "outputId": "2927018a-dbd1-4d80-fca5-af4ac6f84689"
      },
      "cell_type": "code",
      "source": [
        "model2 = Sequential([\n",
        "  Flatten(),\n",
        "  Dense(256, 'relu'),\n",
        "  Dense(128, 'relu'),\n",
        "  Dense(10, 'softmax')\n",
        "])\n",
        "\n",
        "model2.compile(optimizer='adam',\n",
        "              loss='sparse_categorical_crossentropy',\n",
        "              metrics=['accuracy'])\n",
        "\n",
        "history = model2.fit(x_train, y_train, validation_data=(x_test, y_test), epochs=5)"
      ],
      "execution_count": 11,
      "outputs": [
        {
          "output_type": "stream",
          "text": [
            "Train on 60000 samples, validate on 10000 samples\n",
            "Epoch 1/5\n",
            "60000/60000 [==============================] - 11s 184us/sample - loss: 0.2058 - acc: 0.9384 - val_loss: 0.1055 - val_acc: 0.9670\n",
            "Epoch 2/5\n",
            "60000/60000 [==============================] - 11s 178us/sample - loss: 0.0876 - acc: 0.9733 - val_loss: 0.0866 - val_acc: 0.9737\n",
            "Epoch 3/5\n",
            "60000/60000 [==============================] - 11s 178us/sample - loss: 0.0627 - acc: 0.9807 - val_loss: 0.0706 - val_acc: 0.9780\n",
            "Epoch 4/5\n",
            "60000/60000 [==============================] - 11s 180us/sample - loss: 0.0445 - acc: 0.9859 - val_loss: 0.0791 - val_acc: 0.9756\n",
            "Epoch 5/5\n",
            "60000/60000 [==============================] - 11s 177us/sample - loss: 0.0344 - acc: 0.9886 - val_loss: 0.0795 - val_acc: 0.9768\n"
          ],
          "name": "stdout"
        }
      ]
    },
    {
      "metadata": {
        "id": "ksH7ynupyg0y",
        "colab_type": "text"
      },
      "cell_type": "markdown",
      "source": [
        "## 3. Plot 2 models\n",
        "Produce a diagram that visualizes your linear and deep models using ​plot_model​. You can find a complete example of how to use plot model ​here​. Include these plots with your submission."
      ]
    },
    {
      "metadata": {
        "id": "kgtWLxmzyeLD",
        "colab_type": "code",
        "colab": {
          "base_uri": "https://localhost:8080/",
          "height": 51
        },
        "outputId": "4e6fb21a-5b0c-4c64-cb12-94d04be6c134"
      },
      "cell_type": "code",
      "source": [
        "plot_model(model, show_shapes=True, to_file='linearModel.png')\n",
        "plt.figure(dpi=100)\n",
        "files.download('linearModel.png')\n",
        "plot_model(model2, show_shapes=True, to_file='deepModel.png')\n",
        "plt.figure(dpi=100)\n",
        "files.download('deepModel.png')"
      ],
      "execution_count": 15,
      "outputs": [
        {
          "output_type": "display_data",
          "data": {
            "text/plain": [
              "<Figure size 800x550 with 0 Axes>"
            ]
          },
          "metadata": {
            "tags": []
          }
        },
        {
          "output_type": "display_data",
          "data": {
            "text/plain": [
              "<Figure size 800x550 with 0 Axes>"
            ]
          },
          "metadata": {
            "tags": []
          }
        }
      ]
    },
    {
      "metadata": {
        "id": "27BwytZmynLD",
        "colab_type": "text"
      },
      "cell_type": "markdown",
      "source": [
        "## 4. Confusion matrix\n",
        "Produce a confusion matrix for one of your models. You can reuse the sklearn ​code​ (it’s great). You’ll need to use your model to make predictions on the images in the test set, and compare them with the correct answer. Include the confusion matrix in your submission.\n",
        "\n",
        "*Evaluate classification quality with diagonal elements representing right predictions and off-diagonal elements representing mislabled."
      ]
    },
    {
      "metadata": {
        "id": "2QSTomx568-l",
        "colab_type": "code",
        "colab": {
          "base_uri": "https://localhost:8080/",
          "height": 187
        },
        "outputId": "9346aa80-b24a-4b03-c18f-d9c8b97c5e5a"
      },
      "cell_type": "code",
      "source": [
        "# Compute confusion matrix for linear model\n",
        "from sklearn.metrics import confusion_matrix\n",
        "linear_pred = model.predict(x_test)\n",
        "y_linear = []\n",
        "for i in range(len(y_test)):\n",
        "  y_linear.append(np.argmax(linear_pred[i]))\n",
        "cmatrix_linear = confusion_matrix(y_test, y_linear)\n",
        "cmatrix_linear"
      ],
      "execution_count": 23,
      "outputs": [
        {
          "output_type": "execute_result",
          "data": {
            "text/plain": [
              "array([[ 968,    0,    1,    1,    0,    4,    2,    3,    1,    0],\n",
              "       [   0, 1118,    3,    2,    0,    1,    4,    2,    5,    0],\n",
              "       [  10,   12,  915,   16,    8,    4,   13,    8,   41,    5],\n",
              "       [   5,    0,   21,  910,    0,   25,    2,   10,   26,   11],\n",
              "       [   1,    1,    3,    1,  907,    0,   11,    3,    7,   48],\n",
              "       [  13,    3,    2,   29,   12,  767,   14,    8,   35,    9],\n",
              "       [  16,    3,    7,    1,    8,   12,  907,    2,    2,    0],\n",
              "       [   2,    6,   22,    5,    9,    0,    0,  939,    1,   44],\n",
              "       [  10,   11,    5,   13,    9,   20,    8,   10,  871,   17],\n",
              "       [  11,    7,    1,    8,   16,    3,    0,   12,    7,  944]])"
            ]
          },
          "metadata": {
            "tags": []
          },
          "execution_count": 23
        }
      ]
    },
    {
      "metadata": {
        "id": "70M1UxRF4E-4",
        "colab_type": "text"
      },
      "cell_type": "markdown",
      "source": [
        "# Part 2 Keras Subclassing API\n",
        "## 5. Linear model\n",
        "Implement and train a linear model to classify this dataset. Evaluate it by producing a plot that compares the training and validation accuracy. Include this plot with your submission."
      ]
    },
    {
      "metadata": {
        "id": "yFu4y8KBCgwW",
        "colab_type": "code",
        "colab": {
          "base_uri": "https://localhost:8080/",
          "height": 34
        },
        "outputId": "29de552e-4f3f-43f8-9196-9aca4af7a91b"
      },
      "cell_type": "code",
      "source": [
        "print(\"You have version\", tf.__version__)\n",
        "assert tf.__version__ >= \"2.0\""
      ],
      "execution_count": 11,
      "outputs": [
        {
          "output_type": "stream",
          "text": [
            "You have version 2.0.0-dev20190212\n"
          ],
          "name": "stdout"
        }
      ]
    },
    {
      "metadata": {
        "id": "yDcE-ulgC--u",
        "colab_type": "code",
        "colab": {}
      },
      "cell_type": "code",
      "source": [
        "# After set version 2, run the first block again for import.\n",
        "(x_train, y_train), (x_test, y_test) = mnist.load_data()\n",
        "\n",
        "x_train = x_train.astype('float32')\n",
        "x_test = x_test.astype('float32')\n",
        "\n",
        "x_train = x_train / 255\n",
        "x_test = x_test / 255\n",
        "\n",
        "# Batch and shuffle data\n",
        "BATCH_SIZE = 128\n",
        "BUFFER_SIZE = len(x_train)\n",
        "\n",
        "mnist_train = tf.data.Dataset.from_tensor_slices((x_train, y_train)).shuffle(BUFFER_SIZE).batch(BATCH_SIZE)\n",
        "mnist_test = tf.data.Dataset.from_tensor_slices((x_test, y_test)).batch(BATCH_SIZE)"
      ],
      "execution_count": 0,
      "outputs": []
    },
    {
      "metadata": {
        "id": "6EHTNf0A69f0",
        "colab_type": "code",
        "colab": {
          "base_uri": "https://localhost:8080/",
          "height": 102
        },
        "outputId": "4ed4b1a6-7b67-4626-8c54-a76c3fbe9d94"
      },
      "cell_type": "code",
      "source": [
        "class LinearModel(Model):\n",
        "  def __init__(self):\n",
        "    super(LinearModel, self).__init__()\n",
        "    self.flatten = Flatten()\n",
        "    #self.d1 = Dense(128, activation='relu')\n",
        "    self.d2 = Dense(10, activation='softmax')\n",
        "\n",
        "  def call(self, x):\n",
        "    x = self.flatten(x)\n",
        "    #x = self.d1(x)\n",
        "    return self.d2(x)\n",
        "  \n",
        "model = LinearModel()\n",
        "loss_function = tf.keras.losses.SparseCategoricalCrossentropy(from_logits=False)\n",
        "optimizer = tf.keras.optimizers.Adam()\n",
        "\n",
        "train_loss_metric = tf.keras.metrics.Mean(name='train_loss')\n",
        "test_loss_metric = tf.keras.metrics.Mean(name='test_loss')\n",
        "\n",
        "train_accuracy_metric = tf.keras.metrics.SparseCategoricalAccuracy(name='train_accuracy')\n",
        "test_accuracy_metric = tf.keras.metrics.SparseCategoricalAccuracy(name='test_accuracy')\n",
        "\n",
        "\n",
        "def train_step(images, labels):\n",
        "  with tf.GradientTape() as tape:    \n",
        "    # Forward pass\n",
        "    predictions = model(images)\n",
        "    train_loss = loss_function(y_true=labels, y_pred=predictions)\n",
        "  \n",
        "  # Backward pass\n",
        "  gradients = tape.gradient(train_loss, model.trainable_variables)\n",
        "  optimizer.apply_gradients(zip(gradients, model.trainable_variables))\n",
        "\n",
        "  # Record results\n",
        "  train_loss_metric(train_loss)\n",
        "  train_accuracy_metric(labels, predictions)\n",
        "  \n",
        "\n",
        "def test_step(images, labels):\n",
        "  predictions = model(images)\n",
        "  test_loss = loss_function(y_true=labels, y_pred=predictions)\n",
        "  \n",
        "  # Record results\n",
        "  test_loss_metric(test_loss)\n",
        "  test_accuracy_metric(labels, predictions)\n",
        "  \n",
        "\n",
        "EPOCHS = 5\n",
        "acc = []\n",
        "val_acc = []\n",
        "\n",
        "for epoch in range(EPOCHS):\n",
        "  for images, labels in mnist_train:\n",
        "    train_step(images, labels)\n",
        "  \n",
        "  for test_images, test_labels in mnist_test:\n",
        "    test_step(test_images, test_labels)\n",
        "  \n",
        "  template = 'Epoch {}, Loss: {:.4f}, Accuracy: {:.2f}, Test loss: {:.4f}, Test accuracy: {:.2f}'\n",
        "  print (template.format(epoch +1, \n",
        "                         train_loss_metric.result(), \n",
        "                         train_accuracy_metric.result() * 100, \n",
        "                         test_loss_metric.result(), \n",
        "                         test_accuracy_metric.result() * 100))\n",
        "  acc.append(train_accuracy_metric.result())\n",
        "  val_acc.append(test_accuracy_metric.result())"
      ],
      "execution_count": 18,
      "outputs": [
        {
          "output_type": "stream",
          "text": [
            "Epoch 1, Loss: 0.6703, Accuracy: 83.62, Test loss: 0.3792, Test accuracy: 90.19\n",
            "Epoch 2, Loss: 0.5155, Accuracy: 86.93, Test loss: 0.3480, Test accuracy: 90.71\n",
            "Epoch 3, Loss: 0.4500, Accuracy: 88.36, Test loss: 0.3301, Test accuracy: 91.04\n",
            "Epoch 4, Loss: 0.4124, Accuracy: 89.18, Test loss: 0.3184, Test accuracy: 91.28\n",
            "Epoch 5, Loss: 0.3874, Accuracy: 89.74, Test loss: 0.3100, Test accuracy: 91.47\n"
          ],
          "name": "stdout"
        }
      ]
    },
    {
      "metadata": {
        "id": "n7n1uguj69jD",
        "colab_type": "code",
        "colab": {
          "base_uri": "https://localhost:8080/",
          "height": 393
        },
        "outputId": "04ab81bd-8655-4a5f-c11d-068188123048"
      },
      "cell_type": "code",
      "source": [
        "# The history object contains results on the training and test\n",
        "# sets for each epoch\n",
        "\n",
        "# Get the number of epochs\n",
        "epochs = range(EPOCHS)\n",
        "\n",
        "plt.title('Training and validation accuracy')\n",
        "plt.plot(epochs, acc, color='blue', label='Train')\n",
        "plt.plot(epochs, val_acc, color='orange', label='Val')\n",
        "plt.xlabel('Epoch')\n",
        "plt.ylabel('Accuracy')\n",
        "plt.legend()"
      ],
      "execution_count": 19,
      "outputs": [
        {
          "output_type": "execute_result",
          "data": {
            "text/plain": [
              "<matplotlib.legend.Legend at 0x7fc7630e54a8>"
            ]
          },
          "metadata": {
            "tags": []
          },
          "execution_count": 19
        },
        {
          "output_type": "display_data",
          "data": {
            "image/png": "[encoded data removed]",
            "text/plain": [
              "<Figure size 576x396 with 1 Axes>"
            ]
          },
          "metadata": {
            "tags": []
          }
        }
      ]
    },
    {
      "metadata": {
        "id": "ZH7O26xjBKp8",
        "colab_type": "text"
      },
      "cell_type": "markdown",
      "source": [
        "## 6. Deep model\n",
        "Implement and train a deep model to classify this dataset. No need to produce plots for this part, just try to get the validation accuracy as high as you can."
      ]
    },
    {
      "metadata": {
        "id": "PDmpmSvAVeuB",
        "colab_type": "code",
        "colab": {
          "base_uri": "https://localhost:8080/",
          "height": 102
        },
        "outputId": "198122e6-f2c7-4c48-edb2-d0069cb445d2"
      },
      "cell_type": "code",
      "source": [
        "# From example\n",
        "class MyModel(Model):\n",
        "  def __init__(self):\n",
        "    super(MyModel, self).__init__()\n",
        "    self.flatten = Flatten()\n",
        "    self.d1 = Dense(128, activation='relu')\n",
        "    self.d2 = Dense(10, activation='softmax')\n",
        "\n",
        "  def call(self, x):\n",
        "    x = self.flatten(x)\n",
        "    x = self.d1(x)\n",
        "    return self.d2(x)\n",
        "  \n",
        "model = MyModel()\n",
        "loss_function = tf.keras.losses.SparseCategoricalCrossentropy(from_logits=False)\n",
        "optimizer = tf.keras.optimizers.Adam()\n",
        "\n",
        "train_loss_metric = tf.keras.metrics.Mean(name='train_loss')\n",
        "test_loss_metric = tf.keras.metrics.Mean(name='test_loss')\n",
        "\n",
        "train_accuracy_metric = tf.keras.metrics.SparseCategoricalAccuracy(name='train_accuracy')\n",
        "test_accuracy_metric = tf.keras.metrics.SparseCategoricalAccuracy(name='test_accuracy')\n",
        "\n",
        "\n",
        "def train_step(images, labels):\n",
        "  with tf.GradientTape() as tape:    \n",
        "    # Forward pass\n",
        "    predictions = model(images)\n",
        "    train_loss = loss_function(y_true=labels, y_pred=predictions)\n",
        "  \n",
        "  # Backward pass\n",
        "  gradients = tape.gradient(train_loss, model.trainable_variables)\n",
        "  optimizer.apply_gradients(zip(gradients, model.trainable_variables))\n",
        "\n",
        "  # Record results\n",
        "  train_loss_metric(train_loss)\n",
        "  train_accuracy_metric(labels, predictions)\n",
        "  \n",
        "\n",
        "def test_step(images, labels):\n",
        "  predictions = model(images)\n",
        "  test_loss = loss_function(y_true=labels, y_pred=predictions)\n",
        "  \n",
        "  # Record results\n",
        "  test_loss_metric(test_loss)\n",
        "  test_accuracy_metric(labels, predictions)\n",
        "  \n",
        "\n",
        "EPOCHS = 5\n",
        "# acc = []\n",
        "# val_acc = []\n",
        "\n",
        "for epoch in range(EPOCHS):\n",
        "  for images, labels in mnist_train:\n",
        "    train_step(images, labels)\n",
        "  \n",
        "  for test_images, test_labels in mnist_test:\n",
        "    test_step(test_images, test_labels)\n",
        "  \n",
        "  template = 'Epoch {}, Loss: {:.4f}, Accuracy: {:.2f}, Test loss: {:.4f}, Test accuracy: {:.2f}'\n",
        "  print (template.format(epoch +1, \n",
        "                         train_loss_metric.result(), \n",
        "                         train_accuracy_metric.result() * 100, \n",
        "                         test_loss_metric.result(), \n",
        "                         test_accuracy_metric.result() * 100))\n",
        "#   acc.append(train_accuracy_metric.result())\n",
        "#   val_acc.append(test_accuracy_metric.result())"
      ],
      "execution_count": 20,
      "outputs": [
        {
          "output_type": "stream",
          "text": [
            "Epoch 1, Loss: 0.3511, Accuracy: 90.54, Test loss: 0.1838, Test accuracy: 94.83\n",
            "Epoch 2, Loss: 0.2560, Accuracy: 93.01, Test loss: 0.1570, Test accuracy: 95.49\n",
            "Epoch 3, Loss: 0.2087, Accuracy: 94.27, Test loss: 0.1397, Test accuracy: 95.94\n",
            "Epoch 4, Loss: 0.1783, Accuracy: 95.08, Test loss: 0.1275, Test accuracy: 96.25\n",
            "Epoch 5, Loss: 0.1567, Accuracy: 95.67, Test loss: 0.1186, Test accuracy: 96.48\n"
          ],
          "name": "stdout"
        }
      ]
    },
    {
      "metadata": {
        "id": "ACYYUDPnVexu",
        "colab_type": "code",
        "colab": {
          "base_uri": "https://localhost:8080/",
          "height": 111
        },
        "outputId": "23b646ac-9f8f-430c-9b22-3c7592f27e9a"
      },
      "cell_type": "code",
      "source": [
        "# show the deep model\n",
        "import matplotlib.image as mpimg\n",
        "plot_model(model, show_shapes=True,to_file='test.png')\n",
        "plt.figure(dpi=100)\n",
        "plt.axis('off')\n",
        "imgplot=plt.imshow(mpimg.imread('test.png'))\n",
        "plt.show()"
      ],
      "execution_count": 28,
      "outputs": [
        {
          "output_type": "display_data",
          "data": {
            "image/png": "[encoded data removed]",
            "text/plain": [
              "<Figure size 800x550 with 1 Axes>"
            ]
          },
          "metadata": {
            "tags": []
          }
        }
      ]
    },
    {
      "metadata": {
        "id": "hI7e4zvLVe0-",
        "colab_type": "code",
        "colab": {}
      },
      "cell_type": "code",
      "source": [
        ""
      ],
      "execution_count": 0,
      "outputs": []
    },
    {
      "metadata": {
        "id": "IUt8F2CKVe4M",
        "colab_type": "code",
        "colab": {}
      },
      "cell_type": "code",
      "source": [
        ""
      ],
      "execution_count": 0,
      "outputs": []
    },
    {
      "metadata": {
        "id": "5lJmIcL1Ve7M",
        "colab_type": "code",
        "colab": {}
      },
      "cell_type": "code",
      "source": [
        ""
      ],
      "execution_count": 0,
      "outputs": []
    },
    {
      "metadata": {
        "id": "IVDzAxcncVNM",
        "colab_type": "code",
        "colab": {}
      },
      "cell_type": "code",
      "source": [
        ""
      ],
      "execution_count": 0,
      "outputs": []
    },
    {
      "metadata": {
        "id": "zi5EWRLuddqz",
        "colab_type": "code",
        "colab": {}
      },
      "cell_type": "code",
      "source": [
        ""
      ],
      "execution_count": 0,
      "outputs": []
    },
    {
      "metadata": {
        "id": "WZG_sJBKdU1_",
        "colab_type": "code",
        "colab": {}
      },
      "cell_type": "code",
      "source": [
        ""
      ],
      "execution_count": 0,
      "outputs": []
    },
    {
      "metadata": {
        "id": "Fewn98hqdNlp",
        "colab_type": "code",
        "colab": {}
      },
      "cell_type": "code",
      "source": [
        ""
      ],
      "execution_count": 0,
      "outputs": []
    },
    {
      "metadata": {
        "id": "-CqCe63edNpk",
        "colab_type": "code",
        "colab": {}
      },
      "cell_type": "code",
      "source": [
        ""
      ],
      "execution_count": 0,
      "outputs": []
    }
  ]
}