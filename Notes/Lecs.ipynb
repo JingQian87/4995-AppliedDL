{
  "nbformat": 4,
  "nbformat_minor": 0,
  "metadata": {
    "colab": {
      "name": "Lecs.ipynb",
      "version": "0.3.2",
      "provenance": []
    },
    "kernelspec": {
      "name": "python3",
      "display_name": "Python 3"
    }
  },
  "cells": [
    {
      "metadata": {
        "id": "LCDH7BYFxJnQ",
        "colab_type": "text"
      },
      "cell_type": "markdown",
      "source": [
        "# Reading要求：\n",
        "​\n",
        "## L3: \n",
        "* DLwP: C4&5\n",
        "* DL: 9\n",
        "​\n",
        "## L4: \n",
        "* DL: 4.1, 4.3\n",
        "​\n",
        "## L5: project相关\n",
        "​\n",
        "## L6: \n",
        "* Deep Learning: 7.12 (Dropout), 8.3 (Basic Algorithms); 8.4 (Parameter Initialization Strategies); 8.5 (Algorithms with Adaptive Learning Rates)\n",
        "​\n",
        "## L7:  \n",
        "* DLwP: C6\n",
        "* 其它"
      ]
    },
    {
      "metadata": {
        "id": "42snUA-PxG0i",
        "colab_type": "code",
        "colab": {}
      },
      "cell_type": "code",
      "source": [
        ""
      ],
      "execution_count": 0,
      "outputs": []
    }
  ]
}