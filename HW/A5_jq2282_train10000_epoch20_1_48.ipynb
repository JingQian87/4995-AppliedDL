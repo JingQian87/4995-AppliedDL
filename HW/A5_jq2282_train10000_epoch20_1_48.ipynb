{
  "nbformat": 4,
  "nbformat_minor": 0,
  "metadata": {
    "colab": {
      "name": "A5_jq2282_train10000_epoch20_1.48.ipynb",
      "version": "0.3.2",
      "provenance": [],
      "collapsed_sections": [
        "uhk7LSRmH3H7"
      ]
    },
    "kernelspec": {
      "name": "python3",
      "display_name": "Python 3"
    },
    "accelerator": "GPU"
  },
  "cells": [
    {
      "metadata": {
        "id": "faP_TfySH12q",
        "colab_type": "text"
      },
      "cell_type": "markdown",
      "source": [
        "# Assignment 5 Machine Translation\n",
        "### Jing Qian (jq2282)"
      ]
    },
    {
      "metadata": {
        "id": "uhk7LSRmH3H7",
        "colab_type": "text"
      },
      "cell_type": "markdown",
      "source": [
        "## Step 1. Install packages and load libraries\n"
      ]
    },
    {
      "metadata": {
        "id": "TkZU21YuHt1Y",
        "colab_type": "code",
        "outputId": "bac8c14a-0442-4037-ff73-96a9217f8d7f",
        "colab": {
          "base_uri": "https://localhost:8080/",
          "height": 71
        }
      },
      "cell_type": "code",
      "source": [
        "!pip install -q tensorflow-gpu==2.0.0-alpha0\n",
        "!pip install sacrebleu # https://github.com/mjpost/sacreBLEU"
      ],
      "execution_count": 1,
      "outputs": [
        {
          "output_type": "stream",
          "text": [
            "Requirement already satisfied: sacrebleu in /usr/local/lib/python3.6/dist-packages (1.3.1)\n",
            "Requirement already satisfied: typing in /usr/local/lib/python3.6/dist-packages (from sacrebleu) (3.6.6)\n"
          ],
          "name": "stdout"
        }
      ]
    },
    {
      "metadata": {
        "id": "bIPY-Wq6H0wK",
        "colab_type": "code",
        "colab": {}
      },
      "cell_type": "code",
      "source": [
        "import numpy as np\n",
        "import re\n",
        "import sacrebleu\n",
        "import tensorflow as tf\n",
        "import time\n",
        "import unicodedata"
      ],
      "execution_count": 0,
      "outputs": []
    },
    {
      "metadata": {
        "id": "VXGdnexoH_5q",
        "colab_type": "text"
      },
      "cell_type": "markdown",
      "source": [
        "## Step 2. Load and preprocess data"
      ]
    },
    {
      "metadata": {
        "id": "Tq8ETDnxJODV",
        "colab_type": "text"
      },
      "cell_type": "markdown",
      "source": [
        "### 2.1. Load and select data"
      ]
    },
    {
      "metadata": {
        "id": "2diHj7jsIFOj",
        "colab_type": "code",
        "colab": {}
      },
      "cell_type": "code",
      "source": [
        "ntrain = 10000\n",
        "ntest = 1000\n",
        "nall = ntrain + ntest\n",
        "nepoch = 20"
      ],
      "execution_count": 0,
      "outputs": []
    },
    {
      "metadata": {
        "id": "p7LoioJgIO97",
        "colab_type": "code",
        "outputId": "c8077bd7-dc9a-4bb7-d2d0-8a5aa88ab1e1",
        "colab": {
          "base_uri": "https://localhost:8080/",
          "height": 54
        }
      },
      "cell_type": "code",
      "source": [
        "from google.colab import drive\n",
        "drive.mount('/content/gdrive')"
      ],
      "execution_count": 4,
      "outputs": [
        {
          "output_type": "stream",
          "text": [
            "Drive already mounted at /content/gdrive; to attempt to forcibly remount, call drive.mount(\"/content/gdrive\", force_remount=True).\n"
          ],
          "name": "stdout"
        }
      ]
    },
    {
      "metadata": {
        "id": "SLRG0JchISlU",
        "colab_type": "code",
        "colab": {}
      },
      "cell_type": "code",
      "source": [
        "def load(fname):\n",
        "  # Load the file using std open\n",
        "  f = open(fname, 'r')\n",
        "  text = []\n",
        "  for line in f.readlines():\n",
        "    text.append(line.replace('\\n','').split('\\t'))\n",
        "    \n",
        "  f.close()\n",
        "  return text\n",
        "\n",
        "data = load('/content/gdrive/My Drive/spa-eng/spa.txt')"
      ],
      "execution_count": 0,
      "outputs": []
    },
    {
      "metadata": {
        "id": "sBcVdFi2IUaO",
        "colab_type": "code",
        "outputId": "98aaf137-5c63-4d85-f043-2e7d796c4955",
        "colab": {
          "base_uri": "https://localhost:8080/",
          "height": 71
        }
      },
      "cell_type": "code",
      "source": [
        "print(data[10:15])\n",
        "print(np.shape(data))"
      ],
      "execution_count": 6,
      "outputs": [
        {
          "output_type": "stream",
          "text": [
            "[['Fire!', '¡Disparad!'], ['Help!', '¡Ayuda!'], ['Help!', '¡Socorro! ¡Auxilio!'], ['Help!', '¡Auxilio!'], ['Jump!', '¡Salta!']]\n",
            "(118964, 2)\n"
          ],
          "name": "stdout"
        }
      ]
    },
    {
      "metadata": {
        "id": "mGNOKNclIYC-",
        "colab_type": "code",
        "outputId": "ac4242fa-f0e5-4b80-b0e8-74a86e6534ab",
        "colab": {
          "base_uri": "https://localhost:8080/",
          "height": 34
        }
      },
      "cell_type": "code",
      "source": [
        "#np.random.seed(10)\n",
        "shuffled_data = np.random.permutation(data)\n",
        "selected_id = np.random.randint(len(data), size = nall)\n",
        "train_data = shuffled_data[selected_id[:ntrain], :]\n",
        "print(np.shape(train_data), np.shape(shuffled_data))"
      ],
      "execution_count": 7,
      "outputs": [
        {
          "output_type": "stream",
          "text": [
            "(10000, 2) (118964, 2)\n"
          ],
          "name": "stdout"
        }
      ]
    },
    {
      "metadata": {
        "id": "skj36OdHJR-7",
        "colab_type": "text"
      },
      "cell_type": "markdown",
      "source": [
        "### 2.2. Preprocessing"
      ]
    },
    {
      "metadata": {
        "id": "Ndtl8GZZJUbZ",
        "colab_type": "code",
        "colab": {}
      },
      "cell_type": "code",
      "source": [
        "def preprocess(s):\n",
        "  # for details, see https://www.tensorflow.org/alpha/tutorials/sequences/nmt_with_attention\n",
        "  s = ''.join(c for c in unicodedata.normalize('NFD', s) if unicodedata.category(c) != 'Mn')\n",
        "  s = re.sub(r\"([?.!,¿])\", r\" \\1 \", s)\n",
        "  s = re.sub(r'[\" \"]+', \" \", s)\n",
        "  s = re.sub(r\"[^a-zA-Z?.!,¿]+\", \" \", s)\n",
        "  s = s.strip()\n",
        "  s = '<start> ' + s + ' <end>'\n",
        "  return s"
      ],
      "execution_count": 0,
      "outputs": []
    },
    {
      "metadata": {
        "id": "XeZOk_9qJktc",
        "colab_type": "code",
        "outputId": "2b2697d1-ea0a-436c-fc1e-4f0802abd438",
        "colab": {
          "base_uri": "https://localhost:8080/",
          "height": 34
        }
      },
      "cell_type": "code",
      "source": [
        "train_data = [(preprocess(eng), preprocess(spa)) for (eng, spa) in train_data]\n",
        "print(train_data[0])\n",
        "train_eng, train_spa = list(zip(*train_data))"
      ],
      "execution_count": 9,
      "outputs": [
        {
          "output_type": "stream",
          "text": [
            "('<start> It is cold . <end>', '<start> Esta frio . <end>')\n"
          ],
          "name": "stdout"
        }
      ]
    },
    {
      "metadata": {
        "id": "8yTgCvxAKKEg",
        "colab_type": "code",
        "outputId": "ffb12c4e-427e-44b4-8995-476f1d2e73f8",
        "colab": {
          "base_uri": "https://localhost:8080/",
          "height": 51
        }
      },
      "cell_type": "code",
      "source": [
        "eng_tokenizer = tf.keras.preprocessing.text.Tokenizer(filters='')\n",
        "eng_tokenizer.fit_on_texts(train_eng)\n",
        "train_eng = eng_tokenizer.texts_to_sequences(train_eng)\n",
        "train_eng = tf.keras.preprocessing.sequence.pad_sequences(train_eng, padding='post')\n",
        "print(train_eng[0])"
      ],
      "execution_count": 10,
      "outputs": [
        {
          "output_type": "stream",
          "text": [
            "[  1  14  12 271   3   2   0   0   0   0   0   0   0   0   0   0   0   0\n",
            "   0   0   0   0   0   0   0   0   0   0   0   0   0   0]\n"
          ],
          "name": "stdout"
        }
      ]
    },
    {
      "metadata": {
        "id": "a5JpJftKK8gY",
        "colab_type": "code",
        "outputId": "7a3f13d7-1dfe-4eb8-8812-9da8fcdaaeb9",
        "colab": {
          "base_uri": "https://localhost:8080/",
          "height": 51
        }
      },
      "cell_type": "code",
      "source": [
        "spa_tokenizer = tf.keras.preprocessing.text.Tokenizer(filters='')\n",
        "spa_tokenizer.fit_on_texts(train_spa)\n",
        "train_spa = spa_tokenizer.texts_to_sequences(train_spa)\n",
        "train_spa = tf.keras.preprocessing.sequence.pad_sequences(train_spa, padding='post')\n",
        "print(train_spa[0])"
      ],
      "execution_count": 11,
      "outputs": [
        {
          "output_type": "stream",
          "text": [
            "[  1  20 339   3   2   0   0   0   0   0   0   0   0   0   0   0   0   0\n",
            "   0   0   0   0   0   0   0   0   0   0   0   0   0   0   0   0]\n"
          ],
          "name": "stdout"
        }
      ]
    },
    {
      "metadata": {
        "id": "rs323ojHMrM_",
        "colab_type": "code",
        "colab": {}
      },
      "cell_type": "code",
      "source": [
        "eng_vocab_size = len(eng_tokenizer.word_index) + 1\n",
        "spa_vocab_size = len(spa_tokenizer.word_index) + 1"
      ],
      "execution_count": 0,
      "outputs": []
    },
    {
      "metadata": {
        "id": "h0jztFXOM6S1",
        "colab_type": "code",
        "outputId": "3374df7b-ce8c-4303-8dfd-a7122932d54c",
        "colab": {
          "base_uri": "https://localhost:8080/",
          "height": 119
        }
      },
      "cell_type": "code",
      "source": [
        "# Demonstrate the correspondence between word and code, not used in model\n",
        "def decode(encoded, tokenizer):\n",
        "  for number in encoded:\n",
        "    if number !=0:\n",
        "      print (\"%d -> %s\" % (number, tokenizer.index_word[number]))\n",
        "      \n",
        "decode(train_eng[0], eng_tokenizer)"
      ],
      "execution_count": 13,
      "outputs": [
        {
          "output_type": "stream",
          "text": [
            "1 -> <start>\n",
            "14 -> it\n",
            "12 -> is\n",
            "271 -> cold\n",
            "3 -> .\n",
            "2 -> <end>\n"
          ],
          "name": "stdout"
        }
      ]
    },
    {
      "metadata": {
        "id": "WCfXlH0AIo6f",
        "colab_type": "text"
      },
      "cell_type": "markdown",
      "source": [
        "## Step 3. Train Model 1: translate from English to Spanish\n"
      ]
    },
    {
      "metadata": {
        "id": "mq3UxYQzNNsg",
        "colab_type": "text"
      },
      "cell_type": "markdown",
      "source": [
        "### 3.1. Prepare data for model1"
      ]
    },
    {
      "metadata": {
        "id": "a0eLXu-NIoNK",
        "colab_type": "code",
        "outputId": "27cec39b-9811-425c-ca66-d8361a2f4f70",
        "colab": {
          "base_uri": "https://localhost:8080/",
          "height": 122
        }
      },
      "cell_type": "code",
      "source": [
        "# Create labels for the decoder by shifting the target sequence\n",
        "# one to the right.\n",
        "target_labels = np.zeros(train_spa.shape)\n",
        "target_labels[:,0:train_spa.shape[1] -1] = train_spa[:,1:]\n",
        "\n",
        "print(\"Target sequence\", train_spa[0])\n",
        "print(\"Target label\", target_labels[0])"
      ],
      "execution_count": 14,
      "outputs": [
        {
          "output_type": "stream",
          "text": [
            "Target sequence [  1  20 339   3   2   0   0   0   0   0   0   0   0   0   0   0   0   0\n",
            "   0   0   0   0   0   0   0   0   0   0   0   0   0   0   0   0]\n",
            "Target label [ 20. 339.   3.   2.   0.   0.   0.   0.   0.   0.   0.   0.   0.   0.\n",
            "   0.   0.   0.   0.   0.   0.   0.   0.   0.   0.   0.   0.   0.   0.\n",
            "   0.   0.   0.   0.   0.   0.]\n"
          ],
          "name": "stdout"
        }
      ]
    },
    {
      "metadata": {
        "id": "qafjzAUJN-fN",
        "colab_type": "code",
        "colab": {}
      },
      "cell_type": "code",
      "source": [
        "batch_size = 5\n",
        "dataset = tf.data.Dataset.from_tensor_slices((train_eng, train_spa, target_labels)).batch(batch_size)"
      ],
      "execution_count": 0,
      "outputs": []
    },
    {
      "metadata": {
        "id": "-QRBV9vaOJ_V",
        "colab_type": "code",
        "colab": {}
      },
      "cell_type": "code",
      "source": [
        "# Test code!\n",
        "# example_batch = next(iter(dataset))\n",
        "# source, target, taget_labels = example_batch\n",
        "# print(\"Shapes:\", source.shape, target.shape, taget_labels.shape)"
      ],
      "execution_count": 0,
      "outputs": []
    },
    {
      "metadata": {
        "id": "f95J-IkqQ6xv",
        "colab_type": "text"
      },
      "cell_type": "markdown",
      "source": [
        "### 3.2. General components for models"
      ]
    },
    {
      "metadata": {
        "id": "yCs_-y6FOPZZ",
        "colab_type": "code",
        "colab": {}
      },
      "cell_type": "code",
      "source": [
        "embedding_size = 32\n",
        "rnn_size = 64"
      ],
      "execution_count": 0,
      "outputs": []
    },
    {
      "metadata": {
        "id": "UrHuydEsOmPp",
        "colab_type": "code",
        "colab": {}
      },
      "cell_type": "code",
      "source": [
        "# Differ from example, add source_vocab_size to initialization\n",
        "class Encoder(tf.keras.Model):\n",
        "  def __init__(self, source_vocab_size):\n",
        "    super(Encoder, self).__init__()\n",
        "    \n",
        "    self.embedding = tf.keras.layers.Embedding(source_vocab_size,\n",
        "                                               embedding_size)\n",
        "    self.gru = tf.keras.layers.GRU(rnn_size, \n",
        "                                   return_sequences=True, \n",
        "                                   return_state=True)\n",
        "    \n",
        "  def call(self, x, hidden):\n",
        "    x = self.embedding(x)\n",
        "    output, state = self.gru(x, initial_state=hidden)        \n",
        "    return output, state\n",
        "  \n",
        "  def init_state(self, batch_size):\n",
        "    return tf.zeros((batch_size, rnn_size))"
      ],
      "execution_count": 0,
      "outputs": []
    },
    {
      "metadata": {
        "id": "AqWK4AHTOvBQ",
        "colab_type": "code",
        "colab": {}
      },
      "cell_type": "code",
      "source": [
        "# Test code!\n",
        "# Create a batch of one sentence\n",
        "# ex_sentence = tf.expand_dims(train_eng[0], axis=0)\n",
        "# ex_translation = tf.expand_dims(train_spa[0], axis=0)\n",
        "# ex_labels = tf.expand_dims(target_labels[0], axis=0)\n",
        "# print(ex_sentence.shape)\n"
      ],
      "execution_count": 0,
      "outputs": []
    },
    {
      "metadata": {
        "id": "TECibZsPQokh",
        "colab_type": "code",
        "colab": {}
      },
      "cell_type": "code",
      "source": [
        "# Differ from example, add target_vocab_size to initialization\n",
        "class Decoder(tf.keras.Model):\n",
        "  def __init__(self, target_vocab_size):\n",
        "    super(Decoder, self).__init__()\n",
        "    self.embedding = tf.keras.layers.Embedding(target_vocab_size, \n",
        "                                               embedding_size)\n",
        "    self.gru = tf.keras.layers.GRU(rnn_size, \n",
        "                                   return_sequences=True, \n",
        "                                   return_state=True)\n",
        "\n",
        "    self.dense = tf.keras.layers.Dense(target_vocab_size)\n",
        "\n",
        "\n",
        "  def call(self, x, hidden):\n",
        "    x = self.embedding(x)\n",
        "    output, state = self.gru(x, initial_state=hidden)\n",
        "    logits = self.dense(output)\n",
        "    return logits, state"
      ],
      "execution_count": 0,
      "outputs": []
    },
    {
      "metadata": {
        "id": "yo5xNFnJQyBw",
        "colab_type": "code",
        "colab": {}
      },
      "cell_type": "code",
      "source": [
        "crossentropy = tf.keras.losses.SparseCategoricalCrossentropy(from_logits=True)\n",
        "\n",
        "def calc_loss(targets, logits):\n",
        "  mask = tf.math.logical_not(tf.math.equal(targets, 0))\n",
        "  mask = tf.cast(mask, dtype=tf.int64)\n",
        "  return crossentropy(targets, logits, sample_weight=mask)\n",
        "\n",
        "#print(\"Loss\", calc_loss(ex_labels, decoder_output))"
      ],
      "execution_count": 0,
      "outputs": []
    },
    {
      "metadata": {
        "id": "cUM198fKQyEo",
        "colab_type": "code",
        "colab": {}
      },
      "cell_type": "code",
      "source": [
        "def translate(idx=None, flag=1):\n",
        "  \n",
        "    if idx == None: \n",
        "      idx = np.random.choice(len(train_data))\n",
        "    \n",
        "    if flag == 1:\n",
        "      source_data = train_eng\n",
        "      target_tokenizer = spa_tokenizer\n",
        "      encoder = encoder1\n",
        "      decoder = decoder1\n",
        "      tmp0, tmp1 = train_data[idx][0], train_data[idx][1]\n",
        "    elif flag == 2:\n",
        "      source_data = train_spa\n",
        "      target_tokenizer = eng_tokenizer\n",
        "      encoder = encoder2\n",
        "      decoder = decoder2\n",
        "      tmp0, tmp1 = train_data[idx][1], train_data[idx][0] \n",
        "    elif flag == 3:\n",
        "      source_data = test_eng\n",
        "      target_tokenizer = spa_tokenizer\n",
        "      encoder = encoder1\n",
        "      decoder = decoder1\n",
        "      tmp0, tmp1 = test_data[idx][0], test_data[idx][1]\n",
        "    elif flag == 4:\n",
        "      source_data = input_spa\n",
        "      target_tokenizer = eng_tokenizer\n",
        "      encoder = encoder2\n",
        "      decoder = decoder2\n",
        "      tmp0, tmp1 = middle_spa[idx], test_data[idx][0]       \n",
        "      \n",
        "    input_sent = source_data[idx]\n",
        "    input_sent = tf.expand_dims(input_sent, axis=0)\n",
        "    \n",
        "    hidden_state = encoder.init_state(batch_size=1)\n",
        "    output, hidden_state = encoder(input_sent, hidden_state)\n",
        "    \n",
        "    decoder_input = tf.expand_dims([target_tokenizer.word_index['<start>']], 0)\n",
        "    out_words = []\n",
        "    \n",
        "    decoder_state = hidden_state\n",
        "\n",
        "    while True:\n",
        "      \n",
        "        decoder_output, decoder_state = decoder(decoder_input, decoder_state)\n",
        "        decoder_input = tf.argmax(decoder_output, -1)\n",
        "        word_idx = decoder_input.numpy()[0][0]\n",
        "        # if we've predicted 0 (which is reserved, usually this will only happen\n",
        "        # before the decoder is trained, just stop translating and return\n",
        "        # what we have)\n",
        "        if word_idx == 0: \n",
        "          out_words.append('<end>')\n",
        "        else:\n",
        "          out_words.append(target_tokenizer.index_word[word_idx])\n",
        "\n",
        "        if out_words[-1] == '<end>' or len(out_words) >= 20:\n",
        "          break\n",
        "          \n",
        "    translation = ' '.join(out_words)    \n",
        "    return tmp0, tmp1, translation"
      ],
      "execution_count": 0,
      "outputs": []
    },
    {
      "metadata": {
        "id": "c7YSgbsvQyIB",
        "colab_type": "code",
        "colab": {}
      },
      "cell_type": "code",
      "source": [
        "# Test code\n",
        "# input_sent, target_sent, translation = translate()\n",
        "# print(\"Input: %s\\nTarget: %s\\nTranslation: %s\\n\" % (input_sent, target_sent, translation))"
      ],
      "execution_count": 0,
      "outputs": []
    },
    {
      "metadata": {
        "id": "spcI0A4HWRQe",
        "colab_type": "code",
        "colab": {}
      },
      "cell_type": "code",
      "source": [
        "optimizer = tf.keras.optimizers.Adam()"
      ],
      "execution_count": 0,
      "outputs": []
    },
    {
      "metadata": {
        "id": "8HXX5F79WUIy",
        "colab_type": "text"
      },
      "cell_type": "markdown",
      "source": [
        "### 3.3. Train Model 1: from English to Spanish"
      ]
    },
    {
      "metadata": {
        "id": "Np7vJsGQWcin",
        "colab_type": "code",
        "colab": {}
      },
      "cell_type": "code",
      "source": [
        "@tf.function # remove this annotation when debugging\n",
        "def train_step(source_seq, target_seq, target_labels, initial_state):\n",
        "  \n",
        "  with tf.GradientTape() as tape:\n",
        "    encoder_output, encoder_state = encoder1(source_seq, initial_state)\n",
        "    logits, decoder_state = decoder1(target_seq, encoder_state)\n",
        "    loss = calc_loss(target_labels, logits)\n",
        "\n",
        "  variables = encoder1.trainable_variables + decoder1.trainable_variables\n",
        "  gradients = tape.gradient(loss, variables)\n",
        "  optimizer.apply_gradients(zip(gradients, variables))\n",
        "\n",
        "  return loss"
      ],
      "execution_count": 0,
      "outputs": []
    },
    {
      "metadata": {
        "id": "vHm1Riq8YH-0",
        "colab_type": "code",
        "outputId": "ab384174-7ff9-4117-85c7-60c36acb71b6",
        "colab": {
          "base_uri": "https://localhost:8080/",
          "height": 207
        }
      },
      "cell_type": "code",
      "source": [
        "EPOCHS = nepoch\n",
        "\n",
        "encoder1 = Encoder(eng_vocab_size)\n",
        "decoder1 = Decoder(spa_vocab_size)\n",
        "\n",
        "for epoch in range(EPOCHS):\n",
        "    start = time.time()\n",
        "  \n",
        "    en_initial_states = encoder1.init_state(batch_size)\n",
        "    \n",
        "    for batch, (source_seq, target_seq, target_labels) in enumerate(dataset):\n",
        "      loss = train_step(source_seq, target_seq, target_labels, en_initial_states)\n",
        "      elapsed = time.time() - start\n",
        "    \n",
        "    if epoch % 10 == 0:\n",
        "      print(\"Epoch #%d, Loss %.4f, Time %.2f sec\" % (epoch, loss, elapsed))\n",
        "      input_sent, target_sent, translation = translate()\n",
        "      print(\"Input: %s\\nTarget: %s\\nTranslation: %s\\n\" % (input_sent, target_sent, translation))"
      ],
      "execution_count": 25,
      "outputs": [
        {
          "output_type": "stream",
          "text": [
            "Epoch #0, Loss 1.3171, Time 14.97 sec\n",
            "Input: <start> What s your favorite flower ? <end>\n",
            "Target: <start> ¿ Cual es tu flor favorita ? <end>\n",
            "Translation: tom no no no no no no no no no no no no no no no no no no no\n",
            "\n",
            "Epoch #10, Loss 0.7773, Time 10.77 sec\n",
            "Input: <start> This bed is too hard to sleep on . <end>\n",
            "Target: <start> Esta cama es demasiado dura para dormir en ella . <end>\n",
            "Translation: mi hermano se estan en la ciudad . <end>\n",
            "\n"
          ],
          "name": "stdout"
        }
      ]
    },
    {
      "metadata": {
        "id": "OhGierZMQyK9",
        "colab_type": "code",
        "outputId": "793e1950-bd09-4952-b454-8c49c6b47040",
        "colab": {
          "base_uri": "https://localhost:8080/",
          "height": 54
        }
      },
      "cell_type": "code",
      "source": [
        "# Test code for BLEU score\n",
        "references, hypotheses = [], []\n",
        "\n",
        "for i in range(20):\n",
        "  input_sent, target_sent, translation = translate()\n",
        "  references.append(target_sent)\n",
        "  hypotheses.append(\"<start> \" + translation)\n",
        "  \n",
        "results = sacrebleu.raw_corpus_bleu(hypotheses, [references])\n",
        "print(results)"
      ],
      "execution_count": 26,
      "outputs": [
        {
          "output_type": "stream",
          "text": [
            "BLEU(score=10.598908075283864, counts=[88, 32, 8, 4], totals=[195, 175, 155, 135], precisions=[45.12820512820513, 18.285714285714285, 5.161290322580645, 2.962962962962963], bp=1.0, sys_len=195, ref_len=191)\n"
          ],
          "name": "stdout"
        }
      ]
    },
    {
      "metadata": {
        "id": "M7YyijjLcvu6",
        "colab_type": "text"
      },
      "cell_type": "markdown",
      "source": [
        "## Step 4. Train Model 2: translate from Spanish to English"
      ]
    },
    {
      "metadata": {
        "id": "L444gcl7e1Dn",
        "colab_type": "text"
      },
      "cell_type": "markdown",
      "source": [
        "### 4.1. Prepare data for model2\n"
      ]
    },
    {
      "metadata": {
        "id": "j4tL981we0H9",
        "colab_type": "code",
        "colab": {}
      },
      "cell_type": "code",
      "source": [
        "# Create labels for the decoder by shifting the target sequence\n",
        "# one to the right.\n",
        "target_labels = np.zeros(train_eng.shape)\n",
        "target_labels[:,0:train_eng.shape[1] -1] = train_eng[:,1:]\n",
        "dataset = tf.data.Dataset.from_tensor_slices((train_spa, train_eng, target_labels)).batch(batch_size)"
      ],
      "execution_count": 0,
      "outputs": []
    },
    {
      "metadata": {
        "id": "5bsG7DZjfMTy",
        "colab_type": "text"
      },
      "cell_type": "markdown",
      "source": [
        "### 4.2 Train Model2: from Spanish to English"
      ]
    },
    {
      "metadata": {
        "id": "NtJ1SGR-fLkQ",
        "colab_type": "code",
        "colab": {}
      },
      "cell_type": "code",
      "source": [
        "@tf.function # remove this annotation when debugging\n",
        "def train_step2(source_seq, target_seq, target_labels, initial_state):\n",
        "  \n",
        "  with tf.GradientTape() as tape:\n",
        "    encoder_output, encoder_state = encoder2(source_seq, initial_state)\n",
        "    logits, decoder_state = decoder2(target_seq, encoder_state)\n",
        "    loss = calc_loss(target_labels, logits)\n",
        "\n",
        "  variables = encoder2.trainable_variables + decoder2.trainable_variables\n",
        "  gradients = tape.gradient(loss, variables)\n",
        "  optimizer.apply_gradients(zip(gradients, variables))\n",
        "\n",
        "  return loss"
      ],
      "execution_count": 0,
      "outputs": []
    },
    {
      "metadata": {
        "id": "3Ayomy6DQyOI",
        "colab_type": "code",
        "outputId": "8d387a6e-e594-493f-bba1-6008bdd0051a",
        "colab": {
          "base_uri": "https://localhost:8080/",
          "height": 187
        }
      },
      "cell_type": "code",
      "source": [
        "encoder2 = Encoder(spa_vocab_size)\n",
        "decoder2 = Decoder(eng_vocab_size)\n",
        "\n",
        "for epoch in range(EPOCHS):\n",
        "    start = time.time()\n",
        "  \n",
        "    en_initial_states = encoder2.init_state(batch_size)\n",
        "    \n",
        "    for batch, (source_seq, target_seq, target_labels) in enumerate(dataset):\n",
        "      loss = train_step2(source_seq, target_seq, target_labels, en_initial_states)\n",
        "      elapsed = time.time() - start\n",
        "    \n",
        "    if epoch % 10 == 0:\n",
        "      print(\"Epoch #%d, Loss %.4f, Time %.2f sec\" % (epoch, loss, elapsed))\n",
        "      input_sent, target_sent, translation = translate(flag=2)\n",
        "      print(\"Input: %s\\nTarget: %s\\nTranslation: %s\\n\" % (input_sent, target_sent, translation))"
      ],
      "execution_count": 29,
      "outputs": [
        {
          "output_type": "stream",
          "text": [
            "Epoch #0, Loss 1.3231, Time 12.71 sec\n",
            "Input: <start> Calmate ! <end>\n",
            "Target: <start> Cool off ! <end>\n",
            "Translation: tom is a lot . <end>\n",
            "\n",
            "Epoch #10, Loss 0.7830, Time 10.64 sec\n",
            "Input: <start> Deberiais haber estado aqui . <end>\n",
            "Target: <start> You should ve been here . <end>\n",
            "Translation: you re not in town . <end>\n",
            "\n"
          ],
          "name": "stdout"
        }
      ]
    },
    {
      "metadata": {
        "id": "yk3deGx8fKMa",
        "colab_type": "code",
        "outputId": "9e3cce4d-0243-4d3e-e351-0c3a94412f67",
        "colab": {
          "base_uri": "https://localhost:8080/",
          "height": 54
        }
      },
      "cell_type": "code",
      "source": [
        "# Test code for BLEU score\n",
        "references, hypotheses = [], []\n",
        "\n",
        "for i in range(20):\n",
        "  input_sent, target_sent, translation = translate(flag=2)\n",
        "  references.append(target_sent)\n",
        "  hypotheses.append(\"<start> \" + translation)\n",
        "  \n",
        "results = sacrebleu.raw_corpus_bleu(hypotheses, [references])\n",
        "print(results)"
      ],
      "execution_count": 30,
      "outputs": [
        {
          "output_type": "stream",
          "text": [
            "BLEU(score=7.590470707348189, counts=[95, 33, 7, 2], totals=[222, 202, 182, 162], precisions=[42.792792792792795, 16.336633663366335, 3.8461538461538463, 1.2345679012345678], bp=1.0, sys_len=222, ref_len=208)\n"
          ],
          "name": "stdout"
        }
      ]
    },
    {
      "metadata": {
        "id": "WqSWEDDzfKPq",
        "colab_type": "code",
        "colab": {}
      },
      "cell_type": "code",
      "source": [
        ""
      ],
      "execution_count": 0,
      "outputs": []
    },
    {
      "metadata": {
        "id": "zLgzr_V2hZ1n",
        "colab_type": "text"
      },
      "cell_type": "markdown",
      "source": [
        "## Step 5. Back-translate\n",
        "Use your two models to translate a sentence from English to Spanish, and then back to English. Compare the original sentence, and the back-translated sentence. Repeat this using an evaluation corpus of 1,000 sentences, and report the BLEU score."
      ]
    },
    {
      "metadata": {
        "id": "ZuiyrsAUOvyh",
        "colab_type": "text"
      },
      "cell_type": "markdown",
      "source": [
        "### 5.1. Preprocess test data"
      ]
    },
    {
      "metadata": {
        "id": "vU2Ifd1rhmZw",
        "colab_type": "code",
        "colab": {}
      },
      "cell_type": "code",
      "source": [
        "test_data = shuffled_data[selected_id[ntrain:], :]\n",
        "test_data = [(preprocess(eng), preprocess(spa)) for (eng, spa) in test_data]\n",
        "#print(train_data[0])\n",
        "test_eng, test_spa = list(zip(*test_data))\n",
        "test_eng = eng_tokenizer.texts_to_sequences(test_eng)\n",
        "test_eng = tf.keras.preprocessing.sequence.pad_sequences(test_eng, padding='post')"
      ],
      "execution_count": 0,
      "outputs": []
    },
    {
      "metadata": {
        "id": "GwRO9rDnO0UL",
        "colab_type": "text"
      },
      "cell_type": "markdown",
      "source": [
        "### 5.2. Using Model 1 to translate test data from English to Spanish."
      ]
    },
    {
      "metadata": {
        "id": "oFmTgv5qfKTc",
        "colab_type": "code",
        "colab": {}
      },
      "cell_type": "code",
      "source": [
        "middle_spa = []\n",
        "origin_eng = []\n",
        "for i in range(ntest):\n",
        "  input_sent, target_sent, translation = translate(idx=i, flag=3)\n",
        "  #print(input_sent)\n",
        "  origin_eng.append(input_sent)\n",
        "  middle_spa.append(translation[:-5])"
      ],
      "execution_count": 0,
      "outputs": []
    },
    {
      "metadata": {
        "id": "63IpkexsO9Sk",
        "colab_type": "text"
      },
      "cell_type": "markdown",
      "source": [
        "### 5.3. Using Model 2 to translate the output from Model 1 back to English"
      ]
    },
    {
      "metadata": {
        "id": "gi3v5GaKBhgJ",
        "colab_type": "code",
        "colab": {}
      },
      "cell_type": "code",
      "source": [
        "input_spa = spa_tokenizer.texts_to_sequences(middle_spa)\n",
        "input_spa = tf.keras.preprocessing.sequence.pad_sequences(input_spa, padding='post')\n",
        "#print(input_spa)"
      ],
      "execution_count": 0,
      "outputs": []
    },
    {
      "metadata": {
        "id": "BYyzBqvEhmeP",
        "colab_type": "code",
        "colab": {}
      },
      "cell_type": "code",
      "source": [
        "back_eng = []\n",
        "for i in range(ntest):\n",
        "  input_sent, target_sent, translation = translate(idx=i, flag=4)\n",
        "  #print(translation)\n",
        "  back_eng.append(\"<start> \" + translation)"
      ],
      "execution_count": 0,
      "outputs": []
    },
    {
      "metadata": {
        "id": "F4LvXYUrPGT1",
        "colab_type": "text"
      },
      "cell_type": "markdown",
      "source": [
        "### 5.4. Calculate BLEU"
      ]
    },
    {
      "metadata": {
        "id": "b5M_5-z9Gu3G",
        "colab_type": "code",
        "outputId": "0d018005-ea9e-4318-f026-c64f986b4724",
        "colab": {
          "base_uri": "https://localhost:8080/",
          "height": 54
        }
      },
      "cell_type": "code",
      "source": [
        "results = sacrebleu.raw_corpus_bleu(back_eng, [origin_eng])\n",
        "print(results)  "
      ],
      "execution_count": 35,
      "outputs": [
        {
          "output_type": "stream",
          "text": [
            "BLEU(score=1.467517965856458, counts=[3672, 1047, 26, 5], totals=[11750, 10750, 9750, 8750], precisions=[31.251063829787235, 9.73953488372093, 0.26666666666666666, 0.05714285714285714], bp=1.0, sys_len=11750, ref_len=9665)\n"
          ],
          "name": "stdout"
        }
      ]
    }
  ]
}