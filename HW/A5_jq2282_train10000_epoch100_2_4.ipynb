{
  "nbformat": 4,
  "nbformat_minor": 0,
  "metadata": {
    "colab": {
      "name": "A5_jq2282_train10000_epoch100_2.4.ipynb",
      "version": "0.3.2",
      "provenance": [],
      "collapsed_sections": [
        "uhk7LSRmH3H7"
      ]
    },
    "kernelspec": {
      "name": "python3",
      "display_name": "Python 3"
    },
    "accelerator": "GPU"
  },
  "cells": [
    {
      "metadata": {
        "id": "faP_TfySH12q",
        "colab_type": "text"
      },
      "cell_type": "markdown",
      "source": [
        "# Assignment 5 Machine Translation\n",
        "### Jing Qian (jq2282)"
      ]
    },
    {
      "metadata": {
        "id": "uhk7LSRmH3H7",
        "colab_type": "text"
      },
      "cell_type": "markdown",
      "source": [
        "## Step 1. Install packages and load libraries\n"
      ]
    },
    {
      "metadata": {
        "id": "TkZU21YuHt1Y",
        "colab_type": "code",
        "outputId": "aaf47645-4a5b-47d2-da07-b5652b886265",
        "colab": {
          "base_uri": "https://localhost:8080/",
          "height": 71
        }
      },
      "cell_type": "code",
      "source": [
        "!pip install -q tensorflow-gpu==2.0.0-alpha0\n",
        "!pip install sacrebleu # https://github.com/mjpost/sacreBLEU"
      ],
      "execution_count": 1,
      "outputs": [
        {
          "output_type": "stream",
          "text": [
            "Requirement already satisfied: sacrebleu in /usr/local/lib/python3.6/dist-packages (1.3.1)\n",
            "Requirement already satisfied: typing in /usr/local/lib/python3.6/dist-packages (from sacrebleu) (3.6.6)\n"
          ],
          "name": "stdout"
        }
      ]
    },
    {
      "metadata": {
        "id": "bIPY-Wq6H0wK",
        "colab_type": "code",
        "colab": {}
      },
      "cell_type": "code",
      "source": [
        "import numpy as np\n",
        "import re\n",
        "import sacrebleu\n",
        "import tensorflow as tf\n",
        "import time\n",
        "import unicodedata"
      ],
      "execution_count": 0,
      "outputs": []
    },
    {
      "metadata": {
        "id": "VXGdnexoH_5q",
        "colab_type": "text"
      },
      "cell_type": "markdown",
      "source": [
        "## Step 2. Load and preprocess data"
      ]
    },
    {
      "metadata": {
        "id": "Tq8ETDnxJODV",
        "colab_type": "text"
      },
      "cell_type": "markdown",
      "source": [
        "### 2.1. Load and select data"
      ]
    },
    {
      "metadata": {
        "id": "2diHj7jsIFOj",
        "colab_type": "code",
        "colab": {}
      },
      "cell_type": "code",
      "source": [
        "ntrain = 10000\n",
        "ntest = 1000\n",
        "nall = ntrain + ntest\n",
        "nepoch = 100"
      ],
      "execution_count": 0,
      "outputs": []
    },
    {
      "metadata": {
        "id": "p7LoioJgIO97",
        "colab_type": "code",
        "outputId": "3560b057-cb7e-4904-f5bf-ff79515c6920",
        "colab": {
          "base_uri": "https://localhost:8080/",
          "height": 54
        }
      },
      "cell_type": "code",
      "source": [
        "from google.colab import drive\n",
        "drive.mount('/content/gdrive')"
      ],
      "execution_count": 4,
      "outputs": [
        {
          "output_type": "stream",
          "text": [
            "Drive already mounted at /content/gdrive; to attempt to forcibly remount, call drive.mount(\"/content/gdrive\", force_remount=True).\n"
          ],
          "name": "stdout"
        }
      ]
    },
    {
      "metadata": {
        "id": "SLRG0JchISlU",
        "colab_type": "code",
        "colab": {}
      },
      "cell_type": "code",
      "source": [
        "def load(fname):\n",
        "  # Load the file using std open\n",
        "  f = open(fname, 'r')\n",
        "  text = []\n",
        "  for line in f.readlines():\n",
        "    text.append(line.replace('\\n','').split('\\t'))\n",
        "    \n",
        "  f.close()\n",
        "  return text\n",
        "\n",
        "data = load('/content/gdrive/My Drive/spa-eng/spa.txt')"
      ],
      "execution_count": 0,
      "outputs": []
    },
    {
      "metadata": {
        "id": "sBcVdFi2IUaO",
        "colab_type": "code",
        "outputId": "88722a2e-b96f-467b-e6f1-0bdca3522e98",
        "colab": {
          "base_uri": "https://localhost:8080/",
          "height": 71
        }
      },
      "cell_type": "code",
      "source": [
        "print(data[10:15])\n",
        "print(np.shape(data))"
      ],
      "execution_count": 6,
      "outputs": [
        {
          "output_type": "stream",
          "text": [
            "[['Fire!', '¡Disparad!'], ['Help!', '¡Ayuda!'], ['Help!', '¡Socorro! ¡Auxilio!'], ['Help!', '¡Auxilio!'], ['Jump!', '¡Salta!']]\n",
            "(118964, 2)\n"
          ],
          "name": "stdout"
        }
      ]
    },
    {
      "metadata": {
        "id": "mGNOKNclIYC-",
        "colab_type": "code",
        "outputId": "e0ccd915-26f8-4df7-9e9e-17bec9e694a3",
        "colab": {
          "base_uri": "https://localhost:8080/",
          "height": 34
        }
      },
      "cell_type": "code",
      "source": [
        "#np.random.seed(10)\n",
        "shuffled_data = np.random.permutation(data)\n",
        "selected_id = np.random.randint(len(data), size = nall)\n",
        "train_data = shuffled_data[selected_id[:ntrain], :]\n",
        "print(np.shape(train_data), np.shape(shuffled_data))"
      ],
      "execution_count": 7,
      "outputs": [
        {
          "output_type": "stream",
          "text": [
            "(10000, 2) (118964, 2)\n"
          ],
          "name": "stdout"
        }
      ]
    },
    {
      "metadata": {
        "id": "skj36OdHJR-7",
        "colab_type": "text"
      },
      "cell_type": "markdown",
      "source": [
        "### 2.2. Preprocessing"
      ]
    },
    {
      "metadata": {
        "id": "Ndtl8GZZJUbZ",
        "colab_type": "code",
        "colab": {}
      },
      "cell_type": "code",
      "source": [
        "def preprocess(s):\n",
        "  # for details, see https://www.tensorflow.org/alpha/tutorials/sequences/nmt_with_attention\n",
        "  s = ''.join(c for c in unicodedata.normalize('NFD', s) if unicodedata.category(c) != 'Mn')\n",
        "  s = re.sub(r\"([?.!,¿])\", r\" \\1 \", s)\n",
        "  s = re.sub(r'[\" \"]+', \" \", s)\n",
        "  s = re.sub(r\"[^a-zA-Z?.!,¿]+\", \" \", s)\n",
        "  s = s.strip()\n",
        "  s = '<start> ' + s + ' <end>'\n",
        "  return s"
      ],
      "execution_count": 0,
      "outputs": []
    },
    {
      "metadata": {
        "id": "XeZOk_9qJktc",
        "colab_type": "code",
        "outputId": "afafbb15-d04f-45e7-a24b-78d1c33381ea",
        "colab": {
          "base_uri": "https://localhost:8080/",
          "height": 54
        }
      },
      "cell_type": "code",
      "source": [
        "train_data = [(preprocess(eng), preprocess(spa)) for (eng, spa) in train_data]\n",
        "print(train_data[0])\n",
        "train_eng, train_spa = list(zip(*train_data))"
      ],
      "execution_count": 9,
      "outputs": [
        {
          "output_type": "stream",
          "text": [
            "('<start> These are my friends . <end>', '<start> Estos son mis amigos . <end>')\n"
          ],
          "name": "stdout"
        }
      ]
    },
    {
      "metadata": {
        "id": "8yTgCvxAKKEg",
        "colab_type": "code",
        "outputId": "987c4421-f1ca-4673-bdd7-45eaf0312d06",
        "colab": {
          "base_uri": "https://localhost:8080/",
          "height": 51
        }
      },
      "cell_type": "code",
      "source": [
        "eng_tokenizer = tf.keras.preprocessing.text.Tokenizer(filters='')\n",
        "eng_tokenizer.fit_on_texts(train_eng)\n",
        "train_eng = eng_tokenizer.texts_to_sequences(train_eng)\n",
        "train_eng = tf.keras.preprocessing.sequence.pad_sequences(train_eng, padding='post')\n",
        "print(train_eng[0])"
      ],
      "execution_count": 10,
      "outputs": [
        {
          "output_type": "stream",
          "text": [
            "[  1 233  30  22 226   3   2   0   0   0   0   0   0   0   0   0   0   0\n",
            "   0   0   0   0   0   0   0   0   0   0   0   0   0   0   0   0   0]\n"
          ],
          "name": "stdout"
        }
      ]
    },
    {
      "metadata": {
        "id": "a5JpJftKK8gY",
        "colab_type": "code",
        "outputId": "ac16e55e-9be8-409d-8668-c75cd9f38be6",
        "colab": {
          "base_uri": "https://localhost:8080/",
          "height": 68
        }
      },
      "cell_type": "code",
      "source": [
        "spa_tokenizer = tf.keras.preprocessing.text.Tokenizer(filters='')\n",
        "spa_tokenizer.fit_on_texts(train_spa)\n",
        "train_spa = spa_tokenizer.texts_to_sequences(train_spa)\n",
        "train_spa = tf.keras.preprocessing.sequence.pad_sequences(train_spa, padding='post')\n",
        "print(train_spa[0])"
      ],
      "execution_count": 11,
      "outputs": [
        {
          "output_type": "stream",
          "text": [
            "[  1 294  62 124 215   3   2   0   0   0   0   0   0   0   0   0   0   0\n",
            "   0   0   0   0   0   0   0   0   0   0   0   0   0   0   0   0   0   0\n",
            "   0   0]\n"
          ],
          "name": "stdout"
        }
      ]
    },
    {
      "metadata": {
        "id": "rs323ojHMrM_",
        "colab_type": "code",
        "colab": {}
      },
      "cell_type": "code",
      "source": [
        "eng_vocab_size = len(eng_tokenizer.word_index) + 1\n",
        "spa_vocab_size = len(spa_tokenizer.word_index) + 1"
      ],
      "execution_count": 0,
      "outputs": []
    },
    {
      "metadata": {
        "id": "h0jztFXOM6S1",
        "colab_type": "code",
        "outputId": "938bda84-4835-4eb5-c30b-ebc9da1d845d",
        "colab": {
          "base_uri": "https://localhost:8080/",
          "height": 136
        }
      },
      "cell_type": "code",
      "source": [
        "# Demonstrate the correspondence between word and code, not used in model\n",
        "def decode(encoded, tokenizer):\n",
        "  for number in encoded:\n",
        "    if number !=0:\n",
        "      print (\"%d -> %s\" % (number, tokenizer.index_word[number]))\n",
        "      \n",
        "decode(train_eng[0], eng_tokenizer)"
      ],
      "execution_count": 13,
      "outputs": [
        {
          "output_type": "stream",
          "text": [
            "1 -> <start>\n",
            "233 -> these\n",
            "30 -> are\n",
            "22 -> my\n",
            "226 -> friends\n",
            "3 -> .\n",
            "2 -> <end>\n"
          ],
          "name": "stdout"
        }
      ]
    },
    {
      "metadata": {
        "id": "WCfXlH0AIo6f",
        "colab_type": "text"
      },
      "cell_type": "markdown",
      "source": [
        "## Step 3. Train Model 1: translate from English to Spanish\n"
      ]
    },
    {
      "metadata": {
        "id": "mq3UxYQzNNsg",
        "colab_type": "text"
      },
      "cell_type": "markdown",
      "source": [
        "### 3.1. Prepare data for model1"
      ]
    },
    {
      "metadata": {
        "id": "a0eLXu-NIoNK",
        "colab_type": "code",
        "outputId": "913fbf53-4129-4be3-9bf9-886e2b2131a2",
        "colab": {
          "base_uri": "https://localhost:8080/",
          "height": 139
        }
      },
      "cell_type": "code",
      "source": [
        "# Create labels for the decoder by shifting the target sequence\n",
        "# one to the right.\n",
        "target_labels = np.zeros(train_spa.shape)\n",
        "target_labels[:,0:train_spa.shape[1] -1] = train_spa[:,1:]\n",
        "\n",
        "print(\"Target sequence\", train_spa[0])\n",
        "print(\"Target label\", target_labels[0])"
      ],
      "execution_count": 14,
      "outputs": [
        {
          "output_type": "stream",
          "text": [
            "Target sequence [  1 294  62 124 215   3   2   0   0   0   0   0   0   0   0   0   0   0\n",
            "   0   0   0   0   0   0   0   0   0   0   0   0   0   0   0   0   0   0\n",
            "   0   0]\n",
            "Target label [294.  62. 124. 215.   3.   2.   0.   0.   0.   0.   0.   0.   0.   0.\n",
            "   0.   0.   0.   0.   0.   0.   0.   0.   0.   0.   0.   0.   0.   0.\n",
            "   0.   0.   0.   0.   0.   0.   0.   0.   0.   0.]\n"
          ],
          "name": "stdout"
        }
      ]
    },
    {
      "metadata": {
        "id": "qafjzAUJN-fN",
        "colab_type": "code",
        "colab": {}
      },
      "cell_type": "code",
      "source": [
        "batch_size = 5\n",
        "dataset = tf.data.Dataset.from_tensor_slices((train_eng, train_spa, target_labels)).batch(batch_size)"
      ],
      "execution_count": 0,
      "outputs": []
    },
    {
      "metadata": {
        "id": "-QRBV9vaOJ_V",
        "colab_type": "code",
        "colab": {}
      },
      "cell_type": "code",
      "source": [
        "# Test code!\n",
        "# example_batch = next(iter(dataset))\n",
        "# source, target, taget_labels = example_batch\n",
        "# print(\"Shapes:\", source.shape, target.shape, taget_labels.shape)"
      ],
      "execution_count": 0,
      "outputs": []
    },
    {
      "metadata": {
        "id": "f95J-IkqQ6xv",
        "colab_type": "text"
      },
      "cell_type": "markdown",
      "source": [
        "### 3.2. General components for models"
      ]
    },
    {
      "metadata": {
        "id": "yCs_-y6FOPZZ",
        "colab_type": "code",
        "colab": {}
      },
      "cell_type": "code",
      "source": [
        "embedding_size = 32\n",
        "rnn_size = 64"
      ],
      "execution_count": 0,
      "outputs": []
    },
    {
      "metadata": {
        "id": "UrHuydEsOmPp",
        "colab_type": "code",
        "colab": {}
      },
      "cell_type": "code",
      "source": [
        "# Differ from example, add source_vocab_size to initialization\n",
        "class Encoder(tf.keras.Model):\n",
        "  def __init__(self, source_vocab_size):\n",
        "    super(Encoder, self).__init__()\n",
        "    \n",
        "    self.embedding = tf.keras.layers.Embedding(source_vocab_size,\n",
        "                                               embedding_size)\n",
        "    self.gru = tf.keras.layers.GRU(rnn_size, \n",
        "                                   return_sequences=True, \n",
        "                                   return_state=True)\n",
        "    \n",
        "  def call(self, x, hidden):\n",
        "    x = self.embedding(x)\n",
        "    output, state = self.gru(x, initial_state=hidden)        \n",
        "    return output, state\n",
        "  \n",
        "  def init_state(self, batch_size):\n",
        "    return tf.zeros((batch_size, rnn_size))"
      ],
      "execution_count": 0,
      "outputs": []
    },
    {
      "metadata": {
        "id": "AqWK4AHTOvBQ",
        "colab_type": "code",
        "colab": {}
      },
      "cell_type": "code",
      "source": [
        "# Test code!\n",
        "# Create a batch of one sentence\n",
        "# ex_sentence = tf.expand_dims(train_eng[0], axis=0)\n",
        "# ex_translation = tf.expand_dims(train_spa[0], axis=0)\n",
        "# ex_labels = tf.expand_dims(target_labels[0], axis=0)\n",
        "# print(ex_sentence.shape)\n"
      ],
      "execution_count": 0,
      "outputs": []
    },
    {
      "metadata": {
        "id": "TECibZsPQokh",
        "colab_type": "code",
        "colab": {}
      },
      "cell_type": "code",
      "source": [
        "# Differ from example, add target_vocab_size to initialization\n",
        "class Decoder(tf.keras.Model):\n",
        "  def __init__(self, target_vocab_size):\n",
        "    super(Decoder, self).__init__()\n",
        "    self.embedding = tf.keras.layers.Embedding(target_vocab_size, \n",
        "                                               embedding_size)\n",
        "    self.gru = tf.keras.layers.GRU(rnn_size, \n",
        "                                   return_sequences=True, \n",
        "                                   return_state=True)\n",
        "\n",
        "    self.dense = tf.keras.layers.Dense(target_vocab_size)\n",
        "\n",
        "\n",
        "  def call(self, x, hidden):\n",
        "    x = self.embedding(x)\n",
        "    output, state = self.gru(x, initial_state=hidden)\n",
        "    logits = self.dense(output)\n",
        "    return logits, state"
      ],
      "execution_count": 0,
      "outputs": []
    },
    {
      "metadata": {
        "id": "yo5xNFnJQyBw",
        "colab_type": "code",
        "colab": {}
      },
      "cell_type": "code",
      "source": [
        "crossentropy = tf.keras.losses.SparseCategoricalCrossentropy(from_logits=True)\n",
        "\n",
        "def calc_loss(targets, logits):\n",
        "  mask = tf.math.logical_not(tf.math.equal(targets, 0))\n",
        "  mask = tf.cast(mask, dtype=tf.int64)\n",
        "  return crossentropy(targets, logits, sample_weight=mask)\n",
        "\n",
        "#print(\"Loss\", calc_loss(ex_labels, decoder_output))"
      ],
      "execution_count": 0,
      "outputs": []
    },
    {
      "metadata": {
        "id": "cUM198fKQyEo",
        "colab_type": "code",
        "colab": {}
      },
      "cell_type": "code",
      "source": [
        "def translate(idx=None, flag=1):\n",
        "  \n",
        "    if idx == None: \n",
        "      idx = np.random.choice(len(train_data))\n",
        "    \n",
        "    if flag == 1:\n",
        "      source_data = train_eng\n",
        "      target_tokenizer = spa_tokenizer\n",
        "      encoder = encoder1\n",
        "      decoder = decoder1\n",
        "      tmp0, tmp1 = train_data[idx][0], train_data[idx][1]\n",
        "    elif flag == 2:\n",
        "      source_data = train_spa\n",
        "      target_tokenizer = eng_tokenizer\n",
        "      encoder = encoder2\n",
        "      decoder = decoder2\n",
        "      tmp0, tmp1 = train_data[idx][1], train_data[idx][0] \n",
        "    elif flag == 3:\n",
        "      source_data = test_eng\n",
        "      target_tokenizer = spa_tokenizer\n",
        "      encoder = encoder1\n",
        "      decoder = decoder1\n",
        "      tmp0, tmp1 = test_data[idx][0], test_data[idx][1]\n",
        "    elif flag == 4:\n",
        "      source_data = input_spa\n",
        "      target_tokenizer = eng_tokenizer\n",
        "      encoder = encoder2\n",
        "      decoder = decoder2\n",
        "      tmp0, tmp1 = middle_spa[idx], test_data[idx][0]       \n",
        "      \n",
        "    input_sent = source_data[idx]\n",
        "    input_sent = tf.expand_dims(input_sent, axis=0)\n",
        "    \n",
        "    hidden_state = encoder.init_state(batch_size=1)\n",
        "    output, hidden_state = encoder(input_sent, hidden_state)\n",
        "    \n",
        "    decoder_input = tf.expand_dims([target_tokenizer.word_index['<start>']], 0)\n",
        "    out_words = []\n",
        "    \n",
        "    decoder_state = hidden_state\n",
        "\n",
        "    while True:\n",
        "      \n",
        "        decoder_output, decoder_state = decoder(decoder_input, decoder_state)\n",
        "        decoder_input = tf.argmax(decoder_output, -1)\n",
        "        word_idx = decoder_input.numpy()[0][0]\n",
        "        # if we've predicted 0 (which is reserved, usually this will only happen\n",
        "        # before the decoder is trained, just stop translating and return\n",
        "        # what we have)\n",
        "        if word_idx == 0: \n",
        "          out_words.append('<end>')\n",
        "        else:\n",
        "          out_words.append(target_tokenizer.index_word[word_idx])\n",
        "\n",
        "        if out_words[-1] == '<end>' or len(out_words) >= 20:\n",
        "          break\n",
        "          \n",
        "    translation = ' '.join(out_words)    \n",
        "    return tmp0, tmp1, translation"
      ],
      "execution_count": 0,
      "outputs": []
    },
    {
      "metadata": {
        "id": "c7YSgbsvQyIB",
        "colab_type": "code",
        "colab": {}
      },
      "cell_type": "code",
      "source": [
        "# Test code\n",
        "# input_sent, target_sent, translation = translate()\n",
        "# print(\"Input: %s\\nTarget: %s\\nTranslation: %s\\n\" % (input_sent, target_sent, translation))"
      ],
      "execution_count": 0,
      "outputs": []
    },
    {
      "metadata": {
        "id": "spcI0A4HWRQe",
        "colab_type": "code",
        "colab": {}
      },
      "cell_type": "code",
      "source": [
        "optimizer = tf.keras.optimizers.Adam()"
      ],
      "execution_count": 0,
      "outputs": []
    },
    {
      "metadata": {
        "id": "8HXX5F79WUIy",
        "colab_type": "text"
      },
      "cell_type": "markdown",
      "source": [
        "### 3.3. Train Model 1: from English to Spanish"
      ]
    },
    {
      "metadata": {
        "id": "Np7vJsGQWcin",
        "colab_type": "code",
        "colab": {}
      },
      "cell_type": "code",
      "source": [
        "@tf.function # remove this annotation when debugging\n",
        "def train_step(source_seq, target_seq, target_labels, initial_state):\n",
        "  \n",
        "  with tf.GradientTape() as tape:\n",
        "    encoder_output, encoder_state = encoder1(source_seq, initial_state)\n",
        "    logits, decoder_state = decoder1(target_seq, encoder_state)\n",
        "    loss = calc_loss(target_labels, logits)\n",
        "\n",
        "  variables = encoder1.trainable_variables + decoder1.trainable_variables\n",
        "  gradients = tape.gradient(loss, variables)\n",
        "  optimizer.apply_gradients(zip(gradients, variables))\n",
        "\n",
        "  return loss"
      ],
      "execution_count": 0,
      "outputs": []
    },
    {
      "metadata": {
        "id": "vHm1Riq8YH-0",
        "colab_type": "code",
        "outputId": "9dd8cc23-2639-45e4-8182-481c5e82f0dc",
        "colab": {
          "base_uri": "https://localhost:8080/",
          "height": 887
        }
      },
      "cell_type": "code",
      "source": [
        "EPOCHS = nepoch\n",
        "\n",
        "encoder1 = Encoder(eng_vocab_size)\n",
        "decoder1 = Decoder(spa_vocab_size)\n",
        "\n",
        "for epoch in range(EPOCHS):\n",
        "    start = time.time()\n",
        "  \n",
        "    en_initial_states = encoder1.init_state(batch_size)\n",
        "    \n",
        "    for batch, (source_seq, target_seq, target_labels) in enumerate(dataset):\n",
        "      loss = train_step(source_seq, target_seq, target_labels, en_initial_states)\n",
        "      elapsed = time.time() - start\n",
        "    \n",
        "    if epoch % 10 == 0:\n",
        "      print(\"Epoch #%d, Loss %.4f, Time %.2f sec\" % (epoch, loss, elapsed))\n",
        "      input_sent, target_sent, translation = translate()\n",
        "      print(\"Input: %s\\nTarget: %s\\nTranslation: %s\\n\" % (input_sent, target_sent, translation))"
      ],
      "execution_count": 25,
      "outputs": [
        {
          "output_type": "stream",
          "text": [
            "Epoch #0, Loss 0.9821, Time 25.76 sec\n",
            "Input: <start> Can anyone answer my question ? <end>\n",
            "Target: <start> ¿ Alguien puede contestar mi pregunta ? <end>\n",
            "Translation: ¿ no me gusta que el que el que el que el que el que el que el que el\n",
            "\n",
            "Epoch #10, Loss 0.5638, Time 18.85 sec\n",
            "Input: <start> Tom wants a new coat . <end>\n",
            "Target: <start> Tom quiere un abrigo nuevo . <end>\n",
            "Translation: tom se quedo en boston . <end>\n",
            "\n",
            "Epoch #20, Loss 0.4031, Time 19.01 sec\n",
            "Input: <start> Where are all the others ? <end>\n",
            "Target: <start> ¿ Donde estan todos los demas ? <end>\n",
            "Translation: ¿ donde esta tom ? <end>\n",
            "\n",
            "Epoch #30, Loss 0.3387, Time 18.75 sec\n",
            "Input: <start> Why are you so worried ? <end>\n",
            "Target: <start> ¿ Por que estas tan preocupada ? <end>\n",
            "Translation: ¿ por que no quieres comer ? <end>\n",
            "\n",
            "Epoch #40, Loss 0.2955, Time 20.04 sec\n",
            "Input: <start> Tom s strategy paid off . <end>\n",
            "Target: <start> La estrategia de Tom surtio efecto . <end>\n",
            "Translation: la gente de tom le explico su un coche nueva a su coche . <end>\n",
            "\n",
            "Epoch #50, Loss 0.2396, Time 19.12 sec\n",
            "Input: <start> I watched a great movie yesterday . <end>\n",
            "Target: <start> Ayer vi una pelicula estupenda . <end>\n",
            "Translation: yo estaba en el area . <end>\n",
            "\n",
            "Epoch #60, Loss 0.2060, Time 18.97 sec\n",
            "Input: <start> I m sure I saw her two years ago . <end>\n",
            "Target: <start> Estoy seguro de que la vi hace dos anos . <end>\n",
            "Translation: estoy intentando meditar . <end>\n",
            "\n",
            "Epoch #70, Loss 0.2080, Time 19.56 sec\n",
            "Input: <start> Are you in Australia ? <end>\n",
            "Target: <start> ¿ Estas en Australia ? <end>\n",
            "Translation: ¿ estas haciendo algo ? <end>\n",
            "\n",
            "Epoch #80, Loss 0.1829, Time 18.51 sec\n",
            "Input: <start> Tom shot himself in the head . <end>\n",
            "Target: <start> Tom se pego un tiro en la cabeza . <end>\n",
            "Translation: tom se ofrecio a ayudarme de la izquierda . <end>\n",
            "\n",
            "Epoch #90, Loss 0.1723, Time 18.68 sec\n",
            "Input: <start> It s a curse . <end>\n",
            "Target: <start> Es una maldicion . <end>\n",
            "Translation: es una maldicion . <end>\n",
            "\n"
          ],
          "name": "stdout"
        }
      ]
    },
    {
      "metadata": {
        "id": "OhGierZMQyK9",
        "colab_type": "code",
        "outputId": "c8fea3db-eedc-4b02-a322-a7d6a1521ce2",
        "colab": {
          "base_uri": "https://localhost:8080/",
          "height": 54
        }
      },
      "cell_type": "code",
      "source": [
        "# Test code for BLEU score\n",
        "references, hypotheses = [], []\n",
        "\n",
        "for i in range(20):\n",
        "  input_sent, target_sent, translation = translate()\n",
        "  references.append(target_sent)\n",
        "  hypotheses.append(\"<start> \" + translation)\n",
        "  \n",
        "results = sacrebleu.raw_corpus_bleu(hypotheses, [references])\n",
        "print(results)"
      ],
      "execution_count": 26,
      "outputs": [
        {
          "output_type": "stream",
          "text": [
            "BLEU(score=10.95967477564419, counts=[82, 31, 8, 6], totals=[202, 182, 162, 142], precisions=[40.59405940594059, 17.032967032967033, 4.938271604938271, 4.225352112676056], bp=1.0, sys_len=202, ref_len=183)\n"
          ],
          "name": "stdout"
        }
      ]
    },
    {
      "metadata": {
        "id": "M7YyijjLcvu6",
        "colab_type": "text"
      },
      "cell_type": "markdown",
      "source": [
        "## Step 4. Train Model 2: translate from Spanish to English"
      ]
    },
    {
      "metadata": {
        "id": "L444gcl7e1Dn",
        "colab_type": "text"
      },
      "cell_type": "markdown",
      "source": [
        "### 4.1. Prepare data for model2\n"
      ]
    },
    {
      "metadata": {
        "id": "j4tL981we0H9",
        "colab_type": "code",
        "colab": {}
      },
      "cell_type": "code",
      "source": [
        "# Create labels for the decoder by shifting the target sequence\n",
        "# one to the right.\n",
        "target_labels = np.zeros(train_eng.shape)\n",
        "target_labels[:,0:train_eng.shape[1] -1] = train_eng[:,1:]\n",
        "dataset = tf.data.Dataset.from_tensor_slices((train_spa, train_eng, target_labels)).batch(batch_size)"
      ],
      "execution_count": 0,
      "outputs": []
    },
    {
      "metadata": {
        "id": "5bsG7DZjfMTy",
        "colab_type": "text"
      },
      "cell_type": "markdown",
      "source": [
        "### 4.2 Train Model2: from Spanish to English"
      ]
    },
    {
      "metadata": {
        "id": "NtJ1SGR-fLkQ",
        "colab_type": "code",
        "colab": {}
      },
      "cell_type": "code",
      "source": [
        "@tf.function # remove this annotation when debugging\n",
        "def train_step2(source_seq, target_seq, target_labels, initial_state):\n",
        "  \n",
        "  with tf.GradientTape() as tape:\n",
        "    encoder_output, encoder_state = encoder2(source_seq, initial_state)\n",
        "    logits, decoder_state = decoder2(target_seq, encoder_state)\n",
        "    loss = calc_loss(target_labels, logits)\n",
        "\n",
        "  variables = encoder2.trainable_variables + decoder2.trainable_variables\n",
        "  gradients = tape.gradient(loss, variables)\n",
        "  optimizer.apply_gradients(zip(gradients, variables))\n",
        "\n",
        "  return loss"
      ],
      "execution_count": 0,
      "outputs": []
    },
    {
      "metadata": {
        "id": "3Ayomy6DQyOI",
        "colab_type": "code",
        "outputId": "e324ee77-148a-4b73-b68c-df4cc9c12c11",
        "colab": {
          "base_uri": "https://localhost:8080/",
          "height": 867
        }
      },
      "cell_type": "code",
      "source": [
        "encoder2 = Encoder(spa_vocab_size)\n",
        "decoder2 = Decoder(eng_vocab_size)\n",
        "\n",
        "for epoch in range(EPOCHS):\n",
        "    start = time.time()\n",
        "  \n",
        "    en_initial_states = encoder2.init_state(batch_size)\n",
        "    \n",
        "    for batch, (source_seq, target_seq, target_labels) in enumerate(dataset):\n",
        "      loss = train_step2(source_seq, target_seq, target_labels, en_initial_states)\n",
        "      elapsed = time.time() - start\n",
        "    \n",
        "    if epoch % 10 == 0:\n",
        "      print(\"Epoch #%d, Loss %.4f, Time %.2f sec\" % (epoch, loss, elapsed))\n",
        "      input_sent, target_sent, translation = translate(flag=2)\n",
        "      print(\"Input: %s\\nTarget: %s\\nTranslation: %s\\n\" % (input_sent, target_sent, translation))"
      ],
      "execution_count": 29,
      "outputs": [
        {
          "output_type": "stream",
          "text": [
            "Epoch #0, Loss 0.9542, Time 21.57 sec\n",
            "Input: <start> Casi nadie sabe que somos hermanas . <end>\n",
            "Target: <start> Almost no one knows we are sisters . <end>\n",
            "Translation: i m not a good . <end>\n",
            "\n",
            "Epoch #10, Loss 0.6111, Time 18.34 sec\n",
            "Input: <start> Kioto fue la antigua capital de Japon . <end>\n",
            "Target: <start> Kyoto was the former capital of Japan . <end>\n",
            "Translation: i m not going to see you . <end>\n",
            "\n",
            "Epoch #20, Loss 0.5528, Time 18.28 sec\n",
            "Input: <start> La chica que toca el piano es mi hermana . <end>\n",
            "Target: <start> The girl who s playing the piano is my sister . <end>\n",
            "Translation: i m not going to help . <end>\n",
            "\n",
            "Epoch #30, Loss 0.5253, Time 19.30 sec\n",
            "Input: <start> El puso su casa en venta . <end>\n",
            "Target: <start> He put up his house for sale . <end>\n",
            "Translation: i m not going to help . <end>\n",
            "\n",
            "Epoch #40, Loss 0.5136, Time 17.98 sec\n",
            "Input: <start> Tom podia oir al gato rasgunando la puerta . <end>\n",
            "Target: <start> Tom could hear the cat scratching the door . <end>\n",
            "Translation: i m not going to argue with you . <end>\n",
            "\n",
            "Epoch #50, Loss 0.5122, Time 18.30 sec\n",
            "Input: <start> No voy casi nunca a la iglesia . <end>\n",
            "Target: <start> I go to church once in a blue moon . <end>\n",
            "Translation: i m not going to do my homework . <end>\n",
            "\n",
            "Epoch #60, Loss 0.5033, Time 19.23 sec\n",
            "Input: <start> Denme tiempo . <end>\n",
            "Target: <start> Give me time . <end>\n",
            "Translation: i m not going to do my homework . <end>\n",
            "\n",
            "Epoch #70, Loss 0.5287, Time 15.74 sec\n",
            "Input: <start> No tengo eleccion . <end>\n",
            "Target: <start> I ve got no choice . <end>\n",
            "Translation: i m not going to argue with you . <end>\n",
            "\n",
            "Epoch #80, Loss 0.4415, Time 12.10 sec\n",
            "Input: <start> Hace mucha calor en verano en Japon . <end>\n",
            "Target: <start> It is very hot in the summer in Japan . <end>\n",
            "Translation: he is not a great demand . <end>\n",
            "\n",
            "Epoch #90, Loss 0.3885, Time 11.01 sec\n",
            "Input: <start> Me conoces bien . <end>\n",
            "Target: <start> You know me so well . <end>\n",
            "Translation: you re running late . <end>\n",
            "\n"
          ],
          "name": "stdout"
        }
      ]
    },
    {
      "metadata": {
        "id": "yk3deGx8fKMa",
        "colab_type": "code",
        "outputId": "90cd36cb-f0e6-44fd-96ab-3e1c9c3b69da",
        "colab": {
          "base_uri": "https://localhost:8080/",
          "height": 54
        }
      },
      "cell_type": "code",
      "source": [
        "# Test code for BLEU score\n",
        "references, hypotheses = [], []\n",
        "\n",
        "for i in range(20):\n",
        "  input_sent, target_sent, translation = translate(flag=2)\n",
        "  references.append(target_sent)\n",
        "  hypotheses.append(\"<start> \" + translation)\n",
        "  \n",
        "results = sacrebleu.raw_corpus_bleu(hypotheses, [references])\n",
        "print(results)"
      ],
      "execution_count": 30,
      "outputs": [
        {
          "output_type": "stream",
          "text": [
            "BLEU(score=0.0, counts=[78, 23, 1, 0], totals=[212, 192, 172, 152], precisions=[36.79245283018868, 11.979166666666666, 0.5813953488372093, 0.0], bp=1.0, sys_len=212, ref_len=196)\n"
          ],
          "name": "stdout"
        }
      ]
    },
    {
      "metadata": {
        "id": "WqSWEDDzfKPq",
        "colab_type": "code",
        "colab": {}
      },
      "cell_type": "code",
      "source": [
        ""
      ],
      "execution_count": 0,
      "outputs": []
    },
    {
      "metadata": {
        "id": "zLgzr_V2hZ1n",
        "colab_type": "text"
      },
      "cell_type": "markdown",
      "source": [
        "## Step 5. Back-translate\n",
        "Use your two models to translate a sentence from English to Spanish, and then back to English. Compare the original sentence, and the back-translated sentence. Repeat this using an evaluation corpus of 1,000 sentences, and report the BLEU score."
      ]
    },
    {
      "metadata": {
        "id": "ZuiyrsAUOvyh",
        "colab_type": "text"
      },
      "cell_type": "markdown",
      "source": [
        "### 5.1. Preprocess test data"
      ]
    },
    {
      "metadata": {
        "id": "vU2Ifd1rhmZw",
        "colab_type": "code",
        "colab": {}
      },
      "cell_type": "code",
      "source": [
        "test_data = shuffled_data[selected_id[ntrain:], :]\n",
        "test_data = [(preprocess(eng), preprocess(spa)) for (eng, spa) in test_data]\n",
        "#print(train_data[0])\n",
        "test_eng, test_spa = list(zip(*test_data))\n",
        "test_eng = eng_tokenizer.texts_to_sequences(test_eng)\n",
        "test_eng = tf.keras.preprocessing.sequence.pad_sequences(test_eng, padding='post')"
      ],
      "execution_count": 0,
      "outputs": []
    },
    {
      "metadata": {
        "id": "GwRO9rDnO0UL",
        "colab_type": "text"
      },
      "cell_type": "markdown",
      "source": [
        "### 5.2. Using Model 1 to translate test data from English to Spanish."
      ]
    },
    {
      "metadata": {
        "id": "oFmTgv5qfKTc",
        "colab_type": "code",
        "colab": {}
      },
      "cell_type": "code",
      "source": [
        "middle_spa = []\n",
        "origin_eng = []\n",
        "for i in range(ntest):\n",
        "  input_sent, target_sent, translation = translate(idx=i, flag=3)\n",
        "  #print(input_sent)\n",
        "  origin_eng.append(input_sent)\n",
        "  middle_spa.append(translation[:-5])"
      ],
      "execution_count": 0,
      "outputs": []
    },
    {
      "metadata": {
        "id": "63IpkexsO9Sk",
        "colab_type": "text"
      },
      "cell_type": "markdown",
      "source": [
        "### 5.3. Using Model 2 to translate the output from Model 1 back to English"
      ]
    },
    {
      "metadata": {
        "id": "gi3v5GaKBhgJ",
        "colab_type": "code",
        "colab": {}
      },
      "cell_type": "code",
      "source": [
        "input_spa = spa_tokenizer.texts_to_sequences(middle_spa)\n",
        "input_spa = tf.keras.preprocessing.sequence.pad_sequences(input_spa, padding='post')\n",
        "#print(input_spa)"
      ],
      "execution_count": 0,
      "outputs": []
    },
    {
      "metadata": {
        "id": "BYyzBqvEhmeP",
        "colab_type": "code",
        "colab": {}
      },
      "cell_type": "code",
      "source": [
        "back_eng = []\n",
        "for i in range(ntest):\n",
        "  input_sent, target_sent, translation = translate(idx=i, flag=4)\n",
        "  #print(translation)\n",
        "  back_eng.append(\"<start> \" + translation)"
      ],
      "execution_count": 0,
      "outputs": []
    },
    {
      "metadata": {
        "id": "F4LvXYUrPGT1",
        "colab_type": "text"
      },
      "cell_type": "markdown",
      "source": [
        "### 5.4. Calculate BLEU"
      ]
    },
    {
      "metadata": {
        "id": "b5M_5-z9Gu3G",
        "colab_type": "code",
        "outputId": "c634c1ec-f035-4c28-bce8-c3bc26d8b185",
        "colab": {
          "base_uri": "https://localhost:8080/",
          "height": 54
        }
      },
      "cell_type": "code",
      "source": [
        "results = sacrebleu.raw_corpus_bleu(back_eng, [origin_eng])\n",
        "print(results)  "
      ],
      "execution_count": 35,
      "outputs": [
        {
          "output_type": "stream",
          "text": [
            "BLEU(score=2.432903795755739, counts=[3465, 992, 34, 14], totals=[9727, 8727, 7727, 6727], precisions=[35.622494088619305, 11.367021886100607, 0.4400155299598809, 0.2081165452653486], bp=0.9859128520180013, sys_len=9727, ref_len=9865)\n"
          ],
          "name": "stdout"
        }
      ]
    }
  ]
}