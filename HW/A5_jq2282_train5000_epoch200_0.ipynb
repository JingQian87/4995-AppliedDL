{
  "nbformat": 4,
  "nbformat_minor": 0,
  "metadata": {
    "colab": {
      "name": "A5_jq2282_train5000_epoch200_0.ipynb",
      "version": "0.3.2",
      "provenance": [],
      "collapsed_sections": [
        "uhk7LSRmH3H7"
      ]
    },
    "kernelspec": {
      "name": "python3",
      "display_name": "Python 3"
    },
    "accelerator": "GPU"
  },
  "cells": [
    {
      "metadata": {
        "id": "faP_TfySH12q",
        "colab_type": "text"
      },
      "cell_type": "markdown",
      "source": [
        "# Assignment 5 Machine Translation\n",
        "### Jing Qian (jq2282)"
      ]
    },
    {
      "metadata": {
        "id": "uhk7LSRmH3H7",
        "colab_type": "text"
      },
      "cell_type": "markdown",
      "source": [
        "## Step 1. Install packages and load libraries\n"
      ]
    },
    {
      "metadata": {
        "id": "TkZU21YuHt1Y",
        "colab_type": "code",
        "outputId": "9677a42c-7ba7-44ad-bc99-fa80a88f1586",
        "colab": {
          "base_uri": "https://localhost:8080/",
          "height": 71
        }
      },
      "cell_type": "code",
      "source": [
        "!pip install -q tensorflow-gpu==2.0.0-alpha0\n",
        "!pip install sacrebleu # https://github.com/mjpost/sacreBLEU"
      ],
      "execution_count": 1,
      "outputs": [
        {
          "output_type": "stream",
          "text": [
            "Requirement already satisfied: sacrebleu in /usr/local/lib/python3.6/dist-packages (1.3.1)\n",
            "Requirement already satisfied: typing in /usr/local/lib/python3.6/dist-packages (from sacrebleu) (3.6.6)\n"
          ],
          "name": "stdout"
        }
      ]
    },
    {
      "metadata": {
        "id": "bIPY-Wq6H0wK",
        "colab_type": "code",
        "colab": {}
      },
      "cell_type": "code",
      "source": [
        "import numpy as np\n",
        "import re\n",
        "import sacrebleu\n",
        "import tensorflow as tf\n",
        "import time\n",
        "import unicodedata"
      ],
      "execution_count": 0,
      "outputs": []
    },
    {
      "metadata": {
        "id": "VXGdnexoH_5q",
        "colab_type": "text"
      },
      "cell_type": "markdown",
      "source": [
        "## Step 2. Load and preprocess data"
      ]
    },
    {
      "metadata": {
        "id": "Tq8ETDnxJODV",
        "colab_type": "text"
      },
      "cell_type": "markdown",
      "source": [
        "### 2.1. Load and select data"
      ]
    },
    {
      "metadata": {
        "id": "2diHj7jsIFOj",
        "colab_type": "code",
        "colab": {}
      },
      "cell_type": "code",
      "source": [
        "ntrain = 5000\n",
        "ntest = 1000\n",
        "nall = ntrain + ntest\n",
        "nepoch = 200"
      ],
      "execution_count": 0,
      "outputs": []
    },
    {
      "metadata": {
        "id": "p7LoioJgIO97",
        "colab_type": "code",
        "outputId": "b7ea20f3-1553-400b-daf6-ff915dc73d6f",
        "colab": {
          "base_uri": "https://localhost:8080/",
          "height": 54
        }
      },
      "cell_type": "code",
      "source": [
        "from google.colab import drive\n",
        "drive.mount('/content/gdrive')"
      ],
      "execution_count": 4,
      "outputs": [
        {
          "output_type": "stream",
          "text": [
            "Drive already mounted at /content/gdrive; to attempt to forcibly remount, call drive.mount(\"/content/gdrive\", force_remount=True).\n"
          ],
          "name": "stdout"
        }
      ]
    },
    {
      "metadata": {
        "id": "SLRG0JchISlU",
        "colab_type": "code",
        "colab": {}
      },
      "cell_type": "code",
      "source": [
        "def load(fname):\n",
        "  # Load the file using std open\n",
        "  f = open(fname, 'r')\n",
        "  text = []\n",
        "  for line in f.readlines():\n",
        "    text.append(line.replace('\\n','').split('\\t'))\n",
        "    \n",
        "  f.close()\n",
        "  return text\n",
        "\n",
        "data = load('/content/gdrive/My Drive/spa-eng/spa.txt')"
      ],
      "execution_count": 0,
      "outputs": []
    },
    {
      "metadata": {
        "id": "sBcVdFi2IUaO",
        "colab_type": "code",
        "outputId": "1a080032-93b3-42ab-cff4-78ddab1abc85",
        "colab": {
          "base_uri": "https://localhost:8080/",
          "height": 71
        }
      },
      "cell_type": "code",
      "source": [
        "print(data[10:15])\n",
        "print(np.shape(data))"
      ],
      "execution_count": 6,
      "outputs": [
        {
          "output_type": "stream",
          "text": [
            "[['Fire!', '¡Disparad!'], ['Help!', '¡Ayuda!'], ['Help!', '¡Socorro! ¡Auxilio!'], ['Help!', '¡Auxilio!'], ['Jump!', '¡Salta!']]\n",
            "(118964, 2)\n"
          ],
          "name": "stdout"
        }
      ]
    },
    {
      "metadata": {
        "id": "mGNOKNclIYC-",
        "colab_type": "code",
        "outputId": "11521928-f959-4232-d86b-0cb58f4bee30",
        "colab": {
          "base_uri": "https://localhost:8080/",
          "height": 34
        }
      },
      "cell_type": "code",
      "source": [
        "#np.random.seed(10)\n",
        "shuffled_data = np.random.permutation(data)\n",
        "selected_id = np.random.randint(len(data), size = nall)\n",
        "train_data = shuffled_data[selected_id[:ntrain], :]\n",
        "print(np.shape(train_data), np.shape(shuffled_data))"
      ],
      "execution_count": 7,
      "outputs": [
        {
          "output_type": "stream",
          "text": [
            "(5000, 2) (118964, 2)\n"
          ],
          "name": "stdout"
        }
      ]
    },
    {
      "metadata": {
        "id": "skj36OdHJR-7",
        "colab_type": "text"
      },
      "cell_type": "markdown",
      "source": [
        "### 2.2. Preprocessing"
      ]
    },
    {
      "metadata": {
        "id": "Ndtl8GZZJUbZ",
        "colab_type": "code",
        "colab": {}
      },
      "cell_type": "code",
      "source": [
        "def preprocess(s):\n",
        "  # for details, see https://www.tensorflow.org/alpha/tutorials/sequences/nmt_with_attention\n",
        "  s = ''.join(c for c in unicodedata.normalize('NFD', s) if unicodedata.category(c) != 'Mn')\n",
        "  s = re.sub(r\"([?.!,¿])\", r\" \\1 \", s)\n",
        "  s = re.sub(r'[\" \"]+', \" \", s)\n",
        "  s = re.sub(r\"[^a-zA-Z?.!,¿]+\", \" \", s)\n",
        "  s = s.strip()\n",
        "  s = '<start> ' + s + ' <end>'\n",
        "  return s"
      ],
      "execution_count": 0,
      "outputs": []
    },
    {
      "metadata": {
        "id": "XeZOk_9qJktc",
        "colab_type": "code",
        "outputId": "44947c12-b61e-4774-a406-bf3c97ea28b6",
        "colab": {
          "base_uri": "https://localhost:8080/",
          "height": 54
        }
      },
      "cell_type": "code",
      "source": [
        "train_data = [(preprocess(eng), preprocess(spa)) for (eng, spa) in train_data]\n",
        "print(train_data[0])\n",
        "train_eng, train_spa = list(zip(*train_data))"
      ],
      "execution_count": 9,
      "outputs": [
        {
          "output_type": "stream",
          "text": [
            "('<start> Can you imagine that ? <end>', '<start> ¿ Podes imaginarlo ? <end>')\n"
          ],
          "name": "stdout"
        }
      ]
    },
    {
      "metadata": {
        "id": "8yTgCvxAKKEg",
        "colab_type": "code",
        "outputId": "a748cb46-a5e5-46b3-ff6e-e9b31ef5f2a5",
        "colab": {
          "base_uri": "https://localhost:8080/",
          "height": 68
        }
      },
      "cell_type": "code",
      "source": [
        "eng_tokenizer = tf.keras.preprocessing.text.Tokenizer(filters='')\n",
        "eng_tokenizer.fit_on_texts(train_eng)\n",
        "train_eng = eng_tokenizer.texts_to_sequences(train_eng)\n",
        "train_eng = tf.keras.preprocessing.sequence.pad_sequences(train_eng, padding='post')\n",
        "print(train_eng[0])"
      ],
      "execution_count": 10,
      "outputs": [
        {
          "output_type": "stream",
          "text": [
            "[  1  32   7 803  17  10   2   0   0   0   0   0   0   0   0   0   0   0\n",
            "   0   0   0   0   0   0   0   0   0   0   0   0   0   0   0   0   0   0\n",
            "   0   0   0]\n"
          ],
          "name": "stdout"
        }
      ]
    },
    {
      "metadata": {
        "id": "a5JpJftKK8gY",
        "colab_type": "code",
        "outputId": "d672a724-83ab-494c-d67c-bb428fa77d98",
        "colab": {
          "base_uri": "https://localhost:8080/",
          "height": 68
        }
      },
      "cell_type": "code",
      "source": [
        "spa_tokenizer = tf.keras.preprocessing.text.Tokenizer(filters='')\n",
        "spa_tokenizer.fit_on_texts(train_spa)\n",
        "train_spa = spa_tokenizer.texts_to_sequences(train_spa)\n",
        "train_spa = tf.keras.preprocessing.sequence.pad_sequences(train_spa, padding='post')\n",
        "print(train_spa[0])"
      ],
      "execution_count": 11,
      "outputs": [
        {
          "output_type": "stream",
          "text": [
            "[   1   11  801 2131   12    2    0    0    0    0    0    0    0    0\n",
            "    0    0    0    0    0    0    0    0    0    0    0    0    0    0\n",
            "    0    0    0    0    0    0    0    0    0    0    0    0]\n"
          ],
          "name": "stdout"
        }
      ]
    },
    {
      "metadata": {
        "id": "rs323ojHMrM_",
        "colab_type": "code",
        "colab": {}
      },
      "cell_type": "code",
      "source": [
        "eng_vocab_size = len(eng_tokenizer.word_index) + 1\n",
        "spa_vocab_size = len(spa_tokenizer.word_index) + 1"
      ],
      "execution_count": 0,
      "outputs": []
    },
    {
      "metadata": {
        "id": "h0jztFXOM6S1",
        "colab_type": "code",
        "outputId": "99e7e405-2b04-4bd8-b52c-6738cebee305",
        "colab": {
          "base_uri": "https://localhost:8080/",
          "height": 136
        }
      },
      "cell_type": "code",
      "source": [
        "# Demonstrate the correspondence between word and code, not used in model\n",
        "def decode(encoded, tokenizer):\n",
        "  for number in encoded:\n",
        "    if number !=0:\n",
        "      print (\"%d -> %s\" % (number, tokenizer.index_word[number]))\n",
        "      \n",
        "decode(train_eng[0], eng_tokenizer)"
      ],
      "execution_count": 13,
      "outputs": [
        {
          "output_type": "stream",
          "text": [
            "1 -> <start>\n",
            "32 -> can\n",
            "7 -> you\n",
            "803 -> imagine\n",
            "17 -> that\n",
            "10 -> ?\n",
            "2 -> <end>\n"
          ],
          "name": "stdout"
        }
      ]
    },
    {
      "metadata": {
        "id": "WCfXlH0AIo6f",
        "colab_type": "text"
      },
      "cell_type": "markdown",
      "source": [
        "## Step 3. Train Model 1: translate from English to Spanish\n"
      ]
    },
    {
      "metadata": {
        "id": "mq3UxYQzNNsg",
        "colab_type": "text"
      },
      "cell_type": "markdown",
      "source": [
        "### 3.1. Prepare data for model1"
      ]
    },
    {
      "metadata": {
        "id": "a0eLXu-NIoNK",
        "colab_type": "code",
        "outputId": "5ad374c4-e676-4be2-93d7-d9858b08f7da",
        "colab": {
          "base_uri": "https://localhost:8080/",
          "height": 190
        }
      },
      "cell_type": "code",
      "source": [
        "# Create labels for the decoder by shifting the target sequence\n",
        "# one to the right.\n",
        "target_labels = np.zeros(train_spa.shape)\n",
        "target_labels[:,0:train_spa.shape[1] -1] = train_spa[:,1:]\n",
        "\n",
        "print(\"Target sequence\", train_spa[0])\n",
        "print(\"Target label\", target_labels[0])"
      ],
      "execution_count": 14,
      "outputs": [
        {
          "output_type": "stream",
          "text": [
            "Target sequence [   1   11  801 2131   12    2    0    0    0    0    0    0    0    0\n",
            "    0    0    0    0    0    0    0    0    0    0    0    0    0    0\n",
            "    0    0    0    0    0    0    0    0    0    0    0    0]\n",
            "Target label [1.100e+01 8.010e+02 2.131e+03 1.200e+01 2.000e+00 0.000e+00 0.000e+00\n",
            " 0.000e+00 0.000e+00 0.000e+00 0.000e+00 0.000e+00 0.000e+00 0.000e+00\n",
            " 0.000e+00 0.000e+00 0.000e+00 0.000e+00 0.000e+00 0.000e+00 0.000e+00\n",
            " 0.000e+00 0.000e+00 0.000e+00 0.000e+00 0.000e+00 0.000e+00 0.000e+00\n",
            " 0.000e+00 0.000e+00 0.000e+00 0.000e+00 0.000e+00 0.000e+00 0.000e+00\n",
            " 0.000e+00 0.000e+00 0.000e+00 0.000e+00 0.000e+00]\n"
          ],
          "name": "stdout"
        }
      ]
    },
    {
      "metadata": {
        "id": "qafjzAUJN-fN",
        "colab_type": "code",
        "colab": {}
      },
      "cell_type": "code",
      "source": [
        "batch_size = 5\n",
        "dataset = tf.data.Dataset.from_tensor_slices((train_eng, train_spa, target_labels)).batch(batch_size)"
      ],
      "execution_count": 0,
      "outputs": []
    },
    {
      "metadata": {
        "id": "-QRBV9vaOJ_V",
        "colab_type": "code",
        "colab": {}
      },
      "cell_type": "code",
      "source": [
        "# Test code!\n",
        "# example_batch = next(iter(dataset))\n",
        "# source, target, taget_labels = example_batch\n",
        "# print(\"Shapes:\", source.shape, target.shape, taget_labels.shape)"
      ],
      "execution_count": 0,
      "outputs": []
    },
    {
      "metadata": {
        "id": "f95J-IkqQ6xv",
        "colab_type": "text"
      },
      "cell_type": "markdown",
      "source": [
        "### 3.2. General components for models"
      ]
    },
    {
      "metadata": {
        "id": "yCs_-y6FOPZZ",
        "colab_type": "code",
        "colab": {}
      },
      "cell_type": "code",
      "source": [
        "embedding_size = 32\n",
        "rnn_size = 64"
      ],
      "execution_count": 0,
      "outputs": []
    },
    {
      "metadata": {
        "id": "UrHuydEsOmPp",
        "colab_type": "code",
        "colab": {}
      },
      "cell_type": "code",
      "source": [
        "# Differ from example, add source_vocab_size to initialization\n",
        "class Encoder(tf.keras.Model):\n",
        "  def __init__(self, source_vocab_size):\n",
        "    super(Encoder, self).__init__()\n",
        "    \n",
        "    self.embedding = tf.keras.layers.Embedding(source_vocab_size,\n",
        "                                               embedding_size)\n",
        "    self.gru = tf.keras.layers.GRU(rnn_size, \n",
        "                                   return_sequences=True, \n",
        "                                   return_state=True)\n",
        "    \n",
        "  def call(self, x, hidden):\n",
        "    x = self.embedding(x)\n",
        "    output, state = self.gru(x, initial_state=hidden)        \n",
        "    return output, state\n",
        "  \n",
        "  def init_state(self, batch_size):\n",
        "    return tf.zeros((batch_size, rnn_size))"
      ],
      "execution_count": 0,
      "outputs": []
    },
    {
      "metadata": {
        "id": "AqWK4AHTOvBQ",
        "colab_type": "code",
        "colab": {}
      },
      "cell_type": "code",
      "source": [
        "# Test code!\n",
        "# Create a batch of one sentence\n",
        "# ex_sentence = tf.expand_dims(train_eng[0], axis=0)\n",
        "# ex_translation = tf.expand_dims(train_spa[0], axis=0)\n",
        "# ex_labels = tf.expand_dims(target_labels[0], axis=0)\n",
        "# print(ex_sentence.shape)\n"
      ],
      "execution_count": 0,
      "outputs": []
    },
    {
      "metadata": {
        "id": "TECibZsPQokh",
        "colab_type": "code",
        "colab": {}
      },
      "cell_type": "code",
      "source": [
        "# Differ from example, add target_vocab_size to initialization\n",
        "class Decoder(tf.keras.Model):\n",
        "  def __init__(self, target_vocab_size):\n",
        "    super(Decoder, self).__init__()\n",
        "    self.embedding = tf.keras.layers.Embedding(target_vocab_size, \n",
        "                                               embedding_size)\n",
        "    self.gru = tf.keras.layers.GRU(rnn_size, \n",
        "                                   return_sequences=True, \n",
        "                                   return_state=True)\n",
        "\n",
        "    self.dense = tf.keras.layers.Dense(target_vocab_size)\n",
        "\n",
        "\n",
        "  def call(self, x, hidden):\n",
        "    x = self.embedding(x)\n",
        "    output, state = self.gru(x, initial_state=hidden)\n",
        "    logits = self.dense(output)\n",
        "    return logits, state"
      ],
      "execution_count": 0,
      "outputs": []
    },
    {
      "metadata": {
        "id": "yo5xNFnJQyBw",
        "colab_type": "code",
        "colab": {}
      },
      "cell_type": "code",
      "source": [
        "crossentropy = tf.keras.losses.SparseCategoricalCrossentropy(from_logits=True)\n",
        "\n",
        "def calc_loss(targets, logits):\n",
        "  mask = tf.math.logical_not(tf.math.equal(targets, 0))\n",
        "  mask = tf.cast(mask, dtype=tf.int64)\n",
        "  return crossentropy(targets, logits, sample_weight=mask)\n",
        "\n",
        "#print(\"Loss\", calc_loss(ex_labels, decoder_output))"
      ],
      "execution_count": 0,
      "outputs": []
    },
    {
      "metadata": {
        "id": "cUM198fKQyEo",
        "colab_type": "code",
        "colab": {}
      },
      "cell_type": "code",
      "source": [
        "def translate(idx=None, flag=1):\n",
        "  \n",
        "    if idx == None: \n",
        "      idx = np.random.choice(len(train_data))\n",
        "    \n",
        "    if flag == 1:\n",
        "      source_data = train_eng\n",
        "      target_tokenizer = spa_tokenizer\n",
        "      encoder = encoder1\n",
        "      decoder = decoder1\n",
        "      tmp0, tmp1 = train_data[idx][0], train_data[idx][1]\n",
        "    elif flag == 2:\n",
        "      source_data = train_spa\n",
        "      target_tokenizer = eng_tokenizer\n",
        "      encoder = encoder2\n",
        "      decoder = decoder2\n",
        "      tmp0, tmp1 = train_data[idx][1], train_data[idx][0] \n",
        "    elif flag == 3:\n",
        "      source_data = test_eng\n",
        "      target_tokenizer = spa_tokenizer\n",
        "      encoder = encoder1\n",
        "      decoder = decoder1\n",
        "      tmp0, tmp1 = test_data[idx][0], test_data[idx][1]\n",
        "    elif flag == 4:\n",
        "      source_data = input_spa\n",
        "      target_tokenizer = eng_tokenizer\n",
        "      encoder = encoder2\n",
        "      decoder = decoder2\n",
        "      tmp0, tmp1 = middle_spa[idx], test_data[idx][0]       \n",
        "      \n",
        "    input_sent = source_data[idx]\n",
        "    input_sent = tf.expand_dims(input_sent, axis=0)\n",
        "    \n",
        "    hidden_state = encoder.init_state(batch_size=1)\n",
        "    output, hidden_state = encoder(input_sent, hidden_state)\n",
        "    \n",
        "    decoder_input = tf.expand_dims([target_tokenizer.word_index['<start>']], 0)\n",
        "    out_words = []\n",
        "    \n",
        "    decoder_state = hidden_state\n",
        "\n",
        "    while True:\n",
        "      \n",
        "        decoder_output, decoder_state = decoder(decoder_input, decoder_state)\n",
        "        decoder_input = tf.argmax(decoder_output, -1)\n",
        "        word_idx = decoder_input.numpy()[0][0]\n",
        "        # if we've predicted 0 (which is reserved, usually this will only happen\n",
        "        # before the decoder is trained, just stop translating and return\n",
        "        # what we have)\n",
        "        if word_idx == 0: \n",
        "          out_words.append('<end>')\n",
        "        else:\n",
        "          out_words.append(target_tokenizer.index_word[word_idx])\n",
        "\n",
        "        if out_words[-1] == '<end>' or len(out_words) >= 20:\n",
        "          break\n",
        "          \n",
        "    translation = ' '.join(out_words)    \n",
        "    return tmp0, tmp1, translation"
      ],
      "execution_count": 0,
      "outputs": []
    },
    {
      "metadata": {
        "id": "c7YSgbsvQyIB",
        "colab_type": "code",
        "colab": {}
      },
      "cell_type": "code",
      "source": [
        "# Test code\n",
        "# input_sent, target_sent, translation = translate()\n",
        "# print(\"Input: %s\\nTarget: %s\\nTranslation: %s\\n\" % (input_sent, target_sent, translation))"
      ],
      "execution_count": 0,
      "outputs": []
    },
    {
      "metadata": {
        "id": "spcI0A4HWRQe",
        "colab_type": "code",
        "colab": {}
      },
      "cell_type": "code",
      "source": [
        "optimizer = tf.keras.optimizers.Adam()"
      ],
      "execution_count": 0,
      "outputs": []
    },
    {
      "metadata": {
        "id": "8HXX5F79WUIy",
        "colab_type": "text"
      },
      "cell_type": "markdown",
      "source": [
        "### 3.3. Train Model 1: from English to Spanish"
      ]
    },
    {
      "metadata": {
        "id": "Np7vJsGQWcin",
        "colab_type": "code",
        "colab": {}
      },
      "cell_type": "code",
      "source": [
        "@tf.function # remove this annotation when debugging\n",
        "def train_step(source_seq, target_seq, target_labels, initial_state):\n",
        "  \n",
        "  with tf.GradientTape() as tape:\n",
        "    encoder_output, encoder_state = encoder1(source_seq, initial_state)\n",
        "    logits, decoder_state = decoder1(target_seq, encoder_state)\n",
        "    loss = calc_loss(target_labels, logits)\n",
        "\n",
        "  variables = encoder1.trainable_variables + decoder1.trainable_variables\n",
        "  gradients = tape.gradient(loss, variables)\n",
        "  optimizer.apply_gradients(zip(gradients, variables))\n",
        "\n",
        "  return loss"
      ],
      "execution_count": 0,
      "outputs": []
    },
    {
      "metadata": {
        "id": "vHm1Riq8YH-0",
        "colab_type": "code",
        "outputId": "cc600bed-9fbb-42c8-c8b1-aec89694bb7a",
        "colab": {
          "base_uri": "https://localhost:8080/",
          "height": 1737
        }
      },
      "cell_type": "code",
      "source": [
        "EPOCHS = nepoch\n",
        "\n",
        "encoder1 = Encoder(eng_vocab_size)\n",
        "decoder1 = Decoder(spa_vocab_size)\n",
        "\n",
        "for epoch in range(EPOCHS):\n",
        "    start = time.time()\n",
        "  \n",
        "    en_initial_states = encoder1.init_state(batch_size)\n",
        "    \n",
        "    for batch, (source_seq, target_seq, target_labels) in enumerate(dataset):\n",
        "      loss = train_step(source_seq, target_seq, target_labels, en_initial_states)\n",
        "      elapsed = time.time() - start\n",
        "    \n",
        "    if epoch % 10 == 0:\n",
        "      print(\"Epoch #%d, Loss %.4f, Time %.2f sec\" % (epoch, loss, elapsed))\n",
        "      input_sent, target_sent, translation = translate()\n",
        "      print(\"Input: %s\\nTarget: %s\\nTranslation: %s\\n\" % (input_sent, target_sent, translation))"
      ],
      "execution_count": 25,
      "outputs": [
        {
          "output_type": "stream",
          "text": [
            "Epoch #0, Loss 1.2908, Time 17.25 sec\n",
            "Input: <start> She surprised him with a small gift . <end>\n",
            "Target: <start> Ella lo sorprendio con un pequeno obsequio . <end>\n",
            "Translation: tom que no que no que no que que que que que que que que que que que que que\n",
            "\n",
            "Epoch #10, Loss 0.7615, Time 9.31 sec\n",
            "Input: <start> There s a lot of traffic . <end>\n",
            "Target: <start> Hay mucho trafico . <end>\n",
            "Translation: no puedo entender . <end>\n",
            "\n",
            "Epoch #20, Loss 0.5016, Time 8.17 sec\n",
            "Input: <start> I want everyone here to help . <end>\n",
            "Target: <start> Quiero que todos aqui ayuden . <end>\n",
            "Translation: quiero que tom se haga hijos . <end>\n",
            "\n",
            "Epoch #30, Loss 0.3699, Time 8.18 sec\n",
            "Input: <start> Tom took a trip to Boston . <end>\n",
            "Target: <start> Tom hizo un viaje a Boston . <end>\n",
            "Translation: tom no quiere nada . <end>\n",
            "\n",
            "Epoch #40, Loss 0.2682, Time 5.69 sec\n",
            "Input: <start> Please tell me it s not true . <end>\n",
            "Target: <start> Por favor dime que no es verdad . <end>\n",
            "Translation: por favor , averigua donde se encuentra . <end>\n",
            "\n",
            "Epoch #50, Loss 0.2256, Time 5.67 sec\n",
            "Input: <start> I d like to see them again . <end>\n",
            "Target: <start> Me gustaria volver a verlos . <end>\n",
            "Translation: me encontre con ella en la calle . <end>\n",
            "\n",
            "Epoch #60, Loss 0.2088, Time 5.70 sec\n",
            "Input: <start> No one will hold us back . <end>\n",
            "Target: <start> Nadie nos retendra . <end>\n",
            "Translation: nadie esta muy cansado . <end>\n",
            "\n",
            "Epoch #70, Loss 0.1802, Time 5.68 sec\n",
            "Input: <start> Tom asked me if I knew where Mary lived . <end>\n",
            "Target: <start> Tom me pregunto si acaso sabia donde vive Maria . <end>\n",
            "Translation: tom y mary juegan a hundir la nave . <end>\n",
            "\n",
            "Epoch #80, Loss 0.1484, Time 9.87 sec\n",
            "Input: <start> I m from Romania . <end>\n",
            "Target: <start> Soy de Rumania . <end>\n",
            "Translation: soy el mejor . <end>\n",
            "\n",
            "Epoch #90, Loss 0.1294, Time 9.83 sec\n",
            "Input: <start> Can you please take this package to the post office ? <end>\n",
            "Target: <start> ¿ Puedes llevar este paquete a la oficina de correos ? <end>\n",
            "Translation: ¿ puedes recordar eso ? <end>\n",
            "\n",
            "Epoch #100, Loss 0.1272, Time 10.14 sec\n",
            "Input: <start> We were nearly frozen to death . <end>\n",
            "Target: <start> Casi nos morimos de frio . <end>\n",
            "Translation: nosotros obedecimos las reglas . <end>\n",
            "\n",
            "Epoch #110, Loss 0.1399, Time 9.91 sec\n",
            "Input: <start> Tom was absolutely terrific . <end>\n",
            "Target: <start> Tom lo ha hecho estupendamente . <end>\n",
            "Translation: tom dijo que era el problema , ¿ no ? <end>\n",
            "\n",
            "Epoch #120, Loss 0.1067, Time 9.80 sec\n",
            "Input: <start> Tom told me he wouldn t be late , but he still hasn t shown up . <end>\n",
            "Target: <start> Tom me dijo que no se iba a atrasar , pero todavia no se aparece . <end>\n",
            "Translation: tom es un bailarin profesional . <end>\n",
            "\n",
            "Epoch #130, Loss 0.1151, Time 9.77 sec\n",
            "Input: <start> I slept on the couch . <end>\n",
            "Target: <start> Dormi en el sofa . <end>\n",
            "Translation: dormi en el banco . <end>\n",
            "\n",
            "Epoch #140, Loss 0.0973, Time 9.90 sec\n",
            "Input: <start> Won t you speak to Tom about it ? <end>\n",
            "Target: <start> ¿ No hablaras con Tom al respecto ? <end>\n",
            "Translation: ¿ no hablaras con tom ? <end>\n",
            "\n",
            "Epoch #150, Loss 0.0634, Time 9.99 sec\n",
            "Input: <start> Tom is very foolish . <end>\n",
            "Target: <start> Tom es muy insensato . <end>\n",
            "Translation: tom es el unico canadiense de aqui . <end>\n",
            "\n",
            "Epoch #160, Loss 0.0617, Time 9.91 sec\n",
            "Input: <start> In my room , there are no clocks . <end>\n",
            "Target: <start> No hay ningun reloj en mi habitacion . <end>\n",
            "Translation: en lugar minutos solo . <end>\n",
            "\n",
            "Epoch #170, Loss 0.0740, Time 9.82 sec\n",
            "Input: <start> They brought us a basket of fruit . <end>\n",
            "Target: <start> Nos trajeron una canasta de fruta . <end>\n",
            "Translation: nos enfrentamos a nuevos tipos de enfermedades . <end>\n",
            "\n",
            "Epoch #180, Loss 0.0679, Time 9.80 sec\n",
            "Input: <start> My mother is in the kitchen . <end>\n",
            "Target: <start> Mi madre esta en la cocina . <end>\n",
            "Translation: mi madre esta en la cocina . <end>\n",
            "\n",
            "Epoch #190, Loss 0.0416, Time 10.41 sec\n",
            "Input: <start> Why does the US government let people have guns ? <end>\n",
            "Target: <start> ¿ Por que el gobierno de Estados Unidos deja que la gente tenga armas ? <end>\n",
            "Translation: ¿ por donde queda la playa ? <end>\n",
            "\n"
          ],
          "name": "stdout"
        }
      ]
    },
    {
      "metadata": {
        "id": "OhGierZMQyK9",
        "colab_type": "code",
        "outputId": "abbbcec1-abf6-4cfa-8144-8f1d0131df19",
        "colab": {
          "base_uri": "https://localhost:8080/",
          "height": 54
        }
      },
      "cell_type": "code",
      "source": [
        "# Test code for BLEU score\n",
        "references, hypotheses = [], []\n",
        "\n",
        "for i in range(20):\n",
        "  input_sent, target_sent, translation = translate()\n",
        "  references.append(target_sent)\n",
        "  hypotheses.append(\"<start> \" + translation)\n",
        "  \n",
        "results = sacrebleu.raw_corpus_bleu(hypotheses, [references])\n",
        "print(results)"
      ],
      "execution_count": 26,
      "outputs": [
        {
          "output_type": "stream",
          "text": [
            "BLEU(score=18.80926356676165, counts=[87, 38, 17, 12], totals=[184, 164, 144, 124], precisions=[47.28260869565217, 23.170731707317074, 11.805555555555555, 9.67741935483871], bp=1.0, sys_len=184, ref_len=168)\n"
          ],
          "name": "stdout"
        }
      ]
    },
    {
      "metadata": {
        "id": "M7YyijjLcvu6",
        "colab_type": "text"
      },
      "cell_type": "markdown",
      "source": [
        "## Step 4. Train Model 2: translate from Spanish to English"
      ]
    },
    {
      "metadata": {
        "id": "L444gcl7e1Dn",
        "colab_type": "text"
      },
      "cell_type": "markdown",
      "source": [
        "### 4.1. Prepare data for model2\n"
      ]
    },
    {
      "metadata": {
        "id": "j4tL981we0H9",
        "colab_type": "code",
        "colab": {}
      },
      "cell_type": "code",
      "source": [
        "# Create labels for the decoder by shifting the target sequence\n",
        "# one to the right.\n",
        "target_labels = np.zeros(train_eng.shape)\n",
        "target_labels[:,0:train_eng.shape[1] -1] = train_eng[:,1:]\n",
        "dataset = tf.data.Dataset.from_tensor_slices((train_spa, train_eng, target_labels)).batch(batch_size)"
      ],
      "execution_count": 0,
      "outputs": []
    },
    {
      "metadata": {
        "id": "5bsG7DZjfMTy",
        "colab_type": "text"
      },
      "cell_type": "markdown",
      "source": [
        "### 4.2 Train Model2: from Spanish to English"
      ]
    },
    {
      "metadata": {
        "id": "NtJ1SGR-fLkQ",
        "colab_type": "code",
        "colab": {}
      },
      "cell_type": "code",
      "source": [
        "@tf.function # remove this annotation when debugging\n",
        "def train_step2(source_seq, target_seq, target_labels, initial_state):\n",
        "  \n",
        "  with tf.GradientTape() as tape:\n",
        "    encoder_output, encoder_state = encoder2(source_seq, initial_state)\n",
        "    logits, decoder_state = decoder2(target_seq, encoder_state)\n",
        "    loss = calc_loss(target_labels, logits)\n",
        "\n",
        "  variables = encoder2.trainable_variables + decoder2.trainable_variables\n",
        "  gradients = tape.gradient(loss, variables)\n",
        "  optimizer.apply_gradients(zip(gradients, variables))\n",
        "\n",
        "  return loss"
      ],
      "execution_count": 0,
      "outputs": []
    },
    {
      "metadata": {
        "id": "3Ayomy6DQyOI",
        "colab_type": "code",
        "outputId": "0fc58015-5c7f-439b-aede-043bcccdf6a8",
        "colab": {
          "base_uri": "https://localhost:8080/",
          "height": 1737
        }
      },
      "cell_type": "code",
      "source": [
        "encoder2 = Encoder(spa_vocab_size)\n",
        "decoder2 = Decoder(eng_vocab_size)\n",
        "\n",
        "for epoch in range(EPOCHS):\n",
        "    start = time.time()\n",
        "  \n",
        "    en_initial_states = encoder2.init_state(batch_size)\n",
        "    \n",
        "    for batch, (source_seq, target_seq, target_labels) in enumerate(dataset):\n",
        "      loss = train_step2(source_seq, target_seq, target_labels, en_initial_states)\n",
        "      elapsed = time.time() - start\n",
        "    \n",
        "    if epoch % 10 == 0:\n",
        "      print(\"Epoch #%d, Loss %.4f, Time %.2f sec\" % (epoch, loss, elapsed))\n",
        "      input_sent, target_sent, translation = translate(flag=2)\n",
        "      print(\"Input: %s\\nTarget: %s\\nTranslation: %s\\n\" % (input_sent, target_sent, translation))"
      ],
      "execution_count": 29,
      "outputs": [
        {
          "output_type": "stream",
          "text": [
            "Epoch #0, Loss 1.3393, Time 13.27 sec\n",
            "Input: <start> Ella volvera a las cinco . <end>\n",
            "Target: <start> She will be back at five . <end>\n",
            "Translation: i m a good . <end>\n",
            "\n",
            "Epoch #10, Loss 0.6856, Time 9.85 sec\n",
            "Input: <start> Tengo que ir a por ello . <end>\n",
            "Target: <start> I have to go get it . <end>\n",
            "Translation: i m not sure i m going to you . <end>\n",
            "\n",
            "Epoch #20, Loss 0.4718, Time 9.82 sec\n",
            "Input: <start> Las negociaciones naufragaron . <end>\n",
            "Target: <start> The negotiations fell through . <end>\n",
            "Translation: the servants worked like ants . <end>\n",
            "\n",
            "Epoch #30, Loss 0.2978, Time 10.28 sec\n",
            "Input: <start> ¿ Es posible determinar el diametro por la circunferencia ? <end>\n",
            "Target: <start> Is it possible to determine the diameter from the circumference ? <end>\n",
            "Translation: is this seat is the most beautiful sight that i broke ? <end>\n",
            "\n",
            "Epoch #40, Loss 0.2140, Time 9.80 sec\n",
            "Input: <start> Tienes razon . <end>\n",
            "Target: <start> You re right . <end>\n",
            "Translation: you re very beautiful . <end>\n",
            "\n",
            "Epoch #50, Loss 0.1387, Time 9.71 sec\n",
            "Input: <start> Se sorprendio al encontrar tantas cosas bonitas dentro de la caja . <end>\n",
            "Target: <start> She was surprised to find many beautiful things in the box . <end>\n",
            "Translation: she was surprised to an hotel at four engineer . <end>\n",
            "\n",
            "Epoch #60, Loss 0.1020, Time 9.80 sec\n",
            "Input: <start> Tom debera salir del edificio . <end>\n",
            "Target: <start> Tom will have to leave the building . <end>\n",
            "Translation: tom could not pay the bill . <end>\n",
            "\n",
            "Epoch #70, Loss 0.0888, Time 10.35 sec\n",
            "Input: <start> Me gustaria salir contigo . <end>\n",
            "Target: <start> I d like to go out with you . <end>\n",
            "Translation: i d like to go out with you . <end>\n",
            "\n",
            "Epoch #80, Loss 0.0589, Time 10.19 sec\n",
            "Input: <start> El no ha ido nunca antes a Okinawa . <end>\n",
            "Target: <start> He has never been to Okinawa before . <end>\n",
            "Translation: he never told his work at his two . <end>\n",
            "\n",
            "Epoch #90, Loss 0.0404, Time 9.49 sec\n",
            "Input: <start> Se me rompio un vaso cuando lavaba los platos . <end>\n",
            "Target: <start> I broke a glass when I did the dishes . <end>\n",
            "Translation: i broke a glass when i did the dishes . <end>\n",
            "\n",
            "Epoch #100, Loss 0.0446, Time 9.44 sec\n",
            "Input: <start> Hice eso cuando estaba borracho . <end>\n",
            "Target: <start> I did it while I was drunk . <end>\n",
            "Translation: i was really scared . <end>\n",
            "\n",
            "Epoch #110, Loss 0.0759, Time 9.51 sec\n",
            "Input: <start> ¿ Quieres ver el partido de beisbol por la tele ? <end>\n",
            "Target: <start> Do you want to watch the baseball game on TV ? <end>\n",
            "Translation: do you such more beautiful next need a hurry ? <end>\n",
            "\n",
            "Epoch #120, Loss 0.0325, Time 10.33 sec\n",
            "Input: <start> Tom quiere que Mary lo quiera . <end>\n",
            "Target: <start> Tom wants Mary to want him . <end>\n",
            "Translation: tom wants mary to sing . <end>\n",
            "\n",
            "Epoch #130, Loss 0.0299, Time 9.26 sec\n",
            "Input: <start> El no es un amigo , es un conocido . <end>\n",
            "Target: <start> He is not a friend , but an acquaintance . <end>\n",
            "Translation: he is not a friend , but an acquaintance . <end>\n",
            "\n",
            "Epoch #140, Loss 0.0166, Time 9.47 sec\n",
            "Input: <start> La fiebre aftosa es altamente contagiosa . <end>\n",
            "Target: <start> Foot and mouth disease is highly contagious . <end>\n",
            "Translation: foot and mouth disease is highly contagious . <end>\n",
            "\n",
            "Epoch #150, Loss 0.0121, Time 9.28 sec\n",
            "Input: <start> ¿ No te acuerdas de la pregunta ? <end>\n",
            "Target: <start> Don t you remember the question ? <end>\n",
            "Translation: don t you kept in this night . <end>\n",
            "\n",
            "Epoch #160, Loss 0.0618, Time 9.51 sec\n",
            "Input: <start> Lo que dice el periodico es verdad . <end>\n",
            "Target: <start> What the newspapers say is true . <end>\n",
            "Translation: that isn t last time . <end>\n",
            "\n",
            "Epoch #170, Loss 0.0117, Time 10.23 sec\n",
            "Input: <start> Tom ya tiene planes para este fin de semana . <end>\n",
            "Target: <start> Tom already has plans for this weekend . <end>\n",
            "Translation: tom already has plans for this weekend . <end>\n",
            "\n",
            "Epoch #180, Loss 0.0105, Time 9.31 sec\n",
            "Input: <start> No lo voy a soportar mas . <end>\n",
            "Target: <start> I won t tolerate it anymore . <end>\n",
            "Translation: i won t tolerate it anymore . <end>\n",
            "\n",
            "Epoch #190, Loss 0.0107, Time 9.66 sec\n",
            "Input: <start> Creo que en realidad no se me da tan bien el frances . <end>\n",
            "Target: <start> I think I m really not so good at French . <end>\n",
            "Translation: i think i should be right now . <end>\n",
            "\n"
          ],
          "name": "stdout"
        }
      ]
    },
    {
      "metadata": {
        "id": "yk3deGx8fKMa",
        "colab_type": "code",
        "colab": {
          "base_uri": "https://localhost:8080/",
          "height": 54
        },
        "outputId": "1fc6083d-39dc-42c6-8df9-6aa0c90541a8"
      },
      "cell_type": "code",
      "source": [
        "# Test code for BLEU score\n",
        "references, hypotheses = [], []\n",
        "\n",
        "for i in range(20):\n",
        "  input_sent, target_sent, translation = translate(flag=2)\n",
        "  references.append(target_sent)\n",
        "  hypotheses.append(\"<start> \" + translation)\n",
        "  \n",
        "results = sacrebleu.raw_corpus_bleu(hypotheses, [references])\n",
        "print(results)"
      ],
      "execution_count": 30,
      "outputs": [
        {
          "output_type": "stream",
          "text": [
            "BLEU(score=61.832097034611124, counts=[150, 104, 81, 64], totals=[185, 165, 145, 125], precisions=[81.08108108108108, 63.03030303030303, 55.86206896551724, 51.2], bp=1.0, sys_len=185, ref_len=184)\n"
          ],
          "name": "stdout"
        }
      ]
    },
    {
      "metadata": {
        "id": "WqSWEDDzfKPq",
        "colab_type": "code",
        "colab": {}
      },
      "cell_type": "code",
      "source": [
        ""
      ],
      "execution_count": 0,
      "outputs": []
    },
    {
      "metadata": {
        "id": "zLgzr_V2hZ1n",
        "colab_type": "text"
      },
      "cell_type": "markdown",
      "source": [
        "## Step 5. Back-translate\n",
        "Use your two models to translate a sentence from English to Spanish, and then back to English. Compare the original sentence, and the back-translated sentence. Repeat this using an evaluation corpus of 1,000 sentences, and report the BLEU score."
      ]
    },
    {
      "metadata": {
        "id": "ZuiyrsAUOvyh",
        "colab_type": "text"
      },
      "cell_type": "markdown",
      "source": [
        "### 5.1. Preprocess test data"
      ]
    },
    {
      "metadata": {
        "id": "vU2Ifd1rhmZw",
        "colab_type": "code",
        "colab": {}
      },
      "cell_type": "code",
      "source": [
        "test_data = shuffled_data[selected_id[ntrain:], :]\n",
        "test_data = [(preprocess(eng), preprocess(spa)) for (eng, spa) in test_data]\n",
        "#print(train_data[0])\n",
        "test_eng, test_spa = list(zip(*test_data))\n",
        "test_eng = eng_tokenizer.texts_to_sequences(test_eng)\n",
        "test_eng = tf.keras.preprocessing.sequence.pad_sequences(test_eng, padding='post')"
      ],
      "execution_count": 0,
      "outputs": []
    },
    {
      "metadata": {
        "id": "GwRO9rDnO0UL",
        "colab_type": "text"
      },
      "cell_type": "markdown",
      "source": [
        "### 5.2. Using Model 1 to translate test data from English to Spanish."
      ]
    },
    {
      "metadata": {
        "id": "oFmTgv5qfKTc",
        "colab_type": "code",
        "colab": {}
      },
      "cell_type": "code",
      "source": [
        "middle_spa = []\n",
        "origin_eng = []\n",
        "for i in range(ntest):\n",
        "  input_sent, target_sent, translation = translate(idx=i, flag=3)\n",
        "  #print(input_sent)\n",
        "  origin_eng.append(input_sent)\n",
        "  middle_spa.append(translation[:-5])"
      ],
      "execution_count": 0,
      "outputs": []
    },
    {
      "metadata": {
        "id": "63IpkexsO9Sk",
        "colab_type": "text"
      },
      "cell_type": "markdown",
      "source": [
        "### 5.3. Using Model 2 to translate the output from Model 1 back to English"
      ]
    },
    {
      "metadata": {
        "id": "gi3v5GaKBhgJ",
        "colab_type": "code",
        "colab": {}
      },
      "cell_type": "code",
      "source": [
        "input_spa = spa_tokenizer.texts_to_sequences(middle_spa)\n",
        "input_spa = tf.keras.preprocessing.sequence.pad_sequences(input_spa, padding='post')\n",
        "#print(input_spa)"
      ],
      "execution_count": 0,
      "outputs": []
    },
    {
      "metadata": {
        "id": "BYyzBqvEhmeP",
        "colab_type": "code",
        "colab": {}
      },
      "cell_type": "code",
      "source": [
        "back_eng = []\n",
        "for i in range(ntest):\n",
        "  input_sent, target_sent, translation = translate(idx=i, flag=4)\n",
        "  #print(translation)\n",
        "  back_eng.append(\"<start> \" + translation)"
      ],
      "execution_count": 0,
      "outputs": []
    },
    {
      "metadata": {
        "id": "F4LvXYUrPGT1",
        "colab_type": "text"
      },
      "cell_type": "markdown",
      "source": [
        "### 5.4. Calculate BLEU"
      ]
    },
    {
      "metadata": {
        "id": "b5M_5-z9Gu3G",
        "colab_type": "code",
        "colab": {
          "base_uri": "https://localhost:8080/",
          "height": 54
        },
        "outputId": "86d5830c-96db-4cce-bf6a-878061b5c0ff"
      },
      "cell_type": "code",
      "source": [
        "results = sacrebleu.raw_corpus_bleu(back_eng, [origin_eng])\n",
        "print(results)  "
      ],
      "execution_count": 35,
      "outputs": [
        {
          "output_type": "stream",
          "text": [
            "BLEU(score=0.0, counts=[3362, 916, 6, 0], totals=[12153, 11153, 10153, 9153], precisions=[27.66395128774788, 8.213036851071461, 0.059095833743721064, 0.0], bp=1.0, sys_len=12153, ref_len=9648)\n"
          ],
          "name": "stdout"
        }
      ]
    }
  ]
}