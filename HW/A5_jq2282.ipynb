{
  "nbformat": 4,
  "nbformat_minor": 0,
  "metadata": {
    "colab": {
      "name": "A5_jq2282.ipynb",
      "version": "0.3.2",
      "provenance": [],
      "collapsed_sections": []
    },
    "kernelspec": {
      "name": "python3",
      "display_name": "Python 3"
    },
    "accelerator": "TPU"
  },
  "cells": [
    {
      "metadata": {
        "id": "Nl9O4i7mv4f0",
        "colab_type": "text"
      },
      "cell_type": "markdown",
      "source": [
        "# Assignment 5 Machine Translation\n",
        "### Jing Qian (jq2282)"
      ]
    },
    {
      "metadata": {
        "id": "7z55z28i738n",
        "colab_type": "text"
      },
      "cell_type": "markdown",
      "source": [
        "## Step 1. Install packages and load libraries\n"
      ]
    },
    {
      "metadata": {
        "id": "Xq06vFFe7-n-",
        "colab_type": "code",
        "colab": {}
      },
      "cell_type": "code",
      "source": [
        "!pip install -q tensorflow-gpu==2.0.0-alpha0"
      ],
      "execution_count": 0,
      "outputs": []
    },
    {
      "metadata": {
        "id": "bVtBFdMz8CAL",
        "colab_type": "code",
        "colab": {
          "base_uri": "https://localhost:8080/",
          "height": 71
        },
        "outputId": "2bd6f17e-8b9c-4288-bb99-f456014c59e2"
      },
      "cell_type": "code",
      "source": [
        "!pip install sacrebleu # https://github.com/mjpost/sacreBLEU"
      ],
      "execution_count": 23,
      "outputs": [
        {
          "output_type": "stream",
          "text": [
            "Requirement already satisfied: sacrebleu in /usr/local/lib/python3.6/dist-packages (1.3.1)\n",
            "Requirement already satisfied: typing in /usr/local/lib/python3.6/dist-packages (from sacrebleu) (3.6.6)\n"
          ],
          "name": "stdout"
        }
      ]
    },
    {
      "metadata": {
        "id": "2iTUshdZ8GVd",
        "colab_type": "code",
        "colab": {}
      },
      "cell_type": "code",
      "source": [
        "import numpy as np\n",
        "import re\n",
        "import sacrebleu\n",
        "import tensorflow as tf\n",
        "import time\n",
        "import unicodedata"
      ],
      "execution_count": 0,
      "outputs": []
    },
    {
      "metadata": {
        "id": "hsLPnQ7awRjf",
        "colab_type": "text"
      },
      "cell_type": "markdown",
      "source": [
        "## Step 2. Load dataset for English to Spanish"
      ]
    },
    {
      "metadata": {
        "id": "UD7o60AKwTmW",
        "colab_type": "code",
        "outputId": "4466b190-2633-4eb8-af80-b4dec20830c3",
        "colab": {
          "base_uri": "https://localhost:8080/",
          "height": 122
        }
      },
      "cell_type": "code",
      "source": [
        "from google.colab import drive\n",
        "drive.mount('/content/gdrive')"
      ],
      "execution_count": 1,
      "outputs": [
        {
          "output_type": "stream",
          "text": [
            "Go to this URL in a browser: https://accounts.google.com/o/oauth2/auth?client_id=947318989803-6bn6qk8qdgf4n4g3pfee6491hc0brc4i.apps.googleusercontent.com&redirect_uri=urn%3Aietf%3Awg%3Aoauth%3A2.0%3Aoob&scope=email%20https%3A%2F%2Fwww.googleapis.com%2Fauth%2Fdocs.test%20https%3A%2F%2Fwww.googleapis.com%2Fauth%2Fdrive%20https%3A%2F%2Fwww.googleapis.com%2Fauth%2Fdrive.photos.readonly%20https%3A%2F%2Fwww.googleapis.com%2Fauth%2Fpeopleapi.readonly&response_type=code\n",
            "\n",
            "Enter your authorization code:\n",
            "··········\n",
            "Mounted at /content/gdrive\n"
          ],
          "name": "stdout"
        }
      ]
    },
    {
      "metadata": {
        "id": "uFVeZLQAww7K",
        "colab_type": "code",
        "colab": {}
      },
      "cell_type": "code",
      "source": [
        "def load(fname):\n",
        "  # Load the file using std open\n",
        "  f = open(fname, 'r')\n",
        "  text = []\n",
        "  for line in f.readlines():\n",
        "    text.append(line.replace('\\n','').split('\\t'))\n",
        "    \n",
        "  f.close()\n",
        "  return text\n",
        "\n",
        "data = load('/content/gdrive/My Drive/spa-eng/spa.txt')"
      ],
      "execution_count": 0,
      "outputs": []
    },
    {
      "metadata": {
        "id": "OL1LWQaQzh-0",
        "colab_type": "code",
        "outputId": "ece069a9-cc23-43ec-9283-2cb5bb5712cc",
        "colab": {
          "base_uri": "https://localhost:8080/",
          "height": 71
        }
      },
      "cell_type": "code",
      "source": [
        "print(data[10:15])\n",
        "print(np.shape(data))"
      ],
      "execution_count": 3,
      "outputs": [
        {
          "output_type": "stream",
          "text": [
            "[['Fire!', '¡Disparad!'], ['Help!', '¡Ayuda!'], ['Help!', '¡Socorro! ¡Auxilio!'], ['Help!', '¡Auxilio!'], ['Jump!', '¡Salta!']]\n",
            "(118964, 2)\n"
          ],
          "name": "stdout"
        }
      ]
    },
    {
      "metadata": {
        "id": "kXxXMZvO5zdA",
        "colab_type": "code",
        "colab": {
          "base_uri": "https://localhost:8080/",
          "height": 442
        },
        "outputId": "e82f7ede-370c-452d-f0c3-d2cf46abf759"
      },
      "cell_type": "code",
      "source": [
        "# Test code for permutation. Delete in the submit version.\n",
        "arr = np.arange(9).reshape(3,3)\n",
        "for i in range(5):\n",
        "  np.random.seed(10)\n",
        "  b = np.random.permutation(arr) # permutation not in space; shuffle in space\n",
        "  print(arr,b)"
      ],
      "execution_count": 21,
      "outputs": [
        {
          "output_type": "stream",
          "text": [
            "[[0 1 2]\n",
            " [3 4 5]\n",
            " [6 7 8]] [[0 1 2]\n",
            " [6 7 8]\n",
            " [3 4 5]]\n",
            "[[0 1 2]\n",
            " [3 4 5]\n",
            " [6 7 8]] [[0 1 2]\n",
            " [6 7 8]\n",
            " [3 4 5]]\n",
            "[[0 1 2]\n",
            " [3 4 5]\n",
            " [6 7 8]] [[0 1 2]\n",
            " [6 7 8]\n",
            " [3 4 5]]\n",
            "[[0 1 2]\n",
            " [3 4 5]\n",
            " [6 7 8]] [[0 1 2]\n",
            " [6 7 8]\n",
            " [3 4 5]]\n",
            "[[0 1 2]\n",
            " [3 4 5]\n",
            " [6 7 8]] [[0 1 2]\n",
            " [6 7 8]\n",
            " [3 4 5]]\n"
          ],
          "name": "stdout"
        }
      ]
    },
    {
      "metadata": {
        "id": "Ok7f6Amz7nC0",
        "colab_type": "text"
      },
      "cell_type": "markdown",
      "source": [
        "Start without worrying about duplicate translations\n",
        "* Shuffle the dataset\n",
        "* Randomly choose 5000 sentences as training, 1000 as validation."
      ]
    },
    {
      "metadata": {
        "id": "4qcTrL_E8iws",
        "colab_type": "code",
        "colab": {}
      },
      "cell_type": "code",
      "source": [
        "np.random.seed(10)\n",
        "shuffled_data = np.random.permutation(data)\n"
      ],
      "execution_count": 0,
      "outputs": []
    },
    {
      "metadata": {
        "id": "z486M-O-wBk9",
        "colab_type": "text"
      },
      "cell_type": "markdown",
      "source": [
        "## Step 2. Train a model to translate from English to Spanish\n",
        "<p style=\"color:red;\">using a couple thousand sentences.</p>"
      ]
    },
    {
      "metadata": {
        "id": "sze52FYc1QOJ",
        "colab_type": "code",
        "colab": {}
      },
      "cell_type": "code",
      "source": [
        ""
      ],
      "execution_count": 0,
      "outputs": []
    },
    {
      "metadata": {
        "id": "BDQ5BvENwGbY",
        "colab_type": "text"
      },
      "cell_type": "markdown",
      "source": [
        "## Part 2 \n",
        "Train a second model to translate between the same two languages in reverse order (say, from Spanish to English)."
      ]
    },
    {
      "metadata": {
        "id": "mKyR6fPywKCI",
        "colab_type": "text"
      },
      "cell_type": "markdown",
      "source": [
        "## Part 3\n",
        "Back-translate. Use your two models to translate a sentence from English to Spanish, and then back to English. Compare the original sentence, and the back-translated sentence. Repeat this using an evaluation corpus of 1,000 sentences, and report the BLEU score."
      ]
    },
    {
      "metadata": {
        "id": "H2pxQQZwv1CY",
        "colab_type": "code",
        "colab": {}
      },
      "cell_type": "code",
      "source": [
        ""
      ],
      "execution_count": 0,
      "outputs": []
    }
  ]
}