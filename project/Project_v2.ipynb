{
  "nbformat": 4,
  "nbformat_minor": 0,
  "metadata": {
    "colab": {
      "name": "Project_v2.ipynb",
      "version": "0.3.2",
      "provenance": [],
      "collapsed_sections": []
    },
    "kernelspec": {
      "name": "python3",
      "display_name": "Python 3"
    },
    "accelerator": "GPU"
  },
  "cells": [
    {
      "cell_type": "markdown",
      "metadata": {
        "id": "ruU23naDpRx6",
        "colab_type": "text"
      },
      "source": [
        "# 4998 Applied Deep Learning Project\n",
        "## Detect Cancer Metastases on Pathology Images\n",
        "\n",
        "Jing Qian (jq2282)"
      ]
    },
    {
      "cell_type": "markdown",
      "metadata": {
        "id": "yiEGCtNYp05o",
        "colab_type": "text"
      },
      "source": [
        "# STEP 1. IMAGE PROCESSING\n",
        "\n",
        "* Read this paper to understand their approach https://arxiv.org/pdf/1703.02442.pdf\n",
        "* Start small (use a single slide, at the lowest available zoom level - the effective resolution should be on the order of 1,000 by 1,000 pixels).\n",
        "* Write code to slide a window across the slide. Extract patches and labels (using the tissue mask)."
      ]
    },
    {
      "cell_type": "markdown",
      "metadata": {
        "id": "fsBP4bwrv6bY",
        "colab_type": "text"
      },
      "source": [
        "## 1.1. Import data"
      ]
    },
    {
      "cell_type": "code",
      "metadata": {
        "id": "Q1cvzVAev9iy",
        "colab_type": "code",
        "outputId": "c2a6428c-991e-4477-bec3-3079d9617914",
        "colab": {
          "base_uri": "https://localhost:8080/",
          "height": 224
        }
      },
      "source": [
        "# Install the OpenSlide C library and Python bindings\n",
        "!apt-get install openslide-tools\n",
        "!pip install openslide-python"
      ],
      "execution_count": 1,
      "outputs": [
        {
          "output_type": "stream",
          "text": [
            "Reading package lists... Done\n",
            "Building dependency tree       \n",
            "Reading state information... Done\n",
            "openslide-tools is already the newest version (3.4.1+dfsg-2).\n",
            "The following package was automatically installed and is no longer required:\n",
            "  libnvidia-common-410\n",
            "Use 'apt autoremove' to remove it.\n",
            "0 upgraded, 0 newly installed, 0 to remove and 16 not upgraded.\n",
            "Requirement already satisfied: openslide-python in /usr/local/lib/python3.6/dist-packages (1.1.1)\n",
            "Requirement already satisfied: Pillow in /usr/local/lib/python3.6/dist-packages (from openslide-python) (4.3.0)\n",
            "Requirement already satisfied: olefile in /usr/local/lib/python3.6/dist-packages (from Pillow->openslide-python) (0.46)\n"
          ],
          "name": "stdout"
        }
      ]
    },
    {
      "cell_type": "code",
      "metadata": {
        "id": "8cQEzHKUwH3p",
        "colab_type": "code",
        "colab": {}
      },
      "source": [
        "%matplotlib inline\n",
        "import matplotlib.pyplot as plt\n",
        "import numpy as np\n",
        "from openslide import open_slide, __library_version__ as openslide_version\n",
        "import os\n",
        "from PIL import Image\n",
        "from skimage.color import rgb2gray"
      ],
      "execution_count": 0,
      "outputs": []
    },
    {
      "cell_type": "code",
      "metadata": {
        "id": "or8nAcNS5gIw",
        "colab_type": "code",
        "outputId": "3e08c79a-ef99-4d98-f7dd-9fb0acbdfe55",
        "colab": {
          "base_uri": "https://localhost:8080/",
          "height": 54
        }
      },
      "source": [
        "from google.colab import drive\n",
        "drive.mount('/content/drive')"
      ],
      "execution_count": 3,
      "outputs": [
        {
          "output_type": "stream",
          "text": [
            "Drive already mounted at /content/drive; to attempt to forcibly remount, call drive.mount(\"/content/drive\", force_remount=True).\n"
          ],
          "name": "stdout"
        }
      ]
    },
    {
      "cell_type": "code",
      "metadata": {
        "id": "lw9LcDH77fDL",
        "colab_type": "code",
        "outputId": "601f7bc7-a022-4347-bfd5-64fe3c4686ca",
        "colab": {
          "base_uri": "https://localhost:8080/",
          "height": 408
        }
      },
      "source": [
        "# list all the slides provided by professor\n",
        "!ls '/content/drive/My Drive/slides'"
      ],
      "execution_count": 4,
      "outputs": [
        {
          "output_type": "stream",
          "text": [
            " tumor_001_mask.tif   tumor_031.xml\t   tumor_081.tif\n",
            " tumor_001.tif\t      tumor_035_mask.tif   tumor_081.xml\n",
            " tumor_001.xml\t      tumor_035.tif\t   tumor_084_mask.tif\n",
            " tumor_002_mask.tif   tumor_035.xml\t   tumor_084.tif\n",
            " tumor_002.tif\t     'tumor_038 (1).xml'   tumor_084.xml\n",
            " tumor_002.xml\t      tumor_038.tif\t   tumor_091_mask.tif\n",
            " tumor_005_mask.tif   tumor_038.xml\t   tumor_091.tif\n",
            " tumor_005.tif\t      tumor_057_mask.tif   tumor_091.xml\n",
            " tumor_005.xml\t      tumor_057.tif\t   tumor_094_mask.tif\n",
            " tumor_012_mask.tif   tumor_057.xml\t   tumor_094.tif\n",
            " tumor_012.tif\t      tumor_059_mask.tif   tumor_094.xml\n",
            " tumor_012.xml\t      tumor_059.tif\t   tumor_096_mask.tif\n",
            " tumor_016_mask.tif   tumor_059.xml\t   tumor_096.tif\n",
            " tumor_016.tif\t      tumor_064_mask.tif   tumor_096.xml\n",
            " tumor_016.xml\t      tumor_064.tif\t   tumor_099.xml\n",
            " tumor_019_mask.tif   tumor_064.xml\t   tumor_101_mask.tif\n",
            " tumor_019.tif\t      tumor_075_mask.tif   tumor_101.tif\n",
            " tumor_019.xml\t      tumor_075.tif\t   tumor_101.xml\n",
            " tumor_023_mask.tif   tumor_075.xml\t   tumor_110_mask.tif\n",
            " tumor_023.tif\t      tumor_078_mask.tif   tumor_110.tif\n",
            " tumor_023.xml\t      tumor_078.tif\t   tumor_110.xml\n",
            " tumor_031_mask.tif   tumor_078.xml\n",
            " tumor_031.tif\t      tumor_081_mask.tif\n"
          ],
          "name": "stdout"
        }
      ]
    },
    {
      "cell_type": "markdown",
      "metadata": {
        "id": "yeI49ONIdcHq",
        "colab_type": "text"
      },
      "source": [
        "从上面可以看到完整的图像有21个，tumor_038和tumor_099有问题，不用。如果是全部都用于train/test，就17个train, 4个test。从1 vs 1开始"
      ]
    },
    {
      "cell_type": "code",
      "metadata": {
        "id": "mO14LiMAU0d7",
        "colab_type": "code",
        "colab": {}
      },
      "source": [
        "slides_list = ['001','002','005','012','016','019','023','031','035','057','059',\n",
        "              '064','075','078','081','084','091','094','096','101','110']"
      ],
      "execution_count": 0,
      "outputs": []
    },
    {
      "cell_type": "markdown",
      "metadata": {
        "id": "jB8BE5I9Q3gy",
        "colab_type": "text"
      },
      "source": [
        "## 1.2. Generate training patches and corresponding labels"
      ]
    },
    {
      "cell_type": "markdown",
      "metadata": {
        "id": "p_38-ciKBtOP",
        "colab_type": "text"
      },
      "source": [
        "### Start with one slide"
      ]
    },
    {
      "cell_type": "markdown",
      "metadata": {
        "id": "RL5-TRZQF-46",
        "colab_type": "text"
      },
      "source": [
        "###  General Params"
      ]
    },
    {
      "cell_type": "code",
      "metadata": {
        "id": "JWy9EgLeGCOM",
        "colab_type": "code",
        "colab": {}
      },
      "source": [
        "input_size = 299\n",
        "tumor_check_size = 128\n",
        "ilevel = 4"
      ],
      "execution_count": 0,
      "outputs": []
    },
    {
      "cell_type": "code",
      "metadata": {
        "id": "90ZIwbxyCNWD",
        "colab_type": "code",
        "colab": {}
      },
      "source": [
        "total_path = '/content/drive/My Drive/project-adl/slides'"
      ],
      "execution_count": 0,
      "outputs": []
    },
    {
      "cell_type": "code",
      "metadata": {
        "id": "0ASxFrOl_iXg",
        "colab_type": "code",
        "colab": {}
      },
      "source": [
        "# See https://openslide.org/api/python/#openslide.OpenSlide.read_region\n",
        "# Note: x,y coords are with respect to level 0.\n",
        "# There is an example below of working with coordinates\n",
        "# with respect to a higher zoom level.\n",
        "\n",
        "# Read a region from the slide\n",
        "# Return a numpy RBG array\n",
        "def read_slide(slide, x, y, level, width, height, as_float=False):\n",
        "    im = slide.read_region((x,y), level, (width, height))\n",
        "    im = im.convert('RGB') # drop the alpha channel\n",
        "    if as_float:\n",
        "        im = np.asarray(im, dtype=np.float32)\n",
        "    else:\n",
        "        im = np.asarray(im)\n",
        "    assert im.shape == (height, width, 3)\n",
        "    return im"
      ],
      "execution_count": 0,
      "outputs": []
    },
    {
      "cell_type": "code",
      "metadata": {
        "id": "5o6-f4hX6HKf",
        "colab_type": "code",
        "colab": {}
      },
      "source": [
        "# As mentioned in class, we can improve efficiency by ignoring non-tissue areas \n",
        "# of the slide. We'll find these by looking for all gray regions.\n",
        "def find_tissue_pixels(image, intensity=0.8):\n",
        "    im_gray = rgb2gray(image)\n",
        "    assert im_gray.shape == (image.shape[0], image.shape[1])\n",
        "    indices = np.where(im_gray <= intensity)\n",
        "    return zip(indices[0], indices[1])\n",
        "\n",
        "# This function has nothing to do with tumor mask, but shows tissue region\n",
        "def apply_mask(im, mask, color=(255,0,0)):\n",
        "    masked = np.copy(im)\n",
        "    for x,y in mask: masked[x][y] = color\n",
        "    return masked"
      ],
      "execution_count": 0,
      "outputs": []
    },
    {
      "cell_type": "code",
      "metadata": {
        "id": "Qp0i_0o25KIg",
        "colab_type": "code",
        "outputId": "c3558f7a-d4f8-4290-c0cf-ac2442815378",
        "colab": {
          "base_uri": "https://localhost:8080/",
          "height": 224
        }
      },
      "source": [
        "slide_id = '091'\n",
        "slide_path = os.path.join(total_path,'tumor_%s.tif' %slide_id)\n",
        "tumor_mask_path = os.path.join(total_path,'tumor_%s_mask.tif' %slide_id)\n",
        "\n",
        "slide = open_slide(slide_path)\n",
        "print (\"Read WSI from %s with width: %d, height: %d\" % (slide_path, \n",
        "                                                        slide.level_dimensions[0][0], \n",
        "                                                        slide.level_dimensions[0][1]))\n",
        "\n",
        "tumor_mask = open_slide(tumor_mask_path)\n",
        "print (\"Read tumor mask from %s\" % (tumor_mask_path))\n",
        "\n",
        "print(\"Slide includes %d levels\", len(slide.level_dimensions))\n",
        "for i in range(len(slide.level_dimensions)):\n",
        "    print(\"Level %d, dimensions: %s downsample factor %d\" % (i, \n",
        "                                                             slide.level_dimensions[i], \n",
        "                                                             slide.level_downsamples[i]))\n",
        "    assert tumor_mask.level_dimensions[i][0] == slide.level_dimensions[i][0]\n",
        "    assert tumor_mask.level_dimensions[i][1] == slide.level_dimensions[i][1]\n",
        "\n",
        "# Verify downsampling works as expected\n",
        "width, height = slide.level_dimensions[7]\n",
        "assert width * slide.level_downsamples[7] == slide.level_dimensions[0][0]\n",
        "assert height * slide.level_downsamples[7] == slide.level_dimensions[0][1]"
      ],
      "execution_count": 9,
      "outputs": [
        {
          "output_type": "stream",
          "text": [
            "Read WSI from /content/drive/My Drive/project-adl/slides/tumor_091.tif with width: 61440, height: 53760\n",
            "Read tumor mask from /content/drive/My Drive/project-adl/slides/tumor_091_mask.tif\n",
            "Slide includes %d levels 8\n",
            "Level 0, dimensions: (61440, 53760) downsample factor 1\n",
            "Level 1, dimensions: (30720, 26880) downsample factor 2\n",
            "Level 2, dimensions: (15360, 13440) downsample factor 4\n",
            "Level 3, dimensions: (7680, 6720) downsample factor 8\n",
            "Level 4, dimensions: (3840, 3360) downsample factor 16\n",
            "Level 5, dimensions: (1920, 1680) downsample factor 32\n",
            "Level 6, dimensions: (960, 840) downsample factor 64\n",
            "Level 7, dimensions: (480, 420) downsample factor 128\n"
          ],
          "name": "stdout"
        }
      ]
    },
    {
      "cell_type": "code",
      "metadata": {
        "id": "oS4JwEFPkZK7",
        "colab_type": "code",
        "colab": {}
      },
      "source": [
        "# Example: read the entire slide at level 4\n",
        "\n",
        "# Higher zoom levels may not fit into memory.\n",
        "# You can use the below function to extract regions from higher zoom levels \n",
        "# without having to read the entire image into ram.\n",
        "\n",
        "# Use the sliding window approach discussed in class to collect training\n",
        "# data for your classifier. E.g., slide a window across the slide (for\n",
        "# starters, use a zoomed out view, so you're not working with giant images).\n",
        "# Save each window to disk as an image. To find the label for that image, \n",
        "# check to the tissue mask to see if the same region contains cancerous cells.\n",
        "\n",
        "# Important: this is tricky to get right. Carefully debug your pipeline before\n",
        "# training your model. Start with just a single image, and a relatively \n",
        "# low zoom level.\n",
        "\n",
        "slide_image = read_slide(slide, \n",
        "                         x=0, \n",
        "                         y=0, \n",
        "                         level=ilevel, \n",
        "                         width=slide.level_dimensions[ilevel][0], \n",
        "                         height=slide.level_dimensions[ilevel][1])\n",
        "\n",
        "#plt.figure(figsize=(10,10), dpi=100)\n",
        "#plt.imshow(slide_image)"
      ],
      "execution_count": 0,
      "outputs": []
    },
    {
      "cell_type": "code",
      "metadata": {
        "id": "IqGoWFNBkWiW",
        "colab_type": "code",
        "colab": {
          "base_uri": "https://localhost:8080/",
          "height": 51
        },
        "outputId": "5ff0e4e2-ba45-4cc1-ed37-7352b65eedcb"
      },
      "source": [
        "# Keep only tissue regions\n",
        "tissue_pixels = list(find_tissue_pixels(slide_image))\n",
        "print('Dimension of Tissue_pixels:', np.shape(tissue_pixels))\n",
        "percent_tissue = len(tissue_pixels) / float(slide_image.shape[0] * slide_image.shape[0]) * 100\n",
        "print (\"%d tissue_pixels pixels (%.1f percent of the image)\" % (len(tissue_pixels), percent_tissue)) \n",
        "\n",
        "#tissue_regions = apply_mask(slide_image, tissue_pixels)\n",
        "#plt.imshow(tissue_regions)\n",
        "#plt.imshow(mask_image,alpha=0.5)"
      ],
      "execution_count": 11,
      "outputs": [
        {
          "output_type": "stream",
          "text": [
            "Dimension of Tissue_pixels: (3451212, 2)\n",
            "3451212 tissue_pixels pixels (30.6 percent of the image)\n"
          ],
          "name": "stdout"
        }
      ]
    },
    {
      "cell_type": "code",
      "metadata": {
        "id": "EMNGMgeS_iT1",
        "colab_type": "code",
        "colab": {
          "base_uri": "https://localhost:8080/",
          "height": 51
        },
        "outputId": "6a61fb8d-0dd9-404e-ce69-67fc6ca7a9c5"
      },
      "source": [
        "xmin, xmax, ymin, ymax = 0, 0, 0, 0\n",
        "for i in tissue_pixels:\n",
        "  xmin = min(i[0], xmin) #x correspond to dimention[\n",
        "  xmax = max(i[0], xmax)\n",
        "  ymin = min(i[1], ymin)\n",
        "  ymax = max(i[1], ymax)\n",
        "  \n",
        "print(xmin, xmax, ymin, ymax)\n",
        "print('canvas size:', slide.level_dimensions[ilevel])"
      ],
      "execution_count": 12,
      "outputs": [
        {
          "output_type": "stream",
          "text": [
            "0 3359 0 3839\n",
            "canvas size: (3840, 3360)\n"
          ],
          "name": "stdout"
        }
      ]
    },
    {
      "cell_type": "code",
      "metadata": {
        "id": "mF_e1zAEPByB",
        "colab_type": "code",
        "colab": {}
      },
      "source": [
        "bound = (input_size - 1)/2\n",
        "nclass = 10\n",
        "train_0, train_1 = [], []"
      ],
      "execution_count": 0,
      "outputs": []
    },
    {
      "cell_type": "code",
      "metadata": {
        "id": "l-BucaT-7trc",
        "colab_type": "code",
        "colab": {
          "base_uri": "https://localhost:8080/",
          "height": 6511
        },
        "outputId": "bdf47132-6a23-4e62-ec4f-7886c6acd220"
      },
      "source": [
        "while len(train_0) < nclass or len(train_1) < nclass:\n",
        "  # Random sample a tissue pixel and generate a patch centered in this pixel\n",
        "  while True:\n",
        "    center = tissue_pixels[np.random.choice(np.shape(tissue_pixels)[0])]\n",
        "    if center[0] >= bound and center[0] <= slide.level_dimensions[ilevel][1]-bound:\n",
        "      if center[1] >= bound and center[1] <= slide.level_dimensions[ilevel][0]-bound:\n",
        "        break\n",
        "  print(center)\n",
        "\n",
        "  # Expand a 299*299 patch around the center tissue\n",
        "  ipatch = read_slide(slide, \n",
        "                     x=int(center[0]-bound), \n",
        "                     y=int(center[1]-bound), \n",
        "                     level=ilevel, \n",
        "                     width=input_size, \n",
        "                     height=input_size)\n",
        "\n",
        "  # Check whether the 128*128 center pixels have tumor\n",
        "  ipixels = read_slide(tumor_mask,\n",
        "                       x = center[0]*16-tumor_check_size//2, #need to change 16 for other levels\n",
        "                       y = center[1]*16-tumor_check_size//2,\n",
        "                       level = ilevel,\n",
        "                       width = tumor_check_size,\n",
        "                       height = tumor_check_size)[:,:,0]\n",
        "  #plt.imshow(ipixels)\n",
        "\n",
        "  ilabel = 0\n",
        "  if np.any(ipixels) == 1:\n",
        "    ilabel = 1\n",
        "  print('The label for the patch is:', str(ilabel))\n",
        "  if ilabel == 0:\n",
        "    if len(train_0) < nclass:\n",
        "      train_0.append(ipatch)\n",
        "      print('train_0 add one patch and current have %d patches!' %len(train_0))\n",
        "  else:\n",
        "    if len(train_1) < nclass:\n",
        "      train_1.append(ipatch)\n",
        "      print('train_1 add one patch and current have %d patches!' %len(train_1))"
      ],
      "execution_count": 65,
      "outputs": [
        {
          "output_type": "stream",
          "text": [
            "(991, 2022)\n",
            "The label for the patch is: 0\n",
            "train_0 add one patch and current have 1 patches!\n",
            "(1225, 1451)\n",
            "The label for the patch is: 0\n",
            "train_0 add one patch and current have 2 patches!\n",
            "(1606, 1265)\n",
            "The label for the patch is: 0\n",
            "train_0 add one patch and current have 3 patches!\n",
            "(1875, 2918)\n",
            "The label for the patch is: 0\n",
            "train_0 add one patch and current have 4 patches!\n",
            "(813, 1621)\n",
            "The label for the patch is: 0\n",
            "train_0 add one patch and current have 5 patches!\n",
            "(1387, 3191)\n",
            "The label for the patch is: 0\n",
            "train_0 add one patch and current have 6 patches!\n",
            "(1001, 1239)\n",
            "The label for the patch is: 0\n",
            "train_0 add one patch and current have 7 patches!\n",
            "(2813, 2667)\n",
            "The label for the patch is: 0\n",
            "train_0 add one patch and current have 8 patches!\n",
            "(1701, 1382)\n",
            "The label for the patch is: 0\n",
            "train_0 add one patch and current have 9 patches!\n",
            "(983, 1393)\n",
            "The label for the patch is: 0\n",
            "train_0 add one patch and current have 10 patches!\n",
            "(2021, 1223)\n",
            "The label for the patch is: 0\n",
            "(698, 2520)\n",
            "The label for the patch is: 0\n",
            "(1417, 2178)\n",
            "The label for the patch is: 0\n",
            "(1524, 1362)\n",
            "The label for the patch is: 0\n",
            "(1182, 3123)\n",
            "The label for the patch is: 0\n",
            "(1740, 1967)\n",
            "The label for the patch is: 0\n",
            "(2590, 2329)\n",
            "The label for the patch is: 1\n",
            "train_1 add one patch and current have 1 patches!\n",
            "(1746, 2163)\n",
            "The label for the patch is: 0\n",
            "(1556, 3211)\n",
            "The label for the patch is: 0\n",
            "(2017, 2936)\n",
            "The label for the patch is: 0\n",
            "(1735, 2549)\n",
            "The label for the patch is: 0\n",
            "(1473, 2768)\n",
            "The label for the patch is: 0\n",
            "(1958, 1536)\n",
            "The label for the patch is: 0\n",
            "(1635, 2468)\n",
            "The label for the patch is: 0\n",
            "(406, 2241)\n",
            "The label for the patch is: 0\n",
            "(1722, 3003)\n",
            "The label for the patch is: 0\n",
            "(811, 1868)\n",
            "The label for the patch is: 0\n",
            "(1675, 1317)\n",
            "The label for the patch is: 0\n",
            "(2398, 2644)\n",
            "The label for the patch is: 0\n",
            "(1765, 3154)\n",
            "The label for the patch is: 0\n",
            "(1275, 3099)\n",
            "The label for the patch is: 0\n",
            "(1741, 2678)\n",
            "The label for the patch is: 0\n",
            "(2250, 1905)\n",
            "The label for the patch is: 1\n",
            "train_1 add one patch and current have 2 patches!\n",
            "(1184, 3121)\n",
            "The label for the patch is: 0\n",
            "(677, 2122)\n",
            "The label for the patch is: 0\n",
            "(2294, 2048)\n",
            "The label for the patch is: 1\n",
            "train_1 add one patch and current have 3 patches!\n",
            "(1617, 2584)\n",
            "The label for the patch is: 0\n",
            "(1619, 2131)\n",
            "The label for the patch is: 0\n",
            "(1831, 1618)\n",
            "The label for the patch is: 0\n",
            "(804, 1598)\n",
            "The label for the patch is: 0\n",
            "(1538, 1372)\n",
            "The label for the patch is: 0\n",
            "(1933, 587)\n",
            "The label for the patch is: 0\n",
            "(709, 1549)\n",
            "The label for the patch is: 0\n",
            "(1628, 2282)\n",
            "The label for the patch is: 0\n",
            "(1633, 2119)\n",
            "The label for the patch is: 0\n",
            "(1405, 2564)\n",
            "The label for the patch is: 0\n",
            "(2245, 2410)\n",
            "The label for the patch is: 0\n",
            "(1956, 2266)\n",
            "The label for the patch is: 0\n",
            "(1537, 2721)\n",
            "The label for the patch is: 0\n",
            "(1705, 2157)\n",
            "The label for the patch is: 0\n",
            "(2862, 2623)\n",
            "The label for the patch is: 0\n",
            "(1116, 2905)\n",
            "The label for the patch is: 0\n",
            "(1045, 2495)\n",
            "The label for the patch is: 0\n",
            "(2334, 1676)\n",
            "The label for the patch is: 0\n",
            "(1783, 1501)\n",
            "The label for the patch is: 0\n",
            "(1056, 2933)\n",
            "The label for the patch is: 0\n",
            "(2579, 1570)\n",
            "The label for the patch is: 0\n",
            "(2350, 2487)\n",
            "The label for the patch is: 0\n",
            "(2014, 2043)\n",
            "The label for the patch is: 1\n",
            "train_1 add one patch and current have 4 patches!\n",
            "(2338, 2574)\n",
            "The label for the patch is: 0\n",
            "(1396, 2791)\n",
            "The label for the patch is: 0\n",
            "(2648, 1405)\n",
            "The label for the patch is: 0\n",
            "(1364, 2150)\n",
            "The label for the patch is: 0\n",
            "(1480, 3188)\n",
            "The label for the patch is: 0\n",
            "(727, 1863)\n",
            "The label for the patch is: 0\n",
            "(1755, 805)\n",
            "The label for the patch is: 0\n",
            "(1378, 939)\n",
            "The label for the patch is: 0\n",
            "(812, 2452)\n",
            "The label for the patch is: 0\n",
            "(965, 1718)\n",
            "The label for the patch is: 0\n",
            "(1870, 2836)\n",
            "The label for the patch is: 0\n",
            "(676, 2195)\n",
            "The label for the patch is: 0\n",
            "(1754, 2698)\n",
            "The label for the patch is: 0\n",
            "(1971, 3045)\n",
            "The label for the patch is: 0\n",
            "(2402, 1701)\n",
            "The label for the patch is: 0\n",
            "(1458, 2737)\n",
            "The label for the patch is: 0\n",
            "(1384, 936)\n",
            "The label for the patch is: 0\n",
            "(1793, 2429)\n",
            "The label for the patch is: 0\n",
            "(1491, 3175)\n",
            "The label for the patch is: 0\n",
            "(1942, 1738)\n",
            "The label for the patch is: 0\n",
            "(2025, 673)\n",
            "The label for the patch is: 0\n",
            "(464, 2142)\n",
            "The label for the patch is: 0\n",
            "(1958, 1731)\n",
            "The label for the patch is: 0\n",
            "(1238, 1100)\n",
            "The label for the patch is: 0\n",
            "(2037, 2723)\n",
            "The label for the patch is: 0\n",
            "(761, 1377)\n",
            "The label for the patch is: 0\n",
            "(862, 1703)\n",
            "The label for the patch is: 0\n",
            "(1862, 2457)\n",
            "The label for the patch is: 0\n",
            "(960, 2713)\n",
            "The label for the patch is: 0\n",
            "(1341, 3083)\n",
            "The label for the patch is: 0\n",
            "(2305, 2574)\n",
            "The label for the patch is: 0\n",
            "(1406, 814)\n",
            "The label for the patch is: 0\n",
            "(1302, 2253)\n",
            "The label for the patch is: 0\n",
            "(1172, 1951)\n",
            "The label for the patch is: 0\n",
            "(1518, 2283)\n",
            "The label for the patch is: 0\n",
            "(1716, 1212)\n",
            "The label for the patch is: 0\n",
            "(1596, 2697)\n",
            "The label for the patch is: 0\n",
            "(1894, 2951)\n",
            "The label for the patch is: 0\n",
            "(1437, 3215)\n",
            "The label for the patch is: 0\n",
            "(1025, 2698)\n",
            "The label for the patch is: 0\n",
            "(1407, 2319)\n",
            "The label for the patch is: 0\n",
            "(821, 2052)\n",
            "The label for the patch is: 0\n",
            "(1447, 1606)\n",
            "The label for the patch is: 0\n",
            "(864, 2708)\n",
            "The label for the patch is: 0\n",
            "(2019, 1832)\n",
            "The label for the patch is: 1\n",
            "train_1 add one patch and current have 5 patches!\n",
            "(2089, 2760)\n",
            "The label for the patch is: 0\n",
            "(1453, 2564)\n",
            "The label for the patch is: 0\n",
            "(1867, 2730)\n",
            "The label for the patch is: 0\n",
            "(1192, 1734)\n",
            "The label for the patch is: 0\n",
            "(2357, 2076)\n",
            "The label for the patch is: 1\n",
            "train_1 add one patch and current have 6 patches!\n",
            "(1949, 951)\n",
            "The label for the patch is: 0\n",
            "(2082, 1197)\n",
            "The label for the patch is: 0\n",
            "(1301, 2785)\n",
            "The label for the patch is: 0\n",
            "(1497, 2350)\n",
            "The label for the patch is: 0\n",
            "(1921, 2432)\n",
            "The label for the patch is: 0\n",
            "(581, 2284)\n",
            "The label for the patch is: 0\n",
            "(1235, 2938)\n",
            "The label for the patch is: 0\n",
            "(1449, 818)\n",
            "The label for the patch is: 0\n",
            "(2448, 1510)\n",
            "The label for the patch is: 0\n",
            "(1155, 2309)\n",
            "The label for the patch is: 0\n",
            "(1348, 2267)\n",
            "The label for the patch is: 0\n",
            "(1007, 2899)\n",
            "The label for the patch is: 0\n",
            "(2332, 1640)\n",
            "The label for the patch is: 0\n",
            "(1381, 2454)\n",
            "The label for the patch is: 0\n",
            "(1785, 2263)\n",
            "The label for the patch is: 0\n",
            "(2278, 2874)\n",
            "The label for the patch is: 0\n",
            "(2086, 1797)\n",
            "The label for the patch is: 1\n",
            "train_1 add one patch and current have 7 patches!\n",
            "(2405, 2493)\n",
            "The label for the patch is: 0\n",
            "(1699, 2947)\n",
            "The label for the patch is: 0\n",
            "(2024, 2819)\n",
            "The label for the patch is: 0\n",
            "(2187, 2748)\n",
            "The label for the patch is: 0\n",
            "(1086, 2719)\n",
            "The label for the patch is: 0\n",
            "(2405, 1755)\n",
            "The label for the patch is: 0\n",
            "(1916, 2365)\n",
            "The label for the patch is: 0\n",
            "(1764, 1107)\n",
            "The label for the patch is: 0\n",
            "(1298, 1935)\n",
            "The label for the patch is: 0\n",
            "(1992, 2083)\n",
            "The label for the patch is: 1\n",
            "train_1 add one patch and current have 8 patches!\n",
            "(1312, 1319)\n",
            "The label for the patch is: 0\n",
            "(2746, 1490)\n",
            "The label for the patch is: 0\n",
            "(1555, 2505)\n",
            "The label for the patch is: 0\n",
            "(801, 2438)\n",
            "The label for the patch is: 0\n",
            "(1848, 2482)\n",
            "The label for the patch is: 0\n",
            "(1490, 2055)\n",
            "The label for the patch is: 0\n",
            "(2012, 2725)\n",
            "The label for the patch is: 0\n",
            "(1078, 2296)\n",
            "The label for the patch is: 0\n",
            "(2553, 1281)\n",
            "The label for the patch is: 0\n",
            "(982, 1317)\n",
            "The label for the patch is: 0\n",
            "(978, 2024)\n",
            "The label for the patch is: 0\n",
            "(1531, 1480)\n",
            "The label for the patch is: 0\n",
            "(2427, 2621)\n",
            "The label for the patch is: 0\n",
            "(2062, 2311)\n",
            "The label for the patch is: 0\n",
            "(927, 1620)\n",
            "The label for the patch is: 0\n",
            "(831, 2195)\n",
            "The label for the patch is: 0\n",
            "(1518, 2265)\n",
            "The label for the patch is: 0\n",
            "(1829, 1836)\n",
            "The label for the patch is: 0\n",
            "(1618, 2732)\n",
            "The label for the patch is: 0\n",
            "(1473, 1609)\n",
            "The label for the patch is: 0\n",
            "(2087, 2138)\n",
            "The label for the patch is: 1\n",
            "train_1 add one patch and current have 9 patches!\n",
            "(1545, 2935)\n",
            "The label for the patch is: 0\n",
            "(872, 2084)\n",
            "The label for the patch is: 0\n",
            "(995, 1811)\n",
            "The label for the patch is: 0\n",
            "(2626, 2175)\n",
            "The label for the patch is: 0\n",
            "(1973, 2337)\n",
            "The label for the patch is: 0\n",
            "(1330, 2385)\n",
            "The label for the patch is: 0\n",
            "(1794, 1939)\n",
            "The label for the patch is: 0\n",
            "(571, 2243)\n",
            "The label for the patch is: 0\n",
            "(1600, 2409)\n",
            "The label for the patch is: 0\n",
            "(1237, 1815)\n",
            "The label for the patch is: 0\n",
            "(1163, 2756)\n",
            "The label for the patch is: 0\n",
            "(1049, 1607)\n",
            "The label for the patch is: 0\n",
            "(1790, 1734)\n",
            "The label for the patch is: 0\n",
            "(938, 2086)\n",
            "The label for the patch is: 0\n",
            "(1476, 1597)\n",
            "The label for the patch is: 0\n",
            "(426, 2110)\n",
            "The label for the patch is: 0\n",
            "(1457, 1338)\n",
            "The label for the patch is: 0\n",
            "(892, 2770)\n",
            "The label for the patch is: 0\n",
            "(538, 2153)\n",
            "The label for the patch is: 0\n",
            "(1686, 2360)\n",
            "The label for the patch is: 0\n",
            "(2263, 2906)\n",
            "The label for the patch is: 0\n",
            "(434, 2259)\n",
            "The label for the patch is: 0\n",
            "(1225, 1466)\n",
            "The label for the patch is: 0\n",
            "(2442, 2393)\n",
            "The label for the patch is: 1\n",
            "train_1 add one patch and current have 10 patches!\n"
          ],
          "name": "stdout"
        }
      ]
    },
    {
      "cell_type": "markdown",
      "metadata": {
        "id": "EKWUK8ohTclQ",
        "colab_type": "text"
      },
      "source": [
        "## 1.3 Save training patches and images on Google Drive"
      ]
    },
    {
      "cell_type": "code",
      "metadata": {
        "id": "u1X5uQ05Tian",
        "colab_type": "code",
        "colab": {}
      },
      "source": [
        "import shutil\n",
        "train_dir = 'drive/My Drive/project-adl/train'\n",
        "if not os.path.exists(train_dir):\n",
        "  os.mkdir(train_dir)\n",
        "train_0_dir = os.path.join(train_dir, 'patches0')\n",
        "train_1_dir = os.path.join(train_dir, 'patches1')\n",
        "if not os.path.exists(train_0_dir):\n",
        "  os.mkdir(train_0_dir)\n",
        "if not os.path.exists(train_1_dir):\n",
        "  os.mkdir(train_1_dir)"
      ],
      "execution_count": 0,
      "outputs": []
    },
    {
      "cell_type": "code",
      "metadata": {
        "id": "c5XaynKEKYQO",
        "colab_type": "code",
        "colab": {
          "base_uri": "https://localhost:8080/",
          "height": 286
        },
        "outputId": "9b91a5e2-773a-4bb6-eabf-35c10a344f9b"
      },
      "source": [
        "print(np.shape(train_1))\n",
        "#plt.figure(figsize=(10,10),dpi=100)\n",
        "plt.imshow(train_1[5])\n",
        "from matplotlib.image import imsave\n",
        "for i in range(len(train_0)):\n",
        "  filename = os.path.join(train_0_dir,'tumor_%s_%d.png' %(slide_id, i))\n",
        "  imsave(filename,train_0[1])\n",
        "  \n",
        "for i in range(len(train_1)):\n",
        "  filename = os.path.join(train_1_dir,'tumor_%s_%d.png' %(slide_id, i))\n",
        "  imsave(filename,train_1[1])"
      ],
      "execution_count": 86,
      "outputs": [
        {
          "output_type": "stream",
          "text": [
            "(10, 299, 299, 3)\n"
          ],
          "name": "stdout"
        },
        {
          "output_type": "display_data",
          "data": {
            "image/png": "[encoded data removed]",
            "text/plain": [
              "<Figure size 432x288 with 1 Axes>"
            ]
          },
          "metadata": {
            "tags": []
          }
        }
      ]
    },
    {
      "cell_type": "markdown",
      "metadata": {
        "id": "qzfz5ajzp803",
        "colab_type": "text"
      },
      "source": [
        "# STEP 2. MODELING\n",
        "\n",
        "* Although transfer learning may be less effective than training a model from scratch , it is the best place to start.\n",
        "* Choose a model previously trained on Imagenet. Use the techniques in Chapter 5 of Francois’s book to try transfer learning (add a single Dense layer on top of that model), and train it on your own data.\n",
        "* Write a script that takes your trained model and a testing image, and outputs a heat map showing the cancerous regions.\n",
        "* Design an evaluation metric, write a script to report your results"
      ]
    },
    {
      "cell_type": "markdown",
      "metadata": {
        "id": "quvembFyIxcX",
        "colab_type": "text"
      },
      "source": [
        "加快速度，不看背景，只看tissue。比如对色彩做个threshold\n",
        "\n",
        "选一个特别放大的开始做，比如800\\*600 pixel图片\n",
        "annotation. 选择哪部分有cancer\n",
        "\n",
        "image segmentation, \n"
      ]
    },
    {
      "cell_type": "code",
      "metadata": {
        "id": "fdd8PiefWVd4",
        "colab_type": "code",
        "colab": {}
      },
      "source": [
        "TARGET_SHAPE = 299\n",
        "BATCH_SIZE = 32"
      ],
      "execution_count": 0,
      "outputs": []
    },
    {
      "cell_type": "code",
      "metadata": {
        "id": "QpzJ1rL2p0Lh",
        "colab_type": "code",
        "colab": {}
      },
      "source": [
        "from keras.applications.inception_v3 import InceptionV3\n",
        "from tensorflow.keras.utils import to_categorical\n",
        "from tensorflow.keras.layers import Conv2D, Dense, Dropout, Flatten, MaxPooling2D\n",
        "from tensorflow.keras.models import Sequential\n",
        "from tensorflow.keras.preprocessing.image import ImageDataGenerator\n",
        "\n",
        "conv_base = InceptionV3(weights='imagenet',include_top=False, input_shape=(299,299,3))\n",
        "#conv_base.summary()\n",
        "datagen = ImageDataGenerator(rescale=1./255)\n",
        "\n",
        "def extract_features(directory, sample_count):\n",
        "    features = np.zeros(shape=(sample_count, 8, 8, 2048)) # get from conv_base.summary()\n",
        "    labels = np.zeros(shape=(sample_count))\n",
        "    generator = datagen.flow_from_directory(\n",
        "        directory,\n",
        "        target_size=(TARGET_SHAPE, TARGET_SHAPE),\n",
        "        batch_size=BATCH_SIZE,\n",
        "        class_mode='binary')\n",
        "    i = 0\n",
        "    for inputs_batch, labels_batch in generator:\n",
        "        features_batch = conv_base.predict(inputs_batch)       \n",
        "        features[i * BATCH_SIZE : (i + 1) * BATCH_SIZE] = features_batch\n",
        "        labels[i * BATCH_SIZE : (i + 1) * BATCH_SIZE] = labels_batch\n",
        "        i += 1\n",
        "        if i * BATCH_SIZE >= sample_count:\n",
        "            break\n",
        "    return features, labels\n",
        "\n",
        "train_features, train_labels = extract_features(train_dir, nclass*2)\n",
        "print(train_labels)\n",
        "\n",
        "FLATTENED_SHAPE = 8 * 8 * 2048\n"
      ],
      "execution_count": 0,
      "outputs": []
    },
    {
      "cell_type": "code",
      "metadata": {
        "id": "o9yPwaYhpO_0",
        "colab_type": "code",
        "colab": {
          "base_uri": "https://localhost:8080/",
          "height": 1839
        },
        "outputId": "b1dcb9b2-7930-4316-be88-ed4fa541dcde"
      },
      "source": [
        "train_features = np.reshape(train_features, (nclass*2, FLATTENED_SHAPE))\n",
        "EPOCHS = 50\n",
        "model = Sequential()\n",
        "model.add(Dense(256, activation='relu', input_dim=FLATTENED_SHAPE))\n",
        "model.add(Dropout(0.5))\n",
        "model.add(Dense(1, activation='sigmoid'))\n",
        "\n",
        "model.compile(optimizer='adam',\n",
        "              loss='binary_crossentropy',\n",
        "              metrics=['accuracy'])\n",
        "\n",
        "history3 = model.fit(train_features, train_labels,\n",
        "                    epochs=EPOCHS,\n",
        "                    batch_size=BATCH_SIZE)"
      ],
      "execution_count": 91,
      "outputs": [
        {
          "output_type": "stream",
          "text": [
            "WARNING:tensorflow:From /usr/local/lib/python3.6/dist-packages/tensorflow/python/keras/layers/core.py:143: calling dropout (from tensorflow.python.ops.nn_ops) with keep_prob is deprecated and will be removed in a future version.\n",
            "Instructions for updating:\n",
            "Please use `rate` instead of `keep_prob`. Rate should be set to `rate = 1 - keep_prob`.\n",
            "WARNING:tensorflow:From /usr/local/lib/python3.6/dist-packages/tensorflow/python/ops/math_ops.py:3066: to_int32 (from tensorflow.python.ops.math_ops) is deprecated and will be removed in a future version.\n",
            "Instructions for updating:\n",
            "Use tf.cast instead.\n",
            "Epoch 1/50\n",
            "20/20 [==============================] - 1s 68ms/sample - loss: 0.9534 - acc: 0.4500\n",
            "Epoch 2/50\n",
            "20/20 [==============================] - 0s 2ms/sample - loss: 2.5767 - acc: 0.7500\n",
            "Epoch 3/50\n",
            "20/20 [==============================] - 0s 2ms/sample - loss: 1.0960e-07 - acc: 1.0000\n",
            "Epoch 4/50\n",
            "20/20 [==============================] - 0s 2ms/sample - loss: 0.1539 - acc: 0.9500\n",
            "Epoch 5/50\n",
            "20/20 [==============================] - 0s 2ms/sample - loss: 1.0960e-07 - acc: 1.0000\n",
            "Epoch 6/50\n",
            "20/20 [==============================] - 0s 2ms/sample - loss: 1.0960e-07 - acc: 1.0000\n",
            "Epoch 7/50\n",
            "20/20 [==============================] - 0s 2ms/sample - loss: 1.0960e-07 - acc: 1.0000\n",
            "Epoch 8/50\n",
            "20/20 [==============================] - 0s 2ms/sample - loss: 1.0960e-07 - acc: 1.0000\n",
            "Epoch 9/50\n",
            "20/20 [==============================] - 0s 2ms/sample - loss: 1.0960e-07 - acc: 1.0000\n",
            "Epoch 10/50\n",
            "20/20 [==============================] - 0s 2ms/sample - loss: 1.0960e-07 - acc: 1.0000\n",
            "Epoch 11/50\n",
            "20/20 [==============================] - 0s 2ms/sample - loss: 1.0960e-07 - acc: 1.0000\n",
            "Epoch 12/50\n",
            "20/20 [==============================] - 0s 2ms/sample - loss: 1.0960e-07 - acc: 1.0000\n",
            "Epoch 13/50\n",
            "20/20 [==============================] - 0s 2ms/sample - loss: 1.0960e-07 - acc: 1.0000\n",
            "Epoch 14/50\n",
            "20/20 [==============================] - 0s 2ms/sample - loss: 1.0960e-07 - acc: 1.0000\n",
            "Epoch 15/50\n",
            "20/20 [==============================] - 0s 2ms/sample - loss: 1.0960e-07 - acc: 1.0000\n",
            "Epoch 16/50\n",
            "20/20 [==============================] - 0s 2ms/sample - loss: 1.0960e-07 - acc: 1.0000\n",
            "Epoch 17/50\n",
            "20/20 [==============================] - 0s 2ms/sample - loss: 1.0960e-07 - acc: 1.0000\n",
            "Epoch 18/50\n",
            "20/20 [==============================] - 0s 2ms/sample - loss: 1.0960e-07 - acc: 1.0000\n",
            "Epoch 19/50\n",
            "20/20 [==============================] - 0s 2ms/sample - loss: 1.0960e-07 - acc: 1.0000\n",
            "Epoch 20/50\n",
            "20/20 [==============================] - 0s 2ms/sample - loss: 1.0960e-07 - acc: 1.0000\n",
            "Epoch 21/50\n",
            "20/20 [==============================] - 0s 2ms/sample - loss: 1.0960e-07 - acc: 1.0000\n",
            "Epoch 22/50\n",
            "20/20 [==============================] - 0s 2ms/sample - loss: 1.0960e-07 - acc: 1.0000\n",
            "Epoch 23/50\n",
            "20/20 [==============================] - 0s 2ms/sample - loss: 1.0960e-07 - acc: 1.0000\n",
            "Epoch 24/50\n",
            "20/20 [==============================] - 0s 2ms/sample - loss: 1.0960e-07 - acc: 1.0000\n",
            "Epoch 25/50\n",
            "20/20 [==============================] - 0s 2ms/sample - loss: 1.0960e-07 - acc: 1.0000\n",
            "Epoch 26/50\n",
            "20/20 [==============================] - 0s 2ms/sample - loss: 1.0960e-07 - acc: 1.0000\n",
            "Epoch 27/50\n",
            "20/20 [==============================] - 0s 2ms/sample - loss: 1.0960e-07 - acc: 1.0000\n",
            "Epoch 28/50\n",
            "20/20 [==============================] - 0s 2ms/sample - loss: 1.0960e-07 - acc: 1.0000\n",
            "Epoch 29/50\n",
            "20/20 [==============================] - 0s 2ms/sample - loss: 1.0960e-07 - acc: 1.0000\n",
            "Epoch 30/50\n",
            "20/20 [==============================] - 0s 2ms/sample - loss: 1.0960e-07 - acc: 1.0000\n",
            "Epoch 31/50\n",
            "20/20 [==============================] - 0s 2ms/sample - loss: 1.0960e-07 - acc: 1.0000\n",
            "Epoch 32/50\n",
            "20/20 [==============================] - 0s 2ms/sample - loss: 1.0960e-07 - acc: 1.0000\n",
            "Epoch 33/50\n",
            "20/20 [==============================] - 0s 2ms/sample - loss: 1.8709e-07 - acc: 1.0000\n",
            "Epoch 34/50\n",
            "20/20 [==============================] - 0s 2ms/sample - loss: 1.0960e-07 - acc: 1.0000\n",
            "Epoch 35/50\n",
            "20/20 [==============================] - 0s 2ms/sample - loss: 1.0960e-07 - acc: 1.0000\n",
            "Epoch 36/50\n",
            "20/20 [==============================] - 0s 2ms/sample - loss: 1.0960e-07 - acc: 1.0000\n",
            "Epoch 37/50\n",
            "20/20 [==============================] - 0s 2ms/sample - loss: 1.0960e-07 - acc: 1.0000\n",
            "Epoch 38/50\n",
            "20/20 [==============================] - 0s 2ms/sample - loss: 1.0960e-07 - acc: 1.0000\n",
            "Epoch 39/50\n",
            "20/20 [==============================] - 0s 2ms/sample - loss: 1.0960e-07 - acc: 1.0000\n",
            "Epoch 40/50\n",
            "20/20 [==============================] - 0s 2ms/sample - loss: 1.0960e-07 - acc: 1.0000\n",
            "Epoch 41/50\n",
            "20/20 [==============================] - 0s 2ms/sample - loss: 1.0960e-07 - acc: 1.0000\n",
            "Epoch 42/50\n",
            "20/20 [==============================] - 0s 2ms/sample - loss: 1.0960e-07 - acc: 1.0000\n",
            "Epoch 43/50\n",
            "20/20 [==============================] - 0s 2ms/sample - loss: 1.0960e-07 - acc: 1.0000\n",
            "Epoch 44/50\n",
            "20/20 [==============================] - 0s 2ms/sample - loss: 1.0960e-07 - acc: 1.0000\n",
            "Epoch 45/50\n",
            "20/20 [==============================] - 0s 2ms/sample - loss: 1.0960e-07 - acc: 1.0000\n",
            "Epoch 46/50\n",
            "20/20 [==============================] - 0s 2ms/sample - loss: 1.0960e-07 - acc: 1.0000\n",
            "Epoch 47/50\n",
            "20/20 [==============================] - 0s 2ms/sample - loss: 1.0960e-07 - acc: 1.0000\n",
            "Epoch 48/50\n",
            "20/20 [==============================] - 0s 2ms/sample - loss: 1.0960e-07 - acc: 1.0000\n",
            "Epoch 49/50\n",
            "20/20 [==============================] - 0s 2ms/sample - loss: 1.0960e-07 - acc: 1.0000\n",
            "Epoch 50/50\n",
            "20/20 [==============================] - 0s 2ms/sample - loss: 1.0960e-07 - acc: 1.0000\n"
          ],
          "name": "stdout"
        }
      ]
    },
    {
      "cell_type": "code",
      "metadata": {
        "id": "eC0CYzU1qDCD",
        "colab_type": "code",
        "colab": {}
      },
      "source": [
        ""
      ],
      "execution_count": 0,
      "outputs": []
    }
  ]
}