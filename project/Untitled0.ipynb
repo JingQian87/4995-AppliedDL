{
  "nbformat": 4,
  "nbformat_minor": 0,
  "metadata": {
    "colab": {
      "name": "Untitled0.ipynb",
      "version": "0.3.2",
      "provenance": [],
      "collapsed_sections": []
    },
    "kernelspec": {
      "name": "python3",
      "display_name": "Python 3"
    }
  },
  "cells": [
    {
      "cell_type": "markdown",
      "metadata": {
        "id": "i5BzHbcp8TmK",
        "colab_type": "text"
      },
      "source": [
        "0517结果\n",
        "\n",
        "Single Scale: based on lev 3.\n",
        "\n",
        "Multi Scale: sample and centered on lev 3, expand to lev 4.\n",
        "\n",
        "先确定single 能跑，multi能跑。再multi同时产生大量lev3&lev4的图，跑multi，再跑single.\n",
        "\n",
        "最后比较两者在lev3的heatmap.\n",
        "\n",
        "最后的最后，roc, froc之类"
      ]
    },
    {
      "cell_type": "markdown",
      "metadata": {
        "id": "3U3qA_Uz8jzw",
        "colab_type": "text"
      },
      "source": [
        "# 1. Single Scale, Train Step"
      ]
    },
    {
      "cell_type": "markdown",
      "metadata": {
        "id": "OCboVArs8ord",
        "colab_type": "text"
      },
      "source": [
        "## 1.1. Random sample center point"
      ]
    },
    {
      "cell_type": "markdown",
      "metadata": {
        "id": "HLeQMbU-9o3D",
        "colab_type": "text"
      },
      "source": [
        "## 1.2. Generate patches"
      ]
    },
    {
      "cell_type": "code",
      "metadata": {
        "id": "2L5mvxpt8SVz",
        "colab_type": "code",
        "colab": {}
      },
      "source": [
        "# Expand a 299*299 patch around the center tissue\n",
        "ipatch = read_slide(slide, \n",
        "                   x=int(center[0]-149)*down_factor[ilevel], #16 for lev4, 8 for lev3 \n",
        "                   y=int(center[1]-149)*down_factor[ilevel], \n",
        "                   level=ilevel, \n",
        "                   width=299, \n",
        "                   height=299)\n",
        "\n",
        "# Check whether the 128*128 center pixels(lev3) have tumor\n",
        "ipixels = read_slide(tumor_mask,\n",
        "                     x = int(center[0]-63)*down_factor[ilevel], \n",
        "                     y = int(center[1]-63)*down_factor[ilevel],\n",
        "                     level = ilevel,\n",
        "                     width = 128,\n",
        "                     height = 128)[:,:,0]"
      ],
      "execution_count": 0,
      "outputs": []
    },
    {
      "cell_type": "markdown",
      "metadata": {
        "id": "xYTZ2uLK97WF",
        "colab_type": "text"
      },
      "source": [
        "# 2. Single scale, testing step"
      ]
    },
    {
      "cell_type": "code",
      "metadata": {
        "id": "MEf8sAZJ9muf",
        "colab_type": "code",
        "colab": {}
      },
      "source": [
        "#stride on the center pixcel, center[0] = 0.1w+128i, center[1] 0.1h+128j\n",
        "test_center = []\n",
        "test_patches = []\n",
        "stride = 128\n",
        "bound = 149 # (299-1)//2\n",
        "width = slide.level_dimensions[ilevel][0]\n",
        "height = slide.level_dimensions[ilevel][1]\n",
        "nx = (int(width*0.9)-int(width*0.1))//stride + 1\n",
        "ny = (int(height*0.9)-int(height*0.1))//stride + 1\n",
        "for i in range(nx):\n",
        "  for j in range(ny):\n",
        "    patch_ij = read_slide(slide,\n",
        "                          x = int(0.1*width+stride*i-bound)*down_factor[ilevel],\n",
        "                          y = int(0.1*height+stride*j-bound)*down_factor[ilevel],\n",
        "                          level = ilevel,\n",
        "                          width = input_size,\n",
        "                          height = input_size)\n",
        "    test_patches.append(patch_ij)\n",
        "    test_center.append((int(0.1*width+stride*i-63), int(0.1*height+stride*j-63)))\n",
        "    \n"
      ],
      "execution_count": 0,
      "outputs": []
    },
    {
      "cell_type": "markdown",
      "metadata": {
        "id": "eaojf69__0ns",
        "colab_type": "text"
      },
      "source": [
        "after testing, return predicted prob with coordinate from test_center"
      ]
    },
    {
      "cell_type": "markdown",
      "metadata": {
        "id": "NBPzaj4O_6c9",
        "colab_type": "text"
      },
      "source": [
        "# 3. Multi-scale, Training\n"
      ]
    },
    {
      "cell_type": "markdown",
      "metadata": {
        "id": "v1L1ChrOACLH",
        "colab_type": "text"
      },
      "source": [
        "## 3.1. Random sample center point on lev 3"
      ]
    },
    {
      "cell_type": "markdown",
      "metadata": {
        "id": "rqABVb65AFRp",
        "colab_type": "text"
      },
      "source": [
        "## 3.2. Generate patches on both lev3&lev4"
      ]
    },
    {
      "cell_type": "code",
      "metadata": {
        "id": "05kwDTTK_zvE",
        "colab_type": "code",
        "colab": {}
      },
      "source": [
        "# Expand a 299*299 patch around the center tissue\n",
        "ipatch3 = read_slide(slide, \n",
        "                   x=int(center[0]-149)*down_factor[ilevel], #16 for lev4, 8 for lev3 \n",
        "                   y=int(center[1]-149)*down_factor[ilevel], \n",
        "                   level=ilevel, \n",
        "                   width=299, \n",
        "                   height=299)\n",
        "\n",
        "# Check whether the 128*128 center pixels(lev3) have tumor\n",
        "ipixels = read_slide(tumor_mask,\n",
        "                     x = int(center[0]-63)*down_factor[ilevel], \n",
        "                     y = int(center[1]-63)*down_factor[ilevel],\n",
        "                     level = ilevel,\n",
        "                     width = 128,\n",
        "                     height = 128)[:,:,0]"
      ],
      "execution_count": 0,
      "outputs": []
    },
    {
      "cell_type": "markdown",
      "metadata": {
        "id": "8Q93d5lPALfN",
        "colab_type": "text"
      },
      "source": [
        "确定要了，再lev4"
      ]
    },
    {
      "cell_type": "code",
      "metadata": {
        "id": "hB-5mOerAN64",
        "colab_type": "code",
        "colab": {}
      },
      "source": [
        "ipatch4 = read_slide(slide, \n",
        "                   x=int(center[0]-149)*8, #16 for lev4, 8 for lev3 \n",
        "                   y=int(center[1]-149)*8, \n",
        "                   level=4, \n",
        "                   width=299, \n",
        "                   height=299)"
      ],
      "execution_count": 0,
      "outputs": []
    },
    {
      "cell_type": "markdown",
      "metadata": {
        "id": "XCTSDP8OAYzY",
        "colab_type": "text"
      },
      "source": [
        "# 4. Multi scale, Test"
      ]
    },
    {
      "cell_type": "code",
      "metadata": {
        "id": "Zhy4a4BNAdKZ",
        "colab_type": "code",
        "colab": {}
      },
      "source": [
        "#stride on the center pixcel, center[0] = 0.1w+128i, center[1] 0.1h+128j\n",
        "test_center = []\n",
        "test_patches3 = []\n",
        "test_patches4 = []\n",
        "stride = 128\n",
        "bound = 149 # (299-1)//2\n",
        "width = slide.level_dimensions[ilevel][0]\n",
        "height = slide.level_dimensions[ilevel][1]\n",
        "nx = (int(width*0.9)-int(width*0.1))//stride + 1\n",
        "ny = (int(height*0.9)-int(height*0.1))//stride + 1\n",
        "for i in range(nx):\n",
        "  for j in range(ny):\n",
        "    ipatch_3 = read_slide(slide,\n",
        "                          x = int(0.1*width+stride*i-bound)*down_factor[ilevel],\n",
        "                          y = int(0.1*height+stride*j-bound)*down_factor[ilevel],\n",
        "                          level = ilevel,\n",
        "                          width = input_size,\n",
        "                          height = input_size)\n",
        "    ipatch_4 = read_slide(slide,\n",
        "                          x = int(0.1*width+stride*i-bound)*down_factor[ilevel],\n",
        "                          y = int(0.1*height+stride*j-bound)*down_factor[ilevel],\n",
        "                          level = 4,\n",
        "                          width = input_size,\n",
        "                          height = input_size)\n",
        "    test_patches3.append(ipatch_3)\n",
        "    test_patches4.append(ipatch_4)\n",
        "    test_center.append((int(0.1*width+stride*i-63), int(0.1*height+stride*j-63)))\n",
        "    \n"
      ],
      "execution_count": 0,
      "outputs": []
    },
    {
      "cell_type": "markdown",
      "metadata": {
        "id": "QPXUzHYzAckr",
        "colab_type": "text"
      },
      "source": [
        "只slide on lev3. lev 4是同比例放大。"
      ]
    }
  ]
}