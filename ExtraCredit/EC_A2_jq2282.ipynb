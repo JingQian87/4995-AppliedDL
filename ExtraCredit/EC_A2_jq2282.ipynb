{
  "nbformat": 4,
  "nbformat_minor": 0,
  "metadata": {
    "colab": {
      "name": "EC-A2-jq2282.ipynb",
      "version": "0.3.2",
      "provenance": [],
      "collapsed_sections": []
    },
    "kernelspec": {
      "name": "python3",
      "display_name": "Python 3"
    },
    "accelerator": "GPU"
  },
  "cells": [
    {
      "metadata": {
        "id": "Zd6e0W_dhjC-",
        "colab_type": "text"
      },
      "cell_type": "markdown",
      "source": [
        "# EC-A2: Classify QuickDraw images\n",
        "\n",
        "### Jing Qian (jq2282)\n",
        "\n",
        "If you’re up for more image classification, use the ​QuickDraw Loader​ to create a dataset of a bunch of different classes (you can use “animals” to start). Write a CNN to classify these images, and report your accuracy. How accurate of a model can you train to recognize 50 classes? 100? More?"
      ]
    },
    {
      "metadata": {
        "id": "25-aJX6mom9X",
        "colab_type": "text"
      },
      "cell_type": "markdown",
      "source": [
        "# Step 1. Load the Quick Draw dataset"
      ]
    },
    {
      "metadata": {
        "id": "acguyUXAqAKB",
        "colab_type": "text"
      },
      "cell_type": "markdown",
      "source": [
        "## Get the data\n",
        "Start with the group of animals with 42 classes\n",
        "\n",
        "Delete the class 'sea turtle' because of error"
      ]
    },
    {
      "metadata": {
        "id": "SWR59oOWhiUy",
        "colab_type": "code",
        "colab": {}
      },
      "cell_type": "code",
      "source": [
        "from __future__ import print_function\n",
        "\n",
        "import functools, itertools, json, os, re, textwrap\n",
        "import matplotlib.cm as cm\n",
        "import matplotlib.pyplot as plt\n",
        "import numpy as np\n",
        "import tensorflow as tf\n",
        "\n",
        "from PIL import Image, ImageDraw\n",
        "from six.moves.urllib import request\n",
        "from xml.dom import minidom"
      ],
      "execution_count": 0,
      "outputs": []
    },
    {
      "metadata": {
        "id": "RqFj3QsGhgg4",
        "colab_type": "code",
        "colab": {
          "base_uri": "https://localhost:8080/",
          "height": 496
        },
        "outputId": "af620490-6c06-49ff-e07c-583773d68113"
      },
      "cell_type": "code",
      "source": [
        "# Retrieve list of classes.\n",
        "def list_bucket(bucket, regexp='.*'):\n",
        "    \"\"\"Returns a (filtered) list of Keys in specified GCE bucket.\"\"\"\n",
        "    keys = []\n",
        "    fh = request.urlopen('https://storage.googleapis.com/%s' % bucket)\n",
        "    content = minidom.parseString(fh.read())\n",
        "    for e in content.getElementsByTagName('Contents'):\n",
        "        key = e.getElementsByTagName('Key')[0].firstChild.data\n",
        "        if re.match(regexp, key):\n",
        "            keys.append(key)\n",
        "    return keys\n",
        "\n",
        "all_ndjsons = list_bucket('quickdraw_dataset', '.*ndjson$')\n",
        "# print('available: (%d)' % len(all_ndjsons))\n",
        "# print('\\n'.join(textwrap.wrap(\n",
        "#     ' '.join([key.split('/')[-1].split('.')[0] for key in all_ndjsons]),\n",
        "#     width=100)))"
      ],
      "execution_count": 2,
      "outputs": [
        {
          "output_type": "stream",
          "text": [
            "available: (309)\n",
            "The Eiffel Tower The Great Wall of China The Mona Lisa aircraft carrier airplane alarm clock\n",
            "ambulance angel animal migration ant anvil apple arm asparagus axe backpack banana bandage barn\n",
            "baseball bat baseball basket basketball bat bathtub beach bear beard bed bee belt bench bicycle\n",
            "binoculars bird birthday cake blackberry blueberry book boomerang bottlecap bowtie bracelet brain\n",
            "bread bridge broccoli broom bucket bulldozer bus bush butterfly cactus cake calculator calendar\n",
            "camel camera camouflage campfire candle cannon canoe car carrot castle cat ceiling fan cell phone\n",
            "cello chair chandelier church circle clarinet clock cloud coffee cup compass computer cookie cooler\n",
            "couch cow crab crayon crocodile crown cruise ship cup diamond dishwasher diving board dog dolphin\n",
            "donut door dragon dresser drill drums duck dumbbell ear elbow elephant envelope eraser eye\n",
            "eyeglasses face fan feather fence finger fire hydrant fireplace firetruck fish flamingo flashlight\n",
            "flip flops floor lamp flower flying saucer foot fork frog frying pan garden hose garden giraffe\n",
            "goatee golf club grapes grass guitar hamburger hammer hand harp hat headphones hedgehog helicopter\n",
            "helmet hexagon hockey puck hockey stick horse hospital hot air balloon hot dog hot tub hourglass\n",
            "house plant house hurricane ice cream jacket jail kangaroo key keyboard knee knife ladder lantern\n",
            "laptop leaf leg light bulb lighter lighthouse lightning line lion lipstick lobster lollipop mailbox\n",
            "map marker matches megaphone mermaid microphone microwave monkey moon mosquito motorbike mountain\n",
            "mouse moustache mouth mug mushroom nail necklace nose ocean octagon octopus onion oven owl paint can\n",
            "paintbrush palm tree panda pants paper clip parachute parrot passport peanut pear peas pencil\n",
            "penguin piano pickup truck picture frame pig pillow pineapple pizza pliers police car pond pool\n",
            "popsicle postcard potato power outlet purse rabbit raccoon radio rain rainbow rake remote control\n",
            "rhinoceros rifle river roller coaster rollerskates sailboat sandwich saw saxophone school bus\n",
            "scissors scorpion screwdriver sea turtle see saw shark sheep shoe shorts shovel sink skateboard\n",
            "skull skyscraper sleeping bag smiley face snail snake snorkel snowflake snowman soccer ball sock\n",
            "speedboat spider spoon spreadsheet square squiggle squirrel stairs star steak stereo stethoscope\n",
            "stitches stop sign stove strawberry streetlight string bean submarine suitcase sun swan sweater\n",
            "swing set sword syringe t-shirt table teapot teddy-bear telephone\n"
          ],
          "name": "stdout"
        }
      ]
    },
    {
      "metadata": {
        "id": "PBJm5TS6pAoV",
        "colab_type": "code",
        "colab": {}
      },
      "cell_type": "code",
      "source": [
        "# Store all data locally in this directory.\n",
        "data_path = 'data'\n",
        "if not os.path.exists(data_path): \n",
        "  os.mkdir(data_path)"
      ],
      "execution_count": 0,
      "outputs": []
    },
    {
      "metadata": {
        "id": "ttP9oOKcpArd",
        "colab_type": "code",
        "colab": {}
      },
      "cell_type": "code",
      "source": [
        "# Start with the group of animals\n",
        "animals = ['bat', 'bird', 'butterfly', 'camel', 'cat', 'cow', 'crab',\n",
        "           'crocodile', 'dog', 'dolphin', 'duck', 'elephant', 'fish',\n",
        "           'frog', 'giraffe', 'hedgehog', 'horse', 'kangaroo', 'lion',\n",
        "           'lobster', 'monkey', 'mosquito', 'mouse', 'octopus', 'owl',\n",
        "           'panda', 'parrot', 'penguin', 'pig', 'rabbit', 'raccoon',\n",
        "           'rhinoceros', 'scorpion', 'shark', 'sheep',\n",
        "           'snail', 'spider', 'squirrel', 'teddy-bear', 'tiger',\n",
        "           'whale', 'zebra']\n",
        "\n",
        "classes, classes_name = animals, 'animals'"
      ],
      "execution_count": 0,
      "outputs": []
    },
    {
      "metadata": {
        "id": "F_W16MV_pAvQ",
        "colab_type": "code",
        "colab": {
          "base_uri": "https://localhost:8080/",
          "height": 799
        },
        "outputId": "327aa29c-3821-4ff3-8d8d-80d0a1ccc0e2"
      },
      "cell_type": "code",
      "source": [
        "# Download the chosen group.\n",
        "def valid_ndjson(filename):\n",
        "    \"\"\"Checks presence + completeness of .ndjson file.\"\"\"\n",
        "    try:\n",
        "        json.loads(open(filename).readlines()[-1])\n",
        "        return True\n",
        "    except (ValueError, IOError):\n",
        "        return False\n",
        "\n",
        "def retrieve(bucket, key, filename):\n",
        "    \"\"\"Returns a file specified by its Key from a GCE bucket.\"\"\"\n",
        "    url = 'https://storage.googleapis.com/%s/%s' % (bucket, key)\n",
        "    if not os.path.isfile(filename):\n",
        "        request.urlretrieve(url=url, filename=filename)\n",
        "    while not valid_ndjson(filename):\n",
        "        print('*** Corrupted download (%.2f MB), retrying...' % (os.path.getsize(filename) / 2.**20))\n",
        "        request.urlretrieve(url=url, filename=filename)\n",
        "\n",
        "if not os.path.exists(data_path):\n",
        "    os.mkdir(data_path)\n",
        "\n",
        "print('\\n%d classes:' % len(classes))\n",
        "\n",
        "for name in classes:\n",
        "    print(name, end=' ')\n",
        "    dst = '%s/%s.ndjson' % (data_path, name)\n",
        "    retrieve('quickdraw_dataset', 'full/simplified/%s.ndjson' % name, dst)\n",
        "    print('%.2f MB' % (os.path.getsize(dst) / 2.**20))\n",
        "\n",
        "print('\\nDONE :)')"
      ],
      "execution_count": 8,
      "outputs": [
        {
          "output_type": "stream",
          "text": [
            "\n",
            "42 classes:\n",
            "bat 58.02 MB\n",
            "bird 65.86 MB\n",
            "butterfly 63.27 MB\n",
            "camel 54.31 MB\n",
            "cat 73.12 MB\n",
            "cow 91.94 MB\n",
            "crab 76.46 MB\n",
            "crocodile 57.19 MB\n",
            "dog 87.06 MB\n",
            "dolphin 46.29 MB\n",
            "duck 67.93 MB\n",
            "elephant 70.86 MB\n",
            "fish 48.59 MB\n",
            "frog 92.50 MB\n",
            "giraffe 58.27 MB\n",
            "hedgehog 90.76 MB\n",
            "horse 99.79 MB\n",
            "kangaroo 96.06 MB\n",
            "lion 90.47 MB\n",
            "lobster 86.65 MB\n",
            "monkey 91.05 MB\n",
            "mosquito 64.99 MB\n",
            "mouse 76.35 MB\n",
            "octopus 79.30 MB\n",
            "owl 108.10 MB\n",
            "panda 97.04 MB\n",
            "parrot 96.42 MB\n",
            "penguin 137.90 MB\n",
            "pig 124.13 MB\n",
            "rabbit 95.05 MB\n",
            "raccoon 89.36 MB\n",
            "rhinoceros 92.20 MB\n",
            "scorpion 104.07 MB\n",
            "shark 48.55 MB\n",
            "sheep 80.55 MB\n",
            "snail 69.58 MB\n",
            "spider 115.32 MB\n",
            "squirrel 100.65 MB\n",
            "teddy-bear 128.27 MB\n",
            "tiger 86.09 MB\n",
            "whale 53.94 MB\n",
            "zebra 92.10 MB\n",
            "\n",
            "DONE :)\n"
          ],
          "name": "stdout"
        }
      ]
    },
    {
      "metadata": {
        "id": "KNvbLv_DrJEH",
        "colab_type": "text"
      },
      "cell_type": "markdown",
      "source": [
        "## Inspect the data"
      ]
    },
    {
      "metadata": {
        "id": "Uo1nriHHpAx_",
        "colab_type": "code",
        "colab": {
          "base_uri": "https://localhost:8080/",
          "height": 748
        },
        "outputId": "9e5fca34-0b7c-4e62-9c12-15ee01c7eeb4"
      },
      "cell_type": "code",
      "source": [
        "# Let's check out the downloaded files...\n",
        "# !ls -lh $data_path"
      ],
      "execution_count": 9,
      "outputs": [
        {
          "output_type": "stream",
          "text": [
            "total 3.5G\n",
            "-rw-r--r-- 1 root root  59M May  1 18:28 bat.ndjson\n",
            "-rw-r--r-- 1 root root  66M May  1 18:28 bird.ndjson\n",
            "-rw-r--r-- 1 root root  64M May  1 18:28 butterfly.ndjson\n",
            "-rw-r--r-- 1 root root  55M May  1 18:28 camel.ndjson\n",
            "-rw-r--r-- 1 root root  74M May  1 18:28 cat.ndjson\n",
            "-rw-r--r-- 1 root root  92M May  1 18:28 cow.ndjson\n",
            "-rw-r--r-- 1 root root  77M May  1 18:28 crab.ndjson\n",
            "-rw-r--r-- 1 root root  58M May  1 18:28 crocodile.ndjson\n",
            "-rw-r--r-- 1 root root  88M May  1 18:28 dog.ndjson\n",
            "-rw-r--r-- 1 root root  47M May  1 18:28 dolphin.ndjson\n",
            "-rw-r--r-- 1 root root  68M May  1 18:28 duck.ndjson\n",
            "-rw-r--r-- 1 root root  71M May  1 18:28 elephant.ndjson\n",
            "-rw-r--r-- 1 root root  49M May  1 18:28 fish.ndjson\n",
            "-rw-r--r-- 1 root root  93M May  1 18:28 frog.ndjson\n",
            "-rw-r--r-- 1 root root  59M May  1 18:28 giraffe.ndjson\n",
            "-rw-r--r-- 1 root root  91M May  1 18:28 hedgehog.ndjson\n",
            "-rw-r--r-- 1 root root 100M May  1 18:28 horse.ndjson\n",
            "-rw-r--r-- 1 root root  97M May  1 18:28 kangaroo.ndjson\n",
            "-rw-r--r-- 1 root root  91M May  1 18:28 lion.ndjson\n",
            "-rw-r--r-- 1 root root  87M May  1 18:28 lobster.ndjson\n",
            "-rw-r--r-- 1 root root  92M May  1 18:28 monkey.ndjson\n",
            "-rw-r--r-- 1 root root  65M May  1 18:28 mosquito.ndjson\n",
            "-rw-r--r-- 1 root root  77M May  1 18:28 mouse.ndjson\n",
            "-rw-r--r-- 1 root root  80M May  1 18:28 octopus.ndjson\n",
            "-rw-r--r-- 1 root root 109M May  1 18:28 owl.ndjson\n",
            "-rw-r--r-- 1 root root  98M May  1 18:28 panda.ndjson\n",
            "-rw-r--r-- 1 root root  97M May  1 18:28 parrot.ndjson\n",
            "-rw-r--r-- 1 root root 138M May  1 18:28 penguin.ndjson\n",
            "-rw-r--r-- 1 root root 125M May  1 18:28 pig.ndjson\n",
            "-rw-r--r-- 1 root root  96M May  1 18:28 rabbit.ndjson\n",
            "-rw-r--r-- 1 root root  90M May  1 18:28 raccoon.ndjson\n",
            "-rw-r--r-- 1 root root  93M May  1 18:28 rhinoceros.ndjson\n",
            "-rw-r--r-- 1 root root 105M May  1 18:28 scorpion.ndjson\n",
            "-rw-r--r-- 1 root root  49M May  1 18:31 shark.ndjson\n",
            "-rw-r--r-- 1 root root  81M May  1 18:31 sheep.ndjson\n",
            "-rw-r--r-- 1 root root  70M May  1 18:31 snail.ndjson\n",
            "-rw-r--r-- 1 root root 116M May  1 18:31 spider.ndjson\n",
            "-rw-r--r-- 1 root root 101M May  1 18:31 squirrel.ndjson\n",
            "-rw-r--r-- 1 root root 129M May  1 18:31 teddy-bear.ndjson\n",
            "-rw-r--r-- 1 root root  87M May  1 18:31 tiger.ndjson\n",
            "-rw-r--r-- 1 root root  54M May  1 18:31 whale.ndjson\n",
            "-rw-r--r-- 1 root root  93M May  1 18:31 zebra.ndjson\n"
          ],
          "name": "stdout"
        }
      ]
    },
    {
      "metadata": {
        "id": "OJvhPmhUpA00",
        "colab_type": "code",
        "colab": {
          "base_uri": "https://localhost:8080/",
          "height": 88
        },
        "outputId": "b678174e-db16-4b6b-d1b6-76652af17dec"
      },
      "cell_type": "code",
      "source": [
        "# What is the NDJSON file format?\n",
        "# Seems to be one JSON dictionary per line...\n",
        "# path = sorted(tf.gfile.Glob(os.path.join(data_path, '*.ndjson')))[1]\n",
        "# print(open(path).read()[:1000] + '...')"
      ],
      "execution_count": 10,
      "outputs": [
        {
          "output_type": "stream",
          "text": [
            "{\"word\":\"bird\",\"countrycode\":\"US\",\"timestamp\":\"2017-03-09 00:28:55.63775 UTC\",\"recognized\":true,\"key_id\":\"4926006882205696\",\"drawing\":[[[0,11,23,50,72,96,97,132,158,224,255],[22,9,2,0,26,45,71,40,27,10,9]]]}\n",
            "{\"word\":\"bird\",\"countrycode\":\"US\",\"timestamp\":\"2017-03-29 04:22:58.82297 UTC\",\"recognized\":true,\"key_id\":\"5357674197680128\",\"drawing\":[[[65,194,221,240,250,255,251,242,227,210,173,154,133,86,58,55],[102,104,111,120,130,151,161,173,181,184,186,181,170,138,106,94]],[[211,216],[133,138]],[[208,205,205],[154,164,159]],[[94,82,74,74,83,91,106,139,164],[143,165,196,244,250,250,242,211,146]],[[107,108,111,127,155,175,181,181,176,178],[84,53,44,20,2,0,16,52,79,92]],[[42,25,3,0],[94,89,62,39]]]}\n",
            "{\"word\":\"bird\",\"countrycode\":\"US\",\"timestamp\":\"2017-03-17 19:31:28.87981 UTC\",\"recognized\":true,\"key_id\":\"5553672849195008\",\"drawing\":[[[159,163,175,189,201,209,227,245,253,255],[15,9,2,0,5,16,8,7,15,23]],[[124,108,101,97,96,105,152,159,171,178,179,168,154,140,125],[52,50,55,63,81,93,115,114,101,73,...\n"
          ],
          "name": "stdout"
        }
      ]
    },
    {
      "metadata": {
        "id": "ZAjH8C_ErcfA",
        "colab_type": "code",
        "colab": {
          "base_uri": "https://localhost:8080/",
          "height": 34
        },
        "outputId": "c1e29a70-1f86-46ba-92f3-7ffe71d33a82"
      },
      "cell_type": "code",
      "source": [
        "# # Parse single line.\n",
        "# data_json = json.loads(open(path).readline())\n",
        "# data_json.keys()"
      ],
      "execution_count": 11,
      "outputs": [
        {
          "output_type": "execute_result",
          "data": {
            "text/plain": [
              "dict_keys(['word', 'countrycode', 'timestamp', 'recognized', 'key_id', 'drawing'])"
            ]
          },
          "metadata": {
            "tags": []
          },
          "execution_count": 11
        }
      ]
    },
    {
      "metadata": {
        "id": "Z6rlyutopA4d",
        "colab_type": "code",
        "colab": {
          "base_uri": "https://localhost:8080/",
          "height": 34
        },
        "outputId": "bfd0b209-bc6a-4ef0-be75-c882d7bd5989"
      },
      "cell_type": "code",
      "source": [
        "# # ...and the actual drawing.\n",
        "# drawing = data_json['drawing']\n",
        "# # The drawing consists of a series of strokes:\n",
        "# [np.array(stroke).shape for stroke in drawing]"
      ],
      "execution_count": 12,
      "outputs": [
        {
          "output_type": "execute_result",
          "data": {
            "text/plain": [
              "[(2, 11)]"
            ]
          },
          "metadata": {
            "tags": []
          },
          "execution_count": 12
        }
      ]
    },
    {
      "metadata": {
        "id": "TMreYutksAB5",
        "colab_type": "code",
        "colab": {
          "base_uri": "https://localhost:8080/",
          "height": 265
        },
        "outputId": "dfd21620-531b-46c1-e9b7-ffbbceff7d3d"
      },
      "cell_type": "code",
      "source": [
        "# Draw the image -- the strokes all have have shape (2, n)\n",
        "# so the first index seems to be x/y coordinate:\n",
        "\n",
        "def draw_strokes(drawing):\n",
        "  # Use a different color for each stroke\n",
        "  colors = cm.rainbow(np.linspace(0, 1, len(drawing)))\n",
        "  plt.axis('off')\n",
        "  for stroke, c in zip(drawing, colors):\n",
        "    #print(stroke[0], stroke[1])\n",
        "    plt.plot(np.array(stroke[0]), -1 * np.array(stroke[1]), color=c)\n",
        "    \n",
        "# draw_strokes(drawing)"
      ],
      "execution_count": 13,
      "outputs": [
        {
          "output_type": "display_data",
          "data": {
            "image/png": "[encoded data removed]",
            "text/plain": [
              "<Figure size 432x288 with 1 Axes>"
            ]
          },
          "metadata": {
            "tags": []
          }
        }
      ]
    },
    {
      "metadata": {
        "id": "adZ2csaTsB7I",
        "colab_type": "code",
        "colab": {
          "base_uri": "https://localhost:8080/",
          "height": 34
        },
        "outputId": "d97ed4e9-737d-4f82-f2a3-3a8ce56fc3c9"
      },
      "cell_type": "code",
      "source": [
        "# Some more code to load many sketches at once.\n",
        "# Let's ignore the difficult \"unrecognized\" sketches for now...\n",
        "# (i.e. unrecognized by the official quickdraw classifier)\n",
        "\n",
        "def convert(line):\n",
        "    \"\"\"Converts single line to JSON + converts 'drawing' to list of np.array.\"\"\"\n",
        "    d = json.loads(line)\n",
        "    d['drawing'] = [np.array(stroke) for stroke in d['drawing']]\n",
        "    return d\n",
        "\n",
        "def loaditer(name, unrecognized=False):\n",
        "    \"\"\"Returns iterable of drawings in specified file.\n",
        "\n",
        "    Args:\n",
        "      name: Name of the downloaded object (e.g. \"elephant\").\n",
        "      unrecognized: Whether to include drawings that were not recognized\n",
        "          by Google AI (i.e. the hard ones).\n",
        "    \"\"\"\n",
        "    for line in open('%s/%s.ndjson' % (data_path, name)):\n",
        "        d = convert(line)\n",
        "        if d['recognized'] or unrecognized:\n",
        "            yield d\n",
        "\n",
        "def loadn(name, n, unrecognized=False):\n",
        "    \"\"\"Returns list of drawings.\n",
        "\n",
        "    Args:\n",
        "      name: Name of the downloaded object (e.g. \"elephant\").\n",
        "      n: Number of drawings to load.\n",
        "      unrecognized: Whether to include drawings that were not recognized\n",
        "          by Google AI (i.e. the hard ones).\n",
        "    \"\"\"\n",
        "    it = loaditer(name, unrecognized=unrecognized)\n",
        "    return list(itertools.islice(it, 0, n))\n",
        "\n",
        "# print('loading some \"%s\"...' % classes[0])\n",
        "# sample = loadn(classes[0], 100)"
      ],
      "execution_count": 14,
      "outputs": [
        {
          "output_type": "stream",
          "text": [
            "loading some \"bat\"...\n"
          ],
          "name": "stdout"
        }
      ]
    },
    {
      "metadata": {
        "id": "3VHjRztgsB-Q",
        "colab_type": "code",
        "colab": {
          "base_uri": "https://localhost:8080/",
          "height": 306
        },
        "outputId": "0024964f-7121-4598-dfb3-a87f01e608a7"
      },
      "cell_type": "code",
      "source": [
        "# sample[0]"
      ],
      "execution_count": 15,
      "outputs": [
        {
          "output_type": "execute_result",
          "data": {
            "text/plain": [
              "{'countrycode': 'RO',\n",
              " 'drawing': [array([[111,  89,  79,  77,  82,  89, 103, 113, 126, 125, 104],\n",
              "         [ 53, 106, 147, 174, 179, 180, 172, 156, 114,  54,  55]]),\n",
              "  array([[103, 103, 111, 126, 137, 137, 127],\n",
              "         [ 53,  17,   1,   2,  14,  25,  44]]),\n",
              "  array([[113,  98,  45,  41,  40,  45,  27,  22,  21,  25,  20,   2,   0,\n",
              "            8,  42,  61,  73],\n",
              "         [ 55,  48,  12,  10,  13,  53,  54,  61,  93, 125, 126, 115, 123,\n",
              "          136, 165, 167, 158]]),\n",
              "  array([[132, 143, 158, 171, 208, 215, 219, 248, 251, 255, 254, 242, 227,\n",
              "          233, 233, 222, 211, 187, 144, 125, 111, 107],\n",
              "         [ 61,  56,  37,  26,  12,  65,  67,  65,  67,  82, 102, 130, 153,\n",
              "          156, 160, 173, 180, 188, 189, 189, 186, 181]])],\n",
              " 'key_id': '5073402912047104',\n",
              " 'recognized': True,\n",
              " 'timestamp': '2017-03-07 14:44:14.70063 UTC',\n",
              " 'word': 'bat'}"
            ]
          },
          "metadata": {
            "tags": []
          },
          "execution_count": 15
        }
      ]
    },
    {
      "metadata": {
        "id": "lQqGT5RrsCCB",
        "colab_type": "code",
        "colab": {
          "base_uri": "https://localhost:8080/",
          "height": 592
        },
        "outputId": "d92115ec-c7a5-4c4f-ab40-77c9d8d89a9a"
      },
      "cell_type": "code",
      "source": [
        "# # Some more drawings...\n",
        "# plt.figure(figsize=(10, 10))\n",
        "# n = 3\n",
        "# for x in range(n):\n",
        "#     for y in range(n):\n",
        "#         i = x * n + y\n",
        "#         plt.subplot(n, n, i + 1)\n",
        "#         drawing = sample[i]['drawing']\n",
        "#         draw_strokes(drawing)\n",
        "        \n",
        "# # bats!"
      ],
      "execution_count": 16,
      "outputs": [
        {
          "output_type": "display_data",
          "data": {
            "image/png": "[encoded data removed]",
            "text/plain": [
              "<Figure size 720x720 with 9 Axes>"
            ]
          },
          "metadata": {
            "tags": []
          }
        }
      ]
    },
    {
      "metadata": {
        "id": "2vgbObLbsCFT",
        "colab_type": "code",
        "colab": {
          "base_uri": "https://localhost:8080/",
          "height": 731
        },
        "outputId": "a154bb6b-0da2-41f0-a12c-a98f9de0698b"
      },
      "cell_type": "code",
      "source": [
        "# Let's first check how many [recognized=True] examples we have in each class.\n",
        "# Depending on your choice of classes you could generate >200k examples / class...\n",
        "for name in classes:\n",
        "    print(name, len(list(open('%s/%s.ndjson' % (data_path, name)))), 'recognized', len(list(loaditer(name))))"
      ],
      "execution_count": 17,
      "outputs": [
        {
          "output_type": "stream",
          "text": [
            "bat 118114 recognized 96152\n",
            "bird 133572 recognized 111611\n",
            "butterfly 117999 recognized 114549\n",
            "camel 121399 recognized 115454\n",
            "cat 123202 recognized 103031\n",
            "cow 123083 recognized 101099\n",
            "crab 126930 recognized 106466\n",
            "crocodile 127932 recognized 106410\n",
            "dog 152159 recognized 143285\n",
            "dolphin 121613 recognized 110335\n",
            "duck 135480 recognized 113764\n",
            "elephant 126969 recognized 104986\n",
            "fish 134150 recognized 126420\n",
            "frog 159047 recognized 145286\n",
            "giraffe 127182 recognized 122396\n",
            "hedgehog 120527 recognized 103226\n",
            "horse 178286 recognized 156302\n",
            "kangaroo 174470 recognized 152511\n",
            "lion 120949 recognized 98976\n",
            "lobster 140175 recognized 118228\n",
            "monkey 127633 recognized 105650\n",
            "mosquito 123029 recognized 116609\n",
            "mouse 178826 recognized 166197\n",
            "octopus 150152 recognized 143558\n",
            "owl 169632 recognized 147654\n",
            "panda 113613 recognized 94814\n",
            "parrot 185530 recognized 163567\n",
            "penguin 253791 recognized 231826\n",
            "pig 186770 recognized 164788\n",
            "rabbit 155288 recognized 133323\n",
            "raccoon 119588 recognized 101174\n",
            "rhinoceros 188484 recognized 166539\n",
            "scorpion 165689 recognized 143724\n",
            "shark 126050 recognized 119434\n",
            "sheep 126121 recognized 117555\n",
            "snail 133757 recognized 128512\n",
            "spider 209447 recognized 187865\n",
            "squirrel 156883 recognized 134923\n",
            "teddy-bear 179568 recognized 157583\n",
            "tiger 121067 recognized 110177\n",
            "whale 116502 recognized 109081\n",
            "zebra 144608 recognized 127159\n"
          ],
          "name": "stdout"
        }
      ]
    },
    {
      "metadata": {
        "id": "hY-CZS-VwC3P",
        "colab_type": "text"
      },
      "cell_type": "markdown",
      "source": [
        "## Make images from the brush stroke\n",
        "Convert sequences of strokes to images"
      ]
    },
    {
      "metadata": {
        "id": "e1yrBBKxwFs_",
        "colab_type": "code",
        "colab": {
          "base_uri": "https://localhost:8080/",
          "height": 81
        },
        "outputId": "8fa89182-d2ce-4eb7-d7f7-68843dbe0256"
      },
      "cell_type": "code",
      "source": [
        "def json_to_img(drawing, img_sz=64, lw=3, maximize=True):\n",
        "    img = Image.new('L', (img_sz, img_sz))\n",
        "    draw = ImageDraw.Draw(img)\n",
        "    lines = np.array([\n",
        "        stroke[0:2, i:i+2]\n",
        "        for stroke in drawing\n",
        "        for i in range(stroke.shape[1] - 1)\n",
        "    ], dtype=np.float32)\n",
        "    if maximize:\n",
        "        for i in range(2):\n",
        "            min_, max_ = lines[:,i,:].min() * 0.95, lines[:,i,:].max() * 1.05\n",
        "            lines[:,i,:] = (lines[:,i,:] - min_) / max(max_ - min_, 1)\n",
        "    else:\n",
        "        lines /= 1024\n",
        "    for line in lines:\n",
        "        draw.line(tuple(line.T.reshape((-1,)) * img_sz), fill='white', width=lw)\n",
        "    return img\n",
        "  \n",
        "\n",
        "#json_to_img(drawing)"
      ],
      "execution_count": 19,
      "outputs": [
        {
          "output_type": "execute_result",
          "data": {
            "image/png": "[encoded data removed]",
            "text/plain": [
              "<PIL.Image.Image image mode=L size=64x64 at 0x7FE2886293C8>"
            ]
          },
          "metadata": {
            "tags": []
          },
          "execution_count": 19
        }
      ]
    },
    {
      "metadata": {
        "id": "I6k-Hb2dwFwp",
        "colab_type": "code",
        "colab": {
          "base_uri": "https://localhost:8080/",
          "height": 282
        },
        "outputId": "9edc1199-862f-4d40-8b40-c8874ef16694"
      },
      "cell_type": "code",
      "source": [
        "# Fetch some images + shuffle order.\n",
        "n_per_class = 10000\n",
        "drawings_matrix = [loadn(name, n_per_class) for name in classes]\n",
        "drawings_list = functools.reduce(lambda x, y: x + y, drawings_matrix, [])\n",
        "np.random.seed(1)\n",
        "drawings_list = np.random.permutation(drawings_list)\n",
        "\n",
        "# Quick test to see how our code works so far\n",
        "# draw_strokes(drawings_list[0]['drawing'])\n",
        "# print(str(drawings_list[0]['word']))"
      ],
      "execution_count": 20,
      "outputs": [
        {
          "output_type": "stream",
          "text": [
            "raccoon\n"
          ],
          "name": "stdout"
        },
        {
          "output_type": "display_data",
          "data": {
            "image/png": "[encoded data removed]",
            "text/plain": [
              "<Figure size 432x288 with 1 Axes>"
            ]
          },
          "metadata": {
            "tags": []
          }
        }
      ]
    },
    {
      "metadata": {
        "id": "jE_drPvRwF0Q",
        "colab_type": "code",
        "colab": {
          "base_uri": "https://localhost:8080/",
          "height": 81
        },
        "outputId": "3026bf92-c11a-40f7-d9c4-0122ea13c829"
      },
      "cell_type": "code",
      "source": [
        "#json_to_img(drawings_list[0]['drawing'])"
      ],
      "execution_count": 21,
      "outputs": [
        {
          "output_type": "execute_result",
          "data": {
            "image/png": "[encoded data removed]",
            "text/plain": [
              "<PIL.Image.Image image mode=L size=64x64 at 0x7FE2886A1898>"
            ]
          },
          "metadata": {
            "tags": []
          },
          "execution_count": 21
        }
      ]
    },
    {
      "metadata": {
        "id": "r_ome2yEw0Hw",
        "colab_type": "text"
      },
      "cell_type": "markdown",
      "source": [
        "## Save the images to disk"
      ]
    },
    {
      "metadata": {
        "id": "2iZtvmDyw3tt",
        "colab_type": "code",
        "colab": {
          "base_uri": "https://localhost:8080/",
          "height": 34
        },
        "outputId": "41c4a366-fa50-4f3b-f754-acefa7ad5b90"
      },
      "cell_type": "code",
      "source": [
        "np.shape(drawings_list)"
      ],
      "execution_count": 23,
      "outputs": [
        {
          "output_type": "execute_result",
          "data": {
            "text/plain": [
              "(420000,)"
            ]
          },
          "metadata": {
            "tags": []
          },
          "execution_count": 23
        }
      ]
    },
    {
      "metadata": {
        "id": "81HwwxXcwF3c",
        "colab_type": "code",
        "colab": {}
      },
      "cell_type": "code",
      "source": [
        "# Save a dataset to disk\n",
        "X, y = [], []\n",
        "for drawing in drawings_list:\n",
        "  X.append(np.array(json_to_img(drawing['drawing'])))\n",
        "  y.append(str(drawing['word']))\n",
        "  \n",
        "dataset_path = 'mini-quickdraw.npz'\n",
        "out = open(dataset_path, 'wb') #must open as binary files, or error in python3\n",
        "# This may take a moment...\n",
        "np.savez_compressed(out, X, y, X=X, y=y)"
      ],
      "execution_count": 0,
      "outputs": []
    },
    {
      "metadata": {
        "id": "9K_rWgZM0utA",
        "colab_type": "code",
        "colab": {
          "base_uri": "https://localhost:8080/",
          "height": 122
        },
        "outputId": "0a67cb04-69d6-498b-f48e-bb5d31bfaed0"
      },
      "cell_type": "code",
      "source": [
        "# save the dataset to google drive\n",
        "from google.colab import drive\n",
        "drive.mount('/content/gdrive')"
      ],
      "execution_count": 28,
      "outputs": [
        {
          "output_type": "stream",
          "text": [
            "Go to this URL in a browser: https://accounts.google.com/o/oauth2/auth?client_id=947318989803-6bn6qk8qdgf4n4g3pfee6491hc0brc4i.apps.googleusercontent.com&redirect_uri=urn%3Aietf%3Awg%3Aoauth%3A2.0%3Aoob&scope=email%20https%3A%2F%2Fwww.googleapis.com%2Fauth%2Fdocs.test%20https%3A%2F%2Fwww.googleapis.com%2Fauth%2Fdrive%20https%3A%2F%2Fwww.googleapis.com%2Fauth%2Fdrive.photos.readonly%20https%3A%2F%2Fwww.googleapis.com%2Fauth%2Fpeopleapi.readonly&response_type=code\n",
            "\n",
            "Enter your authorization code:\n",
            "··········\n",
            "Mounted at /content/gdrive\n"
          ],
          "name": "stdout"
        }
      ]
    },
    {
      "metadata": {
        "id": "3SKRHtd72fUH",
        "colab_type": "code",
        "colab": {}
      },
      "cell_type": "code",
      "source": [
        "!cp /content/mini-quickdraw.npz /content/gdrive/My\\ Drive/EC_ADL/mini-quickdraw-42animals.npz"
      ],
      "execution_count": 0,
      "outputs": []
    },
    {
      "metadata": {
        "id": "eYmHQTY8wF6a",
        "colab_type": "code",
        "colab": {
          "base_uri": "https://localhost:8080/",
          "height": 422
        },
        "outputId": "29e1682e-e166-45ff-9769-9605bc142b7d"
      },
      "cell_type": "code",
      "source": [
        "# Demonstrate loading it back\n",
        "dataset_path = '/content/gdrive/My Drive/EC_ADL/mini-quickdraw-42animals.npz'\n",
        "loaded = np.load(open(dataset_path,'rb'))\n",
        "X, y = loaded[\"X\"], loaded[\"y\"]\n",
        "print(X.shape, y.shape)\n",
        "# it worked!\n",
        "plt.imshow(X[0])\n",
        "print(\"Label\", y[0])"
      ],
      "execution_count": 36,
      "outputs": [
        {
          "output_type": "stream",
          "text": [
            "(420000, 64, 64) (420000,)\n",
            "Label raccoon\n"
          ],
          "name": "stdout"
        },
        {
          "output_type": "display_data",
          "data": {
            "image/png": "[encoded data removed]",
            "text/plain": [
              "<Figure size 432x288 with 1 Axes>"
            ]
          },
          "metadata": {
            "tags": []
          }
        },
        {
          "output_type": "stream",
          "text": [
            "Exception ignored in: <bound method ZipFile.__del__ of <zipfile.ZipFile [closed]>>\n",
            "Traceback (most recent call last):\n",
            "  File \"/usr/lib/python3.6/zipfile.py\", line 1686, in __del__\n",
            "    self.close()\n",
            "  File \"/usr/lib/python3.6/zipfile.py\", line 1703, in close\n",
            "    self.fp.seek(self.start_dir)\n",
            "ValueError: I/O operation on closed file.\n"
          ],
          "name": "stderr"
        }
      ]
    },
    {
      "metadata": {
        "id": "lttE-wDXxgYX",
        "colab_type": "text"
      },
      "cell_type": "markdown",
      "source": [
        "# Step 2. Classify with CNN"
      ]
    },
    {
      "metadata": {
        "id": "k5pPQjM9xCep",
        "colab_type": "code",
        "colab": {}
      },
      "cell_type": "code",
      "source": [
        ""
      ],
      "execution_count": 0,
      "outputs": []
    },
    {
      "metadata": {
        "id": "3cxs68U7xCO6",
        "colab_type": "code",
        "colab": {}
      },
      "cell_type": "code",
      "source": [
        ""
      ],
      "execution_count": 0,
      "outputs": []
    },
    {
      "metadata": {
        "id": "eogz06JOxCIJ",
        "colab_type": "code",
        "colab": {}
      },
      "cell_type": "code",
      "source": [
        ""
      ],
      "execution_count": 0,
      "outputs": []
    }
  ]
}