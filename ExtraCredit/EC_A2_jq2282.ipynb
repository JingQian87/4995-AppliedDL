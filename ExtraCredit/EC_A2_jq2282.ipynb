{
  "nbformat": 4,
  "nbformat_minor": 0,
  "metadata": {
    "colab": {
      "name": "EC-A2-jq2282.ipynb",
      "version": "0.3.2",
      "provenance": [],
      "collapsed_sections": []
    },
    "kernelspec": {
      "name": "python3",
      "display_name": "Python 3"
    },
    "accelerator": "GPU"
  },
  "cells": [
    {
      "metadata": {
        "id": "Zd6e0W_dhjC-",
        "colab_type": "text"
      },
      "cell_type": "markdown",
      "source": [
        "# EC-A2: Classify QuickDraw images\n",
        "\n",
        "### Jing Qian (jq2282)\n",
        "\n",
        "If you’re up for more image classification, use the ​QuickDraw Loader​ to create a dataset of a bunch of different classes (you can use “animals” to start). Write a CNN to classify these images, and report your accuracy. How accurate of a model can you train to recognize 50 classes? 100? More?"
      ]
    },
    {
      "metadata": {
        "id": "25-aJX6mom9X",
        "colab_type": "text"
      },
      "cell_type": "markdown",
      "source": [
        "# Step 1. Load the Quick Draw dataset"
      ]
    },
    {
      "metadata": {
        "id": "acguyUXAqAKB",
        "colab_type": "text"
      },
      "cell_type": "markdown",
      "source": [
        "## Get the data\n",
        "Start with the group of animals with 42 classes\n",
        "\n",
        "Delete the class 'sea turtle' because of error"
      ]
    },
    {
      "metadata": {
        "id": "SWR59oOWhiUy",
        "colab_type": "code",
        "colab": {}
      },
      "cell_type": "code",
      "source": [
        "from __future__ import print_function\n",
        "\n",
        "import functools, itertools, json, os, re, textwrap\n",
        "import matplotlib.cm as cm\n",
        "import matplotlib.pyplot as plt\n",
        "import numpy as np\n",
        "import tensorflow as tf\n",
        "\n",
        "from PIL import Image, ImageDraw\n",
        "from six.moves.urllib import request\n",
        "from xml.dom import minidom"
      ],
      "execution_count": 0,
      "outputs": []
    },
    {
      "metadata": {
        "id": "RqFj3QsGhgg4",
        "colab_type": "code",
        "colab": {}
      },
      "cell_type": "code",
      "source": [
        "# Retrieve list of classes.\n",
        "def list_bucket(bucket, regexp='.*'):\n",
        "    \"\"\"Returns a (filtered) list of Keys in specified GCE bucket.\"\"\"\n",
        "    keys = []\n",
        "    fh = request.urlopen('https://storage.googleapis.com/%s' % bucket)\n",
        "    content = minidom.parseString(fh.read())\n",
        "    for e in content.getElementsByTagName('Contents'):\n",
        "        key = e.getElementsByTagName('Key')[0].firstChild.data\n",
        "        if re.match(regexp, key):\n",
        "            keys.append(key)\n",
        "    return keys\n",
        "\n",
        "all_ndjsons = list_bucket('quickdraw_dataset', '.*ndjson$')\n",
        "# print('available: (%d)' % len(all_ndjsons))\n",
        "# print('\\n'.join(textwrap.wrap(\n",
        "#     ' '.join([key.split('/')[-1].split('.')[0] for key in all_ndjsons]),\n",
        "#     width=100)))"
      ],
      "execution_count": 0,
      "outputs": []
    },
    {
      "metadata": {
        "id": "PBJm5TS6pAoV",
        "colab_type": "code",
        "colab": {}
      },
      "cell_type": "code",
      "source": [
        "# Store all data locally in this directory.\n",
        "data_path = 'data'\n",
        "if not os.path.exists(data_path): \n",
        "  os.mkdir(data_path)"
      ],
      "execution_count": 0,
      "outputs": []
    },
    {
      "metadata": {
        "id": "ttP9oOKcpArd",
        "colab_type": "code",
        "colab": {}
      },
      "cell_type": "code",
      "source": [
        "# Start with the group of animals\n",
        "animals = ['bat', 'bird', 'butterfly', 'camel', 'cat', 'cow', 'crab',\n",
        "           'crocodile', 'dog', 'dolphin', 'duck', 'elephant', 'fish',\n",
        "           'frog', 'giraffe', 'hedgehog', 'horse', 'kangaroo', 'lion',\n",
        "           'lobster', 'monkey', 'mosquito', 'mouse', 'octopus', 'owl',\n",
        "           'panda', 'parrot', 'penguin', 'pig', 'rabbit', 'raccoon',\n",
        "           'rhinoceros', 'scorpion', 'shark', 'sheep',\n",
        "           'snail', 'spider', 'squirrel', 'teddy-bear', 'tiger',\n",
        "           'whale', 'zebra']\n",
        "\n",
        "classes, classes_name = animals, 'animals'"
      ],
      "execution_count": 0,
      "outputs": []
    },
    {
      "metadata": {
        "id": "F_W16MV_pAvQ",
        "colab_type": "code",
        "colab": {
          "base_uri": "https://localhost:8080/",
          "height": 799
        },
        "outputId": "d2021249-8817-4cc3-d3e8-bd785e29bd1a"
      },
      "cell_type": "code",
      "source": [
        "# Download the chosen group.\n",
        "def valid_ndjson(filename):\n",
        "    \"\"\"Checks presence + completeness of .ndjson file.\"\"\"\n",
        "    try:\n",
        "        json.loads(open(filename).readlines()[-1])\n",
        "        return True\n",
        "    except (ValueError, IOError):\n",
        "        return False\n",
        "\n",
        "def retrieve(bucket, key, filename):\n",
        "    \"\"\"Returns a file specified by its Key from a GCE bucket.\"\"\"\n",
        "    url = 'https://storage.googleapis.com/%s/%s' % (bucket, key)\n",
        "    if not os.path.isfile(filename):\n",
        "        request.urlretrieve(url=url, filename=filename)\n",
        "    while not valid_ndjson(filename):\n",
        "        print('*** Corrupted download (%.2f MB), retrying...' % (os.path.getsize(filename) / 2.**20))\n",
        "        request.urlretrieve(url=url, filename=filename)\n",
        "\n",
        "if not os.path.exists(data_path):\n",
        "    os.mkdir(data_path)\n",
        "\n",
        "print('\\n%d classes:' % len(classes))\n",
        "\n",
        "for name in classes:\n",
        "    print(name, end=' ')\n",
        "    dst = '%s/%s.ndjson' % (data_path, name)\n",
        "    retrieve('quickdraw_dataset', 'full/simplified/%s.ndjson' % name, dst)\n",
        "    print('%.2f MB' % (os.path.getsize(dst) / 2.**20))\n",
        "\n",
        "print('\\nDONE :)')"
      ],
      "execution_count": 5,
      "outputs": [
        {
          "output_type": "stream",
          "text": [
            "\n",
            "42 classes:\n",
            "bat 58.02 MB\n",
            "bird 65.86 MB\n",
            "butterfly 63.27 MB\n",
            "camel 54.31 MB\n",
            "cat 73.12 MB\n",
            "cow 91.94 MB\n",
            "crab 76.46 MB\n",
            "crocodile 57.19 MB\n",
            "dog 87.06 MB\n",
            "dolphin 46.29 MB\n",
            "duck 67.93 MB\n",
            "elephant 70.86 MB\n",
            "fish 48.59 MB\n",
            "frog 92.50 MB\n",
            "giraffe 58.27 MB\n",
            "hedgehog 90.76 MB\n",
            "horse 99.79 MB\n",
            "kangaroo 96.06 MB\n",
            "lion 90.47 MB\n",
            "lobster 86.65 MB\n",
            "monkey 91.05 MB\n",
            "mosquito 64.99 MB\n",
            "mouse 76.35 MB\n",
            "octopus 79.30 MB\n",
            "owl 108.10 MB\n",
            "panda 97.04 MB\n",
            "parrot 96.42 MB\n",
            "penguin 137.90 MB\n",
            "pig 124.13 MB\n",
            "rabbit 95.05 MB\n",
            "raccoon 89.36 MB\n",
            "rhinoceros 92.20 MB\n",
            "scorpion 104.07 MB\n",
            "shark 48.55 MB\n",
            "sheep 80.55 MB\n",
            "snail 69.58 MB\n",
            "spider 115.32 MB\n",
            "squirrel 100.65 MB\n",
            "teddy-bear 128.27 MB\n",
            "tiger 86.09 MB\n",
            "whale 53.94 MB\n",
            "zebra 92.10 MB\n",
            "\n",
            "DONE :)\n"
          ],
          "name": "stdout"
        }
      ]
    },
    {
      "metadata": {
        "id": "KNvbLv_DrJEH",
        "colab_type": "text"
      },
      "cell_type": "markdown",
      "source": [
        "## Inspect the data"
      ]
    },
    {
      "metadata": {
        "id": "Uo1nriHHpAx_",
        "colab_type": "code",
        "colab": {}
      },
      "cell_type": "code",
      "source": [
        "# Let's check out the downloaded files...\n",
        "# !ls -lh $data_path"
      ],
      "execution_count": 0,
      "outputs": []
    },
    {
      "metadata": {
        "id": "OJvhPmhUpA00",
        "colab_type": "code",
        "colab": {}
      },
      "cell_type": "code",
      "source": [
        "# What is the NDJSON file format?\n",
        "# Seems to be one JSON dictionary per line...\n",
        "# path = sorted(tf.gfile.Glob(os.path.join(data_path, '*.ndjson')))[1]\n",
        "# print(open(path).read()[:1000] + '...')"
      ],
      "execution_count": 0,
      "outputs": []
    },
    {
      "metadata": {
        "id": "ZAjH8C_ErcfA",
        "colab_type": "code",
        "colab": {}
      },
      "cell_type": "code",
      "source": [
        "# # Parse single line.\n",
        "# data_json = json.loads(open(path).readline())\n",
        "# data_json.keys()"
      ],
      "execution_count": 0,
      "outputs": []
    },
    {
      "metadata": {
        "id": "Z6rlyutopA4d",
        "colab_type": "code",
        "colab": {}
      },
      "cell_type": "code",
      "source": [
        "# # ...and the actual drawing.\n",
        "# drawing = data_json['drawing']\n",
        "# # The drawing consists of a series of strokes:\n",
        "# [np.array(stroke).shape for stroke in drawing]"
      ],
      "execution_count": 0,
      "outputs": []
    },
    {
      "metadata": {
        "id": "TMreYutksAB5",
        "colab_type": "code",
        "colab": {}
      },
      "cell_type": "code",
      "source": [
        "# Draw the image -- the strokes all have have shape (2, n)\n",
        "# so the first index seems to be x/y coordinate:\n",
        "\n",
        "def draw_strokes(drawing):\n",
        "  # Use a different color for each stroke\n",
        "  colors = cm.rainbow(np.linspace(0, 1, len(drawing)))\n",
        "  plt.axis('off')\n",
        "  for stroke, c in zip(drawing, colors):\n",
        "    #print(stroke[0], stroke[1])\n",
        "    plt.plot(np.array(stroke[0]), -1 * np.array(stroke[1]), color=c)\n",
        "    \n",
        "# draw_strokes(drawing)"
      ],
      "execution_count": 0,
      "outputs": []
    },
    {
      "metadata": {
        "id": "adZ2csaTsB7I",
        "colab_type": "code",
        "colab": {}
      },
      "cell_type": "code",
      "source": [
        "# Some more code to load many sketches at once.\n",
        "# Let's ignore the difficult \"unrecognized\" sketches for now...\n",
        "# (i.e. unrecognized by the official quickdraw classifier)\n",
        "\n",
        "def convert(line):\n",
        "    \"\"\"Converts single line to JSON + converts 'drawing' to list of np.array.\"\"\"\n",
        "    d = json.loads(line)\n",
        "    d['drawing'] = [np.array(stroke) for stroke in d['drawing']]\n",
        "    return d\n",
        "\n",
        "def loaditer(name, unrecognized=False):\n",
        "    \"\"\"Returns iterable of drawings in specified file.\n",
        "\n",
        "    Args:\n",
        "      name: Name of the downloaded object (e.g. \"elephant\").\n",
        "      unrecognized: Whether to include drawings that were not recognized\n",
        "          by Google AI (i.e. the hard ones).\n",
        "    \"\"\"\n",
        "    for line in open('%s/%s.ndjson' % (data_path, name)):\n",
        "        d = convert(line)\n",
        "        if d['recognized'] or unrecognized:\n",
        "            yield d\n",
        "\n",
        "def loadn(name, n, unrecognized=False):\n",
        "    \"\"\"Returns list of drawings.\n",
        "\n",
        "    Args:\n",
        "      name: Name of the downloaded object (e.g. \"elephant\").\n",
        "      n: Number of drawings to load.\n",
        "      unrecognized: Whether to include drawings that were not recognized\n",
        "          by Google AI (i.e. the hard ones).\n",
        "    \"\"\"\n",
        "    it = loaditer(name, unrecognized=unrecognized)\n",
        "    return list(itertools.islice(it, 0, n))\n",
        "\n",
        "# print('loading some \"%s\"...' % classes[0])\n",
        "# sample = loadn(classes[0], 100)"
      ],
      "execution_count": 0,
      "outputs": []
    },
    {
      "metadata": {
        "id": "3VHjRztgsB-Q",
        "colab_type": "code",
        "colab": {}
      },
      "cell_type": "code",
      "source": [
        "# sample[0]"
      ],
      "execution_count": 0,
      "outputs": []
    },
    {
      "metadata": {
        "id": "lQqGT5RrsCCB",
        "colab_type": "code",
        "colab": {}
      },
      "cell_type": "code",
      "source": [
        "# # Some more drawings...\n",
        "# plt.figure(figsize=(10, 10))\n",
        "# n = 3\n",
        "# for x in range(n):\n",
        "#     for y in range(n):\n",
        "#         i = x * n + y\n",
        "#         plt.subplot(n, n, i + 1)\n",
        "#         drawing = sample[i]['drawing']\n",
        "#         draw_strokes(drawing)\n",
        "        \n",
        "# # bats!"
      ],
      "execution_count": 0,
      "outputs": []
    },
    {
      "metadata": {
        "id": "2vgbObLbsCFT",
        "colab_type": "code",
        "colab": {}
      },
      "cell_type": "code",
      "source": [
        "# Let's first check how many [recognized=True] examples we have in each class.\n",
        "# Depending on your choice of classes you could generate >200k examples / class...\n",
        "for name in classes:\n",
        "    print(name, len(list(open('%s/%s.ndjson' % (data_path, name)))), 'recognized', len(list(loaditer(name))))"
      ],
      "execution_count": 0,
      "outputs": []
    },
    {
      "metadata": {
        "id": "hY-CZS-VwC3P",
        "colab_type": "text"
      },
      "cell_type": "markdown",
      "source": [
        "## Make images from the brush stroke\n",
        "Convert sequences of strokes to images"
      ]
    },
    {
      "metadata": {
        "id": "e1yrBBKxwFs_",
        "colab_type": "code",
        "colab": {}
      },
      "cell_type": "code",
      "source": [
        "def json_to_img(drawing, img_sz=64, lw=3, maximize=True):\n",
        "    img = Image.new('L', (img_sz, img_sz))\n",
        "    draw = ImageDraw.Draw(img)\n",
        "    lines = np.array([\n",
        "        stroke[0:2, i:i+2]\n",
        "        for stroke in drawing\n",
        "        for i in range(stroke.shape[1] - 1)\n",
        "    ], dtype=np.float32)\n",
        "    if maximize:\n",
        "        for i in range(2):\n",
        "            min_, max_ = lines[:,i,:].min() * 0.95, lines[:,i,:].max() * 1.05\n",
        "            lines[:,i,:] = (lines[:,i,:] - min_) / max(max_ - min_, 1)\n",
        "    else:\n",
        "        lines /= 1024\n",
        "    for line in lines:\n",
        "        draw.line(tuple(line.T.reshape((-1,)) * img_sz), fill='white', width=lw)\n",
        "    return img\n",
        "  \n",
        "\n",
        "#json_to_img(drawing)"
      ],
      "execution_count": 0,
      "outputs": []
    },
    {
      "metadata": {
        "id": "I6k-Hb2dwFwp",
        "colab_type": "code",
        "colab": {}
      },
      "cell_type": "code",
      "source": [
        "# Fetch some images + shuffle order.\n",
        "n_per_class = 1000 #original 10000, but VGG16 fail to load such many features.\n",
        "drawings_matrix = [loadn(name, n_per_class) for name in classes]\n",
        "drawings_list = functools.reduce(lambda x, y: x + y, drawings_matrix, [])\n",
        "np.random.seed(1)\n",
        "drawings_list = np.random.permutation(drawings_list)\n",
        "\n",
        "# Quick test to see how our code works so far\n",
        "# draw_strokes(drawings_list[0]['drawing'])\n",
        "# print(str(drawings_list[0]['word']))"
      ],
      "execution_count": 0,
      "outputs": []
    },
    {
      "metadata": {
        "id": "jE_drPvRwF0Q",
        "colab_type": "code",
        "colab": {}
      },
      "cell_type": "code",
      "source": [
        "#json_to_img(drawings_list[0]['drawing'])"
      ],
      "execution_count": 0,
      "outputs": []
    },
    {
      "metadata": {
        "id": "r_ome2yEw0Hw",
        "colab_type": "text"
      },
      "cell_type": "markdown",
      "source": [
        "## Save the images to disk"
      ]
    },
    {
      "metadata": {
        "id": "2iZtvmDyw3tt",
        "colab_type": "code",
        "colab": {}
      },
      "cell_type": "code",
      "source": [
        "np.shape(drawings_list)"
      ],
      "execution_count": 0,
      "outputs": []
    },
    {
      "metadata": {
        "id": "81HwwxXcwF3c",
        "colab_type": "code",
        "colab": {}
      },
      "cell_type": "code",
      "source": [
        "# Save a dataset to disk\n",
        "X, y = [], []\n",
        "for drawing in drawings_list:\n",
        "  X.append(np.array(json_to_img(drawing['drawing'])))\n",
        "  y.append(str(drawing['word']))\n",
        "  \n",
        "dataset_path = 'mini-quickdraw.npz'\n",
        "out = open(dataset_path, 'wb') #must open as binary files, or error in python3\n",
        "# This may take a moment...\n",
        "np.savez_compressed(out, X, y, X=X, y=y)"
      ],
      "execution_count": 0,
      "outputs": []
    },
    {
      "metadata": {
        "id": "3SKRHtd72fUH",
        "colab_type": "code",
        "colab": {}
      },
      "cell_type": "code",
      "source": [
        "!cp /content/mini-quickdraw.npz /content/gdrive/My\\ Drive/EC_ADL/mini-quickdraw-42animals.npz"
      ],
      "execution_count": 0,
      "outputs": []
    },
    {
      "metadata": {
        "id": "8vzNxCpwwwKL",
        "colab_type": "text"
      },
      "cell_type": "markdown",
      "source": [
        "# Step 2. Transform arrays from Quick Draw to actual images"
      ]
    },
    {
      "metadata": {
        "id": "tFA33bnfrx1F",
        "colab_type": "text"
      },
      "cell_type": "markdown",
      "source": [
        "## Load array from Google Drive "
      ]
    },
    {
      "metadata": {
        "id": "k5pPQjM9xCep",
        "colab_type": "code",
        "colab": {}
      },
      "cell_type": "code",
      "source": [
        "# import libraries\n",
        "import matplotlib.pyplot as plt\n",
        "import numpy as np\n",
        "import os\n",
        "\n",
        "import tensorflow as tf\n",
        "import zipfile\n",
        "\n",
        "from tensorflow.keras.utils import to_categorical\n",
        "from tensorflow.keras.applications import VGG16\n",
        "from tensorflow.keras.layers import Conv2D, Dense, Dropout, Flatten, MaxPooling2D\n",
        "from tensorflow.keras.models import Sequential\n",
        "from tensorflow.keras.preprocessing.image import ImageDataGenerator"
      ],
      "execution_count": 0,
      "outputs": []
    },
    {
      "metadata": {
        "id": "9K_rWgZM0utA",
        "colab_type": "code",
        "colab": {
          "base_uri": "https://localhost:8080/",
          "height": 54
        },
        "outputId": "e02503c8-2f6c-4e01-fd93-afca112fa5b2"
      },
      "cell_type": "code",
      "source": [
        "# save the dataset to google drive\n",
        "from google.colab import drive\n",
        "drive.mount('/content/gdrive')"
      ],
      "execution_count": 1,
      "outputs": [
        {
          "output_type": "stream",
          "text": [
            "Drive already mounted at /content/gdrive; to attempt to forcibly remount, call drive.mount(\"/content/gdrive\", force_remount=True).\n"
          ],
          "name": "stdout"
        }
      ]
    },
    {
      "metadata": {
        "id": "eYmHQTY8wF6a",
        "colab_type": "code",
        "colab": {
          "base_uri": "https://localhost:8080/",
          "height": 303
        },
        "outputId": "e1ae8db3-545a-42bb-a506-681e05e35ec1"
      },
      "cell_type": "code",
      "source": [
        "# Load image array\n",
        "dataset_path = '/content/gdrive/My Drive/EC_ADL/mini-quickdraw-42animals.npz'\n",
        "loaded = np.load(open(dataset_path,'rb'))\n",
        "X, y = loaded[\"X\"], loaded[\"y\"]\n",
        "print(X.shape, y.shape)\n",
        "# it worked!\n",
        "plt.imshow(X[0])\n",
        "print(\"Label\", y[0])"
      ],
      "execution_count": 4,
      "outputs": [
        {
          "output_type": "stream",
          "text": [
            "(42000, 64, 64) (42000,)\n",
            "Label rabbit\n"
          ],
          "name": "stdout"
        },
        {
          "output_type": "display_data",
          "data": {
            "image/png": "[encoded data removed]",
            "text/plain": [
              "<Figure size 432x288 with 1 Axes>"
            ]
          },
          "metadata": {
            "tags": []
          }
        }
      ]
    },
    {
      "metadata": {
        "id": "yG4DCInpiDiX",
        "colab_type": "code",
        "colab": {}
      },
      "cell_type": "code",
      "source": [
        "animals = ['bat', 'bird', 'butterfly', 'camel', 'cat', 'cow', 'crab',\n",
        "           'crocodile', 'dog', 'dolphin', 'duck', 'elephant', 'fish',\n",
        "           'frog', 'giraffe', 'hedgehog', 'horse', 'kangaroo', 'lion',\n",
        "           'lobster', 'monkey', 'mosquito', 'mouse', 'octopus', 'owl',\n",
        "           'panda', 'parrot', 'penguin', 'pig', 'rabbit', 'raccoon',\n",
        "           'rhinoceros', 'scorpion', 'shark', 'sheep',\n",
        "           'snail', 'spider', 'squirrel', 'teddy-bear', 'tiger',\n",
        "           'whale', 'zebra']"
      ],
      "execution_count": 0,
      "outputs": []
    },
    {
      "metadata": {
        "id": "52Ct7nJiw_-Z",
        "colab_type": "text"
      },
      "cell_type": "markdown",
      "source": [
        "## Sample inputs and translate them from arrays to images."
      ]
    },
    {
      "metadata": {
        "id": "nfp_VWS5-ZW1",
        "colab_type": "code",
        "colab": {}
      },
      "cell_type": "code",
      "source": [
        "NtrainPerClass = 500\n",
        "NvalPerClass = 100"
      ],
      "execution_count": 0,
      "outputs": []
    },
    {
      "metadata": {
        "id": "bW60_gwX-uK_",
        "colab_type": "code",
        "colab": {
          "base_uri": "https://localhost:8080/",
          "height": 34
        },
        "outputId": "1c0a071f-1243-49f7-87bf-fa74fdff0049"
      },
      "cell_type": "code",
      "source": [
        "# Find index for each class\n",
        "class_index = dict.fromkeys(animals)\n",
        "for i in range(len(y)):\n",
        "  tmp = class_index[y[i]]\n",
        "  if not tmp:\n",
        "    tmp = [i]\n",
        "  else:\n",
        "    tmp.append(i)\n",
        "  class_index[y[i]] = tmp\n",
        "print(class_index['rabbit'][:5], np.shape(class_index['pig']))"
      ],
      "execution_count": 7,
      "outputs": [
        {
          "output_type": "stream",
          "text": [
            "[0, 137, 154, 166, 168] (1000,)\n"
          ],
          "name": "stdout"
        }
      ]
    },
    {
      "metadata": {
        "id": "dRn6XO0a-ByO",
        "colab_type": "text"
      },
      "cell_type": "markdown",
      "source": [
        "Generate directories for training and validation"
      ]
    },
    {
      "metadata": {
        "id": "5tbbbi7s1vLi",
        "colab_type": "code",
        "colab": {}
      },
      "cell_type": "code",
      "source": [
        "import os\n",
        "import shutil\n",
        "if os.path.exists('train'):\n",
        "  shutil.rmtree('train')\n",
        "if os.path.exists('val'):\n",
        "  shutil.rmtree('val')\n",
        "os.mkdir('train')\n",
        "os.mkdir('val')\n",
        "for i in animals:\n",
        "  os.mkdir('train/'+i)\n",
        "  os.mkdir('val/'+i)"
      ],
      "execution_count": 0,
      "outputs": []
    },
    {
      "metadata": {
        "id": "R94_Jxo6BcE-",
        "colab_type": "code",
        "colab": {}
      },
      "cell_type": "code",
      "source": [
        "import matplotlib\n",
        "for i in animals:\n",
        "  index = class_index[i]\n",
        "  sample = np.random.choice(class_index[i],NvalPerClass+NtrainPerClass, replace=False)\n",
        "  np.random.shuffle(sample)\n",
        "  for j in sample[:NtrainPerClass]:\n",
        "    matplotlib.image.imsave('train/%s/%d.png' %(i, j), X[j])\n",
        "  for j in sample[NtrainPerClass:]:\n",
        "    matplotlib.image.imsave('val/%s/%d.png' %(i, j), X[j])\n",
        "    "
      ],
      "execution_count": 0,
      "outputs": []
    },
    {
      "metadata": {
        "id": "lttE-wDXxgYX",
        "colab_type": "text"
      },
      "cell_type": "markdown",
      "source": [
        "# Step 3. Classify with CNN using transfer learning\n"
      ]
    },
    {
      "metadata": {
        "id": "uMSWsoI9sW_L",
        "colab_type": "text"
      },
      "cell_type": "markdown",
      "source": [
        "## Use VGG16"
      ]
    },
    {
      "metadata": {
        "id": "MfVVCUw5wa03",
        "colab_type": "code",
        "colab": {}
      },
      "cell_type": "code",
      "source": [
        "NCLASS = 42"
      ],
      "execution_count": 0,
      "outputs": []
    },
    {
      "metadata": {
        "id": "eogz06JOxCIJ",
        "colab_type": "code",
        "colab": {
          "base_uri": "https://localhost:8080/",
          "height": 51
        },
        "outputId": "f9c77713-3852-4ceb-9ef3-c572b1f54057"
      },
      "cell_type": "code",
      "source": [
        "conv_base = VGG16(weights='imagenet',include_top=False, input_shape=(150, 150, 3))\n",
        "#conv_base.summary()\n",
        "\n",
        "TARGET_SHAPE = 150\n",
        "BATCH_SIZE = 32\n",
        "\n",
        "datagen = ImageDataGenerator(rescale=1./255)\n",
        "\n",
        "def extract_features(directory, sample_count):\n",
        "    features = np.zeros(shape=(sample_count, 4, 4, 512))#from block5 of VGG16\n",
        "    labels = np.zeros(shape=(sample_count, NCLASS))\n",
        "    generator = datagen.flow_from_directory(\n",
        "        directory,\n",
        "        target_size=(TARGET_SHAPE, TARGET_SHAPE),\n",
        "        batch_size=BATCH_SIZE,\n",
        "        class_mode='categorical')\n",
        "    i = 0\n",
        "    for inputs_batch, labels_batch in generator:\n",
        "\n",
        "        features_batch = conv_base.predict(inputs_batch)\n",
        "        #print(i, np.shape(inputs_batch), np.shape(features_batch))\n",
        "        #print(i, features_batch.shape, i * BATCH_SIZE, (i + 1) * BATCH_SIZE)\n",
        "        features[i * BATCH_SIZE : (i + 1) * BATCH_SIZE] = features_batch\n",
        "        labels[i * BATCH_SIZE : (i + 1) * BATCH_SIZE] = labels_batch\n",
        "        i += 1\n",
        "        #print('new', i, i * BATCH_SIZE, sample_count)\n",
        "        if i * BATCH_SIZE >= sample_count:\n",
        "            break\n",
        "    #print(generator)\n",
        "    return features, labels\n",
        "\n",
        "Ntrain = NtrainPerClass*NCLASS\n",
        "Nval = NvalPerClass*NCLASS\n",
        "val_dir = '/content/val'\n",
        "train_dir = '/content/train'\n",
        "train_features, train_labels = extract_features(train_dir, Ntrain)\n",
        "validation_features, validation_labels = extract_features(val_dir, Nval)"
      ],
      "execution_count": 43,
      "outputs": [
        {
          "output_type": "stream",
          "text": [
            "Found 21000 images belonging to 42 classes.\n",
            "Found 4200 images belonging to 42 classes.\n"
          ],
          "name": "stdout"
        }
      ]
    },
    {
      "metadata": {
        "id": "xtaK78X_pj4y",
        "colab_type": "code",
        "colab": {
          "base_uri": "https://localhost:8080/",
          "height": 1754
        },
        "outputId": "6fe469b0-0e54-4652-c417-5a41402f337d"
      },
      "cell_type": "code",
      "source": [
        "FLATTENED_SHAPE = 4 * 4 * 512\n",
        "\n",
        "train_features = np.reshape(train_features, (Ntrain, FLATTENED_SHAPE))\n",
        "validation_features = np.reshape(validation_features, (Nval, FLATTENED_SHAPE))\n",
        "EPOCHS = 50\n",
        "model = Sequential()\n",
        "model.add(Dense(256, activation='relu', input_dim=FLATTENED_SHAPE))\n",
        "model.add(Dropout(0.5))\n",
        "model.add(Dense(NCLASS, activation='softmax'))\n",
        "\n",
        "model.compile(optimizer='adam',\n",
        "              loss='categorical_crossentropy',\n",
        "              metrics=['accuracy'])\n",
        "\n",
        "history = model.fit(train_features, train_labels,\n",
        "                    epochs=EPOCHS,\n",
        "                    batch_size=BATCH_SIZE,\n",
        "                    validation_data=(validation_features, validation_labels))"
      ],
      "execution_count": 46,
      "outputs": [
        {
          "output_type": "stream",
          "text": [
            "Train on 21000 samples, validate on 4200 samples\n",
            "Epoch 1/50\n",
            "21000/21000 [==============================] - 5s 221us/sample - loss: 2.8555 - acc: 0.2310 - val_loss: 2.0098 - val_acc: 0.4776\n",
            "Epoch 2/50\n",
            "21000/21000 [==============================] - 4s 202us/sample - loss: 2.2770 - acc: 0.3527 - val_loss: 1.6975 - val_acc: 0.5512\n",
            "Epoch 3/50\n",
            "21000/21000 [==============================] - 4s 197us/sample - loss: 2.0794 - acc: 0.4003 - val_loss: 1.6127 - val_acc: 0.5674\n",
            "Epoch 4/50\n",
            "21000/21000 [==============================] - 4s 196us/sample - loss: 1.9814 - acc: 0.4207 - val_loss: 1.5414 - val_acc: 0.5693\n",
            "Epoch 5/50\n",
            "21000/21000 [==============================] - 4s 197us/sample - loss: 1.9037 - acc: 0.4352 - val_loss: 1.5029 - val_acc: 0.5788\n",
            "Epoch 6/50\n",
            "21000/21000 [==============================] - 4s 196us/sample - loss: 1.8335 - acc: 0.4558 - val_loss: 1.4537 - val_acc: 0.5869\n",
            "Epoch 7/50\n",
            "21000/21000 [==============================] - 4s 197us/sample - loss: 1.7841 - acc: 0.4708 - val_loss: 1.4490 - val_acc: 0.5955\n",
            "Epoch 8/50\n",
            "21000/21000 [==============================] - 4s 196us/sample - loss: 1.7203 - acc: 0.4810 - val_loss: 1.3854 - val_acc: 0.6055\n",
            "Epoch 9/50\n",
            "21000/21000 [==============================] - 4s 198us/sample - loss: 1.6656 - acc: 0.4936 - val_loss: 1.3679 - val_acc: 0.6095\n",
            "Epoch 10/50\n",
            "21000/21000 [==============================] - 4s 195us/sample - loss: 1.6294 - acc: 0.5019 - val_loss: 1.3952 - val_acc: 0.6064\n",
            "Epoch 11/50\n",
            "21000/21000 [==============================] - 4s 196us/sample - loss: 1.5939 - acc: 0.5120 - val_loss: 1.3598 - val_acc: 0.6062\n",
            "Epoch 12/50\n",
            "21000/21000 [==============================] - 4s 195us/sample - loss: 1.5580 - acc: 0.5201 - val_loss: 1.3876 - val_acc: 0.5981\n",
            "Epoch 13/50\n",
            "21000/21000 [==============================] - 4s 196us/sample - loss: 1.5302 - acc: 0.5268 - val_loss: 1.3559 - val_acc: 0.6095\n",
            "Epoch 14/50\n",
            "21000/21000 [==============================] - 4s 195us/sample - loss: 1.4997 - acc: 0.5322 - val_loss: 1.3670 - val_acc: 0.6060\n",
            "Epoch 15/50\n",
            "21000/21000 [==============================] - 4s 192us/sample - loss: 1.4799 - acc: 0.5399 - val_loss: 1.4037 - val_acc: 0.6069\n",
            "Epoch 16/50\n",
            "21000/21000 [==============================] - 4s 196us/sample - loss: 1.4470 - acc: 0.5424 - val_loss: 1.4188 - val_acc: 0.5960\n",
            "Epoch 17/50\n",
            "21000/21000 [==============================] - 4s 195us/sample - loss: 1.4467 - acc: 0.5444 - val_loss: 1.4036 - val_acc: 0.6010\n",
            "Epoch 18/50\n",
            "21000/21000 [==============================] - 4s 195us/sample - loss: 1.3885 - acc: 0.5593 - val_loss: 1.3816 - val_acc: 0.6117\n",
            "Epoch 19/50\n",
            "21000/21000 [==============================] - 4s 200us/sample - loss: 1.3703 - acc: 0.5630 - val_loss: 1.3961 - val_acc: 0.6086\n",
            "Epoch 20/50\n",
            "21000/21000 [==============================] - 4s 205us/sample - loss: 1.3416 - acc: 0.5706 - val_loss: 1.4103 - val_acc: 0.6021\n",
            "Epoch 21/50\n",
            "21000/21000 [==============================] - 4s 204us/sample - loss: 1.3137 - acc: 0.5787 - val_loss: 1.4053 - val_acc: 0.6043\n",
            "Epoch 22/50\n",
            "21000/21000 [==============================] - 4s 193us/sample - loss: 1.3090 - acc: 0.5744 - val_loss: 1.4382 - val_acc: 0.5964\n",
            "Epoch 23/50\n",
            "21000/21000 [==============================] - 4s 194us/sample - loss: 1.3026 - acc: 0.5761 - val_loss: 1.5047 - val_acc: 0.5955\n",
            "Epoch 24/50\n",
            "21000/21000 [==============================] - 4s 201us/sample - loss: 1.2849 - acc: 0.5837 - val_loss: 1.4614 - val_acc: 0.6002\n",
            "Epoch 25/50\n",
            "21000/21000 [==============================] - 4s 191us/sample - loss: 1.2280 - acc: 0.5999 - val_loss: 1.4313 - val_acc: 0.6067\n",
            "Epoch 26/50\n",
            "21000/21000 [==============================] - 4s 194us/sample - loss: 1.2380 - acc: 0.5965 - val_loss: 1.4673 - val_acc: 0.6081\n",
            "Epoch 27/50\n",
            "21000/21000 [==============================] - 4s 191us/sample - loss: 1.2142 - acc: 0.6003 - val_loss: 1.4678 - val_acc: 0.5938\n",
            "Epoch 28/50\n",
            "21000/21000 [==============================] - 4s 195us/sample - loss: 1.2034 - acc: 0.6050 - val_loss: 1.5514 - val_acc: 0.5952\n",
            "Epoch 29/50\n",
            "21000/21000 [==============================] - 4s 194us/sample - loss: 1.1981 - acc: 0.6036 - val_loss: 1.5099 - val_acc: 0.6031\n",
            "Epoch 30/50\n",
            "21000/21000 [==============================] - 4s 195us/sample - loss: 1.1774 - acc: 0.6105 - val_loss: 1.5291 - val_acc: 0.5955\n",
            "Epoch 31/50\n",
            "21000/21000 [==============================] - 4s 194us/sample - loss: 1.1635 - acc: 0.6142 - val_loss: 1.5066 - val_acc: 0.6043\n",
            "Epoch 32/50\n",
            "21000/21000 [==============================] - 4s 193us/sample - loss: 1.1469 - acc: 0.6149 - val_loss: 1.5320 - val_acc: 0.5933\n",
            "Epoch 33/50\n",
            "21000/21000 [==============================] - 4s 191us/sample - loss: 1.1486 - acc: 0.6124 - val_loss: 1.6055 - val_acc: 0.5943\n",
            "Epoch 34/50\n",
            "21000/21000 [==============================] - 4s 192us/sample - loss: 1.1502 - acc: 0.6147 - val_loss: 1.5951 - val_acc: 0.5940\n",
            "Epoch 35/50\n",
            "21000/21000 [==============================] - 4s 190us/sample - loss: 1.1099 - acc: 0.6270 - val_loss: 1.5979 - val_acc: 0.5886\n",
            "Epoch 36/50\n",
            "21000/21000 [==============================] - 4s 195us/sample - loss: 1.1154 - acc: 0.6262 - val_loss: 1.5912 - val_acc: 0.5976\n",
            "Epoch 37/50\n",
            "21000/21000 [==============================] - 4s 191us/sample - loss: 1.0803 - acc: 0.6332 - val_loss: 1.5975 - val_acc: 0.5990\n",
            "Epoch 38/50\n",
            "21000/21000 [==============================] - 4s 192us/sample - loss: 1.0728 - acc: 0.6390 - val_loss: 1.6730 - val_acc: 0.5938\n",
            "Epoch 39/50\n",
            "21000/21000 [==============================] - 4s 203us/sample - loss: 1.0785 - acc: 0.6353 - val_loss: 1.6195 - val_acc: 0.5876\n",
            "Epoch 40/50\n",
            "21000/21000 [==============================] - 4s 203us/sample - loss: 1.0662 - acc: 0.6370 - val_loss: 1.6393 - val_acc: 0.5974\n",
            "Epoch 41/50\n",
            "21000/21000 [==============================] - 4s 197us/sample - loss: 1.0667 - acc: 0.6374 - val_loss: 1.6514 - val_acc: 0.5988\n",
            "Epoch 42/50\n",
            "21000/21000 [==============================] - 4s 191us/sample - loss: 1.0524 - acc: 0.6443 - val_loss: 1.7282 - val_acc: 0.5936\n",
            "Epoch 43/50\n",
            "21000/21000 [==============================] - 4s 192us/sample - loss: 1.0483 - acc: 0.6429 - val_loss: 1.6260 - val_acc: 0.6012\n",
            "Epoch 44/50\n",
            "21000/21000 [==============================] - 4s 198us/sample - loss: 1.0301 - acc: 0.6470 - val_loss: 1.7003 - val_acc: 0.5960\n",
            "Epoch 45/50\n",
            "21000/21000 [==============================] - 4s 195us/sample - loss: 1.0438 - acc: 0.6439 - val_loss: 1.7516 - val_acc: 0.6012\n",
            "Epoch 46/50\n",
            "21000/21000 [==============================] - 4s 207us/sample - loss: 1.0298 - acc: 0.6472 - val_loss: 1.7575 - val_acc: 0.5924\n",
            "Epoch 47/50\n",
            "21000/21000 [==============================] - 4s 195us/sample - loss: 1.0376 - acc: 0.6450 - val_loss: 1.8004 - val_acc: 0.5774\n",
            "Epoch 48/50\n",
            "21000/21000 [==============================] - 4s 192us/sample - loss: 1.0266 - acc: 0.6477 - val_loss: 1.7924 - val_acc: 0.5921\n",
            "Epoch 49/50\n",
            "21000/21000 [==============================] - 4s 192us/sample - loss: 1.0178 - acc: 0.6510 - val_loss: 1.8567 - val_acc: 0.5748\n",
            "Epoch 50/50\n",
            "21000/21000 [==============================] - 4s 192us/sample - loss: 0.9903 - acc: 0.6552 - val_loss: 1.7608 - val_acc: 0.5929\n"
          ],
          "name": "stdout"
        }
      ]
    },
    {
      "metadata": {
        "id": "EHiIhrN1pkME",
        "colab_type": "code",
        "colab": {
          "base_uri": "https://localhost:8080/",
          "height": 281
        },
        "outputId": "5685fb48-44e6-45ee-b5c6-6b7bbf3361b4"
      },
      "cell_type": "code",
      "source": [
        "acc = history.history['acc']\n",
        "val_acc = history.history['val_acc']\n",
        "\n",
        "loss = history.history['loss']\n",
        "val_loss = history.history['val_loss']\n",
        "\n",
        "epochs_range = range(1, EPOCHS+1)\n",
        "\n",
        "plt.figure(figsize=(8, 4))\n",
        "plt.subplot(1, 2, 1)\n",
        "plt.plot(epochs_range, acc, label='Training Accuracy')\n",
        "plt.plot(epochs_range, val_acc, label='Validation Accuracy')\n",
        "plt.legend(loc='lower right')\n",
        "plt.title('Training and Validation Accuracy')\n",
        "\n",
        "plt.subplot(1, 2, 2)\n",
        "plt.plot(epochs_range, loss, label='Training Loss')\n",
        "plt.plot(epochs_range, val_loss, label='Validation Loss')\n",
        "plt.legend(loc='upper right')\n",
        "plt.title('Training and Validation Loss')\n",
        "plt.show()"
      ],
      "execution_count": 47,
      "outputs": [
        {
          "output_type": "display_data",
          "data": {
            "image/png": "[encoded data removed]",
            "text/plain": [
              "<Figure size 576x288 with 2 Axes>"
            ]
          },
          "metadata": {
            "tags": []
          }
        }
      ]
    },
    {
      "metadata": {
        "id": "E_VmGJS6xdUP",
        "colab_type": "text"
      },
      "cell_type": "markdown",
      "source": [
        "## Result analysis"
      ]
    },
    {
      "metadata": {
        "id": "kuUfQkBNxe9O",
        "colab_type": "text"
      },
      "cell_type": "markdown",
      "source": [
        "In this extra credit problem of Assignment 2, I used QuickDraw to create an animal image dataset of 42 classes.\n",
        "\n",
        "For each class, I randomly selected 500 images as training and 100 images as validation. So in total, I had 21000 training data and 4200 validation data.\n",
        "\n",
        "For the classification, I used CNN which consisted of convolution base from VGG model plus dense layer as top.\n",
        "\n",
        "From above plot we could see that the training accuracy increased with growing epochs and reached 65.5% at the 50th epoch. The validation accuracy reached 60% at around 10th epoch and remained flat in the following epochs. The model became overfit after about 20 epochs.\n",
        "\n",
        "Following are several possible explanations for such classification performance:\n",
        "* It is reasonable to expect that the accuracy is not high for 42-class classification task of dataset with limited size. \n",
        "* Since the images are drawn with strokes, the variety may be even larger than actual animal pictures, which also calls for more data.\n",
        "* VGG is not trained on doodles, which may prevent it from getting perfect performance on Quick Draw images.\n",
        "\n",
        "If we want to do classification with 100 or more classes on Quick Draw pictures, we may need more images per each class and try different models.\n"
      ]
    },
    {
      "metadata": {
        "id": "5xSwAiugpkPe",
        "colab_type": "code",
        "colab": {}
      },
      "cell_type": "code",
      "source": [
        ""
      ],
      "execution_count": 0,
      "outputs": []
    },
    {
      "metadata": {
        "id": "ACVC_Y4XpkS0",
        "colab_type": "code",
        "colab": {}
      },
      "cell_type": "code",
      "source": [
        ""
      ],
      "execution_count": 0,
      "outputs": []
    },
    {
      "metadata": {
        "id": "SU9f7Wi0jo-d",
        "colab_type": "code",
        "colab": {}
      },
      "cell_type": "code",
      "source": [
        ""
      ],
      "execution_count": 0,
      "outputs": []
    },
    {
      "metadata": {
        "id": "Dy3od5FWjo4o",
        "colab_type": "code",
        "colab": {}
      },
      "cell_type": "code",
      "source": [
        ""
      ],
      "execution_count": 0,
      "outputs": []
    }
  ]
}