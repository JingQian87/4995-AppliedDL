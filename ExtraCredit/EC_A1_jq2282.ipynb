{
  "nbformat": 4,
  "nbformat_minor": 0,
  "metadata": {
    "colab": {
      "name": "EC-A1-jq2282.ipynb",
      "version": "0.3.2",
      "provenance": [],
      "collapsed_sections": [],
      "toc_visible": true
    },
    "kernelspec": {
      "name": "python3",
      "display_name": "Python 3"
    },
    "accelerator": "GPU"
  },
  "cells": [
    {
      "cell_type": "markdown",
      "metadata": {
        "id": "B4ETuhGd2caz",
        "colab_type": "text"
      },
      "source": [
        "# EC-A1\n",
        "### Jing Qian (jq2282)"
      ]
    },
    {
      "cell_type": "markdown",
      "metadata": {
        "id": "q6ppwnRU2sTb",
        "colab_type": "text"
      },
      "source": [
        "# EC1. Write a custom loss function.\n",
        "Provide your own implementation of a squared error loss function, and run an experiment to compare it to cross entropy. What do you find?\n",
        "\n",
        "Reference: given example: https://github.com/random-forests/applied-dl/blob/master/examples/2.3-custom-loss.ipynb"
      ]
    },
    {
      "cell_type": "code",
      "metadata": {
        "id": "qV4j6ScF2bg4",
        "colab_type": "code",
        "colab": {
          "base_uri": "https://localhost:8080/",
          "height": 377
        },
        "outputId": "95b138ee-8632-45b9-f301-202a181306e6"
      },
      "source": [
        "!pip install tf-nightly-2.0-preview"
      ],
      "execution_count": 1,
      "outputs": [
        {
          "output_type": "stream",
          "text": [
            "Requirement already satisfied: tf-nightly-2.0-preview in /usr/local/lib/python3.6/dist-packages (2.0.0.dev20190502)\n",
            "Requirement already satisfied: tb-nightly<1.15.0a0,>=1.14.0a0 in /usr/local/lib/python3.6/dist-packages (from tf-nightly-2.0-preview) (1.14.0a20190301)\n",
            "Requirement already satisfied: absl-py>=0.7.0 in /usr/local/lib/python3.6/dist-packages (from tf-nightly-2.0-preview) (0.7.1)\n",
            "Requirement already satisfied: numpy<2.0,>=1.14.5 in /usr/local/lib/python3.6/dist-packages (from tf-nightly-2.0-preview) (1.16.3)\n",
            "Requirement already satisfied: astor>=0.6.0 in /usr/local/lib/python3.6/dist-packages (from tf-nightly-2.0-preview) (0.7.1)\n",
            "Requirement already satisfied: google-pasta>=0.1.2 in /usr/local/lib/python3.6/dist-packages (from tf-nightly-2.0-preview) (0.1.5)\n",
            "Requirement already satisfied: wheel>=0.26 in /usr/local/lib/python3.6/dist-packages (from tf-nightly-2.0-preview) (0.33.1)\n",
            "Requirement already satisfied: termcolor>=1.1.0 in /usr/local/lib/python3.6/dist-packages (from tf-nightly-2.0-preview) (1.1.0)\n",
            "Requirement already satisfied: gast>=0.2.0 in /usr/local/lib/python3.6/dist-packages (from tf-nightly-2.0-preview) (0.2.2)\n",
            "Requirement already satisfied: grpcio>=1.8.6 in /usr/local/lib/python3.6/dist-packages (from tf-nightly-2.0-preview) (1.15.0)\n",
            "Requirement already satisfied: keras-applications>=1.0.6 in /usr/local/lib/python3.6/dist-packages (from tf-nightly-2.0-preview) (1.0.7)\n",
            "Requirement already satisfied: six>=1.10.0 in /usr/local/lib/python3.6/dist-packages (from tf-nightly-2.0-preview) (1.12.0)\n",
            "Requirement already satisfied: keras-preprocessing>=1.0.5 in /usr/local/lib/python3.6/dist-packages (from tf-nightly-2.0-preview) (1.0.9)\n",
            "Requirement already satisfied: tensorflow-estimator-2.0-preview in /usr/local/lib/python3.6/dist-packages (from tf-nightly-2.0-preview) (1.14.0.dev2019050200)\n",
            "Requirement already satisfied: protobuf>=3.6.1 in /usr/local/lib/python3.6/dist-packages (from tf-nightly-2.0-preview) (3.7.1)\n",
            "Requirement already satisfied: wrapt>=1.11.1 in /usr/local/lib/python3.6/dist-packages (from tf-nightly-2.0-preview) (1.11.1)\n",
            "Requirement already satisfied: werkzeug>=0.11.15 in /usr/local/lib/python3.6/dist-packages (from tb-nightly<1.15.0a0,>=1.14.0a0->tf-nightly-2.0-preview) (0.15.2)\n",
            "Requirement already satisfied: markdown>=2.6.8 in /usr/local/lib/python3.6/dist-packages (from tb-nightly<1.15.0a0,>=1.14.0a0->tf-nightly-2.0-preview) (3.1)\n",
            "Requirement already satisfied: h5py in /usr/local/lib/python3.6/dist-packages (from keras-applications>=1.0.6->tf-nightly-2.0-preview) (2.8.0)\n",
            "Requirement already satisfied: setuptools in /usr/local/lib/python3.6/dist-packages (from protobuf>=3.6.1->tf-nightly-2.0-preview) (41.0.1)\n"
          ],
          "name": "stdout"
        }
      ]
    },
    {
      "cell_type": "code",
      "metadata": {
        "id": "9I_vkNZj1z0K",
        "colab_type": "code",
        "colab": {
          "base_uri": "https://localhost:8080/",
          "height": 34
        },
        "outputId": "60d6cfa6-1f37-4ddf-e618-f850b9311785"
      },
      "source": [
        "import tensorflow as tf\n",
        "print(\"You have version\", tf.__version__)\n",
        "assert tf.__version__ >= \"2.0\" # TensorFlow ≥ 2.0 required"
      ],
      "execution_count": 2,
      "outputs": [
        {
          "output_type": "stream",
          "text": [
            "You have version 2.0.0-dev20190502\n"
          ],
          "name": "stdout"
        }
      ]
    },
    {
      "cell_type": "code",
      "metadata": {
        "id": "RQcPjRNS3Etu",
        "colab_type": "code",
        "colab": {}
      },
      "source": [
        "import numpy as np\n",
        "\n",
        "from tensorflow.keras import Model\n",
        "from tensorflow.keras.layers import Dense, Flatten\n",
        "from tensorflow.nn import relu"
      ],
      "execution_count": 0,
      "outputs": []
    },
    {
      "cell_type": "code",
      "metadata": {
        "id": "mX12kOnA3Ew2",
        "colab_type": "code",
        "colab": {}
      },
      "source": [
        "mnist = tf.keras.datasets.mnist\n",
        "\n",
        "(x_train, y_train), (x_test, y_test) = mnist.load_data()\n",
        "\n",
        "x_train = x_train.astype('float32')\n",
        "x_test = x_test.astype('float32')\n",
        "\n",
        "x_train = x_train / 255\n",
        "x_test = x_test / 255\n",
        "\n",
        "# Types are needed later when calculating loss\n",
        "# using the ```sparse_softmax_cross_entropy_with_logits``` we chose to \n",
        "# compare against.\n",
        "y_train = y_train.astype(np.int32)\n",
        "y_test = y_test.astype(np.int32)"
      ],
      "execution_count": 0,
      "outputs": []
    },
    {
      "cell_type": "code",
      "metadata": {
        "id": "GerdgIMe3Ez9",
        "colab_type": "code",
        "colab": {}
      },
      "source": [
        "BATCH_SIZE = 128\n",
        "BUFFER_SIZE = len(x_train)\n",
        "\n",
        "train_dataset = tf.data.Dataset.from_tensor_slices((x_train, y_train)).shuffle(BUFFER_SIZE).batch(BATCH_SIZE)\n",
        "test_dataset = tf.data.Dataset.from_tensor_slices((x_test, y_test)).batch(BATCH_SIZE)"
      ],
      "execution_count": 0,
      "outputs": []
    },
    {
      "cell_type": "code",
      "metadata": {
        "id": "T7Xd1CtW3E27",
        "colab_type": "code",
        "colab": {}
      },
      "source": [
        "class MyModel(Model):\n",
        "  def __init__(self):\n",
        "    super(MyModel, self).__init__()\n",
        "    self.flatten = Flatten()\n",
        "    self.d1 = Dense(128)\n",
        "    self.d2 = Dense(10)\n",
        "\n",
        "  def call(self, x):\n",
        "    x = self.flatten(x)\n",
        "    x = self.d1(x)\n",
        "    x = relu(x)\n",
        "    x = self.d2(x)\n",
        "    return x \n",
        "  \n",
        "model = MyModel()\n",
        "optimizer = tf.keras.optimizers.Adam()"
      ],
      "execution_count": 0,
      "outputs": []
    },
    {
      "cell_type": "code",
      "metadata": {
        "id": "64gz5dGR3E50",
        "colab_type": "code",
        "colab": {}
      },
      "source": [
        "def built_in_loss(logits, labels):\n",
        "  return tf.reduce_mean(\n",
        "      tf.nn.sparse_softmax_cross_entropy_with_logits(\n",
        "          logits=logits, labels=labels))"
      ],
      "execution_count": 0,
      "outputs": []
    },
    {
      "cell_type": "code",
      "metadata": {
        "id": "fVdv3vdw3E9Q",
        "colab_type": "code",
        "colab": {}
      },
      "source": [
        "def our_loss(logits, labels, n_classes=10):  \n",
        "  # logits are predicted.\n",
        "  labels = tf.one_hot(labels, n_classes, dtype=tf.float32)\n",
        "  return tf.reduce_mean(tf.pow(tf.subtract(logits, labels), 2))"
      ],
      "execution_count": 0,
      "outputs": []
    },
    {
      "cell_type": "code",
      "metadata": {
        "id": "JydkW6eu3b77",
        "colab_type": "code",
        "colab": {}
      },
      "source": [
        "def train_on_batch(model, images, labels):\n",
        "  with tf.GradientTape() as tape:\n",
        "    # Forward pass\n",
        "    logits = model(images)\n",
        "    loss_one = built_in_loss(logits, labels)\n",
        "    loss_two = our_loss(logits, labels)    \n",
        "    \n",
        "  # Backward pass\n",
        "  # I'll use our implementation to update the gradients.\n",
        "  grads = tape.gradient(loss_two, model.variables)\n",
        "  optimizer.apply_gradients(zip(grads, model.variables))\n",
        "  return loss_one, loss_two"
      ],
      "execution_count": 0,
      "outputs": []
    },
    {
      "cell_type": "code",
      "metadata": {
        "id": "JKGwbXY23b-5",
        "colab_type": "code",
        "colab": {}
      },
      "source": [
        "# Low-level code ahead. \n",
        "# See the above note for a better way of  calculating accuracy in practice.\n",
        "def calc_accuracy(logits, labels):\n",
        "  predictions = tf.argmax(logits, axis=1)\n",
        "  batch_size = int(logits.shape[0])\n",
        "  acc = tf.reduce_sum(\n",
        "      tf.cast(tf.equal(predictions, labels), dtype=tf.float32)) / batch_size\n",
        "  return acc * 100"
      ],
      "execution_count": 0,
      "outputs": []
    },
    {
      "cell_type": "code",
      "metadata": {
        "id": "LHte0wrf3cB7",
        "colab_type": "code",
        "colab": {
          "base_uri": "https://localhost:8080/",
          "height": 1615
        },
        "outputId": "bac63d74-001c-4559-a82d-8d8e40931571"
      },
      "source": [
        "\n",
        "# Loop over the dataset, grab batchs, and train our model\n",
        "# As we go, verify the loss returned by our implementation is\n",
        "# the same as the built-in methods.\n",
        "\n",
        "EPOCHS = 5\n",
        "\n",
        "for epoch in range(EPOCHS):\n",
        "  print(\"Epoch\", epoch + 1, \"\\n\")\n",
        "  for (batch, (images, labels)) in enumerate(train_dataset):\n",
        "    loss_one, loss_two = train_on_batch(model, images, labels)\n",
        "    \n",
        "    # You can use something like this as a quick sanity check\n",
        "    #tf.debugging.assert_near(loss_one, loss_two, atol=0.001, rtol=0.001)\n",
        "    \n",
        "    step = optimizer.iterations.numpy() \n",
        "    if step % 100 == 0:\n",
        "      print(\"Step\", step)\n",
        "      print(\"Built-in loss: %.4f, Our loss: %.4f\" % (loss_one.numpy(), loss_two.numpy()))\n",
        "      print(\"\")\n",
        "      \n",
        "  print('Train accuracy %.2f' % calc_accuracy(model(x_train), y_train))\n",
        "  print('Test accuracy %.2f\\n' % calc_accuracy(model(x_test), y_test))"
      ],
      "execution_count": 11,
      "outputs": [
        {
          "output_type": "stream",
          "text": [
            "Epoch 1 \n",
            "\n",
            "Step 100\n",
            "Built-in loss: 1.7134, Our loss: 0.0282\n",
            "\n",
            "Step 200\n",
            "Built-in loss: 1.6518, Our loss: 0.0243\n",
            "\n",
            "Step 300\n",
            "Built-in loss: 1.6193, Our loss: 0.0174\n",
            "\n",
            "Step 400\n",
            "Built-in loss: 1.6148, Our loss: 0.0171\n",
            "\n",
            "Train accuracy 94.77\n",
            "Test accuracy 94.82\n",
            "\n",
            "Epoch 2 \n",
            "\n",
            "Step 500\n",
            "Built-in loss: 1.5983, Our loss: 0.0171\n",
            "\n",
            "Step 600\n",
            "Built-in loss: 1.6125, Our loss: 0.0164\n",
            "\n",
            "Step 700\n",
            "Built-in loss: 1.5674, Our loss: 0.0136\n",
            "\n",
            "Step 800\n",
            "Built-in loss: 1.5738, Our loss: 0.0136\n",
            "\n",
            "Step 900\n",
            "Built-in loss: 1.5729, Our loss: 0.0145\n",
            "\n",
            "Train accuracy 96.20\n",
            "Test accuracy 95.83\n",
            "\n",
            "Epoch 3 \n",
            "\n",
            "Step 1000\n",
            "Built-in loss: 1.5836, Our loss: 0.0111\n",
            "\n",
            "Step 1100\n",
            "Built-in loss: 1.5803, Our loss: 0.0131\n",
            "\n",
            "Step 1200\n",
            "Built-in loss: 1.5892, Our loss: 0.0125\n",
            "\n",
            "Step 1300\n",
            "Built-in loss: 1.5434, Our loss: 0.0096\n",
            "\n",
            "Step 1400\n",
            "Built-in loss: 1.5759, Our loss: 0.0108\n",
            "\n",
            "Train accuracy 96.93\n",
            "Test accuracy 96.32\n",
            "\n",
            "Epoch 4 \n",
            "\n",
            "Step 1500\n",
            "Built-in loss: 1.5916, Our loss: 0.0149\n",
            "\n",
            "Step 1600\n",
            "Built-in loss: 1.5807, Our loss: 0.0125\n",
            "\n",
            "Step 1700\n",
            "Built-in loss: 1.5818, Our loss: 0.0120\n",
            "\n",
            "Step 1800\n",
            "Built-in loss: 1.5284, Our loss: 0.0093\n",
            "\n",
            "Train accuracy 97.33\n",
            "Test accuracy 96.70\n",
            "\n",
            "Epoch 5 \n",
            "\n",
            "Step 1900\n",
            "Built-in loss: 1.5428, Our loss: 0.0091\n",
            "\n",
            "Step 2000\n",
            "Built-in loss: 1.5558, Our loss: 0.0102\n",
            "\n",
            "Step 2100\n",
            "Built-in loss: 1.5635, Our loss: 0.0097\n",
            "\n",
            "Step 2200\n",
            "Built-in loss: 1.5908, Our loss: 0.0099\n",
            "\n",
            "Step 2300\n",
            "Built-in loss: 1.5469, Our loss: 0.0107\n",
            "\n",
            "Train accuracy 97.63\n",
            "Test accuracy 96.84\n",
            "\n"
          ],
          "name": "stdout"
        }
      ]
    },
    {
      "cell_type": "markdown",
      "metadata": {
        "id": "A2mMdKy25_Qq",
        "colab_type": "text"
      },
      "source": [
        "### Findings: \n",
        "Our squared error loss has much smaller value magnitude than the built-in SparseCategoricalCrossentropy loss. \n",
        "Moverover, comparing to the result of Assignment 1 with built-in loss, the two loss functions lead to similar training and validation accuracy.\n",
        "It seems that we may use squared error loss function for classification task."
      ]
    },
    {
      "cell_type": "markdown",
      "metadata": {
        "id": "gHH3-5Eb7CHB",
        "colab_type": "text"
      },
      "source": [
        "# EC2. Provide your own implementation of a Dense layer.\n",
        "\n",
        "Reference: given example: https://github.com/tensorflow/docs/blob/master/site/en/r2/tutorials/eager/custom_layers.ipynb"
      ]
    },
    {
      "cell_type": "code",
      "metadata": {
        "id": "3SRDJgZP3cFS",
        "colab_type": "code",
        "colab": {}
      },
      "source": [
        "class MyDenseLayer(tf.keras.layers.Layer):\n",
        "  def __init__(self, num_outputs):\n",
        "    super(MyDenseLayer, self).__init__()\n",
        "    self.num_outputs = num_outputs\n",
        "\n",
        "  def build(self, input_shape):\n",
        "    self.kernel = self.add_variable(\"kernel\",\n",
        "                                    shape=[int(input_shape[-1]),\n",
        "                                           self.num_outputs])\n",
        "\n",
        "  def call(self, input):\n",
        "    return tf.matmul(input, self.kernel)\n",
        "  \n",
        "# layer = MyDenseLayer(10)\n",
        "# print(layer(tf.zeros([10, 5])))\n",
        "# print(layer.trainable_variables)"
      ],
      "execution_count": 0,
      "outputs": []
    },
    {
      "cell_type": "code",
      "metadata": {
        "id": "YZFnOI3y73ec",
        "colab_type": "code",
        "colab": {}
      },
      "source": [
        "class ModelWithCustomLayer(Model):\n",
        "  def __init__(self):\n",
        "    super(ModelWithCustomLayer, self).__init__()\n",
        "    self.flatten = Flatten()\n",
        "    self.d1 = MyDenseLayer(128)\n",
        "    self.d2 = MyDenseLayer(10)\n",
        "\n",
        "  def call(self, x):\n",
        "    x = self.flatten(x)\n",
        "    x = self.d1(x)\n",
        "    x = relu(x)\n",
        "    x = self.d2(x)\n",
        "    return x \n",
        "  \n",
        "custom_layer_model = ModelWithCustomLayer()\n",
        "regular_layer_model = MyModel()\n",
        "optimizer = tf.keras.optimizers.Adam()"
      ],
      "execution_count": 0,
      "outputs": []
    },
    {
      "cell_type": "code",
      "metadata": {
        "id": "OWHfPdyL73hj",
        "colab_type": "code",
        "colab": {
          "base_uri": "https://localhost:8080/",
          "height": 459
        },
        "outputId": "234d9bd2-7f09-466f-ff41-e1582c2db9c5"
      },
      "source": [
        "EPOCHS = 5\n",
        "print(\"Model with built-in Dense Layers\")\n",
        "for epoch in range(EPOCHS):\n",
        "  print(\"Epoch\", epoch + 1, \"\\n\")\n",
        "  for (batch, (images, labels)) in enumerate(train_dataset):\n",
        "    train_on_batch(regular_layer_model, images, labels)\n",
        "  print('Train accuracy %.2f' % calc_accuracy(regular_layer_model(x_train), y_train))\n",
        "  print('Test accuracy %.2f\\n' % calc_accuracy(regular_layer_model(x_test), y_test))"
      ],
      "execution_count": 16,
      "outputs": [
        {
          "output_type": "stream",
          "text": [
            "Model with built-in Dense Layers\n",
            "Epoch 1 \n",
            "\n",
            "Train accuracy 94.94\n",
            "Test accuracy 94.67\n",
            "\n",
            "Epoch 2 \n",
            "\n",
            "Train accuracy 96.22\n",
            "Test accuracy 95.95\n",
            "\n",
            "Epoch 3 \n",
            "\n",
            "Train accuracy 97.04\n",
            "Test accuracy 96.54\n",
            "\n",
            "Epoch 4 \n",
            "\n",
            "Train accuracy 97.42\n",
            "Test accuracy 96.93\n",
            "\n",
            "Epoch 5 \n",
            "\n",
            "Train accuracy 97.75\n",
            "Test accuracy 97.05\n",
            "\n"
          ],
          "name": "stdout"
        }
      ]
    },
    {
      "cell_type": "code",
      "metadata": {
        "id": "4pduLLrJ73kZ",
        "colab_type": "code",
        "colab": {
          "base_uri": "https://localhost:8080/",
          "height": 459
        },
        "outputId": "e499ad8e-5bc6-4587-ea5a-358f8ee78f46"
      },
      "source": [
        "EPOCHS = 5\n",
        "print(\"Model with Custom Dense Layers\")\n",
        "for epoch in range(EPOCHS):\n",
        "  print(\"Epoch\", epoch + 1, \"\\n\")\n",
        "  for (batch, (images, labels)) in enumerate(train_dataset):\n",
        "    train_on_batch(custom_layer_model, images, labels)\n",
        "  print('Train accuracy %.2f' % calc_accuracy(custom_layer_model(x_train), y_train))\n",
        "  print('Test accuracy %.2f\\n' % calc_accuracy(custom_layer_model(x_test), y_test))"
      ],
      "execution_count": 17,
      "outputs": [
        {
          "output_type": "stream",
          "text": [
            "Model with Custom Dense Layers\n",
            "Epoch 1 \n",
            "\n",
            "Train accuracy 93.70\n",
            "Test accuracy 93.60\n",
            "\n",
            "Epoch 2 \n",
            "\n",
            "Train accuracy 94.72\n",
            "Test accuracy 94.45\n",
            "\n",
            "Epoch 3 \n",
            "\n",
            "Train accuracy 95.33\n",
            "Test accuracy 94.81\n",
            "\n",
            "Epoch 4 \n",
            "\n",
            "Train accuracy 95.78\n",
            "Test accuracy 95.11\n",
            "\n",
            "Epoch 5 \n",
            "\n",
            "Train accuracy 96.11\n",
            "Test accuracy 95.35\n",
            "\n"
          ],
          "name": "stdout"
        }
      ]
    },
    {
      "cell_type": "markdown",
      "metadata": {
        "id": "gzxR7Vha80xj",
        "colab_type": "text"
      },
      "source": [
        "### Findings:\n",
        "Although our model with custom dense layer had slightly lower training and testing accuracy than the one with build-in dense layer, it had quite excellent performance at both training and testing dataset, reached 95% testing accuracy after 4 epochs. "
      ]
    },
    {
      "cell_type": "markdown",
      "metadata": {
        "id": "qCW2Bl9u9XH1",
        "colab_type": "text"
      },
      "source": [
        "# EC3. Visualize the learned weights."
      ]
    },
    {
      "cell_type": "markdown",
      "metadata": {
        "id": "wzDofD12AA7f",
        "colab_type": "text"
      },
      "source": [
        "### Train the linear model"
      ]
    },
    {
      "cell_type": "code",
      "metadata": {
        "id": "A6Ks15la_q7O",
        "colab_type": "code",
        "colab": {}
      },
      "source": [
        "(x_train, y_train), (x_test, y_test) = mnist.load_data()\n",
        "\n",
        "x_train = x_train.astype('float32')\n",
        "x_test = x_test.astype('float32')\n",
        "\n",
        "x_train = x_train / 255\n",
        "x_test = x_test / 255\n",
        "\n",
        "# Batch and shuffle data\n",
        "BATCH_SIZE = 128\n",
        "BUFFER_SIZE = len(x_train)\n",
        "\n",
        "mnist_train = tf.data.Dataset.from_tensor_slices((x_train, y_train)).shuffle(BUFFER_SIZE).batch(BATCH_SIZE)\n",
        "mnist_test = tf.data.Dataset.from_tensor_slices((x_test, y_test)).batch(BATCH_SIZE)"
      ],
      "execution_count": 0,
      "outputs": []
    },
    {
      "cell_type": "code",
      "metadata": {
        "id": "P-o4vV2973nP",
        "colab_type": "code",
        "colab": {
          "base_uri": "https://localhost:8080/",
          "height": 102
        },
        "outputId": "626f33af-fa71-43a0-b461-7961a0e09cf4"
      },
      "source": [
        "class LinearModel(Model):\n",
        "  def __init__(self):\n",
        "    super(LinearModel, self).__init__()\n",
        "    self.flatten = Flatten()\n",
        "    #self.d1 = Dense(128, activation='relu')\n",
        "    self.d2 = Dense(10, activation='softmax')\n",
        "\n",
        "  def call(self, x):\n",
        "    x = self.flatten(x)\n",
        "    #x = self.d1(x)\n",
        "    return self.d2(x)\n",
        "  \n",
        "model = LinearModel()\n",
        "loss_function = tf.keras.losses.SparseCategoricalCrossentropy(from_logits=False)\n",
        "optimizer = tf.keras.optimizers.Adam()\n",
        "\n",
        "train_loss_metric = tf.keras.metrics.Mean(name='train_loss')\n",
        "test_loss_metric = tf.keras.metrics.Mean(name='test_loss')\n",
        "\n",
        "train_accuracy_metric = tf.keras.metrics.SparseCategoricalAccuracy(name='train_accuracy')\n",
        "test_accuracy_metric = tf.keras.metrics.SparseCategoricalAccuracy(name='test_accuracy')\n",
        "\n",
        "\n",
        "def train_step(images, labels):\n",
        "  with tf.GradientTape() as tape:    \n",
        "    # Forward pass\n",
        "    predictions = model(images)\n",
        "    train_loss = loss_function(y_true=labels, y_pred=predictions)\n",
        "  \n",
        "  # Backward pass\n",
        "  gradients = tape.gradient(train_loss, model.trainable_variables)\n",
        "  optimizer.apply_gradients(zip(gradients, model.trainable_variables))\n",
        "\n",
        "  # Record results\n",
        "  train_loss_metric(train_loss)\n",
        "  train_accuracy_metric(labels, predictions)\n",
        "  \n",
        "\n",
        "def test_step(images, labels):\n",
        "  predictions = model(images)\n",
        "  test_loss = loss_function(y_true=labels, y_pred=predictions)\n",
        "  \n",
        "  # Record results\n",
        "  test_loss_metric(test_loss)\n",
        "  test_accuracy_metric(labels, predictions)\n",
        "  \n",
        "\n",
        "EPOCHS = 5\n",
        "acc = []\n",
        "val_acc = []\n",
        "\n",
        "for epoch in range(EPOCHS):\n",
        "  for images, labels in mnist_train:\n",
        "    train_step(images, labels)\n",
        "  \n",
        "  for test_images, test_labels in mnist_test:\n",
        "    test_step(test_images, test_labels)\n",
        "  \n",
        "  template = 'Epoch {}, Loss: {:.4f}, Accuracy: {:.2f}, Test loss: {:.4f}, Test accuracy: {:.2f}'\n",
        "  print (template.format(epoch +1, \n",
        "                         train_loss_metric.result(), \n",
        "                         train_accuracy_metric.result() * 100, \n",
        "                         test_loss_metric.result(), \n",
        "                         test_accuracy_metric.result() * 100))"
      ],
      "execution_count": 20,
      "outputs": [
        {
          "output_type": "stream",
          "text": [
            "Epoch 1, Loss: 0.6857, Accuracy: 82.92, Test loss: 0.3841, Test accuracy: 90.26\n",
            "Epoch 2, Loss: 0.5243, Accuracy: 86.58, Test loss: 0.3516, Test accuracy: 90.75\n",
            "Epoch 3, Loss: 0.4562, Accuracy: 88.12, Test loss: 0.3331, Test accuracy: 91.09\n",
            "Epoch 4, Loss: 0.4171, Accuracy: 89.01, Test loss: 0.3209, Test accuracy: 91.34\n",
            "Epoch 5, Loss: 0.3913, Accuracy: 89.60, Test loss: 0.3122, Test accuracy: 91.54\n"
          ],
          "name": "stdout"
        }
      ]
    },
    {
      "cell_type": "markdown",
      "metadata": {
        "id": "wt47iZ3GADbU",
        "colab_type": "text"
      },
      "source": [
        "### plot the weights"
      ]
    },
    {
      "cell_type": "code",
      "metadata": {
        "id": "YLZnKcLOAEn7",
        "colab_type": "code",
        "colab": {}
      },
      "source": [
        "weights = model.weights"
      ],
      "execution_count": 0,
      "outputs": []
    },
    {
      "cell_type": "code",
      "metadata": {
        "id": "J-sbA33g73tM",
        "colab_type": "code",
        "colab": {
          "base_uri": "https://localhost:8080/",
          "height": 343
        },
        "outputId": "8b451a56-bf4a-41a1-cf8e-3a8109236ea5"
      },
      "source": [
        "weights"
      ],
      "execution_count": 23,
      "outputs": [
        {
          "output_type": "execute_result",
          "data": {
            "text/plain": [
              "[<tf.Variable 'linear_model_1/dense_5/kernel:0' shape=(784, 10) dtype=float32, numpy=\n",
              " array([[ 0.01638661,  0.04193709, -0.05724455, ..., -0.00472847,\n",
              "         -0.06799218, -0.00734819],\n",
              "        [ 0.05938364,  0.00223394, -0.05166135, ..., -0.00436112,\n",
              "         -0.01462239, -0.07578392],\n",
              "        [-0.03349479,  0.00258847,  0.02513347, ..., -0.04412511,\n",
              "          0.06902041,  0.03965304],\n",
              "        ...,\n",
              "        [ 0.04051144, -0.02405756,  0.07485458, ...,  0.08193655,\n",
              "         -0.07165802, -0.00124745],\n",
              "        [ 0.02409495, -0.0619006 , -0.05001704, ...,  0.00086668,\n",
              "          0.0219419 ,  0.01573523],\n",
              "        [ 0.0399626 , -0.0292765 , -0.04349236, ..., -0.00660585,\n",
              "         -0.01009399, -0.04298606]], dtype=float32)>,\n",
              " <tf.Variable 'linear_model_1/dense_5/bias:0' shape=(10,) dtype=float32, numpy=\n",
              " array([-0.22836764,  0.33826214,  0.0056156 , -0.2004536 ,  0.10724416,\n",
              "         0.48021346, -0.04948544,  0.29167214, -0.6298025 , -0.12226408],\n",
              "       dtype=float32)>]"
            ]
          },
          "metadata": {
            "tags": []
          },
          "execution_count": 23
        }
      ]
    },
    {
      "cell_type": "code",
      "metadata": {
        "id": "7KIogNlH73qb",
        "colab_type": "code",
        "colab": {
          "base_uri": "https://localhost:8080/",
          "height": 34
        },
        "outputId": "351aa6b9-a614-4e86-b4d3-03c41de6c5d8"
      },
      "source": [
        "np.shape(weights[0])"
      ],
      "execution_count": 24,
      "outputs": [
        {
          "output_type": "execute_result",
          "data": {
            "text/plain": [
              "TensorShape([784, 10])"
            ]
          },
          "metadata": {
            "tags": []
          },
          "execution_count": 24
        }
      ]
    },
    {
      "cell_type": "code",
      "metadata": {
        "id": "u2LJRL1oAUJk",
        "colab_type": "code",
        "colab": {
          "base_uri": "https://localhost:8080/",
          "height": 357
        },
        "outputId": "8de4106d-e355-4cf0-9c60-cb4df39380c3"
      },
      "source": [
        "trans_weights = tf.transpose(weights[0])\n",
        "import matplotlib.pyplot as plt\n",
        "fig = plt.figure(figsize=(10,7))\n",
        "for i in range(10):\n",
        "  plot = np.asarray(trans_weights[i]).reshape(28,28)\n",
        "  ax = plt.subplot(2,5,i+1)\n",
        "  plt.imshow(plot,cmap='gnuplot2')\n",
        "  plt.xticks([])\n",
        "  plt.yticks([])\n",
        "  plt.xlabel(i, fontsize=15)"
      ],
      "execution_count": 50,
      "outputs": [
        {
          "output_type": "display_data",
          "data": {
            "image/png": "[encoded data removed]",
            "text/plain": [
              "<Figure size 720x504 with 10 Axes>"
            ]
          },
          "metadata": {
            "tags": []
          }
        }
      ]
    },
    {
      "cell_type": "code",
      "metadata": {
        "id": "xNGT4pmDAUF5",
        "colab_type": "code",
        "colab": {}
      },
      "source": [
        ""
      ],
      "execution_count": 0,
      "outputs": []
    },
    {
      "cell_type": "markdown",
      "metadata": {
        "id": "0vI0Jzz772xO",
        "colab_type": "text"
      },
      "source": [
        ""
      ]
    }
  ]
}