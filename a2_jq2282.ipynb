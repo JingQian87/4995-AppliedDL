{
  "nbformat": 4,
  "nbformat_minor": 0,
  "metadata": {
    "colab": {
      "name": "a2-jq2282.ipynb",
      "version": "0.3.2",
      "provenance": [],
      "collapsed_sections": [],
      "include_colab_link": true
    },
    "kernelspec": {
      "name": "python3",
      "display_name": "Python 3"
    },
    "accelerator": "GPU"
  },
  "cells": [
    {
      "cell_type": "markdown",
      "metadata": {
        "id": "view-in-github",
        "colab_type": "text"
      },
      "source": [
        "<a href=\"https://colab.research.google.com/github/JingQian87/AppliedDL/blob/master/a2_jq2282.ipynb\" target=\"_parent\"><img src=\"https://colab.research.google.com/assets/colab-badge.svg\" alt=\"Open In Colab\"/></a>"
      ]
    },
    {
      "metadata": {
        "colab_type": "text",
        "id": "5k5rSsb1JCjS"
      },
      "cell_type": "markdown",
      "source": [
        "## Part 1. Train a model on an existing dataset\n",
        "\n",
        "### 1. Classify images using transfer learning from mini-flowers dataset\n",
        "Download the ​mini-flowers​ dataset. This contains 1,500 images of five different types of flowers. Modify one of the above notebooks to classify these images using transfer learning. How accurate of a model can you train? ​Note: the example notebooks are for binary classification. You will need to change the output layer shape, activation, and loss function for multiclass classification."
      ]
    },
    {
      "metadata": {
        "id": "GY6V6CUeI61y",
        "colab_type": "code",
        "colab": {}
      },
      "cell_type": "code",
      "source": [
        "# import libraries\n",
        "import matplotlib.pyplot as plt\n",
        "import numpy as np\n",
        "import os\n",
        "\n",
        "import tensorflow as tf\n",
        "import zipfile\n",
        "\n",
        "from tensorflow.keras.utils import to_categorical\n",
        "from tensorflow.keras.applications import VGG16\n",
        "from tensorflow.keras.layers import Conv2D, Dense, Dropout, Flatten, MaxPooling2D\n",
        "from tensorflow.keras.models import Sequential\n",
        "from tensorflow.keras.preprocessing.image import ImageDataGenerator"
      ],
      "execution_count": 0,
      "outputs": []
    },
    {
      "metadata": {
        "id": "KUxC_hBqLO77",
        "colab_type": "text"
      },
      "cell_type": "markdown",
      "source": [
        "### Step1. Load and explore data"
      ]
    },
    {
      "metadata": {
        "id": "PejQFoIuCkxj",
        "colab_type": "code",
        "outputId": "ba20e762-3e55-45aa-9147-c1d51e15166e",
        "colab": {
          "base_uri": "https://localhost:8080/",
          "height": 122
        }
      },
      "cell_type": "code",
      "source": [
        "from google.colab import drive\n",
        "drive.mount('/content/drive')"
      ],
      "execution_count": 2,
      "outputs": [
        {
          "output_type": "stream",
          "text": [
            "Go to this URL in a browser: https://accounts.google.com/o/oauth2/auth?client_id=947318989803-6bn6qk8qdgf4n4g3pfee6491hc0brc4i.apps.googleusercontent.com&redirect_uri=urn%3Aietf%3Awg%3Aoauth%3A2.0%3Aoob&scope=email%20https%3A%2F%2Fwww.googleapis.com%2Fauth%2Fdocs.test%20https%3A%2F%2Fwww.googleapis.com%2Fauth%2Fdrive%20https%3A%2F%2Fwww.googleapis.com%2Fauth%2Fdrive.photos.readonly%20https%3A%2F%2Fwww.googleapis.com%2Fauth%2Fpeopleapi.readonly&response_type=code\n",
            "\n",
            "Enter your authorization code:\n",
            "··········\n",
            "Mounted at /content/drive\n"
          ],
          "name": "stdout"
        }
      ]
    },
    {
      "metadata": {
        "id": "N1bD1s6uEmXD",
        "colab_type": "code",
        "outputId": "e270d273-c9ab-46d2-be59-9fd4f510340e",
        "colab": {
          "base_uri": "https://localhost:8080/",
          "height": 51
        }
      },
      "cell_type": "code",
      "source": [
        "local_zip = '/content/mini_flowers.zip'\n",
        "zip_ref = zipfile.ZipFile(local_zip, 'r')\n",
        "zip_ref.extractall('/tmp')\n",
        "zip_ref.close()\n",
        "!ls '/tmp/'\n",
        "!ls '/tmp/train/'"
      ],
      "execution_count": 9,
      "outputs": [
        {
          "output_type": "stream",
          "text": [
            "drivefs_ipc.0  drivefs_ipc.0_shell  LICENSE.txt  train\tval\n",
            "daisy  dandelion  roses  sunflowers  tulips\n"
          ],
          "name": "stdout"
        }
      ]
    },
    {
      "metadata": {
        "id": "o_j1Y8XwE9V9",
        "colab_type": "code",
        "outputId": "fc1abd76-1bb0-416b-80d4-5b34ac008638",
        "colab": {
          "base_uri": "https://localhost:8080/",
          "height": 238
        }
      },
      "cell_type": "code",
      "source": [
        "base_dir = '/tmp'\n",
        "train_dir = os.path.join(base_dir,'train')\n",
        "validation_dir = os.path.join(base_dir, 'val')\n",
        "\n",
        "total_train = 0\n",
        "for i in os.listdir(train_dir):\n",
        "  tmp = len(os.listdir(os.path.join(train_dir, i)))\n",
        "  print('Training ', i, ' images:', tmp)\n",
        "  total_train += tmp\n",
        " \n",
        "total_val = 0\n",
        "for i in os.listdir(validation_dir):\n",
        "  tmp = len(os.listdir(os.path.join(validation_dir, i)))\n",
        "  print('Validation ', i, ' images:', tmp)\n",
        "  total_val += tmp\n",
        "  \n",
        "print(\"--\")\n",
        "\n",
        "print(\"Total training images:\", total_train)\n",
        "print(\"Total validation images:\", total_val)"
      ],
      "execution_count": 10,
      "outputs": [
        {
          "output_type": "stream",
          "text": [
            "Training  roses  images: 200\n",
            "Training  tulips  images: 200\n",
            "Training  dandelion  images: 200\n",
            "Training  daisy  images: 200\n",
            "Training  sunflowers  images: 200\n",
            "Validation  roses  images: 100\n",
            "Validation  tulips  images: 100\n",
            "Validation  dandelion  images: 100\n",
            "Validation  daisy  images: 100\n",
            "Validation  sunflowers  images: 100\n",
            "--\n",
            "Total training images: 1000\n",
            "Total validation images: 500\n"
          ],
          "name": "stdout"
        }
      ]
    },
    {
      "metadata": {
        "id": "vsZUJvMZPA9h",
        "colab_type": "text"
      },
      "cell_type": "markdown",
      "source": [
        "### Step2. Use VGG model"
      ]
    },
    {
      "metadata": {
        "id": "VnSdEPTyJE6i",
        "colab_type": "code",
        "colab": {
          "base_uri": "https://localhost:8080/",
          "height": 782
        },
        "outputId": "1bbcdc5d-676b-4c25-8ba0-129e067351fd"
      },
      "cell_type": "code",
      "source": [
        "conv_base = VGG16(weights='imagenet',include_top=False, input_shape=(150, 150, 3))\n",
        "conv_base.summary()"
      ],
      "execution_count": 17,
      "outputs": [
        {
          "output_type": "stream",
          "text": [
            "_________________________________________________________________\n",
            "Layer (type)                 Output Shape              Param #   \n",
            "=================================================================\n",
            "input_2 (InputLayer)         (None, 150, 150, 3)       0         \n",
            "_________________________________________________________________\n",
            "block1_conv1 (Conv2D)        (None, 150, 150, 64)      1792      \n",
            "_________________________________________________________________\n",
            "block1_conv2 (Conv2D)        (None, 150, 150, 64)      36928     \n",
            "_________________________________________________________________\n",
            "block1_pool (MaxPooling2D)   (None, 75, 75, 64)        0         \n",
            "_________________________________________________________________\n",
            "block2_conv1 (Conv2D)        (None, 75, 75, 128)       73856     \n",
            "_________________________________________________________________\n",
            "block2_conv2 (Conv2D)        (None, 75, 75, 128)       147584    \n",
            "_________________________________________________________________\n",
            "block2_pool (MaxPooling2D)   (None, 37, 37, 128)       0         \n",
            "_________________________________________________________________\n",
            "block3_conv1 (Conv2D)        (None, 37, 37, 256)       295168    \n",
            "_________________________________________________________________\n",
            "block3_conv2 (Conv2D)        (None, 37, 37, 256)       590080    \n",
            "_________________________________________________________________\n",
            "block3_conv3 (Conv2D)        (None, 37, 37, 256)       590080    \n",
            "_________________________________________________________________\n",
            "block3_pool (MaxPooling2D)   (None, 18, 18, 256)       0         \n",
            "_________________________________________________________________\n",
            "block4_conv1 (Conv2D)        (None, 18, 18, 512)       1180160   \n",
            "_________________________________________________________________\n",
            "block4_conv2 (Conv2D)        (None, 18, 18, 512)       2359808   \n",
            "_________________________________________________________________\n",
            "block4_conv3 (Conv2D)        (None, 18, 18, 512)       2359808   \n",
            "_________________________________________________________________\n",
            "block4_pool (MaxPooling2D)   (None, 9, 9, 512)         0         \n",
            "_________________________________________________________________\n",
            "block5_conv1 (Conv2D)        (None, 9, 9, 512)         2359808   \n",
            "_________________________________________________________________\n",
            "block5_conv2 (Conv2D)        (None, 9, 9, 512)         2359808   \n",
            "_________________________________________________________________\n",
            "block5_conv3 (Conv2D)        (None, 9, 9, 512)         2359808   \n",
            "_________________________________________________________________\n",
            "block5_pool (MaxPooling2D)   (None, 4, 4, 512)         0         \n",
            "=================================================================\n",
            "Total params: 14,714,688\n",
            "Trainable params: 14,714,688\n",
            "Non-trainable params: 0\n",
            "_________________________________________________________________\n"
          ],
          "name": "stdout"
        }
      ]
    },
    {
      "metadata": {
        "id": "rJCf0YZXJE3c",
        "colab_type": "code",
        "colab": {}
      },
      "cell_type": "code",
      "source": [
        "# Images be resized to TARGET_SHAPE * TARGET_SHAPE pixels as they're read off the disk\n",
        "TARGET_SHAPE = 150\n",
        "BATCH_SIZE = 32"
      ],
      "execution_count": 0,
      "outputs": []
    },
    {
      "metadata": {
        "id": "pGl6bma9JE0m",
        "colab_type": "code",
        "colab": {
          "base_uri": "https://localhost:8080/",
          "height": 51
        },
        "outputId": "89b5d354-ced8-4501-b973-0c9dfec50630"
      },
      "cell_type": "code",
      "source": [
        "# Cache activations for our training and validation data\n",
        "datagen = ImageDataGenerator(rescale=1./255)\n",
        "\n",
        "def extract_features(directory, sample_count):\n",
        "    features = np.zeros(shape=(sample_count, 4, 4, 512))#from block5 of VGG16\n",
        "    labels = np.zeros(shape=(sample_count, 5))\n",
        "    generator = datagen.flow_from_directory(\n",
        "        directory,\n",
        "        target_size=(TARGET_SHAPE, TARGET_SHAPE),\n",
        "        batch_size=BATCH_SIZE,\n",
        "        class_mode='categorical')\n",
        "    i = 0\n",
        "    for inputs_batch, labels_batch in generator:\n",
        "      \n",
        "        features_batch = conv_base.predict(inputs_batch)\n",
        "        # print(features_batch.shape)\n",
        "        # (32, 4, 4, 512)\n",
        "        # Think: batch_size, rows, cols, channels\n",
        "        \n",
        "        features[i * BATCH_SIZE : (i + 1) * BATCH_SIZE] = features_batch\n",
        "        labels[i * BATCH_SIZE : (i + 1) * BATCH_SIZE] = labels_batch\n",
        "        i += 1\n",
        "        if i * BATCH_SIZE >= sample_count:\n",
        "            # Note that since generators yield data indefinitely in a loop,\n",
        "            # we must `break` after every image has been seen once.\n",
        "            break\n",
        "    return features, labels\n",
        "\n",
        "train_features, train_labels = extract_features(train_dir, 1000)\n",
        "validation_features, validation_labels = extract_features(validation_dir, 500)"
      ],
      "execution_count": 47,
      "outputs": [
        {
          "output_type": "stream",
          "text": [
            "Found 1000 images belonging to 5 classes.\n",
            "Found 500 images belonging to 5 classes.\n"
          ],
          "name": "stdout"
        }
      ]
    },
    {
      "metadata": {
        "id": "9elBS4fYNgoq",
        "colab_type": "code",
        "colab": {
          "base_uri": "https://localhost:8080/",
          "height": 1754
        },
        "outputId": "8a014108-cb8a-4b2d-cae1-1f8768a422d2"
      },
      "cell_type": "code",
      "source": [
        "FLATTENED_SHAPE = 4 * 4 * 512\n",
        "\n",
        "train_features = np.reshape(train_features, (total_train, FLATTENED_SHAPE))\n",
        "validation_features = np.reshape(validation_features, (total_val, FLATTENED_SHAPE))\n",
        "EPOCHS = 50\n",
        "model = Sequential()\n",
        "model.add(Dense(256, activation='relu', input_dim=FLATTENED_SHAPE))\n",
        "model.add(Dropout(0.5))\n",
        "model.add(Dense(5, activation='softmax'))\n",
        "\n",
        "model.compile(optimizer='adam',\n",
        "              loss='categorical_crossentropy',\n",
        "              metrics=['accuracy'])\n",
        "#model.summary()\n",
        "\n",
        "history = model.fit(train_features, train_labels,\n",
        "                    epochs=EPOCHS,\n",
        "                    batch_size=BATCH_SIZE,\n",
        "                    validation_data=(validation_features, validation_labels))"
      ],
      "execution_count": 49,
      "outputs": [
        {
          "output_type": "stream",
          "text": [
            "Train on 1000 samples, validate on 500 samples\n",
            "Epoch 1/50\n",
            "1000/1000 [==============================] - 1s 580us/sample - loss: 1.3272 - acc: 0.5230 - val_loss: 0.7587 - val_acc: 0.7380\n",
            "Epoch 2/50\n",
            "1000/1000 [==============================] - 0s 305us/sample - loss: 0.6909 - acc: 0.7340 - val_loss: 0.7141 - val_acc: 0.7060\n",
            "Epoch 3/50\n",
            "1000/1000 [==============================] - 0s 315us/sample - loss: 0.5614 - acc: 0.7890 - val_loss: 0.5974 - val_acc: 0.7900\n",
            "Epoch 4/50\n",
            "1000/1000 [==============================] - 0s 302us/sample - loss: 0.4079 - acc: 0.8610 - val_loss: 0.6661 - val_acc: 0.7560\n",
            "Epoch 5/50\n",
            "1000/1000 [==============================] - 0s 304us/sample - loss: 0.3309 - acc: 0.8830 - val_loss: 0.6437 - val_acc: 0.7600\n",
            "Epoch 6/50\n",
            "1000/1000 [==============================] - 0s 318us/sample - loss: 0.2580 - acc: 0.9110 - val_loss: 0.6292 - val_acc: 0.7820\n",
            "Epoch 7/50\n",
            "1000/1000 [==============================] - 0s 302us/sample - loss: 0.1741 - acc: 0.9420 - val_loss: 0.6143 - val_acc: 0.7720\n",
            "Epoch 8/50\n",
            "1000/1000 [==============================] - 0s 305us/sample - loss: 0.1546 - acc: 0.9590 - val_loss: 0.6444 - val_acc: 0.7740\n",
            "Epoch 9/50\n",
            "1000/1000 [==============================] - 0s 320us/sample - loss: 0.1075 - acc: 0.9720 - val_loss: 0.5796 - val_acc: 0.7920\n",
            "Epoch 10/50\n",
            "1000/1000 [==============================] - 0s 301us/sample - loss: 0.0918 - acc: 0.9770 - val_loss: 0.6629 - val_acc: 0.7780\n",
            "Epoch 11/50\n",
            "1000/1000 [==============================] - 0s 306us/sample - loss: 0.0929 - acc: 0.9770 - val_loss: 0.6118 - val_acc: 0.8100\n",
            "Epoch 12/50\n",
            "1000/1000 [==============================] - 0s 304us/sample - loss: 0.0615 - acc: 0.9900 - val_loss: 0.7548 - val_acc: 0.7680\n",
            "Epoch 13/50\n",
            "1000/1000 [==============================] - 0s 316us/sample - loss: 0.0572 - acc: 0.9880 - val_loss: 0.6527 - val_acc: 0.7940\n",
            "Epoch 14/50\n",
            "1000/1000 [==============================] - 0s 308us/sample - loss: 0.0520 - acc: 0.9900 - val_loss: 0.7160 - val_acc: 0.7860\n",
            "Epoch 15/50\n",
            "1000/1000 [==============================] - 0s 301us/sample - loss: 0.0509 - acc: 0.9870 - val_loss: 0.6360 - val_acc: 0.8000\n",
            "Epoch 16/50\n",
            "1000/1000 [==============================] - 0s 333us/sample - loss: 0.0464 - acc: 0.9900 - val_loss: 0.6769 - val_acc: 0.7980\n",
            "Epoch 17/50\n",
            "1000/1000 [==============================] - 0s 307us/sample - loss: 0.0448 - acc: 0.9870 - val_loss: 0.6878 - val_acc: 0.8060\n",
            "Epoch 18/50\n",
            "1000/1000 [==============================] - 0s 310us/sample - loss: 0.0405 - acc: 0.9940 - val_loss: 0.7979 - val_acc: 0.7660\n",
            "Epoch 19/50\n",
            "1000/1000 [==============================] - 0s 317us/sample - loss: 0.0342 - acc: 0.9930 - val_loss: 0.7734 - val_acc: 0.7920\n",
            "Epoch 20/50\n",
            "1000/1000 [==============================] - 0s 301us/sample - loss: 0.0235 - acc: 0.9980 - val_loss: 0.7226 - val_acc: 0.7940\n",
            "Epoch 21/50\n",
            "1000/1000 [==============================] - 0s 302us/sample - loss: 0.0215 - acc: 0.9960 - val_loss: 0.6956 - val_acc: 0.7980\n",
            "Epoch 22/50\n",
            "1000/1000 [==============================] - 0s 315us/sample - loss: 0.0240 - acc: 0.9960 - val_loss: 0.7794 - val_acc: 0.7880\n",
            "Epoch 23/50\n",
            "1000/1000 [==============================] - 0s 301us/sample - loss: 0.0251 - acc: 0.9970 - val_loss: 0.8755 - val_acc: 0.7720\n",
            "Epoch 24/50\n",
            "1000/1000 [==============================] - 0s 313us/sample - loss: 0.0223 - acc: 0.9970 - val_loss: 0.6856 - val_acc: 0.8120\n",
            "Epoch 25/50\n",
            "1000/1000 [==============================] - 0s 306us/sample - loss: 0.0219 - acc: 0.9970 - val_loss: 0.7683 - val_acc: 0.7920\n",
            "Epoch 26/50\n",
            "1000/1000 [==============================] - 0s 310us/sample - loss: 0.0227 - acc: 0.9970 - val_loss: 0.7474 - val_acc: 0.7900\n",
            "Epoch 27/50\n",
            "1000/1000 [==============================] - 0s 301us/sample - loss: 0.0224 - acc: 0.9980 - val_loss: 0.8709 - val_acc: 0.7800\n",
            "Epoch 28/50\n",
            "1000/1000 [==============================] - 0s 303us/sample - loss: 0.0279 - acc: 0.9940 - val_loss: 0.8569 - val_acc: 0.7800\n",
            "Epoch 29/50\n",
            "1000/1000 [==============================] - 0s 322us/sample - loss: 0.0124 - acc: 0.9990 - val_loss: 0.8038 - val_acc: 0.8020\n",
            "Epoch 30/50\n",
            "1000/1000 [==============================] - 0s 303us/sample - loss: 0.0112 - acc: 0.9980 - val_loss: 0.8386 - val_acc: 0.7980\n",
            "Epoch 31/50\n",
            "1000/1000 [==============================] - 0s 306us/sample - loss: 0.0159 - acc: 0.9960 - val_loss: 0.8015 - val_acc: 0.7980\n",
            "Epoch 32/50\n",
            "1000/1000 [==============================] - 0s 315us/sample - loss: 0.0238 - acc: 0.9950 - val_loss: 0.8684 - val_acc: 0.7860\n",
            "Epoch 33/50\n",
            "1000/1000 [==============================] - 0s 308us/sample - loss: 0.0189 - acc: 0.9950 - val_loss: 0.8843 - val_acc: 0.7880\n",
            "Epoch 34/50\n",
            "1000/1000 [==============================] - 0s 306us/sample - loss: 0.0249 - acc: 0.9940 - val_loss: 0.8430 - val_acc: 0.7920\n",
            "Epoch 35/50\n",
            "1000/1000 [==============================] - 0s 325us/sample - loss: 0.0670 - acc: 0.9760 - val_loss: 0.8119 - val_acc: 0.7880\n",
            "Epoch 36/50\n",
            "1000/1000 [==============================] - 0s 313us/sample - loss: 0.0842 - acc: 0.9780 - val_loss: 1.0650 - val_acc: 0.7360\n",
            "Epoch 37/50\n",
            "1000/1000 [==============================] - 0s 307us/sample - loss: 0.0641 - acc: 0.9800 - val_loss: 0.8506 - val_acc: 0.7800\n",
            "Epoch 38/50\n",
            "1000/1000 [==============================] - 0s 310us/sample - loss: 0.0425 - acc: 0.9880 - val_loss: 0.8540 - val_acc: 0.7780\n",
            "Epoch 39/50\n",
            "1000/1000 [==============================] - 0s 315us/sample - loss: 0.0225 - acc: 0.9950 - val_loss: 0.9057 - val_acc: 0.7800\n",
            "Epoch 40/50\n",
            "1000/1000 [==============================] - 0s 301us/sample - loss: 0.0196 - acc: 0.9950 - val_loss: 0.9465 - val_acc: 0.7880\n",
            "Epoch 41/50\n",
            "1000/1000 [==============================] - 0s 313us/sample - loss: 0.0137 - acc: 0.9980 - val_loss: 0.8630 - val_acc: 0.7920\n",
            "Epoch 42/50\n",
            "1000/1000 [==============================] - 0s 312us/sample - loss: 0.0124 - acc: 0.9990 - val_loss: 0.9862 - val_acc: 0.7840\n",
            "Epoch 43/50\n",
            "1000/1000 [==============================] - 0s 303us/sample - loss: 0.0135 - acc: 0.9970 - val_loss: 0.9999 - val_acc: 0.7860\n",
            "Epoch 44/50\n",
            "1000/1000 [==============================] - 0s 306us/sample - loss: 0.0207 - acc: 0.9940 - val_loss: 0.9543 - val_acc: 0.7900\n",
            "Epoch 45/50\n",
            "1000/1000 [==============================] - 0s 318us/sample - loss: 0.0159 - acc: 0.9960 - val_loss: 0.9740 - val_acc: 0.7740\n",
            "Epoch 46/50\n",
            "1000/1000 [==============================] - 0s 306us/sample - loss: 0.0169 - acc: 0.9970 - val_loss: 0.9403 - val_acc: 0.7880\n",
            "Epoch 47/50\n",
            "1000/1000 [==============================] - 0s 327us/sample - loss: 0.0176 - acc: 0.9950 - val_loss: 0.9741 - val_acc: 0.7760\n",
            "Epoch 48/50\n",
            "1000/1000 [==============================] - 0s 315us/sample - loss: 0.0199 - acc: 0.9950 - val_loss: 0.8844 - val_acc: 0.7860\n",
            "Epoch 49/50\n",
            "1000/1000 [==============================] - 0s 310us/sample - loss: 0.0199 - acc: 0.9940 - val_loss: 0.9297 - val_acc: 0.7880\n",
            "Epoch 50/50\n",
            "1000/1000 [==============================] - 0s 310us/sample - loss: 0.0237 - acc: 0.9930 - val_loss: 1.0076 - val_acc: 0.7700\n"
          ],
          "name": "stdout"
        }
      ]
    },
    {
      "metadata": {
        "id": "kQHjT6MZKb8D",
        "colab_type": "code",
        "colab": {
          "base_uri": "https://localhost:8080/",
          "height": 272
        },
        "outputId": "65b8fb8e-f529-4ebf-fdaf-af896691517d"
      },
      "cell_type": "code",
      "source": [
        "model = Sequential()\n",
        "model.add(conv_base)\n",
        "model.add(Flatten())\n",
        "model.add(Dense(512, activation='relu'))\n",
        "model.add(Dense(5, activation='softmax'))\n",
        "model.summary()"
      ],
      "execution_count": 50,
      "outputs": [
        {
          "output_type": "stream",
          "text": [
            "_________________________________________________________________\n",
            "Layer (type)                 Output Shape              Param #   \n",
            "=================================================================\n",
            "vgg16 (Model)                (None, 4, 4, 512)         14714688  \n",
            "_________________________________________________________________\n",
            "flatten_2 (Flatten)          (None, 8192)              0         \n",
            "_________________________________________________________________\n",
            "dense_19 (Dense)             (None, 512)               4194816   \n",
            "_________________________________________________________________\n",
            "dense_20 (Dense)             (None, 5)                 2565      \n",
            "=================================================================\n",
            "Total params: 18,912,069\n",
            "Trainable params: 18,912,069\n",
            "Non-trainable params: 0\n",
            "_________________________________________________________________\n"
          ],
          "name": "stdout"
        }
      ]
    },
    {
      "metadata": {
        "id": "jkjo2n4IKq8B",
        "colab_type": "code",
        "colab": {
          "base_uri": "https://localhost:8080/",
          "height": 51
        },
        "outputId": "fdb52fcd-128e-4646-d563-ce9c84578b62"
      },
      "cell_type": "code",
      "source": [
        "conv_base.trainable = False\n",
        "image_gen_train = ImageDataGenerator(\n",
        "      rescale=1./255,\n",
        "      rotation_range=40,\n",
        "      width_shift_range=0.2,\n",
        "      height_shift_range=0.2,\n",
        "      shear_range=0.2,\n",
        "      zoom_range=0.2,\n",
        "      horizontal_flip=True,\n",
        "      fill_mode='nearest')\n",
        "\n",
        "train_data_gen = image_gen_train.flow_from_directory(\n",
        "    batch_size=BATCH_SIZE, \n",
        "    directory=train_dir, \n",
        "    shuffle=True, \n",
        "    target_size=(TARGET_SHAPE,TARGET_SHAPE),\n",
        "    class_mode='categorical')\n",
        "\n",
        "# Validation data should not be augmented!\n",
        "image_gen_val = ImageDataGenerator(rescale=1./255)\n",
        "val_data_gen = image_gen_val.flow_from_directory(\n",
        "    batch_size=BATCH_SIZE, \n",
        "    directory=validation_dir, \n",
        "    target_size=(TARGET_SHAPE, TARGET_SHAPE),\n",
        "    class_mode='categorical')"
      ],
      "execution_count": 51,
      "outputs": [
        {
          "output_type": "stream",
          "text": [
            "Found 1000 images belonging to 5 classes.\n",
            "Found 500 images belonging to 5 classes.\n"
          ],
          "name": "stdout"
        }
      ]
    },
    {
      "metadata": {
        "id": "w94GQNosLITv",
        "colab_type": "code",
        "colab": {
          "base_uri": "https://localhost:8080/",
          "height": 2567
        },
        "outputId": "4b95b4dd-9442-425c-c32d-e279b4f4aa86"
      },
      "cell_type": "code",
      "source": [
        "model.compile(optimizer='adam',\n",
        "              loss='categorical_crossentropy',\n",
        "              metrics=['accuracy'])\n",
        "\n",
        "EPOCHS = 50\n",
        "history2 = model.fit_generator(\n",
        "      train_data_gen,\n",
        "      steps_per_epoch=int(np.ceil(total_train / float(BATCH_SIZE))),\n",
        "      epochs=EPOCHS,\n",
        "      validation_data=val_data_gen,\n",
        "      validation_steps=int(np.ceil(total_val / float(BATCH_SIZE))),\n",
        "      verbose=2)"
      ],
      "execution_count": 53,
      "outputs": [
        {
          "output_type": "stream",
          "text": [
            "Epoch 1/50\n",
            "16/16 [==============================] - 3s 183ms/step - loss: 0.8510 - acc: 0.6900\n",
            " - 11s - loss: 1.3851 - acc: 0.5270 - val_loss: 0.8510 - val_acc: 0.6900\n",
            "Epoch 2/50\n",
            "16/16 [==============================] - 3s 162ms/step - loss: 0.7063 - acc: 0.7280\n",
            " - 10s - loss: 0.7479 - acc: 0.7210 - val_loss: 0.7063 - val_acc: 0.7280\n",
            "Epoch 3/50\n",
            "16/16 [==============================] - 3s 162ms/step - loss: 0.7124 - acc: 0.7500\n",
            " - 10s - loss: 0.6651 - acc: 0.7580 - val_loss: 0.7124 - val_acc: 0.7500\n",
            "Epoch 4/50\n",
            "16/16 [==============================] - 3s 163ms/step - loss: 0.8221 - acc: 0.7040\n",
            " - 10s - loss: 0.6568 - acc: 0.7680 - val_loss: 0.8221 - val_acc: 0.7040\n",
            "Epoch 5/50\n",
            "16/16 [==============================] - 3s 162ms/step - loss: 0.6901 - acc: 0.7560\n",
            " - 10s - loss: 0.6249 - acc: 0.7680 - val_loss: 0.6901 - val_acc: 0.7560\n",
            "Epoch 6/50\n",
            "16/16 [==============================] - 3s 161ms/step - loss: 0.5593 - acc: 0.8160\n",
            " - 10s - loss: 0.5753 - acc: 0.7970 - val_loss: 0.5593 - val_acc: 0.8160\n",
            "Epoch 7/50\n",
            "16/16 [==============================] - 3s 162ms/step - loss: 0.5703 - acc: 0.7960\n",
            " - 10s - loss: 0.4965 - acc: 0.8210 - val_loss: 0.5703 - val_acc: 0.7960\n",
            "Epoch 8/50\n",
            "16/16 [==============================] - 3s 162ms/step - loss: 0.6882 - acc: 0.7900\n",
            " - 10s - loss: 0.4804 - acc: 0.8190 - val_loss: 0.6882 - val_acc: 0.7900\n",
            "Epoch 9/50\n",
            "16/16 [==============================] - 3s 164ms/step - loss: 0.7597 - acc: 0.7480\n",
            " - 10s - loss: 0.4285 - acc: 0.8440 - val_loss: 0.7597 - val_acc: 0.7480\n",
            "Epoch 10/50\n",
            "16/16 [==============================] - 3s 161ms/step - loss: 0.6032 - acc: 0.7920\n",
            " - 10s - loss: 0.4136 - acc: 0.8490 - val_loss: 0.6032 - val_acc: 0.7920\n",
            "Epoch 11/50\n",
            "16/16 [==============================] - 3s 162ms/step - loss: 0.6098 - acc: 0.7960\n",
            " - 10s - loss: 0.3871 - acc: 0.8570 - val_loss: 0.6098 - val_acc: 0.7960\n",
            "Epoch 12/50\n",
            "16/16 [==============================] - 3s 163ms/step - loss: 0.6409 - acc: 0.7860\n",
            " - 10s - loss: 0.4248 - acc: 0.8570 - val_loss: 0.6409 - val_acc: 0.7860\n",
            "Epoch 13/50\n",
            "16/16 [==============================] - 3s 163ms/step - loss: 0.7669 - acc: 0.7240\n",
            " - 10s - loss: 0.3780 - acc: 0.8510 - val_loss: 0.7669 - val_acc: 0.7240\n",
            "Epoch 14/50\n",
            "16/16 [==============================] - 3s 164ms/step - loss: 0.6214 - acc: 0.8000\n",
            " - 10s - loss: 0.3981 - acc: 0.8520 - val_loss: 0.6214 - val_acc: 0.8000\n",
            "Epoch 15/50\n",
            "16/16 [==============================] - 3s 163ms/step - loss: 0.5479 - acc: 0.8120\n",
            " - 10s - loss: 0.3491 - acc: 0.8590 - val_loss: 0.5479 - val_acc: 0.8120\n",
            "Epoch 16/50\n",
            "16/16 [==============================] - 3s 164ms/step - loss: 0.6399 - acc: 0.7920\n",
            " - 10s - loss: 0.3119 - acc: 0.8890 - val_loss: 0.6399 - val_acc: 0.7920\n",
            "Epoch 17/50\n",
            "16/16 [==============================] - 3s 164ms/step - loss: 0.5556 - acc: 0.8160\n",
            " - 10s - loss: 0.3247 - acc: 0.8740 - val_loss: 0.5556 - val_acc: 0.8160\n",
            "Epoch 18/50\n",
            "16/16 [==============================] - 3s 163ms/step - loss: 0.5819 - acc: 0.8200\n",
            " - 10s - loss: 0.3209 - acc: 0.8720 - val_loss: 0.5819 - val_acc: 0.8200\n",
            "Epoch 19/50\n",
            "16/16 [==============================] - 3s 164ms/step - loss: 0.6067 - acc: 0.7960\n",
            " - 10s - loss: 0.2932 - acc: 0.8900 - val_loss: 0.6067 - val_acc: 0.7960\n",
            "Epoch 20/50\n",
            "16/16 [==============================] - 3s 163ms/step - loss: 0.6842 - acc: 0.7780\n",
            " - 10s - loss: 0.3290 - acc: 0.8760 - val_loss: 0.6842 - val_acc: 0.7780\n",
            "Epoch 21/50\n",
            "16/16 [==============================] - 3s 162ms/step - loss: 0.6274 - acc: 0.7980\n",
            " - 10s - loss: 0.3116 - acc: 0.8840 - val_loss: 0.6274 - val_acc: 0.7980\n",
            "Epoch 22/50\n",
            "16/16 [==============================] - 3s 163ms/step - loss: 0.5778 - acc: 0.8240\n",
            " - 10s - loss: 0.2782 - acc: 0.8990 - val_loss: 0.5778 - val_acc: 0.8240\n",
            "Epoch 23/50\n",
            "16/16 [==============================] - 3s 163ms/step - loss: 0.9436 - acc: 0.7420\n",
            " - 10s - loss: 0.2632 - acc: 0.9070 - val_loss: 0.9436 - val_acc: 0.7420\n",
            "Epoch 24/50\n",
            "16/16 [==============================] - 3s 162ms/step - loss: 0.6890 - acc: 0.7820\n",
            " - 10s - loss: 0.3045 - acc: 0.8940 - val_loss: 0.6890 - val_acc: 0.7820\n",
            "Epoch 25/50\n",
            "16/16 [==============================] - 3s 164ms/step - loss: 0.7077 - acc: 0.7820\n",
            " - 10s - loss: 0.2751 - acc: 0.9000 - val_loss: 0.7077 - val_acc: 0.7820\n",
            "Epoch 26/50\n",
            "16/16 [==============================] - 3s 161ms/step - loss: 0.6696 - acc: 0.7920\n",
            " - 10s - loss: 0.2593 - acc: 0.9000 - val_loss: 0.6696 - val_acc: 0.7920\n",
            "Epoch 27/50\n",
            "16/16 [==============================] - 3s 162ms/step - loss: 0.6601 - acc: 0.7960\n",
            " - 10s - loss: 0.2407 - acc: 0.9110 - val_loss: 0.6601 - val_acc: 0.7960\n",
            "Epoch 28/50\n",
            "16/16 [==============================] - 3s 165ms/step - loss: 0.6966 - acc: 0.7840\n",
            " - 10s - loss: 0.2267 - acc: 0.9230 - val_loss: 0.6966 - val_acc: 0.7840\n",
            "Epoch 29/50\n",
            "16/16 [==============================] - 3s 161ms/step - loss: 0.6826 - acc: 0.7700\n",
            " - 10s - loss: 0.2682 - acc: 0.8980 - val_loss: 0.6826 - val_acc: 0.7700\n",
            "Epoch 30/50\n",
            "16/16 [==============================] - 3s 164ms/step - loss: 0.9348 - acc: 0.7500\n",
            " - 10s - loss: 0.2172 - acc: 0.9190 - val_loss: 0.9348 - val_acc: 0.7500\n",
            "Epoch 31/50\n",
            "16/16 [==============================] - 3s 163ms/step - loss: 0.6066 - acc: 0.8240\n",
            " - 10s - loss: 0.2311 - acc: 0.9180 - val_loss: 0.6066 - val_acc: 0.8240\n",
            "Epoch 32/50\n",
            "16/16 [==============================] - 3s 162ms/step - loss: 0.7445 - acc: 0.8300\n",
            " - 10s - loss: 0.1974 - acc: 0.9320 - val_loss: 0.7445 - val_acc: 0.8300\n",
            "Epoch 33/50\n",
            "16/16 [==============================] - 3s 163ms/step - loss: 0.6415 - acc: 0.8180\n",
            " - 10s - loss: 0.2406 - acc: 0.9030 - val_loss: 0.6415 - val_acc: 0.8180\n",
            "Epoch 34/50\n",
            "16/16 [==============================] - 3s 164ms/step - loss: 0.6063 - acc: 0.8420\n",
            " - 10s - loss: 0.1725 - acc: 0.9340 - val_loss: 0.6063 - val_acc: 0.8420\n",
            "Epoch 35/50\n",
            "16/16 [==============================] - 3s 164ms/step - loss: 0.7007 - acc: 0.8100\n",
            " - 10s - loss: 0.2222 - acc: 0.9170 - val_loss: 0.7007 - val_acc: 0.8100\n",
            "Epoch 36/50\n",
            "16/16 [==============================] - 3s 164ms/step - loss: 0.7586 - acc: 0.8100\n",
            " - 10s - loss: 0.1820 - acc: 0.9330 - val_loss: 0.7586 - val_acc: 0.8100\n",
            "Epoch 37/50\n",
            "16/16 [==============================] - 3s 162ms/step - loss: 0.7751 - acc: 0.7940\n",
            " - 10s - loss: 0.1756 - acc: 0.9400 - val_loss: 0.7751 - val_acc: 0.7940\n",
            "Epoch 38/50\n",
            "16/16 [==============================] - 3s 163ms/step - loss: 0.7698 - acc: 0.7800\n",
            " - 10s - loss: 0.2353 - acc: 0.9260 - val_loss: 0.7698 - val_acc: 0.7800\n",
            "Epoch 39/50\n",
            "16/16 [==============================] - 3s 164ms/step - loss: 0.7108 - acc: 0.7940\n",
            " - 10s - loss: 0.2025 - acc: 0.9310 - val_loss: 0.7108 - val_acc: 0.7940\n",
            "Epoch 40/50\n",
            "16/16 [==============================] - 3s 164ms/step - loss: 0.7454 - acc: 0.8020\n",
            " - 10s - loss: 0.2274 - acc: 0.9280 - val_loss: 0.7454 - val_acc: 0.8020\n",
            "Epoch 41/50\n",
            "16/16 [==============================] - 3s 160ms/step - loss: 0.5655 - acc: 0.8340\n",
            " - 10s - loss: 0.2452 - acc: 0.9100 - val_loss: 0.5655 - val_acc: 0.8340\n",
            "Epoch 42/50\n",
            "16/16 [==============================] - 3s 164ms/step - loss: 0.7344 - acc: 0.7900\n",
            " - 10s - loss: 0.1814 - acc: 0.9270 - val_loss: 0.7344 - val_acc: 0.7900\n",
            "Epoch 43/50\n",
            "16/16 [==============================] - 3s 163ms/step - loss: 0.7916 - acc: 0.7920\n",
            " - 10s - loss: 0.1549 - acc: 0.9400 - val_loss: 0.7916 - val_acc: 0.7920\n",
            "Epoch 44/50\n",
            "16/16 [==============================] - 3s 162ms/step - loss: 0.7788 - acc: 0.7860\n",
            " - 10s - loss: 0.1688 - acc: 0.9390 - val_loss: 0.7788 - val_acc: 0.7860\n",
            "Epoch 45/50\n",
            "16/16 [==============================] - 3s 164ms/step - loss: 0.7199 - acc: 0.8120\n",
            " - 10s - loss: 0.1411 - acc: 0.9580 - val_loss: 0.7199 - val_acc: 0.8120\n",
            "Epoch 46/50\n",
            "16/16 [==============================] - 3s 165ms/step - loss: 0.7549 - acc: 0.8020\n",
            " - 10s - loss: 0.1346 - acc: 0.9560 - val_loss: 0.7549 - val_acc: 0.8020\n",
            "Epoch 47/50\n",
            "16/16 [==============================] - 3s 162ms/step - loss: 0.7514 - acc: 0.8100\n",
            " - 10s - loss: 0.1216 - acc: 0.9600 - val_loss: 0.7514 - val_acc: 0.8100\n",
            "Epoch 48/50\n",
            "16/16 [==============================] - 3s 164ms/step - loss: 0.6939 - acc: 0.8180\n",
            " - 10s - loss: 0.1475 - acc: 0.9440 - val_loss: 0.6939 - val_acc: 0.8180\n",
            "Epoch 49/50\n",
            "16/16 [==============================] - 3s 163ms/step - loss: 0.7422 - acc: 0.7960\n",
            " - 10s - loss: 0.1578 - acc: 0.9430 - val_loss: 0.7422 - val_acc: 0.7960\n",
            "Epoch 50/50\n",
            "16/16 [==============================] - 3s 164ms/step - loss: 0.7482 - acc: 0.8000\n",
            " - 10s - loss: 0.1467 - acc: 0.9560 - val_loss: 0.7482 - val_acc: 0.8000\n"
          ],
          "name": "stdout"
        }
      ]
    },
    {
      "metadata": {
        "id": "926Dy7DGLIHG",
        "colab_type": "code",
        "colab": {
          "base_uri": "https://localhost:8080/",
          "height": 498
        },
        "outputId": "604fdf89-ae21-40b0-8e0a-36268390fede"
      },
      "cell_type": "code",
      "source": [
        "acc = history2.history['acc']\n",
        "val_acc = history2.history['val_acc']\n",
        "\n",
        "loss = history2.history['loss']\n",
        "val_loss = history2.history['val_loss']\n",
        "\n",
        "epochs_range = range(1, EPOCHS+1)\n",
        "\n",
        "plt.figure(figsize=(8, 8))\n",
        "plt.subplot(1, 2, 1)\n",
        "plt.plot(epochs_range, acc, label='Training Accuracy')\n",
        "plt.plot(epochs_range, val_acc, label='Validation Accuracy')\n",
        "plt.legend(loc='lower right')\n",
        "plt.title('Training and Validation Accuracy')\n",
        "\n",
        "plt.subplot(1, 2, 2)\n",
        "plt.plot(epochs_range, loss, label='Training Loss')\n",
        "plt.plot(epochs_range, val_loss, label='Validation Loss')\n",
        "plt.legend(loc='upper right')\n",
        "plt.title('Training and Validation Loss')\n",
        "plt.show()"
      ],
      "execution_count": 54,
      "outputs": [
        {
          "output_type": "display_data",
          "data": {
            "image/png": "[encoded data removed]",
            "text/plain": [
              "<Figure size 576x576 with 2 Axes>"
            ]
          },
          "metadata": {
            "tags": []
          }
        }
      ]
    },
    {
      "metadata": {
        "id": "aRjleNOesSjA",
        "colab_type": "text"
      },
      "cell_type": "markdown",
      "source": [
        "### 2. Run experiments using at least two pretrained convolutional bases\n",
        "Run experiments using at least two pretrained convolutional bases and compare your results. Include a short, informal write-up (using bullet points is fine). What differences do you see, and why? Read the associated papers to learn more about the networks you’re using, linked from the API doc."
      ]
    },
    {
      "metadata": {
        "id": "rMPS2zPVw2ee",
        "colab_type": "text"
      },
      "cell_type": "markdown",
      "source": [
        "Model 1: ResNet50"
      ]
    },
    {
      "metadata": {
        "id": "fPExIll2JExU",
        "colab_type": "code",
        "colab": {
          "base_uri": "https://localhost:8080/",
          "height": 6463
        },
        "outputId": "fc9c6f31-c838-43a0-f75e-284d18bb2ad9"
      },
      "cell_type": "code",
      "source": [
        "from keras.applications.resnet50 import ResNet50\n",
        "conv_base2 = ResNet50(weights='imagenet',include_top=False, input_shape=(150, 150, 3))\n",
        "conv_base2.summary()"
      ],
      "execution_count": 55,
      "outputs": [
        {
          "output_type": "stream",
          "text": [
            "Using TensorFlow backend.\n",
            "/usr/local/lib/python3.6/dist-packages/keras_applications/resnet50.py:265: UserWarning: The output shape of `ResNet50(include_top=False)` has been changed since Keras 2.2.0.\n",
            "  warnings.warn('The output shape of `ResNet50(include_top=False)` '\n"
          ],
          "name": "stderr"
        },
        {
          "output_type": "stream",
          "text": [
            "Downloading data from https://github.com/fchollet/deep-learning-models/releases/download/v0.2/resnet50_weights_tf_dim_ordering_tf_kernels_notop.h5\n",
            "94658560/94653016 [==============================] - 4s 0us/step\n",
            "__________________________________________________________________________________________________\n",
            "Layer (type)                    Output Shape         Param #     Connected to                     \n",
            "==================================================================================================\n",
            "input_1 (InputLayer)            (None, 150, 150, 3)  0                                            \n",
            "__________________________________________________________________________________________________\n",
            "conv1_pad (ZeroPadding2D)       (None, 156, 156, 3)  0           input_1[0][0]                    \n",
            "__________________________________________________________________________________________________\n",
            "conv1 (Conv2D)                  (None, 75, 75, 64)   9472        conv1_pad[0][0]                  \n",
            "__________________________________________________________________________________________________\n",
            "bn_conv1 (BatchNormalization)   (None, 75, 75, 64)   256         conv1[0][0]                      \n",
            "__________________________________________________________________________________________________\n",
            "activation_1 (Activation)       (None, 75, 75, 64)   0           bn_conv1[0][0]                   \n",
            "__________________________________________________________________________________________________\n",
            "pool1_pad (ZeroPadding2D)       (None, 77, 77, 64)   0           activation_1[0][0]               \n",
            "__________________________________________________________________________________________________\n",
            "max_pooling2d_1 (MaxPooling2D)  (None, 38, 38, 64)   0           pool1_pad[0][0]                  \n",
            "__________________________________________________________________________________________________\n",
            "res2a_branch2a (Conv2D)         (None, 38, 38, 64)   4160        max_pooling2d_1[0][0]            \n",
            "__________________________________________________________________________________________________\n",
            "bn2a_branch2a (BatchNormalizati (None, 38, 38, 64)   256         res2a_branch2a[0][0]             \n",
            "__________________________________________________________________________________________________\n",
            "activation_2 (Activation)       (None, 38, 38, 64)   0           bn2a_branch2a[0][0]              \n",
            "__________________________________________________________________________________________________\n",
            "res2a_branch2b (Conv2D)         (None, 38, 38, 64)   36928       activation_2[0][0]               \n",
            "__________________________________________________________________________________________________\n",
            "bn2a_branch2b (BatchNormalizati (None, 38, 38, 64)   256         res2a_branch2b[0][0]             \n",
            "__________________________________________________________________________________________________\n",
            "activation_3 (Activation)       (None, 38, 38, 64)   0           bn2a_branch2b[0][0]              \n",
            "__________________________________________________________________________________________________\n",
            "res2a_branch2c (Conv2D)         (None, 38, 38, 256)  16640       activation_3[0][0]               \n",
            "__________________________________________________________________________________________________\n",
            "res2a_branch1 (Conv2D)          (None, 38, 38, 256)  16640       max_pooling2d_1[0][0]            \n",
            "__________________________________________________________________________________________________\n",
            "bn2a_branch2c (BatchNormalizati (None, 38, 38, 256)  1024        res2a_branch2c[0][0]             \n",
            "__________________________________________________________________________________________________\n",
            "bn2a_branch1 (BatchNormalizatio (None, 38, 38, 256)  1024        res2a_branch1[0][0]              \n",
            "__________________________________________________________________________________________________\n",
            "add_1 (Add)                     (None, 38, 38, 256)  0           bn2a_branch2c[0][0]              \n",
            "                                                                 bn2a_branch1[0][0]               \n",
            "__________________________________________________________________________________________________\n",
            "activation_4 (Activation)       (None, 38, 38, 256)  0           add_1[0][0]                      \n",
            "__________________________________________________________________________________________________\n",
            "res2b_branch2a (Conv2D)         (None, 38, 38, 64)   16448       activation_4[0][0]               \n",
            "__________________________________________________________________________________________________\n",
            "bn2b_branch2a (BatchNormalizati (None, 38, 38, 64)   256         res2b_branch2a[0][0]             \n",
            "__________________________________________________________________________________________________\n",
            "activation_5 (Activation)       (None, 38, 38, 64)   0           bn2b_branch2a[0][0]              \n",
            "__________________________________________________________________________________________________\n",
            "res2b_branch2b (Conv2D)         (None, 38, 38, 64)   36928       activation_5[0][0]               \n",
            "__________________________________________________________________________________________________\n",
            "bn2b_branch2b (BatchNormalizati (None, 38, 38, 64)   256         res2b_branch2b[0][0]             \n",
            "__________________________________________________________________________________________________\n",
            "activation_6 (Activation)       (None, 38, 38, 64)   0           bn2b_branch2b[0][0]              \n",
            "__________________________________________________________________________________________________\n",
            "res2b_branch2c (Conv2D)         (None, 38, 38, 256)  16640       activation_6[0][0]               \n",
            "__________________________________________________________________________________________________\n",
            "bn2b_branch2c (BatchNormalizati (None, 38, 38, 256)  1024        res2b_branch2c[0][0]             \n",
            "__________________________________________________________________________________________________\n",
            "add_2 (Add)                     (None, 38, 38, 256)  0           bn2b_branch2c[0][0]              \n",
            "                                                                 activation_4[0][0]               \n",
            "__________________________________________________________________________________________________\n",
            "activation_7 (Activation)       (None, 38, 38, 256)  0           add_2[0][0]                      \n",
            "__________________________________________________________________________________________________\n",
            "res2c_branch2a (Conv2D)         (None, 38, 38, 64)   16448       activation_7[0][0]               \n",
            "__________________________________________________________________________________________________\n",
            "bn2c_branch2a (BatchNormalizati (None, 38, 38, 64)   256         res2c_branch2a[0][0]             \n",
            "__________________________________________________________________________________________________\n",
            "activation_8 (Activation)       (None, 38, 38, 64)   0           bn2c_branch2a[0][0]              \n",
            "__________________________________________________________________________________________________\n",
            "res2c_branch2b (Conv2D)         (None, 38, 38, 64)   36928       activation_8[0][0]               \n",
            "__________________________________________________________________________________________________\n",
            "bn2c_branch2b (BatchNormalizati (None, 38, 38, 64)   256         res2c_branch2b[0][0]             \n",
            "__________________________________________________________________________________________________\n",
            "activation_9 (Activation)       (None, 38, 38, 64)   0           bn2c_branch2b[0][0]              \n",
            "__________________________________________________________________________________________________\n",
            "res2c_branch2c (Conv2D)         (None, 38, 38, 256)  16640       activation_9[0][0]               \n",
            "__________________________________________________________________________________________________\n",
            "bn2c_branch2c (BatchNormalizati (None, 38, 38, 256)  1024        res2c_branch2c[0][0]             \n",
            "__________________________________________________________________________________________________\n",
            "add_3 (Add)                     (None, 38, 38, 256)  0           bn2c_branch2c[0][0]              \n",
            "                                                                 activation_7[0][0]               \n",
            "__________________________________________________________________________________________________\n",
            "activation_10 (Activation)      (None, 38, 38, 256)  0           add_3[0][0]                      \n",
            "__________________________________________________________________________________________________\n",
            "res3a_branch2a (Conv2D)         (None, 19, 19, 128)  32896       activation_10[0][0]              \n",
            "__________________________________________________________________________________________________\n",
            "bn3a_branch2a (BatchNormalizati (None, 19, 19, 128)  512         res3a_branch2a[0][0]             \n",
            "__________________________________________________________________________________________________\n",
            "activation_11 (Activation)      (None, 19, 19, 128)  0           bn3a_branch2a[0][0]              \n",
            "__________________________________________________________________________________________________\n",
            "res3a_branch2b (Conv2D)         (None, 19, 19, 128)  147584      activation_11[0][0]              \n",
            "__________________________________________________________________________________________________\n",
            "bn3a_branch2b (BatchNormalizati (None, 19, 19, 128)  512         res3a_branch2b[0][0]             \n",
            "__________________________________________________________________________________________________\n",
            "activation_12 (Activation)      (None, 19, 19, 128)  0           bn3a_branch2b[0][0]              \n",
            "__________________________________________________________________________________________________\n",
            "res3a_branch2c (Conv2D)         (None, 19, 19, 512)  66048       activation_12[0][0]              \n",
            "__________________________________________________________________________________________________\n",
            "res3a_branch1 (Conv2D)          (None, 19, 19, 512)  131584      activation_10[0][0]              \n",
            "__________________________________________________________________________________________________\n",
            "bn3a_branch2c (BatchNormalizati (None, 19, 19, 512)  2048        res3a_branch2c[0][0]             \n",
            "__________________________________________________________________________________________________\n",
            "bn3a_branch1 (BatchNormalizatio (None, 19, 19, 512)  2048        res3a_branch1[0][0]              \n",
            "__________________________________________________________________________________________________\n",
            "add_4 (Add)                     (None, 19, 19, 512)  0           bn3a_branch2c[0][0]              \n",
            "                                                                 bn3a_branch1[0][0]               \n",
            "__________________________________________________________________________________________________\n",
            "activation_13 (Activation)      (None, 19, 19, 512)  0           add_4[0][0]                      \n",
            "__________________________________________________________________________________________________\n",
            "res3b_branch2a (Conv2D)         (None, 19, 19, 128)  65664       activation_13[0][0]              \n",
            "__________________________________________________________________________________________________\n",
            "bn3b_branch2a (BatchNormalizati (None, 19, 19, 128)  512         res3b_branch2a[0][0]             \n",
            "__________________________________________________________________________________________________\n",
            "activation_14 (Activation)      (None, 19, 19, 128)  0           bn3b_branch2a[0][0]              \n",
            "__________________________________________________________________________________________________\n",
            "res3b_branch2b (Conv2D)         (None, 19, 19, 128)  147584      activation_14[0][0]              \n",
            "__________________________________________________________________________________________________\n",
            "bn3b_branch2b (BatchNormalizati (None, 19, 19, 128)  512         res3b_branch2b[0][0]             \n",
            "__________________________________________________________________________________________________\n",
            "activation_15 (Activation)      (None, 19, 19, 128)  0           bn3b_branch2b[0][0]              \n",
            "__________________________________________________________________________________________________\n",
            "res3b_branch2c (Conv2D)         (None, 19, 19, 512)  66048       activation_15[0][0]              \n",
            "__________________________________________________________________________________________________\n",
            "bn3b_branch2c (BatchNormalizati (None, 19, 19, 512)  2048        res3b_branch2c[0][0]             \n",
            "__________________________________________________________________________________________________\n",
            "add_5 (Add)                     (None, 19, 19, 512)  0           bn3b_branch2c[0][0]              \n",
            "                                                                 activation_13[0][0]              \n",
            "__________________________________________________________________________________________________\n",
            "activation_16 (Activation)      (None, 19, 19, 512)  0           add_5[0][0]                      \n",
            "__________________________________________________________________________________________________\n",
            "res3c_branch2a (Conv2D)         (None, 19, 19, 128)  65664       activation_16[0][0]              \n",
            "__________________________________________________________________________________________________\n",
            "bn3c_branch2a (BatchNormalizati (None, 19, 19, 128)  512         res3c_branch2a[0][0]             \n",
            "__________________________________________________________________________________________________\n",
            "activation_17 (Activation)      (None, 19, 19, 128)  0           bn3c_branch2a[0][0]              \n",
            "__________________________________________________________________________________________________\n",
            "res3c_branch2b (Conv2D)         (None, 19, 19, 128)  147584      activation_17[0][0]              \n",
            "__________________________________________________________________________________________________\n",
            "bn3c_branch2b (BatchNormalizati (None, 19, 19, 128)  512         res3c_branch2b[0][0]             \n",
            "__________________________________________________________________________________________________\n",
            "activation_18 (Activation)      (None, 19, 19, 128)  0           bn3c_branch2b[0][0]              \n",
            "__________________________________________________________________________________________________\n",
            "res3c_branch2c (Conv2D)         (None, 19, 19, 512)  66048       activation_18[0][0]              \n",
            "__________________________________________________________________________________________________\n",
            "bn3c_branch2c (BatchNormalizati (None, 19, 19, 512)  2048        res3c_branch2c[0][0]             \n",
            "__________________________________________________________________________________________________\n",
            "add_6 (Add)                     (None, 19, 19, 512)  0           bn3c_branch2c[0][0]              \n",
            "                                                                 activation_16[0][0]              \n",
            "__________________________________________________________________________________________________\n",
            "activation_19 (Activation)      (None, 19, 19, 512)  0           add_6[0][0]                      \n",
            "__________________________________________________________________________________________________\n",
            "res3d_branch2a (Conv2D)         (None, 19, 19, 128)  65664       activation_19[0][0]              \n",
            "__________________________________________________________________________________________________\n",
            "bn3d_branch2a (BatchNormalizati (None, 19, 19, 128)  512         res3d_branch2a[0][0]             \n",
            "__________________________________________________________________________________________________\n",
            "activation_20 (Activation)      (None, 19, 19, 128)  0           bn3d_branch2a[0][0]              \n",
            "__________________________________________________________________________________________________\n",
            "res3d_branch2b (Conv2D)         (None, 19, 19, 128)  147584      activation_20[0][0]              \n",
            "__________________________________________________________________________________________________\n",
            "bn3d_branch2b (BatchNormalizati (None, 19, 19, 128)  512         res3d_branch2b[0][0]             \n",
            "__________________________________________________________________________________________________\n",
            "activation_21 (Activation)      (None, 19, 19, 128)  0           bn3d_branch2b[0][0]              \n",
            "__________________________________________________________________________________________________\n",
            "res3d_branch2c (Conv2D)         (None, 19, 19, 512)  66048       activation_21[0][0]              \n",
            "__________________________________________________________________________________________________\n",
            "bn3d_branch2c (BatchNormalizati (None, 19, 19, 512)  2048        res3d_branch2c[0][0]             \n",
            "__________________________________________________________________________________________________\n",
            "add_7 (Add)                     (None, 19, 19, 512)  0           bn3d_branch2c[0][0]              \n",
            "                                                                 activation_19[0][0]              \n",
            "__________________________________________________________________________________________________\n",
            "activation_22 (Activation)      (None, 19, 19, 512)  0           add_7[0][0]                      \n",
            "__________________________________________________________________________________________________\n",
            "res4a_branch2a (Conv2D)         (None, 10, 10, 256)  131328      activation_22[0][0]              \n",
            "__________________________________________________________________________________________________\n",
            "bn4a_branch2a (BatchNormalizati (None, 10, 10, 256)  1024        res4a_branch2a[0][0]             \n",
            "__________________________________________________________________________________________________\n",
            "activation_23 (Activation)      (None, 10, 10, 256)  0           bn4a_branch2a[0][0]              \n",
            "__________________________________________________________________________________________________\n",
            "res4a_branch2b (Conv2D)         (None, 10, 10, 256)  590080      activation_23[0][0]              \n",
            "__________________________________________________________________________________________________\n",
            "bn4a_branch2b (BatchNormalizati (None, 10, 10, 256)  1024        res4a_branch2b[0][0]             \n",
            "__________________________________________________________________________________________________\n",
            "activation_24 (Activation)      (None, 10, 10, 256)  0           bn4a_branch2b[0][0]              \n",
            "__________________________________________________________________________________________________\n",
            "res4a_branch2c (Conv2D)         (None, 10, 10, 1024) 263168      activation_24[0][0]              \n",
            "__________________________________________________________________________________________________\n",
            "res4a_branch1 (Conv2D)          (None, 10, 10, 1024) 525312      activation_22[0][0]              \n",
            "__________________________________________________________________________________________________\n",
            "bn4a_branch2c (BatchNormalizati (None, 10, 10, 1024) 4096        res4a_branch2c[0][0]             \n",
            "__________________________________________________________________________________________________\n",
            "bn4a_branch1 (BatchNormalizatio (None, 10, 10, 1024) 4096        res4a_branch1[0][0]              \n",
            "__________________________________________________________________________________________________\n",
            "add_8 (Add)                     (None, 10, 10, 1024) 0           bn4a_branch2c[0][0]              \n",
            "                                                                 bn4a_branch1[0][0]               \n",
            "__________________________________________________________________________________________________\n",
            "activation_25 (Activation)      (None, 10, 10, 1024) 0           add_8[0][0]                      \n",
            "__________________________________________________________________________________________________\n",
            "res4b_branch2a (Conv2D)         (None, 10, 10, 256)  262400      activation_25[0][0]              \n",
            "__________________________________________________________________________________________________\n",
            "bn4b_branch2a (BatchNormalizati (None, 10, 10, 256)  1024        res4b_branch2a[0][0]             \n",
            "__________________________________________________________________________________________________\n",
            "activation_26 (Activation)      (None, 10, 10, 256)  0           bn4b_branch2a[0][0]              \n",
            "__________________________________________________________________________________________________\n",
            "res4b_branch2b (Conv2D)         (None, 10, 10, 256)  590080      activation_26[0][0]              \n",
            "__________________________________________________________________________________________________\n",
            "bn4b_branch2b (BatchNormalizati (None, 10, 10, 256)  1024        res4b_branch2b[0][0]             \n",
            "__________________________________________________________________________________________________\n",
            "activation_27 (Activation)      (None, 10, 10, 256)  0           bn4b_branch2b[0][0]              \n",
            "__________________________________________________________________________________________________\n",
            "res4b_branch2c (Conv2D)         (None, 10, 10, 1024) 263168      activation_27[0][0]              \n",
            "__________________________________________________________________________________________________\n",
            "bn4b_branch2c (BatchNormalizati (None, 10, 10, 1024) 4096        res4b_branch2c[0][0]             \n",
            "__________________________________________________________________________________________________\n",
            "add_9 (Add)                     (None, 10, 10, 1024) 0           bn4b_branch2c[0][0]              \n",
            "                                                                 activation_25[0][0]              \n",
            "__________________________________________________________________________________________________\n",
            "activation_28 (Activation)      (None, 10, 10, 1024) 0           add_9[0][0]                      \n",
            "__________________________________________________________________________________________________\n",
            "res4c_branch2a (Conv2D)         (None, 10, 10, 256)  262400      activation_28[0][0]              \n",
            "__________________________________________________________________________________________________\n",
            "bn4c_branch2a (BatchNormalizati (None, 10, 10, 256)  1024        res4c_branch2a[0][0]             \n",
            "__________________________________________________________________________________________________\n",
            "activation_29 (Activation)      (None, 10, 10, 256)  0           bn4c_branch2a[0][0]              \n",
            "__________________________________________________________________________________________________\n",
            "res4c_branch2b (Conv2D)         (None, 10, 10, 256)  590080      activation_29[0][0]              \n",
            "__________________________________________________________________________________________________\n",
            "bn4c_branch2b (BatchNormalizati (None, 10, 10, 256)  1024        res4c_branch2b[0][0]             \n",
            "__________________________________________________________________________________________________\n",
            "activation_30 (Activation)      (None, 10, 10, 256)  0           bn4c_branch2b[0][0]              \n",
            "__________________________________________________________________________________________________\n",
            "res4c_branch2c (Conv2D)         (None, 10, 10, 1024) 263168      activation_30[0][0]              \n",
            "__________________________________________________________________________________________________\n",
            "bn4c_branch2c (BatchNormalizati (None, 10, 10, 1024) 4096        res4c_branch2c[0][0]             \n",
            "__________________________________________________________________________________________________\n",
            "add_10 (Add)                    (None, 10, 10, 1024) 0           bn4c_branch2c[0][0]              \n",
            "                                                                 activation_28[0][0]              \n",
            "__________________________________________________________________________________________________\n",
            "activation_31 (Activation)      (None, 10, 10, 1024) 0           add_10[0][0]                     \n",
            "__________________________________________________________________________________________________\n",
            "res4d_branch2a (Conv2D)         (None, 10, 10, 256)  262400      activation_31[0][0]              \n",
            "__________________________________________________________________________________________________\n",
            "bn4d_branch2a (BatchNormalizati (None, 10, 10, 256)  1024        res4d_branch2a[0][0]             \n",
            "__________________________________________________________________________________________________\n",
            "activation_32 (Activation)      (None, 10, 10, 256)  0           bn4d_branch2a[0][0]              \n",
            "__________________________________________________________________________________________________\n",
            "res4d_branch2b (Conv2D)         (None, 10, 10, 256)  590080      activation_32[0][0]              \n",
            "__________________________________________________________________________________________________\n",
            "bn4d_branch2b (BatchNormalizati (None, 10, 10, 256)  1024        res4d_branch2b[0][0]             \n",
            "__________________________________________________________________________________________________\n",
            "activation_33 (Activation)      (None, 10, 10, 256)  0           bn4d_branch2b[0][0]              \n",
            "__________________________________________________________________________________________________\n",
            "res4d_branch2c (Conv2D)         (None, 10, 10, 1024) 263168      activation_33[0][0]              \n",
            "__________________________________________________________________________________________________\n",
            "bn4d_branch2c (BatchNormalizati (None, 10, 10, 1024) 4096        res4d_branch2c[0][0]             \n",
            "__________________________________________________________________________________________________\n",
            "add_11 (Add)                    (None, 10, 10, 1024) 0           bn4d_branch2c[0][0]              \n",
            "                                                                 activation_31[0][0]              \n",
            "__________________________________________________________________________________________________\n",
            "activation_34 (Activation)      (None, 10, 10, 1024) 0           add_11[0][0]                     \n",
            "__________________________________________________________________________________________________\n",
            "res4e_branch2a (Conv2D)         (None, 10, 10, 256)  262400      activation_34[0][0]              \n",
            "__________________________________________________________________________________________________\n",
            "bn4e_branch2a (BatchNormalizati (None, 10, 10, 256)  1024        res4e_branch2a[0][0]             \n",
            "__________________________________________________________________________________________________\n",
            "activation_35 (Activation)      (None, 10, 10, 256)  0           bn4e_branch2a[0][0]              \n",
            "__________________________________________________________________________________________________\n",
            "res4e_branch2b (Conv2D)         (None, 10, 10, 256)  590080      activation_35[0][0]              \n",
            "__________________________________________________________________________________________________\n",
            "bn4e_branch2b (BatchNormalizati (None, 10, 10, 256)  1024        res4e_branch2b[0][0]             \n",
            "__________________________________________________________________________________________________\n",
            "activation_36 (Activation)      (None, 10, 10, 256)  0           bn4e_branch2b[0][0]              \n",
            "__________________________________________________________________________________________________\n",
            "res4e_branch2c (Conv2D)         (None, 10, 10, 1024) 263168      activation_36[0][0]              \n",
            "__________________________________________________________________________________________________\n",
            "bn4e_branch2c (BatchNormalizati (None, 10, 10, 1024) 4096        res4e_branch2c[0][0]             \n",
            "__________________________________________________________________________________________________\n",
            "add_12 (Add)                    (None, 10, 10, 1024) 0           bn4e_branch2c[0][0]              \n",
            "                                                                 activation_34[0][0]              \n",
            "__________________________________________________________________________________________________\n",
            "activation_37 (Activation)      (None, 10, 10, 1024) 0           add_12[0][0]                     \n",
            "__________________________________________________________________________________________________\n",
            "res4f_branch2a (Conv2D)         (None, 10, 10, 256)  262400      activation_37[0][0]              \n",
            "__________________________________________________________________________________________________\n",
            "bn4f_branch2a (BatchNormalizati (None, 10, 10, 256)  1024        res4f_branch2a[0][0]             \n",
            "__________________________________________________________________________________________________\n",
            "activation_38 (Activation)      (None, 10, 10, 256)  0           bn4f_branch2a[0][0]              \n",
            "__________________________________________________________________________________________________\n",
            "res4f_branch2b (Conv2D)         (None, 10, 10, 256)  590080      activation_38[0][0]              \n",
            "__________________________________________________________________________________________________\n",
            "bn4f_branch2b (BatchNormalizati (None, 10, 10, 256)  1024        res4f_branch2b[0][0]             \n",
            "__________________________________________________________________________________________________\n",
            "activation_39 (Activation)      (None, 10, 10, 256)  0           bn4f_branch2b[0][0]              \n",
            "__________________________________________________________________________________________________\n",
            "res4f_branch2c (Conv2D)         (None, 10, 10, 1024) 263168      activation_39[0][0]              \n",
            "__________________________________________________________________________________________________\n",
            "bn4f_branch2c (BatchNormalizati (None, 10, 10, 1024) 4096        res4f_branch2c[0][0]             \n",
            "__________________________________________________________________________________________________\n",
            "add_13 (Add)                    (None, 10, 10, 1024) 0           bn4f_branch2c[0][0]              \n",
            "                                                                 activation_37[0][0]              \n",
            "__________________________________________________________________________________________________\n",
            "activation_40 (Activation)      (None, 10, 10, 1024) 0           add_13[0][0]                     \n",
            "__________________________________________________________________________________________________\n",
            "res5a_branch2a (Conv2D)         (None, 5, 5, 512)    524800      activation_40[0][0]              \n",
            "__________________________________________________________________________________________________\n",
            "bn5a_branch2a (BatchNormalizati (None, 5, 5, 512)    2048        res5a_branch2a[0][0]             \n",
            "__________________________________________________________________________________________________\n",
            "activation_41 (Activation)      (None, 5, 5, 512)    0           bn5a_branch2a[0][0]              \n",
            "__________________________________________________________________________________________________\n",
            "res5a_branch2b (Conv2D)         (None, 5, 5, 512)    2359808     activation_41[0][0]              \n",
            "__________________________________________________________________________________________________\n",
            "bn5a_branch2b (BatchNormalizati (None, 5, 5, 512)    2048        res5a_branch2b[0][0]             \n",
            "__________________________________________________________________________________________________\n",
            "activation_42 (Activation)      (None, 5, 5, 512)    0           bn5a_branch2b[0][0]              \n",
            "__________________________________________________________________________________________________\n",
            "res5a_branch2c (Conv2D)         (None, 5, 5, 2048)   1050624     activation_42[0][0]              \n",
            "__________________________________________________________________________________________________\n",
            "res5a_branch1 (Conv2D)          (None, 5, 5, 2048)   2099200     activation_40[0][0]              \n",
            "__________________________________________________________________________________________________\n",
            "bn5a_branch2c (BatchNormalizati (None, 5, 5, 2048)   8192        res5a_branch2c[0][0]             \n",
            "__________________________________________________________________________________________________\n",
            "bn5a_branch1 (BatchNormalizatio (None, 5, 5, 2048)   8192        res5a_branch1[0][0]              \n",
            "__________________________________________________________________________________________________\n",
            "add_14 (Add)                    (None, 5, 5, 2048)   0           bn5a_branch2c[0][0]              \n",
            "                                                                 bn5a_branch1[0][0]               \n",
            "__________________________________________________________________________________________________\n",
            "activation_43 (Activation)      (None, 5, 5, 2048)   0           add_14[0][0]                     \n",
            "__________________________________________________________________________________________________\n",
            "res5b_branch2a (Conv2D)         (None, 5, 5, 512)    1049088     activation_43[0][0]              \n",
            "__________________________________________________________________________________________________\n",
            "bn5b_branch2a (BatchNormalizati (None, 5, 5, 512)    2048        res5b_branch2a[0][0]             \n",
            "__________________________________________________________________________________________________\n",
            "activation_44 (Activation)      (None, 5, 5, 512)    0           bn5b_branch2a[0][0]              \n",
            "__________________________________________________________________________________________________\n",
            "res5b_branch2b (Conv2D)         (None, 5, 5, 512)    2359808     activation_44[0][0]              \n",
            "__________________________________________________________________________________________________\n",
            "bn5b_branch2b (BatchNormalizati (None, 5, 5, 512)    2048        res5b_branch2b[0][0]             \n",
            "__________________________________________________________________________________________________\n",
            "activation_45 (Activation)      (None, 5, 5, 512)    0           bn5b_branch2b[0][0]              \n",
            "__________________________________________________________________________________________________\n",
            "res5b_branch2c (Conv2D)         (None, 5, 5, 2048)   1050624     activation_45[0][0]              \n",
            "__________________________________________________________________________________________________\n",
            "bn5b_branch2c (BatchNormalizati (None, 5, 5, 2048)   8192        res5b_branch2c[0][0]             \n",
            "__________________________________________________________________________________________________\n",
            "add_15 (Add)                    (None, 5, 5, 2048)   0           bn5b_branch2c[0][0]              \n",
            "                                                                 activation_43[0][0]              \n",
            "__________________________________________________________________________________________________\n",
            "activation_46 (Activation)      (None, 5, 5, 2048)   0           add_15[0][0]                     \n",
            "__________________________________________________________________________________________________\n",
            "res5c_branch2a (Conv2D)         (None, 5, 5, 512)    1049088     activation_46[0][0]              \n",
            "__________________________________________________________________________________________________\n",
            "bn5c_branch2a (BatchNormalizati (None, 5, 5, 512)    2048        res5c_branch2a[0][0]             \n",
            "__________________________________________________________________________________________________\n",
            "activation_47 (Activation)      (None, 5, 5, 512)    0           bn5c_branch2a[0][0]              \n",
            "__________________________________________________________________________________________________\n",
            "res5c_branch2b (Conv2D)         (None, 5, 5, 512)    2359808     activation_47[0][0]              \n",
            "__________________________________________________________________________________________________\n",
            "bn5c_branch2b (BatchNormalizati (None, 5, 5, 512)    2048        res5c_branch2b[0][0]             \n",
            "__________________________________________________________________________________________________\n",
            "activation_48 (Activation)      (None, 5, 5, 512)    0           bn5c_branch2b[0][0]              \n",
            "__________________________________________________________________________________________________\n",
            "res5c_branch2c (Conv2D)         (None, 5, 5, 2048)   1050624     activation_48[0][0]              \n",
            "__________________________________________________________________________________________________\n",
            "bn5c_branch2c (BatchNormalizati (None, 5, 5, 2048)   8192        res5c_branch2c[0][0]             \n",
            "__________________________________________________________________________________________________\n",
            "add_16 (Add)                    (None, 5, 5, 2048)   0           bn5c_branch2c[0][0]              \n",
            "                                                                 activation_46[0][0]              \n",
            "__________________________________________________________________________________________________\n",
            "activation_49 (Activation)      (None, 5, 5, 2048)   0           add_16[0][0]                     \n",
            "==================================================================================================\n",
            "Total params: 23,587,712\n",
            "Trainable params: 23,534,592\n",
            "Non-trainable params: 53,120\n",
            "__________________________________________________________________________________________________\n"
          ],
          "name": "stdout"
        }
      ]
    },
    {
      "metadata": {
        "id": "K-b720hIJEt6",
        "colab_type": "code",
        "colab": {}
      },
      "cell_type": "code",
      "source": [
        ""
      ],
      "execution_count": 0,
      "outputs": []
    },
    {
      "metadata": {
        "id": "1y6By_UPJEqu",
        "colab_type": "code",
        "colab": {}
      },
      "cell_type": "code",
      "source": [
        ""
      ],
      "execution_count": 0,
      "outputs": []
    },
    {
      "metadata": {
        "id": "qSPKrD3YJEg3",
        "colab_type": "code",
        "colab": {}
      },
      "cell_type": "code",
      "source": [
        ""
      ],
      "execution_count": 0,
      "outputs": []
    },
    {
      "metadata": {
        "id": "alemr4mrwl-P",
        "colab_type": "text"
      },
      "cell_type": "markdown",
      "source": [
        "\n",
        "Part 2 ​(70 points)​: ​Train a model to recognize landmarks on Columbia’s campus.\n",
        "\n",
        "collect a dataset containing images of three landmarks on\n",
        "Columbia’s campus (​example​), and train a model to identify them."
      ]
    },
    {
      "metadata": {
        "id": "XaeFjr84xDOP",
        "colab_type": "text"
      },
      "cell_type": "markdown",
      "source": [
        "1. Collect a dataset of at least three landmarks. Your dataset should include at least 100 images of each in train, 50 in validation, and 25 in test (using more images is fine). You can randomly shuffle your dataset to create these splits.\n",
        "2. Write a model to classify your dataset using transfer learning. Run an experiment and report your results. What do you find?\n",
        "3. Next, how small of a model (in terms of the number of parameters) can you write to classify these images reasonably well? Explore the available pretrained ​models​, and see if any are suitable. Run an experiment and report your results."
      ]
    },
    {
      "metadata": {
        "id": "hI7e4zvLVe0-",
        "colab_type": "code",
        "colab": {}
      },
      "cell_type": "code",
      "source": [
        ""
      ],
      "execution_count": 0,
      "outputs": []
    },
    {
      "metadata": {
        "id": "IUt8F2CKVe4M",
        "colab_type": "code",
        "colab": {}
      },
      "cell_type": "code",
      "source": [
        ""
      ],
      "execution_count": 0,
      "outputs": []
    },
    {
      "metadata": {
        "id": "5lJmIcL1Ve7M",
        "colab_type": "code",
        "colab": {}
      },
      "cell_type": "code",
      "source": [
        ""
      ],
      "execution_count": 0,
      "outputs": []
    },
    {
      "metadata": {
        "id": "IVDzAxcncVNM",
        "colab_type": "code",
        "colab": {}
      },
      "cell_type": "code",
      "source": [
        ""
      ],
      "execution_count": 0,
      "outputs": []
    },
    {
      "metadata": {
        "id": "zi5EWRLuddqz",
        "colab_type": "code",
        "colab": {}
      },
      "cell_type": "code",
      "source": [
        ""
      ],
      "execution_count": 0,
      "outputs": []
    },
    {
      "metadata": {
        "id": "WZG_sJBKdU1_",
        "colab_type": "code",
        "colab": {}
      },
      "cell_type": "code",
      "source": [
        ""
      ],
      "execution_count": 0,
      "outputs": []
    },
    {
      "metadata": {
        "id": "Fewn98hqdNlp",
        "colab_type": "code",
        "colab": {}
      },
      "cell_type": "code",
      "source": [
        ""
      ],
      "execution_count": 0,
      "outputs": []
    },
    {
      "metadata": {
        "id": "-CqCe63edNpk",
        "colab_type": "code",
        "colab": {}
      },
      "cell_type": "code",
      "source": [
        ""
      ],
      "execution_count": 0,
      "outputs": []
    }
  ]
}