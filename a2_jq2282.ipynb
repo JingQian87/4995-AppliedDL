{
  "nbformat": 4,
  "nbformat_minor": 0,
  "metadata": {
    "colab": {
      "name": "a2-jq2282.ipynb",
      "version": "0.3.2",
      "provenance": [],
      "collapsed_sections": [],
      "include_colab_link": true
    },
    "kernelspec": {
      "name": "python3",
      "display_name": "Python 3"
    }
  },
  "cells": [
    {
      "cell_type": "markdown",
      "metadata": {
        "id": "view-in-github",
        "colab_type": "text"
      },
      "source": [
        "<a href=\"https://colab.research.google.com/github/JingQian87/AppliedDL/blob/master/a2_jq2282.ipynb\" target=\"_parent\"><img src=\"https://colab.research.google.com/assets/colab-badge.svg\" alt=\"Open In Colab\"/></a>"
      ]
    },
    {
      "metadata": {
        "colab_type": "text",
        "id": "5k5rSsb1JCjS"
      },
      "cell_type": "markdown",
      "source": [
        "## Part 1. Train a model on an existing dataset\n",
        "\n",
        "1. Download the ​mini-flowers​ dataset. This contains 1,500 images of five different types of flowers. Modify one of the above notebooks to classify these images using transfer learning. How accurate of a model can you train? ​Note: the example notebooks are for binary classification. You will need to change the output layer shape, activation, and loss function for multiclass classification.\n",
        "\n",
        "1500 images,\n",
        "\n",
        "5 types"
      ]
    },
    {
      "metadata": {
        "id": "GY6V6CUeI61y",
        "colab_type": "code",
        "colab": {}
      },
      "cell_type": "code",
      "source": [
        "# import libraries\n",
        "import matplotlib.pyplot as plt\n",
        "import numpy as np\n",
        "import os\n",
        "\n",
        "import tensorflow as tf\n",
        "import zipfile\n",
        "\n",
        "from tensorflow.keras.layers import Conv2D, Dense, Flatten, MaxPooling2D\n",
        "from tensorflow.keras.models import Sequential\n",
        "from tensorflow.keras.preprocessing.image import ImageDataGenerator"
      ],
      "execution_count": 0,
      "outputs": []
    },
    {
      "metadata": {
        "id": "KUxC_hBqLO77",
        "colab_type": "text"
      },
      "cell_type": "markdown",
      "source": [
        "### Load and explore data"
      ]
    },
    {
      "metadata": {
        "id": "PejQFoIuCkxj",
        "colab_type": "code",
        "outputId": "99a5f56a-fac6-40de-bedc-eb8abc97b736",
        "colab": {
          "base_uri": "https://localhost:8080/",
          "height": 54
        }
      },
      "cell_type": "code",
      "source": [
        "from google.colab import drive\n",
        "drive.mount('/content/drive')"
      ],
      "execution_count": 0,
      "outputs": [
        {
          "output_type": "stream",
          "text": [
            "Drive already mounted at /content/drive; to attempt to forcibly remount, call drive.mount(\"/content/drive\", force_remount=True).\n"
          ],
          "name": "stdout"
        }
      ]
    },
    {
      "metadata": {
        "id": "N1bD1s6uEmXD",
        "colab_type": "code",
        "outputId": "cd205d46-90f2-40db-97be-ad6d290e1abe",
        "colab": {
          "base_uri": "https://localhost:8080/",
          "height": 51
        }
      },
      "cell_type": "code",
      "source": [
        "local_zip = '/content/mini_flowers.zip'\n",
        "zip_ref = zipfile.ZipFile(local_zip, 'r')\n",
        "zip_ref.extractall('/tmp')\n",
        "zip_ref.close()\n",
        "!ls '/tmp/'\n",
        "!ls '/tmp/train/'"
      ],
      "execution_count": 0,
      "outputs": [
        {
          "output_type": "stream",
          "text": [
            "drivefs_ipc.0  drivefs_ipc.0_shell  LICENSE.txt  train\tval\n",
            "daisy  dandelion  roses  sunflowers  tulips\n"
          ],
          "name": "stdout"
        }
      ]
    },
    {
      "metadata": {
        "id": "o_j1Y8XwE9V9",
        "colab_type": "code",
        "outputId": "d5ac480c-6939-4e27-bb31-4e22f238cd49",
        "colab": {
          "base_uri": "https://localhost:8080/",
          "height": 238
        }
      },
      "cell_type": "code",
      "source": [
        "base_dir = '/tmp'\n",
        "train_dir = os.path.join(base_dir,'train')\n",
        "validation_dir = os.path.join(base_dir, 'val')\n",
        "\n",
        "total_train = 0\n",
        "for i in os.listdir(train_dir):\n",
        "  tmp = len(os.listdir(os.path.join(train_dir, i)))\n",
        "  print('Training ', i, ' images:', tmp)\n",
        "  total_train += tmp\n",
        " \n",
        "total_val = 0\n",
        "for i in os.listdir(validation_dir):\n",
        "  tmp = len(os.listdir(os.path.join(validation_dir, i)))\n",
        "  print('Validation ', i, ' images:', tmp)\n",
        "  total_val += tmp\n",
        "  \n",
        "print(\"--\")\n",
        "\n",
        "print(\"Total training images:\", total_train)\n",
        "print(\"Total validation images:\", total_val)"
      ],
      "execution_count": 0,
      "outputs": [
        {
          "output_type": "stream",
          "text": [
            "Training  sunflowers  images: 200\n",
            "Training  daisy  images: 200\n",
            "Training  tulips  images: 200\n",
            "Training  dandelion  images: 200\n",
            "Training  roses  images: 200\n",
            "Validation  sunflowers  images: 100\n",
            "Validation  daisy  images: 100\n",
            "Validation  tulips  images: 100\n",
            "Validation  dandelion  images: 100\n",
            "Validation  roses  images: 100\n",
            "--\n",
            "Total training images: 1000\n",
            "Total validation images: 500\n"
          ],
          "name": "stdout"
        }
      ]
    },
    {
      "metadata": {
        "id": "_QhMJw9jLZl2",
        "colab_type": "code",
        "colab": {}
      },
      "cell_type": "code",
      "source": [
        ""
      ],
      "execution_count": 0,
      "outputs": []
    },
    {
      "metadata": {
        "id": "znnXpCJgLZie",
        "colab_type": "code",
        "colab": {}
      },
      "cell_type": "code",
      "source": [
        "binary 最后是sigmoid,这里multi-class,用softmax?\n",
        "table4.1是什么情况用什么loss function\n",
        "\n"
      ],
      "execution_count": 0,
      "outputs": []
    },
    {
      "metadata": {
        "id": "HOX20AaDI-kH",
        "colab_type": "text"
      },
      "cell_type": "markdown",
      "source": [
        "2. Next, run experiments using at least two pretrained convolutional bases (​applications​), and compare your results. Include a short, informal write-up (using bullet points is fine). What differences do you see, and why? Read the associated papers to learn more about the networks you’re using, linked from the API doc."
      ]
    },
    {
      "metadata": {
        "id": "alemr4mrwl-P",
        "colab_type": "text"
      },
      "cell_type": "markdown",
      "source": [
        "\n",
        "Part 2 ​(70 points)​: ​Train a model to recognize landmarks on Columbia’s campus.\n",
        "\n",
        "collect a dataset containing images of three landmarks on\n",
        "Columbia’s campus (​example​), and train a model to identify them."
      ]
    },
    {
      "metadata": {
        "id": "XaeFjr84xDOP",
        "colab_type": "text"
      },
      "cell_type": "markdown",
      "source": [
        "1. Collect a dataset of at least three landmarks. Your dataset should include at least 100 images of each in train, 50 in validation, and 25 in test (using more images is fine). You can randomly shuffle your dataset to create these splits.\n",
        "2. Write a model to classify your dataset using transfer learning. Run an experiment and report your results. What do you find?\n",
        "3. Next, how small of a model (in terms of the number of parameters) can you write to classify these images reasonably well? Explore the available pretrained ​models​, and see if any are suitable. Run an experiment and report your results."
      ]
    },
    {
      "metadata": {
        "id": "hI7e4zvLVe0-",
        "colab_type": "code",
        "colab": {}
      },
      "cell_type": "code",
      "source": [
        ""
      ],
      "execution_count": 0,
      "outputs": []
    },
    {
      "metadata": {
        "id": "IUt8F2CKVe4M",
        "colab_type": "code",
        "colab": {}
      },
      "cell_type": "code",
      "source": [
        ""
      ],
      "execution_count": 0,
      "outputs": []
    },
    {
      "metadata": {
        "id": "5lJmIcL1Ve7M",
        "colab_type": "code",
        "colab": {}
      },
      "cell_type": "code",
      "source": [
        ""
      ],
      "execution_count": 0,
      "outputs": []
    },
    {
      "metadata": {
        "id": "IVDzAxcncVNM",
        "colab_type": "code",
        "colab": {}
      },
      "cell_type": "code",
      "source": [
        ""
      ],
      "execution_count": 0,
      "outputs": []
    },
    {
      "metadata": {
        "id": "zi5EWRLuddqz",
        "colab_type": "code",
        "colab": {}
      },
      "cell_type": "code",
      "source": [
        ""
      ],
      "execution_count": 0,
      "outputs": []
    },
    {
      "metadata": {
        "id": "WZG_sJBKdU1_",
        "colab_type": "code",
        "colab": {}
      },
      "cell_type": "code",
      "source": [
        ""
      ],
      "execution_count": 0,
      "outputs": []
    },
    {
      "metadata": {
        "id": "Fewn98hqdNlp",
        "colab_type": "code",
        "colab": {}
      },
      "cell_type": "code",
      "source": [
        ""
      ],
      "execution_count": 0,
      "outputs": []
    },
    {
      "metadata": {
        "id": "-CqCe63edNpk",
        "colab_type": "code",
        "colab": {}
      },
      "cell_type": "code",
      "source": [
        ""
      ],
      "execution_count": 0,
      "outputs": []
    }
  ]
}